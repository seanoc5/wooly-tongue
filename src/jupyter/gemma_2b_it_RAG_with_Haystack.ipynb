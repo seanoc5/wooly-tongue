{
  "metadata": {
    "kernelspec": {
      "display_name": "Python 3",
      "name": "python3"
    },
    "language_info": {
      "name": "python",
      "version": "3.10.13",
      "mimetype": "text/x-python",
      "codemirror_mode": {
        "name": "ipython",
        "version": 3
      },
      "pygments_lexer": "ipython3",
      "nbconvert_exporter": "python",
      "file_extension": ".py"
    },
    "kaggle": {
      "accelerator": "gpu",
      "dataSources": [
        {
          "sourceId": 64148,
          "databundleVersionId": 7669720,
          "sourceType": "competition"
        }
      ],
      "dockerImageVersionId": 30664,
      "isInternetEnabled": true,
      "language": "python",
      "sourceType": "notebook",
      "isGpuEnabled": true
    },
    "colab": {
      "name": "gemma-2b-it RAG with Haystack",
      "provenance": [],
      "gpuType": "V28"
    },
    "accelerator": "TPU",
    "widgets": {
      "application/vnd.jupyter.widget-state+json": {
        "bf610dcc9c974fd9a3d70d0a76a6b7dc": {
          "model_module": "@jupyter-widgets/controls",
          "model_name": "VBoxModel",
          "model_module_version": "1.5.0",
          "state": {
            "_dom_classes": [],
            "_model_module": "@jupyter-widgets/controls",
            "_model_module_version": "1.5.0",
            "_model_name": "VBoxModel",
            "_view_count": null,
            "_view_module": "@jupyter-widgets/controls",
            "_view_module_version": "1.5.0",
            "_view_name": "VBoxView",
            "box_style": "",
            "children": [
              "IPY_MODEL_571ba371200d490d9edd404637f50356",
              "IPY_MODEL_1d7116f460d5405496d69f15d998c375",
              "IPY_MODEL_77cb504b786c4a7388b1bb1712e81851",
              "IPY_MODEL_6bb27eac23264f0a9dd71b2942cdfe02"
            ],
            "layout": "IPY_MODEL_92b65d7d6360451ea44ea21ba8f43838"
          }
        },
        "6fd5983fedfe44d9b0cc087dbd3f48df": {
          "model_module": "@jupyter-widgets/controls",
          "model_name": "HTMLModel",
          "model_module_version": "1.5.0",
          "state": {
            "_dom_classes": [],
            "_model_module": "@jupyter-widgets/controls",
            "_model_module_version": "1.5.0",
            "_model_name": "HTMLModel",
            "_view_count": null,
            "_view_module": "@jupyter-widgets/controls",
            "_view_module_version": "1.5.0",
            "_view_name": "HTMLView",
            "description": "",
            "description_tooltip": null,
            "layout": "IPY_MODEL_7ac08c1b3751406abfb08bae9d22acf2",
            "placeholder": "​",
            "style": "IPY_MODEL_620f6872714a4b9294f1e40d3fe5c12a",
            "value": "<center> <img\nsrc=https://huggingface.co/front/assets/huggingface_logo-noborder.svg\nalt='Hugging Face'> <br> Copy a token from <a\nhref=\"https://huggingface.co/settings/tokens\" target=\"_blank\">your Hugging Face\ntokens page</a> and paste it below. <br> Immediately click login after copying\nyour token or it might be stored in plain text in this notebook file. </center>"
          }
        },
        "c69591174e3d49a0bbcd5d9021b0a819": {
          "model_module": "@jupyter-widgets/controls",
          "model_name": "PasswordModel",
          "model_module_version": "1.5.0",
          "state": {
            "_dom_classes": [],
            "_model_module": "@jupyter-widgets/controls",
            "_model_module_version": "1.5.0",
            "_model_name": "PasswordModel",
            "_view_count": null,
            "_view_module": "@jupyter-widgets/controls",
            "_view_module_version": "1.5.0",
            "_view_name": "PasswordView",
            "continuous_update": true,
            "description": "Token:",
            "description_tooltip": null,
            "disabled": false,
            "layout": "IPY_MODEL_1e2d4e14730740679453e5adf2a196b7",
            "placeholder": "​",
            "style": "IPY_MODEL_16fd06e32ea44738aa2ab1801264fe3e",
            "value": ""
          }
        },
        "ae32c83f9c984745bbe8d55ec2d1e921": {
          "model_module": "@jupyter-widgets/controls",
          "model_name": "CheckboxModel",
          "model_module_version": "1.5.0",
          "state": {
            "_dom_classes": [],
            "_model_module": "@jupyter-widgets/controls",
            "_model_module_version": "1.5.0",
            "_model_name": "CheckboxModel",
            "_view_count": null,
            "_view_module": "@jupyter-widgets/controls",
            "_view_module_version": "1.5.0",
            "_view_name": "CheckboxView",
            "description": "Add token as git credential?",
            "description_tooltip": null,
            "disabled": false,
            "indent": true,
            "layout": "IPY_MODEL_64033f80332346f199cab112a1394f0f",
            "style": "IPY_MODEL_c345108ad3fc48c69748ce1f2df3ad4f",
            "value": true
          }
        },
        "33e725da70184ad99273dd24810011dd": {
          "model_module": "@jupyter-widgets/controls",
          "model_name": "ButtonModel",
          "model_module_version": "1.5.0",
          "state": {
            "_dom_classes": [],
            "_model_module": "@jupyter-widgets/controls",
            "_model_module_version": "1.5.0",
            "_model_name": "ButtonModel",
            "_view_count": null,
            "_view_module": "@jupyter-widgets/controls",
            "_view_module_version": "1.5.0",
            "_view_name": "ButtonView",
            "button_style": "",
            "description": "Login",
            "disabled": false,
            "icon": "",
            "layout": "IPY_MODEL_62fabdd570294ca8a67e8ad3da2adadb",
            "style": "IPY_MODEL_3febd9f829114583a697dd7768ced60f",
            "tooltip": ""
          }
        },
        "2ea981269074450281c15b850a673fc3": {
          "model_module": "@jupyter-widgets/controls",
          "model_name": "HTMLModel",
          "model_module_version": "1.5.0",
          "state": {
            "_dom_classes": [],
            "_model_module": "@jupyter-widgets/controls",
            "_model_module_version": "1.5.0",
            "_model_name": "HTMLModel",
            "_view_count": null,
            "_view_module": "@jupyter-widgets/controls",
            "_view_module_version": "1.5.0",
            "_view_name": "HTMLView",
            "description": "",
            "description_tooltip": null,
            "layout": "IPY_MODEL_7bdc5e0c5715480b8b7e2f60daf1dd5b",
            "placeholder": "​",
            "style": "IPY_MODEL_946002a000394b6395f5f08e585f325d",
            "value": "\n<b>Pro Tip:</b> If you don't already have one, you can create a dedicated\n'notebooks' token with 'write' access, that you can then easily reuse for all\nnotebooks. </center>"
          }
        },
        "92b65d7d6360451ea44ea21ba8f43838": {
          "model_module": "@jupyter-widgets/base",
          "model_name": "LayoutModel",
          "model_module_version": "1.2.0",
          "state": {
            "_model_module": "@jupyter-widgets/base",
            "_model_module_version": "1.2.0",
            "_model_name": "LayoutModel",
            "_view_count": null,
            "_view_module": "@jupyter-widgets/base",
            "_view_module_version": "1.2.0",
            "_view_name": "LayoutView",
            "align_content": null,
            "align_items": "center",
            "align_self": null,
            "border": null,
            "bottom": null,
            "display": "flex",
            "flex": null,
            "flex_flow": "column",
            "grid_area": null,
            "grid_auto_columns": null,
            "grid_auto_flow": null,
            "grid_auto_rows": null,
            "grid_column": null,
            "grid_gap": null,
            "grid_row": null,
            "grid_template_areas": null,
            "grid_template_columns": null,
            "grid_template_rows": null,
            "height": null,
            "justify_content": null,
            "justify_items": null,
            "left": null,
            "margin": null,
            "max_height": null,
            "max_width": null,
            "min_height": null,
            "min_width": null,
            "object_fit": null,
            "object_position": null,
            "order": null,
            "overflow": null,
            "overflow_x": null,
            "overflow_y": null,
            "padding": null,
            "right": null,
            "top": null,
            "visibility": null,
            "width": "50%"
          }
        },
        "7ac08c1b3751406abfb08bae9d22acf2": {
          "model_module": "@jupyter-widgets/base",
          "model_name": "LayoutModel",
          "model_module_version": "1.2.0",
          "state": {
            "_model_module": "@jupyter-widgets/base",
            "_model_module_version": "1.2.0",
            "_model_name": "LayoutModel",
            "_view_count": null,
            "_view_module": "@jupyter-widgets/base",
            "_view_module_version": "1.2.0",
            "_view_name": "LayoutView",
            "align_content": null,
            "align_items": null,
            "align_self": null,
            "border": null,
            "bottom": null,
            "display": null,
            "flex": null,
            "flex_flow": null,
            "grid_area": null,
            "grid_auto_columns": null,
            "grid_auto_flow": null,
            "grid_auto_rows": null,
            "grid_column": null,
            "grid_gap": null,
            "grid_row": null,
            "grid_template_areas": null,
            "grid_template_columns": null,
            "grid_template_rows": null,
            "height": null,
            "justify_content": null,
            "justify_items": null,
            "left": null,
            "margin": null,
            "max_height": null,
            "max_width": null,
            "min_height": null,
            "min_width": null,
            "object_fit": null,
            "object_position": null,
            "order": null,
            "overflow": null,
            "overflow_x": null,
            "overflow_y": null,
            "padding": null,
            "right": null,
            "top": null,
            "visibility": null,
            "width": null
          }
        },
        "620f6872714a4b9294f1e40d3fe5c12a": {
          "model_module": "@jupyter-widgets/controls",
          "model_name": "DescriptionStyleModel",
          "model_module_version": "1.5.0",
          "state": {
            "_model_module": "@jupyter-widgets/controls",
            "_model_module_version": "1.5.0",
            "_model_name": "DescriptionStyleModel",
            "_view_count": null,
            "_view_module": "@jupyter-widgets/base",
            "_view_module_version": "1.2.0",
            "_view_name": "StyleView",
            "description_width": ""
          }
        },
        "1e2d4e14730740679453e5adf2a196b7": {
          "model_module": "@jupyter-widgets/base",
          "model_name": "LayoutModel",
          "model_module_version": "1.2.0",
          "state": {
            "_model_module": "@jupyter-widgets/base",
            "_model_module_version": "1.2.0",
            "_model_name": "LayoutModel",
            "_view_count": null,
            "_view_module": "@jupyter-widgets/base",
            "_view_module_version": "1.2.0",
            "_view_name": "LayoutView",
            "align_content": null,
            "align_items": null,
            "align_self": null,
            "border": null,
            "bottom": null,
            "display": null,
            "flex": null,
            "flex_flow": null,
            "grid_area": null,
            "grid_auto_columns": null,
            "grid_auto_flow": null,
            "grid_auto_rows": null,
            "grid_column": null,
            "grid_gap": null,
            "grid_row": null,
            "grid_template_areas": null,
            "grid_template_columns": null,
            "grid_template_rows": null,
            "height": null,
            "justify_content": null,
            "justify_items": null,
            "left": null,
            "margin": null,
            "max_height": null,
            "max_width": null,
            "min_height": null,
            "min_width": null,
            "object_fit": null,
            "object_position": null,
            "order": null,
            "overflow": null,
            "overflow_x": null,
            "overflow_y": null,
            "padding": null,
            "right": null,
            "top": null,
            "visibility": null,
            "width": null
          }
        },
        "16fd06e32ea44738aa2ab1801264fe3e": {
          "model_module": "@jupyter-widgets/controls",
          "model_name": "DescriptionStyleModel",
          "model_module_version": "1.5.0",
          "state": {
            "_model_module": "@jupyter-widgets/controls",
            "_model_module_version": "1.5.0",
            "_model_name": "DescriptionStyleModel",
            "_view_count": null,
            "_view_module": "@jupyter-widgets/base",
            "_view_module_version": "1.2.0",
            "_view_name": "StyleView",
            "description_width": ""
          }
        },
        "64033f80332346f199cab112a1394f0f": {
          "model_module": "@jupyter-widgets/base",
          "model_name": "LayoutModel",
          "model_module_version": "1.2.0",
          "state": {
            "_model_module": "@jupyter-widgets/base",
            "_model_module_version": "1.2.0",
            "_model_name": "LayoutModel",
            "_view_count": null,
            "_view_module": "@jupyter-widgets/base",
            "_view_module_version": "1.2.0",
            "_view_name": "LayoutView",
            "align_content": null,
            "align_items": null,
            "align_self": null,
            "border": null,
            "bottom": null,
            "display": null,
            "flex": null,
            "flex_flow": null,
            "grid_area": null,
            "grid_auto_columns": null,
            "grid_auto_flow": null,
            "grid_auto_rows": null,
            "grid_column": null,
            "grid_gap": null,
            "grid_row": null,
            "grid_template_areas": null,
            "grid_template_columns": null,
            "grid_template_rows": null,
            "height": null,
            "justify_content": null,
            "justify_items": null,
            "left": null,
            "margin": null,
            "max_height": null,
            "max_width": null,
            "min_height": null,
            "min_width": null,
            "object_fit": null,
            "object_position": null,
            "order": null,
            "overflow": null,
            "overflow_x": null,
            "overflow_y": null,
            "padding": null,
            "right": null,
            "top": null,
            "visibility": null,
            "width": null
          }
        },
        "c345108ad3fc48c69748ce1f2df3ad4f": {
          "model_module": "@jupyter-widgets/controls",
          "model_name": "DescriptionStyleModel",
          "model_module_version": "1.5.0",
          "state": {
            "_model_module": "@jupyter-widgets/controls",
            "_model_module_version": "1.5.0",
            "_model_name": "DescriptionStyleModel",
            "_view_count": null,
            "_view_module": "@jupyter-widgets/base",
            "_view_module_version": "1.2.0",
            "_view_name": "StyleView",
            "description_width": ""
          }
        },
        "62fabdd570294ca8a67e8ad3da2adadb": {
          "model_module": "@jupyter-widgets/base",
          "model_name": "LayoutModel",
          "model_module_version": "1.2.0",
          "state": {
            "_model_module": "@jupyter-widgets/base",
            "_model_module_version": "1.2.0",
            "_model_name": "LayoutModel",
            "_view_count": null,
            "_view_module": "@jupyter-widgets/base",
            "_view_module_version": "1.2.0",
            "_view_name": "LayoutView",
            "align_content": null,
            "align_items": null,
            "align_self": null,
            "border": null,
            "bottom": null,
            "display": null,
            "flex": null,
            "flex_flow": null,
            "grid_area": null,
            "grid_auto_columns": null,
            "grid_auto_flow": null,
            "grid_auto_rows": null,
            "grid_column": null,
            "grid_gap": null,
            "grid_row": null,
            "grid_template_areas": null,
            "grid_template_columns": null,
            "grid_template_rows": null,
            "height": null,
            "justify_content": null,
            "justify_items": null,
            "left": null,
            "margin": null,
            "max_height": null,
            "max_width": null,
            "min_height": null,
            "min_width": null,
            "object_fit": null,
            "object_position": null,
            "order": null,
            "overflow": null,
            "overflow_x": null,
            "overflow_y": null,
            "padding": null,
            "right": null,
            "top": null,
            "visibility": null,
            "width": null
          }
        },
        "3febd9f829114583a697dd7768ced60f": {
          "model_module": "@jupyter-widgets/controls",
          "model_name": "ButtonStyleModel",
          "model_module_version": "1.5.0",
          "state": {
            "_model_module": "@jupyter-widgets/controls",
            "_model_module_version": "1.5.0",
            "_model_name": "ButtonStyleModel",
            "_view_count": null,
            "_view_module": "@jupyter-widgets/base",
            "_view_module_version": "1.2.0",
            "_view_name": "StyleView",
            "button_color": null,
            "font_weight": ""
          }
        },
        "7bdc5e0c5715480b8b7e2f60daf1dd5b": {
          "model_module": "@jupyter-widgets/base",
          "model_name": "LayoutModel",
          "model_module_version": "1.2.0",
          "state": {
            "_model_module": "@jupyter-widgets/base",
            "_model_module_version": "1.2.0",
            "_model_name": "LayoutModel",
            "_view_count": null,
            "_view_module": "@jupyter-widgets/base",
            "_view_module_version": "1.2.0",
            "_view_name": "LayoutView",
            "align_content": null,
            "align_items": null,
            "align_self": null,
            "border": null,
            "bottom": null,
            "display": null,
            "flex": null,
            "flex_flow": null,
            "grid_area": null,
            "grid_auto_columns": null,
            "grid_auto_flow": null,
            "grid_auto_rows": null,
            "grid_column": null,
            "grid_gap": null,
            "grid_row": null,
            "grid_template_areas": null,
            "grid_template_columns": null,
            "grid_template_rows": null,
            "height": null,
            "justify_content": null,
            "justify_items": null,
            "left": null,
            "margin": null,
            "max_height": null,
            "max_width": null,
            "min_height": null,
            "min_width": null,
            "object_fit": null,
            "object_position": null,
            "order": null,
            "overflow": null,
            "overflow_x": null,
            "overflow_y": null,
            "padding": null,
            "right": null,
            "top": null,
            "visibility": null,
            "width": null
          }
        },
        "946002a000394b6395f5f08e585f325d": {
          "model_module": "@jupyter-widgets/controls",
          "model_name": "DescriptionStyleModel",
          "model_module_version": "1.5.0",
          "state": {
            "_model_module": "@jupyter-widgets/controls",
            "_model_module_version": "1.5.0",
            "_model_name": "DescriptionStyleModel",
            "_view_count": null,
            "_view_module": "@jupyter-widgets/base",
            "_view_module_version": "1.2.0",
            "_view_name": "StyleView",
            "description_width": ""
          }
        },
        "db60576059aa4f56af8788727d72e599": {
          "model_module": "@jupyter-widgets/controls",
          "model_name": "LabelModel",
          "model_module_version": "1.5.0",
          "state": {
            "_dom_classes": [],
            "_model_module": "@jupyter-widgets/controls",
            "_model_module_version": "1.5.0",
            "_model_name": "LabelModel",
            "_view_count": null,
            "_view_module": "@jupyter-widgets/controls",
            "_view_module_version": "1.5.0",
            "_view_name": "LabelView",
            "description": "",
            "description_tooltip": null,
            "layout": "IPY_MODEL_c96cf3d1748b4dc88f042c46aa60ca25",
            "placeholder": "​",
            "style": "IPY_MODEL_02958ea0261e4c088a13ef2b0e524a04",
            "value": "Connecting..."
          }
        },
        "c96cf3d1748b4dc88f042c46aa60ca25": {
          "model_module": "@jupyter-widgets/base",
          "model_name": "LayoutModel",
          "model_module_version": "1.2.0",
          "state": {
            "_model_module": "@jupyter-widgets/base",
            "_model_module_version": "1.2.0",
            "_model_name": "LayoutModel",
            "_view_count": null,
            "_view_module": "@jupyter-widgets/base",
            "_view_module_version": "1.2.0",
            "_view_name": "LayoutView",
            "align_content": null,
            "align_items": null,
            "align_self": null,
            "border": null,
            "bottom": null,
            "display": null,
            "flex": null,
            "flex_flow": null,
            "grid_area": null,
            "grid_auto_columns": null,
            "grid_auto_flow": null,
            "grid_auto_rows": null,
            "grid_column": null,
            "grid_gap": null,
            "grid_row": null,
            "grid_template_areas": null,
            "grid_template_columns": null,
            "grid_template_rows": null,
            "height": null,
            "justify_content": null,
            "justify_items": null,
            "left": null,
            "margin": null,
            "max_height": null,
            "max_width": null,
            "min_height": null,
            "min_width": null,
            "object_fit": null,
            "object_position": null,
            "order": null,
            "overflow": null,
            "overflow_x": null,
            "overflow_y": null,
            "padding": null,
            "right": null,
            "top": null,
            "visibility": null,
            "width": null
          }
        },
        "02958ea0261e4c088a13ef2b0e524a04": {
          "model_module": "@jupyter-widgets/controls",
          "model_name": "DescriptionStyleModel",
          "model_module_version": "1.5.0",
          "state": {
            "_model_module": "@jupyter-widgets/controls",
            "_model_module_version": "1.5.0",
            "_model_name": "DescriptionStyleModel",
            "_view_count": null,
            "_view_module": "@jupyter-widgets/base",
            "_view_module_version": "1.2.0",
            "_view_name": "StyleView",
            "description_width": ""
          }
        },
        "571ba371200d490d9edd404637f50356": {
          "model_module": "@jupyter-widgets/controls",
          "model_name": "LabelModel",
          "model_module_version": "1.5.0",
          "state": {
            "_dom_classes": [],
            "_model_module": "@jupyter-widgets/controls",
            "_model_module_version": "1.5.0",
            "_model_name": "LabelModel",
            "_view_count": null,
            "_view_module": "@jupyter-widgets/controls",
            "_view_module_version": "1.5.0",
            "_view_name": "LabelView",
            "description": "",
            "description_tooltip": null,
            "layout": "IPY_MODEL_437f800604014b33a11e029fffc4d246",
            "placeholder": "​",
            "style": "IPY_MODEL_625a5968f7bd479388fa0d7e111a1269",
            "value": "Token is valid (permission: read)."
          }
        },
        "1d7116f460d5405496d69f15d998c375": {
          "model_module": "@jupyter-widgets/controls",
          "model_name": "LabelModel",
          "model_module_version": "1.5.0",
          "state": {
            "_dom_classes": [],
            "_model_module": "@jupyter-widgets/controls",
            "_model_module_version": "1.5.0",
            "_model_name": "LabelModel",
            "_view_count": null,
            "_view_module": "@jupyter-widgets/controls",
            "_view_module_version": "1.5.0",
            "_view_name": "LabelView",
            "description": "",
            "description_tooltip": null,
            "layout": "IPY_MODEL_1dbca683bbab48a18ccd93657c5bb492",
            "placeholder": "​",
            "style": "IPY_MODEL_f376736ae1a54708badbb935ce4c6957",
            "value": "Your token has been saved in your configured git credential helpers (store)."
          }
        },
        "77cb504b786c4a7388b1bb1712e81851": {
          "model_module": "@jupyter-widgets/controls",
          "model_name": "LabelModel",
          "model_module_version": "1.5.0",
          "state": {
            "_dom_classes": [],
            "_model_module": "@jupyter-widgets/controls",
            "_model_module_version": "1.5.0",
            "_model_name": "LabelModel",
            "_view_count": null,
            "_view_module": "@jupyter-widgets/controls",
            "_view_module_version": "1.5.0",
            "_view_name": "LabelView",
            "description": "",
            "description_tooltip": null,
            "layout": "IPY_MODEL_0bf347b5c4e84b4a9d71dd527e54635c",
            "placeholder": "​",
            "style": "IPY_MODEL_ae10750092ca4916be446499d290100a",
            "value": "Your token has been saved to /root/.cache/huggingface/token"
          }
        },
        "6bb27eac23264f0a9dd71b2942cdfe02": {
          "model_module": "@jupyter-widgets/controls",
          "model_name": "LabelModel",
          "model_module_version": "1.5.0",
          "state": {
            "_dom_classes": [],
            "_model_module": "@jupyter-widgets/controls",
            "_model_module_version": "1.5.0",
            "_model_name": "LabelModel",
            "_view_count": null,
            "_view_module": "@jupyter-widgets/controls",
            "_view_module_version": "1.5.0",
            "_view_name": "LabelView",
            "description": "",
            "description_tooltip": null,
            "layout": "IPY_MODEL_eaf012be964746849f6a2bb6281ee95c",
            "placeholder": "​",
            "style": "IPY_MODEL_4813f4a286ce4c50824779d9ba58cf4a",
            "value": "Login successful"
          }
        },
        "437f800604014b33a11e029fffc4d246": {
          "model_module": "@jupyter-widgets/base",
          "model_name": "LayoutModel",
          "model_module_version": "1.2.0",
          "state": {
            "_model_module": "@jupyter-widgets/base",
            "_model_module_version": "1.2.0",
            "_model_name": "LayoutModel",
            "_view_count": null,
            "_view_module": "@jupyter-widgets/base",
            "_view_module_version": "1.2.0",
            "_view_name": "LayoutView",
            "align_content": null,
            "align_items": null,
            "align_self": null,
            "border": null,
            "bottom": null,
            "display": null,
            "flex": null,
            "flex_flow": null,
            "grid_area": null,
            "grid_auto_columns": null,
            "grid_auto_flow": null,
            "grid_auto_rows": null,
            "grid_column": null,
            "grid_gap": null,
            "grid_row": null,
            "grid_template_areas": null,
            "grid_template_columns": null,
            "grid_template_rows": null,
            "height": null,
            "justify_content": null,
            "justify_items": null,
            "left": null,
            "margin": null,
            "max_height": null,
            "max_width": null,
            "min_height": null,
            "min_width": null,
            "object_fit": null,
            "object_position": null,
            "order": null,
            "overflow": null,
            "overflow_x": null,
            "overflow_y": null,
            "padding": null,
            "right": null,
            "top": null,
            "visibility": null,
            "width": null
          }
        },
        "625a5968f7bd479388fa0d7e111a1269": {
          "model_module": "@jupyter-widgets/controls",
          "model_name": "DescriptionStyleModel",
          "model_module_version": "1.5.0",
          "state": {
            "_model_module": "@jupyter-widgets/controls",
            "_model_module_version": "1.5.0",
            "_model_name": "DescriptionStyleModel",
            "_view_count": null,
            "_view_module": "@jupyter-widgets/base",
            "_view_module_version": "1.2.0",
            "_view_name": "StyleView",
            "description_width": ""
          }
        },
        "1dbca683bbab48a18ccd93657c5bb492": {
          "model_module": "@jupyter-widgets/base",
          "model_name": "LayoutModel",
          "model_module_version": "1.2.0",
          "state": {
            "_model_module": "@jupyter-widgets/base",
            "_model_module_version": "1.2.0",
            "_model_name": "LayoutModel",
            "_view_count": null,
            "_view_module": "@jupyter-widgets/base",
            "_view_module_version": "1.2.0",
            "_view_name": "LayoutView",
            "align_content": null,
            "align_items": null,
            "align_self": null,
            "border": null,
            "bottom": null,
            "display": null,
            "flex": null,
            "flex_flow": null,
            "grid_area": null,
            "grid_auto_columns": null,
            "grid_auto_flow": null,
            "grid_auto_rows": null,
            "grid_column": null,
            "grid_gap": null,
            "grid_row": null,
            "grid_template_areas": null,
            "grid_template_columns": null,
            "grid_template_rows": null,
            "height": null,
            "justify_content": null,
            "justify_items": null,
            "left": null,
            "margin": null,
            "max_height": null,
            "max_width": null,
            "min_height": null,
            "min_width": null,
            "object_fit": null,
            "object_position": null,
            "order": null,
            "overflow": null,
            "overflow_x": null,
            "overflow_y": null,
            "padding": null,
            "right": null,
            "top": null,
            "visibility": null,
            "width": null
          }
        },
        "f376736ae1a54708badbb935ce4c6957": {
          "model_module": "@jupyter-widgets/controls",
          "model_name": "DescriptionStyleModel",
          "model_module_version": "1.5.0",
          "state": {
            "_model_module": "@jupyter-widgets/controls",
            "_model_module_version": "1.5.0",
            "_model_name": "DescriptionStyleModel",
            "_view_count": null,
            "_view_module": "@jupyter-widgets/base",
            "_view_module_version": "1.2.0",
            "_view_name": "StyleView",
            "description_width": ""
          }
        },
        "0bf347b5c4e84b4a9d71dd527e54635c": {
          "model_module": "@jupyter-widgets/base",
          "model_name": "LayoutModel",
          "model_module_version": "1.2.0",
          "state": {
            "_model_module": "@jupyter-widgets/base",
            "_model_module_version": "1.2.0",
            "_model_name": "LayoutModel",
            "_view_count": null,
            "_view_module": "@jupyter-widgets/base",
            "_view_module_version": "1.2.0",
            "_view_name": "LayoutView",
            "align_content": null,
            "align_items": null,
            "align_self": null,
            "border": null,
            "bottom": null,
            "display": null,
            "flex": null,
            "flex_flow": null,
            "grid_area": null,
            "grid_auto_columns": null,
            "grid_auto_flow": null,
            "grid_auto_rows": null,
            "grid_column": null,
            "grid_gap": null,
            "grid_row": null,
            "grid_template_areas": null,
            "grid_template_columns": null,
            "grid_template_rows": null,
            "height": null,
            "justify_content": null,
            "justify_items": null,
            "left": null,
            "margin": null,
            "max_height": null,
            "max_width": null,
            "min_height": null,
            "min_width": null,
            "object_fit": null,
            "object_position": null,
            "order": null,
            "overflow": null,
            "overflow_x": null,
            "overflow_y": null,
            "padding": null,
            "right": null,
            "top": null,
            "visibility": null,
            "width": null
          }
        },
        "ae10750092ca4916be446499d290100a": {
          "model_module": "@jupyter-widgets/controls",
          "model_name": "DescriptionStyleModel",
          "model_module_version": "1.5.0",
          "state": {
            "_model_module": "@jupyter-widgets/controls",
            "_model_module_version": "1.5.0",
            "_model_name": "DescriptionStyleModel",
            "_view_count": null,
            "_view_module": "@jupyter-widgets/base",
            "_view_module_version": "1.2.0",
            "_view_name": "StyleView",
            "description_width": ""
          }
        },
        "eaf012be964746849f6a2bb6281ee95c": {
          "model_module": "@jupyter-widgets/base",
          "model_name": "LayoutModel",
          "model_module_version": "1.2.0",
          "state": {
            "_model_module": "@jupyter-widgets/base",
            "_model_module_version": "1.2.0",
            "_model_name": "LayoutModel",
            "_view_count": null,
            "_view_module": "@jupyter-widgets/base",
            "_view_module_version": "1.2.0",
            "_view_name": "LayoutView",
            "align_content": null,
            "align_items": null,
            "align_self": null,
            "border": null,
            "bottom": null,
            "display": null,
            "flex": null,
            "flex_flow": null,
            "grid_area": null,
            "grid_auto_columns": null,
            "grid_auto_flow": null,
            "grid_auto_rows": null,
            "grid_column": null,
            "grid_gap": null,
            "grid_row": null,
            "grid_template_areas": null,
            "grid_template_columns": null,
            "grid_template_rows": null,
            "height": null,
            "justify_content": null,
            "justify_items": null,
            "left": null,
            "margin": null,
            "max_height": null,
            "max_width": null,
            "min_height": null,
            "min_width": null,
            "object_fit": null,
            "object_position": null,
            "order": null,
            "overflow": null,
            "overflow_x": null,
            "overflow_y": null,
            "padding": null,
            "right": null,
            "top": null,
            "visibility": null,
            "width": null
          }
        },
        "4813f4a286ce4c50824779d9ba58cf4a": {
          "model_module": "@jupyter-widgets/controls",
          "model_name": "DescriptionStyleModel",
          "model_module_version": "1.5.0",
          "state": {
            "_model_module": "@jupyter-widgets/controls",
            "_model_module_version": "1.5.0",
            "_model_name": "DescriptionStyleModel",
            "_view_count": null,
            "_view_module": "@jupyter-widgets/base",
            "_view_module_version": "1.2.0",
            "_view_name": "StyleView",
            "description_width": ""
          }
        }
      }
    }
  },
  "nbformat_minor": 0,
  "nbformat": 4,
  "cells": [
    {
      "cell_type": "markdown",
      "source": [
        "# Build a RAG pipeline with Gemma 2b-it, Chroma and Haystack 2.x\n",
        "\n",
        "\n",
        "<img src=\"https://huggingface.co/blog/assets/gemma/Gemma-logo-small.png\" alt=\"gemma\" width=\"200\" style=\"display:inline;\">&nbsp;&nbsp;&nbsp;&nbsp;&nbsp;&nbsp;&nbsp;&nbsp;&nbsp;&nbsp;&nbsp;&nbsp;\n",
        "<img src=\"https://haystack.deepset.ai/images/haystack-ogimage.png\" alt=\"haystack logo\" width=\"300\" style=\"display:inline;\">&nbsp;&nbsp;&nbsp;&nbsp;&nbsp;&nbsp;&nbsp;&nbsp;&nbsp;&nbsp;&nbsp;&nbsp;\n",
        "<img src=\"https://www.trychroma.com/chroma-logo.png\" alt=\"chroma logo\" width=\"200\" style=\"display:inline;\">\n",
        "\n",
        "\n",
        "We will see what we can build with the new [Google Gemma open models](https://blog.google/technology/developers/gemma-open-models/) and the [Haystack LLM framework](https://haystack.deepset.ai/)."
      ],
      "metadata": {
        "id": "EdA-4TsUos85"
      }
    },
    {
      "cell_type": "code",
      "source": [
        "!pip install -q transformers==4.38.0 sentence-transformers\n",
        "!pip install -q haystack-ai chroma-haystack PyPDF2"
      ],
      "metadata": {
        "_uuid": "8f2839f25d086af736a60e9eeb907d3b93b6e0e5",
        "_cell_guid": "b1076dfc-b9ad-4769-8c92-a6c4dae69d19",
        "execution": {
          "iopub.status.busy": "2024-03-03T20:58:20.531055Z",
          "iopub.execute_input": "2024-03-03T20:58:20.531407Z",
          "iopub.status.idle": "2024-03-03T20:59:19.928945Z",
          "shell.execute_reply.started": "2024-03-03T20:58:20.531376Z",
          "shell.execute_reply": "2024-03-03T20:59:19.928033Z"
        },
        "trusted": true,
        "id": "fakqF7Lios86"
      },
      "execution_count": 1,
      "outputs": []
    },
    {
      "cell_type": "code",
      "source": [
        "import pandas as pd"
      ],
      "metadata": {
        "execution": {
          "iopub.status.busy": "2024-03-03T20:59:19.931123Z",
          "iopub.execute_input": "2024-03-03T20:59:19.931564Z",
          "iopub.status.idle": "2024-03-03T20:59:20.286037Z",
          "shell.execute_reply.started": "2024-03-03T20:59:19.931531Z",
          "shell.execute_reply": "2024-03-03T20:59:20.285283Z"
        },
        "trusted": true,
        "id": "-8uRH6Y1os86"
      },
      "execution_count": 2,
      "outputs": []
    },
    {
      "cell_type": "code",
      "source": [
        "pd.set_option('display.max_colwidth', None)"
      ],
      "metadata": {
        "execution": {
          "iopub.status.busy": "2024-03-03T20:59:20.287085Z",
          "iopub.execute_input": "2024-03-03T20:59:20.287439Z",
          "iopub.status.idle": "2024-03-03T20:59:20.291594Z",
          "shell.execute_reply.started": "2024-03-03T20:59:20.287415Z",
          "shell.execute_reply": "2024-03-03T20:59:20.290672Z"
        },
        "trusted": true,
        "id": "1dO3UVfpos86"
      },
      "execution_count": 3,
      "outputs": []
    },
    {
      "cell_type": "markdown",
      "source": [
        "## Initialize the LLM"
      ],
      "metadata": {
        "id": "9NS1tMulos86"
      }
    },
    {
      "cell_type": "code",
      "source": [
        "from huggingface_hub import login\n",
        "login()"
      ],
      "metadata": {
        "execution": {
          "iopub.status.busy": "2024-03-03T20:59:20.29317Z",
          "iopub.execute_input": "2024-03-03T20:59:20.293423Z",
          "iopub.status.idle": "2024-03-03T20:59:20.551483Z",
          "shell.execute_reply.started": "2024-03-03T20:59:20.293401Z",
          "shell.execute_reply": "2024-03-03T20:59:20.550565Z"
        },
        "trusted": true,
        "id": "QFjUmSjdos87",
        "outputId": "327a520c-7866-4bf7-f753-c9e571834fab",
        "colab": {
          "base_uri": "https://localhost:8080/",
          "height": 145,
          "referenced_widgets": [
            "bf610dcc9c974fd9a3d70d0a76a6b7dc",
            "6fd5983fedfe44d9b0cc087dbd3f48df",
            "c69591174e3d49a0bbcd5d9021b0a819",
            "ae32c83f9c984745bbe8d55ec2d1e921",
            "33e725da70184ad99273dd24810011dd",
            "2ea981269074450281c15b850a673fc3",
            "92b65d7d6360451ea44ea21ba8f43838",
            "7ac08c1b3751406abfb08bae9d22acf2",
            "620f6872714a4b9294f1e40d3fe5c12a",
            "1e2d4e14730740679453e5adf2a196b7",
            "16fd06e32ea44738aa2ab1801264fe3e",
            "64033f80332346f199cab112a1394f0f",
            "c345108ad3fc48c69748ce1f2df3ad4f",
            "62fabdd570294ca8a67e8ad3da2adadb",
            "3febd9f829114583a697dd7768ced60f",
            "7bdc5e0c5715480b8b7e2f60daf1dd5b",
            "946002a000394b6395f5f08e585f325d",
            "db60576059aa4f56af8788727d72e599",
            "c96cf3d1748b4dc88f042c46aa60ca25",
            "02958ea0261e4c088a13ef2b0e524a04",
            "571ba371200d490d9edd404637f50356",
            "1d7116f460d5405496d69f15d998c375",
            "77cb504b786c4a7388b1bb1712e81851",
            "6bb27eac23264f0a9dd71b2942cdfe02",
            "437f800604014b33a11e029fffc4d246",
            "625a5968f7bd479388fa0d7e111a1269",
            "1dbca683bbab48a18ccd93657c5bb492",
            "f376736ae1a54708badbb935ce4c6957",
            "0bf347b5c4e84b4a9d71dd527e54635c",
            "ae10750092ca4916be446499d290100a",
            "eaf012be964746849f6a2bb6281ee95c",
            "4813f4a286ce4c50824779d9ba58cf4a"
          ]
        }
      },
      "execution_count": 4,
      "outputs": [
        {
          "output_type": "display_data",
          "data": {
            "text/plain": [
              "VBox(children=(HTML(value='<center> <img\\nsrc=https://huggingface.co/front/assets/huggingface_logo-noborder.sv…"
            ],
            "application/vnd.jupyter.widget-view+json": {
              "version_major": 2,
              "version_minor": 0,
              "model_id": "bf610dcc9c974fd9a3d70d0a76a6b7dc"
            }
          },
          "metadata": {}
        }
      ]
    },
    {
      "cell_type": "markdown",
      "source": [
        "We will load gemma-2b-it using the `HuggingFaceLocalGenerator` in a quantized version. For simplicity, we could also just call the model using the free Hugging Face Inference API with the `HuggingFaceTGIGenerator`."
      ],
      "metadata": {
        "id": "wzDeWW_Zos87"
      }
    },
    {
      "cell_type": "code",
      "source": [
        "from haystack.components.generators import HuggingFaceLocalGenerator\n",
        "from haystack.components.embedders import SentenceTransformersTextEmbedder\n",
        "\n",
        "\n",
        "gemma_gen = HuggingFaceLocalGenerator(\n",
        "    model=\"google/gemma-2b-it\",\n",
        "    generation_kwargs={\"max_new_tokens\": 350}\n",
        "    )\n",
        "\n",
        "gemma_gen.warm_up()"
      ],
      "metadata": {
        "execution": {
          "iopub.status.busy": "2024-03-03T20:59:58.930433Z",
          "iopub.execute_input": "2024-03-03T20:59:58.931144Z",
          "iopub.status.idle": "2024-03-03T21:00:49.256629Z",
          "shell.execute_reply.started": "2024-03-03T20:59:58.931108Z",
          "shell.execute_reply": "2024-03-03T21:00:49.255655Z"
        },
        "trusted": true,
        "id": "t-M5BpXSos87"
      },
      "execution_count": null,
      "outputs": []
    },
    {
      "cell_type": "markdown",
      "source": [
        "## Prepare documents"
      ],
      "metadata": {
        "id": "rr6rE0oGos87"
      }
    },
    {
      "cell_type": "code",
      "source": [
        "!wget --user-agent \"Case\" \"https://cases.justia.com/federal/district-courts/california/candce/3:2020cv06754/366520/813/0.pdf\" -O \"Google_V_Sonos.pdf\""
      ],
      "metadata": {
        "execution": {
          "iopub.status.busy": "2024-03-03T21:00:49.258775Z",
          "iopub.execute_input": "2024-03-03T21:00:49.259633Z",
          "iopub.status.idle": "2024-03-03T21:00:50.971417Z",
          "shell.execute_reply.started": "2024-03-03T21:00:49.259574Z",
          "shell.execute_reply": "2024-03-03T21:00:50.970335Z"
        },
        "trusted": true,
        "id": "FIr5bF3Cos88"
      },
      "execution_count": null,
      "outputs": []
    },
    {
      "cell_type": "code",
      "source": [
        "import PyPDF2\n",
        "\n",
        "pdf_file_path = \"Google_V_Sonos.pdf\"\n",
        "\n",
        "def extract_text_from_pdf(pdf_path):\n",
        "    text = \"\"\n",
        "    with open(pdf_path, \"rb\") as pdf_file:\n",
        "        pdf_reader = PyPDF2.PdfReader(pdf_file)\n",
        "        for page_num in range(len(pdf_reader.pages)):\n",
        "            page = pdf_reader.pages[page_num]\n",
        "            text += page.extract_text()\n",
        "\n",
        "    return text\n",
        "\n",
        "pdf_text = extract_text_from_pdf(pdf_file_path)"
      ],
      "metadata": {
        "execution": {
          "iopub.status.busy": "2024-03-03T21:00:50.973012Z",
          "iopub.execute_input": "2024-03-03T21:00:50.973397Z",
          "iopub.status.idle": "2024-03-03T21:00:53.531732Z",
          "shell.execute_reply.started": "2024-03-03T21:00:50.973364Z",
          "shell.execute_reply": "2024-03-03T21:00:53.530881Z"
        },
        "trusted": true,
        "id": "GLDvRHs7os89"
      },
      "execution_count": null,
      "outputs": []
    },
    {
      "cell_type": "code",
      "source": [
        "from haystack import Document\n",
        "\n",
        "# Creating the Haystack Document\n",
        "doc = Document(\n",
        "    content=pdf_text,\n",
        "    meta={\"pdf_path\": pdf_file_path}\n",
        ")"
      ],
      "metadata": {
        "execution": {
          "iopub.status.busy": "2024-03-03T21:00:53.533915Z",
          "iopub.execute_input": "2024-03-03T21:00:53.534241Z",
          "iopub.status.idle": "2024-03-03T21:00:53.539313Z",
          "shell.execute_reply.started": "2024-03-03T21:00:53.534214Z",
          "shell.execute_reply": "2024-03-03T21:00:53.538297Z"
        },
        "trusted": true,
        "id": "9NU_t6ZNos89"
      },
      "execution_count": null,
      "outputs": []
    },
    {
      "cell_type": "markdown",
      "source": [
        "## Build the indexing Pipeline"
      ],
      "metadata": {
        "id": "bF0LES3Xos89"
      }
    },
    {
      "cell_type": "code",
      "source": [
        "from haystack.components.fetchers import LinkContentFetcher\n",
        "from haystack_integrations.document_stores.chroma import ChromaDocumentStore\n",
        "from haystack_integrations.components.retrievers.chroma import ChromaEmbeddingRetriever"
      ],
      "metadata": {
        "execution": {
          "iopub.status.busy": "2024-03-03T21:00:53.540525Z",
          "iopub.execute_input": "2024-03-03T21:00:53.540892Z",
          "iopub.status.idle": "2024-03-03T21:00:54.536311Z",
          "shell.execute_reply.started": "2024-03-03T21:00:53.540861Z",
          "shell.execute_reply": "2024-03-03T21:00:54.535552Z"
        },
        "trusted": true,
        "id": "g-S_seigos89"
      },
      "execution_count": null,
      "outputs": []
    },
    {
      "cell_type": "code",
      "source": [
        "from haystack import Pipeline\n",
        "#from haystack.document_stores.in_memory import InMemoryDocumentStore\n",
        "from haystack.components.preprocessors import DocumentCleaner, DocumentSplitter\n",
        "from haystack.components.writers import DocumentWriter\n",
        "from haystack.document_stores.types import DuplicatePolicy\n",
        "from haystack.components.embedders import SentenceTransformersDocumentEmbedder"
      ],
      "metadata": {
        "execution": {
          "iopub.status.busy": "2024-03-03T21:00:54.53734Z",
          "iopub.execute_input": "2024-03-03T21:00:54.537647Z",
          "iopub.status.idle": "2024-03-03T21:00:54.979105Z",
          "shell.execute_reply.started": "2024-03-03T21:00:54.537594Z",
          "shell.execute_reply": "2024-03-03T21:00:54.978295Z"
        },
        "trusted": true,
        "id": "HLFuC6G8os89"
      },
      "execution_count": null,
      "outputs": []
    },
    {
      "cell_type": "code",
      "source": [
        "document_store = ChromaDocumentStore()\n",
        "document_embedder = SentenceTransformersDocumentEmbedder(\"BAAI/bge-large-en-v1.5\")"
      ],
      "metadata": {
        "execution": {
          "iopub.status.busy": "2024-03-03T21:00:54.980351Z",
          "iopub.execute_input": "2024-03-03T21:00:54.98098Z",
          "iopub.status.idle": "2024-03-03T21:00:55.161182Z",
          "shell.execute_reply.started": "2024-03-03T21:00:54.980945Z",
          "shell.execute_reply": "2024-03-03T21:00:55.160245Z"
        },
        "trusted": true,
        "id": "AFPG3gMVos89"
      },
      "execution_count": null,
      "outputs": []
    },
    {
      "cell_type": "code",
      "source": [
        "indexing = Pipeline()\n",
        "\n",
        "\n",
        "indexing.add_component(\"cleaner\", DocumentCleaner())\n",
        "indexing.add_component(\"splitter\", DocumentSplitter(split_by=\"word\", split_length=300))\n",
        "indexing.add_component(\"embedder\", document_embedder)\n",
        "indexing.add_component(\"writer\", DocumentWriter(document_store=document_store, policy=DuplicatePolicy.OVERWRITE))\n",
        "\n",
        "indexing.connect(\"cleaner\", \"splitter\")\n",
        "indexing.connect(\"splitter\", \"embedder\")\n",
        "indexing.connect(\"embedder\", \"writer\")"
      ],
      "metadata": {
        "execution": {
          "iopub.status.busy": "2024-03-03T21:00:55.162391Z",
          "iopub.execute_input": "2024-03-03T21:00:55.162741Z",
          "iopub.status.idle": "2024-03-03T21:00:56.227069Z",
          "shell.execute_reply.started": "2024-03-03T21:00:55.162707Z",
          "shell.execute_reply": "2024-03-03T21:00:56.22615Z"
        },
        "trusted": true,
        "id": "_gPuMX1Tos89"
      },
      "execution_count": null,
      "outputs": []
    },
    {
      "cell_type": "code",
      "source": [
        "indexing.run({\"cleaner\":{\"documents\":[doc]}})"
      ],
      "metadata": {
        "execution": {
          "iopub.status.busy": "2024-03-03T21:00:56.228215Z",
          "iopub.execute_input": "2024-03-03T21:00:56.228498Z",
          "iopub.status.idle": "2024-03-03T21:01:07.331421Z",
          "shell.execute_reply.started": "2024-03-03T21:00:56.228474Z",
          "shell.execute_reply": "2024-03-03T21:01:07.330398Z"
        },
        "trusted": true,
        "id": "EC55wI0fos8-"
      },
      "execution_count": null,
      "outputs": []
    },
    {
      "cell_type": "code",
      "source": [
        "document_store.filter_documents()[0].content"
      ],
      "metadata": {
        "execution": {
          "iopub.status.busy": "2024-03-03T21:01:07.334748Z",
          "iopub.execute_input": "2024-03-03T21:01:07.335154Z",
          "iopub.status.idle": "2024-03-03T21:01:07.344904Z",
          "shell.execute_reply.started": "2024-03-03T21:01:07.335127Z",
          "shell.execute_reply": "2024-03-03T21:01:07.343874Z"
        },
        "trusted": true,
        "id": "y3t9dA8Yos8-"
      },
      "execution_count": null,
      "outputs": []
    },
    {
      "cell_type": "code",
      "source": [
        "len(document_store.filter_documents())"
      ],
      "metadata": {
        "execution": {
          "iopub.status.busy": "2024-03-03T21:01:07.346279Z",
          "iopub.execute_input": "2024-03-03T21:01:07.346653Z",
          "iopub.status.idle": "2024-03-03T21:01:08.872207Z",
          "shell.execute_reply.started": "2024-03-03T21:01:07.346618Z",
          "shell.execute_reply": "2024-03-03T21:01:08.871044Z"
        },
        "trusted": true,
        "id": "5GO7MePBos8-"
      },
      "execution_count": null,
      "outputs": []
    },
    {
      "cell_type": "markdown",
      "source": [
        "## Build the RAG Pipeline"
      ],
      "metadata": {
        "id": "neHbG7W8os8-"
      }
    },
    {
      "cell_type": "code",
      "source": [
        "from haystack.components.builders import PromptBuilder\n",
        "\n",
        "prompt_template = \"\"\"\n",
        "<start_of_turn>user\n",
        "Using the information contained in the context, give a comprehensive answer to the question.\n",
        "If the answer is contained in the context, also report the source PAGE.\n",
        "If the answer cannot be deduced from the context, do not give an answer.\n",
        "\n",
        "Context:\n",
        "  {% for doc in documents %}\n",
        "  {{ doc.content }} PAGE:{{ doc.meta['page'] }}\n",
        "  {% endfor %};\n",
        "  Question: {{question}}<end_of_turn>\n",
        "\n",
        "<start_of_turn>model\n",
        "\"\"\"\n",
        "prompt_builder = PromptBuilder(template=prompt_template)"
      ],
      "metadata": {
        "execution": {
          "iopub.status.busy": "2024-03-03T21:01:08.87335Z",
          "iopub.execute_input": "2024-03-03T21:01:08.873675Z",
          "iopub.status.idle": "2024-03-03T21:01:08.981862Z",
          "shell.execute_reply.started": "2024-03-03T21:01:08.873649Z",
          "shell.execute_reply": "2024-03-03T21:01:08.98065Z"
        },
        "trusted": true,
        "id": "_MU8dflSos8-"
      },
      "execution_count": null,
      "outputs": []
    },
    {
      "cell_type": "code",
      "source": [
        "gemma_rag = Pipeline()\n",
        "gemma_rag.add_component(\"text_embedder\",SentenceTransformersTextEmbedder(\"BAAI/bge-large-en-v1.5\"))\n",
        "gemma_rag.add_component(\"prompt_builder\", prompt_builder)\n",
        "gemma_rag.add_component(\"retriever\", ChromaEmbeddingRetriever(document_store=document_store))\n",
        "gemma_rag.add_component(\"llm\", gemma_gen)\n",
        "\n",
        "gemma_rag.connect(\"text_embedder.embedding\", \"retriever.query_embedding\")\n",
        "gemma_rag.connect(\"retriever.documents\", \"prompt_builder.documents\")\n",
        "gemma_rag.connect(\"prompt_builder.prompt\", \"llm.prompt\")"
      ],
      "metadata": {
        "execution": {
          "iopub.status.busy": "2024-03-03T21:01:08.983354Z",
          "iopub.execute_input": "2024-03-03T21:01:08.984314Z",
          "iopub.status.idle": "2024-03-03T21:01:10.371064Z",
          "shell.execute_reply.started": "2024-03-03T21:01:08.984276Z",
          "shell.execute_reply": "2024-03-03T21:01:10.370229Z"
        },
        "trusted": true,
        "id": "E-NOvXiOos8-"
      },
      "execution_count": null,
      "outputs": []
    },
    {
      "cell_type": "code",
      "source": [
        "def run_query_pipeline(question, llm):\n",
        "    data = {\n",
        "        \"text_embedder\": {\"text\": question},\n",
        "        \"retriever\": {\"top_k\": 3},\n",
        "        \"prompt_builder\": {\"question\": question},\n",
        "        \"llm\": {\"generation_kwargs\": {\"max_new_tokens\": 350}}\n",
        "    }\n",
        "    result = llm.run(data)\n",
        "    return result['llm']['replies'][0]"
      ],
      "metadata": {
        "execution": {
          "iopub.status.busy": "2024-03-03T21:01:10.372108Z",
          "iopub.execute_input": "2024-03-03T21:01:10.372356Z",
          "iopub.status.idle": "2024-03-03T21:01:10.377709Z",
          "shell.execute_reply.started": "2024-03-03T21:01:10.372333Z",
          "shell.execute_reply": "2024-03-03T21:01:10.376862Z"
        },
        "trusted": true,
        "id": "4nLX3HWoos8-"
      },
      "execution_count": null,
      "outputs": []
    },
    {
      "cell_type": "code",
      "source": [
        "print(run_query_pipeline(\"Summarize what happened in Google v. Sonos\", gemma_rag))"
      ],
      "metadata": {
        "execution": {
          "iopub.status.busy": "2024-03-03T21:01:10.378955Z",
          "iopub.execute_input": "2024-03-03T21:01:10.379428Z",
          "iopub.status.idle": "2024-03-03T21:01:23.374439Z",
          "shell.execute_reply.started": "2024-03-03T21:01:10.379394Z",
          "shell.execute_reply": "2024-03-03T21:01:23.373477Z"
        },
        "trusted": true,
        "id": "K1atFAnqos8-"
      },
      "execution_count": null,
      "outputs": []
    },
    {
      "cell_type": "markdown",
      "source": [
        "## Answer questions"
      ],
      "metadata": {
        "id": "JT9aAdQjos8-"
      }
    },
    {
      "cell_type": "code",
      "source": [
        "def run_queries_on_multiple_llms(queries, llms):\n",
        "    col_name = lambda i: f'LLM_{i+1}_Response'\n",
        "    # Create an empty list to collect the results\n",
        "    results = []\n",
        "\n",
        "    # Iterate over each query in the list of queries\n",
        "    for query in queries:\n",
        "        # Create a dictionary to collect responses for the current query\n",
        "        query_responses = {'Query': query}\n",
        "\n",
        "        # Iterate over each LLM in the list of LLMs\n",
        "        for i, llm in enumerate(llms):\n",
        "            # Execute the query using the run_query_pipeline function and the current LLM\n",
        "            response = run_query_pipeline(query, llm)\n",
        "\n",
        "            # Add the response to the responses dictionary\n",
        "            query_responses[col_name(i)] = response\n",
        "\n",
        "        # Add the responses dictionary to the results DataFrame\n",
        "        results.append(query_responses)\n",
        "\n",
        "    # Return the complete results DataFrame\n",
        "    cols = ['Query'] + [col_name(i) for i in range(len(llms))]\n",
        "    results_df = pd.DataFrame(results, columns=cols)\n",
        "    return results_df"
      ],
      "metadata": {
        "execution": {
          "iopub.status.busy": "2024-03-03T21:01:23.375719Z",
          "iopub.execute_input": "2024-03-03T21:01:23.376016Z",
          "iopub.status.idle": "2024-03-03T21:01:23.382999Z",
          "shell.execute_reply.started": "2024-03-03T21:01:23.37599Z",
          "shell.execute_reply": "2024-03-03T21:01:23.381962Z"
        },
        "trusted": true,
        "id": "g1lGGKtpos8_"
      },
      "execution_count": null,
      "outputs": []
    },
    {
      "cell_type": "code",
      "source": [
        "questions =\"\"\"What specific patents does Sonos claim Google has infringed upon in their multi-room audio technology?\n",
        "How has Google responded to the allegations of patent infringement made by Sonos?\n",
        "What are the key legal arguments presented by Sonos in their lawsuit against Google?\n",
        "Has the International Trade Commission (ITC) made any preliminary rulings or decisions regarding the patent infringement claims between Google and Sonos?\n",
        "What are the potential implications for both Google and Sonos depending on the outcome of the legal dispute?\"\"\".split('\\n')"
      ],
      "metadata": {
        "execution": {
          "iopub.status.busy": "2024-03-03T21:01:23.384114Z",
          "iopub.execute_input": "2024-03-03T21:01:23.384368Z",
          "iopub.status.idle": "2024-03-03T21:01:23.395721Z",
          "shell.execute_reply.started": "2024-03-03T21:01:23.384345Z",
          "shell.execute_reply": "2024-03-03T21:01:23.394854Z"
        },
        "trusted": true,
        "id": "eJvYhfB2os8_"
      },
      "execution_count": null,
      "outputs": []
    },
    {
      "cell_type": "code",
      "source": [
        "rag_pipelines = [gemma_rag]  # Replace llm1, llm2... with actual language model instances\n",
        "\n",
        "# Get the DataFrame with responses\n",
        "results_df = run_queries_on_multiple_llms(questions, rag_pipelines)"
      ],
      "metadata": {
        "execution": {
          "iopub.status.busy": "2024-03-03T21:01:23.397022Z",
          "iopub.execute_input": "2024-03-03T21:01:23.397626Z",
          "iopub.status.idle": "2024-03-03T21:01:52.9741Z",
          "shell.execute_reply.started": "2024-03-03T21:01:23.397574Z",
          "shell.execute_reply": "2024-03-03T21:01:52.973286Z"
        },
        "trusted": true,
        "id": "0Xl40K6Oos8_"
      },
      "execution_count": null,
      "outputs": []
    },
    {
      "cell_type": "code",
      "source": [
        "results_df"
      ],
      "metadata": {
        "execution": {
          "iopub.status.busy": "2024-03-03T21:01:52.975257Z",
          "iopub.execute_input": "2024-03-03T21:01:52.975542Z",
          "iopub.status.idle": "2024-03-03T21:01:52.989886Z",
          "shell.execute_reply.started": "2024-03-03T21:01:52.975517Z",
          "shell.execute_reply": "2024-03-03T21:01:52.988998Z"
        },
        "trusted": true,
        "id": "a5gFfX4Yos8_"
      },
      "execution_count": null,
      "outputs": []
    }
  ]
}