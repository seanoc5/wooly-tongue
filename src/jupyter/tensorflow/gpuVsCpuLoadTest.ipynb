{
 "cells": [
  {
   "metadata": {},
   "cell_type": "markdown",
   "source": [
    "# Comparing simple tf calculation with GPU vs without\n",
    "Code suggested by chatgpt"
   ],
   "id": "700ea620e4dd6690"
  },
  {
   "metadata": {
    "ExecuteTime": {
     "end_time": "2024-09-24T18:45:39.045348Z",
     "start_time": "2024-09-24T18:45:39.041469Z"
    }
   },
   "cell_type": "code",
   "source": "",
   "id": "f4b56f4f0bef7e00",
   "outputs": [],
   "execution_count": null
  },
  {
   "metadata": {
    "ExecuteTime": {
     "end_time": "2024-09-24T18:45:41.871707Z",
     "start_time": "2024-09-24T18:45:40.191849Z"
    }
   },
   "cell_type": "code",
   "source": [
    "import tensorflow as tf\n",
    "import time"
   ],
   "id": "1f0721bf343dc2c3",
   "outputs": [
    {
     "name": "stderr",
     "output_type": "stream",
     "text": [
      "2024-09-24 14:45:40.556155: I tensorflow/core/util/port.cc:153] oneDNN custom operations are on. You may see slightly different numerical results due to floating-point round-off errors from different computation orders. To turn them off, set the environment variable `TF_ENABLE_ONEDNN_OPTS=0`.\n",
      "2024-09-24 14:45:40.579101: E external/local_xla/xla/stream_executor/cuda/cuda_fft.cc:485] Unable to register cuFFT factory: Attempting to register factory for plugin cuFFT when one has already been registered\n",
      "2024-09-24 14:45:40.586472: E external/local_xla/xla/stream_executor/cuda/cuda_dnn.cc:8454] Unable to register cuDNN factory: Attempting to register factory for plugin cuDNN when one has already been registered\n",
      "2024-09-24 14:45:40.588637: E external/local_xla/xla/stream_executor/cuda/cuda_blas.cc:1452] Unable to register cuBLAS factory: Attempting to register factory for plugin cuBLAS when one has already been registered\n",
      "2024-09-24 14:45:40.594129: I tensorflow/core/platform/cpu_feature_guard.cc:210] This TensorFlow binary is optimized to use available CPU instructions in performance-critical operations.\n",
      "To enable the following instructions: SSE4.1 SSE4.2 AVX AVX2 AVX_VNNI FMA, in other operations, rebuild TensorFlow with the appropriate compiler flags.\n"
     ]
    }
   ],
   "execution_count": 1
  },
  {
   "metadata": {
    "ExecuteTime": {
     "end_time": "2024-09-24T18:46:01.479127Z",
     "start_time": "2024-09-24T18:45:58.746067Z"
    }
   },
   "cell_type": "code",
   "source": [
    "# Function to perform matrix multiplication\n",
    "def matrix_multiplication_test(size=10000):\n",
    "    # Create two large random matrices\n",
    "    matrix1 = tf.random.normal((size, size))\n",
    "    matrix2 = tf.random.normal((size, size))\n",
    "\n",
    "    # Perform matrix multiplication\n",
    "    result = tf.matmul(matrix1, matrix2)\n",
    "    return result\n",
    "\n",
    "# Test with GPU\n",
    "if tf.config.list_physical_devices('GPU'):\n",
    "    print(\"Running on GPU...\")\n",
    "    with tf.device('/GPU:0'):\n",
    "        start_time = time.time()\n",
    "        matrix_multiplication_test()\n",
    "        gpu_time = time.time() - start_time\n",
    "        print(f\"GPU processing time: {gpu_time:.2f} seconds\")\n",
    "else:\n",
    "    print(\"No GPU found!\")"
   ],
   "id": "e5565b6996c9cb49",
   "outputs": [
    {
     "name": "stdout",
     "output_type": "stream",
     "text": [
      "Running on GPU...\n"
     ]
    },
    {
     "name": "stderr",
     "output_type": "stream",
     "text": [
      "WARNING: All log messages before absl::InitializeLog() is called are written to STDERR\n",
      "I0000 00:00:1727203558.782646  524402 cuda_executor.cc:1015] successful NUMA node read from SysFS had negative value (-1), but there must be at least one NUMA node, so returning NUMA node zero. See more at https://github.com/torvalds/linux/blob/v6.0/Documentation/ABI/testing/sysfs-bus-pci#L344-L355\n",
      "I0000 00:00:1727203561.032601  524402 cuda_executor.cc:1015] successful NUMA node read from SysFS had negative value (-1), but there must be at least one NUMA node, so returning NUMA node zero. See more at https://github.com/torvalds/linux/blob/v6.0/Documentation/ABI/testing/sysfs-bus-pci#L344-L355\n",
      "I0000 00:00:1727203561.036811  524402 cuda_executor.cc:1015] successful NUMA node read from SysFS had negative value (-1), but there must be at least one NUMA node, so returning NUMA node zero. See more at https://github.com/torvalds/linux/blob/v6.0/Documentation/ABI/testing/sysfs-bus-pci#L344-L355\n",
      "I0000 00:00:1727203561.038163  524402 cuda_executor.cc:1015] successful NUMA node read from SysFS had negative value (-1), but there must be at least one NUMA node, so returning NUMA node zero. See more at https://github.com/torvalds/linux/blob/v6.0/Documentation/ABI/testing/sysfs-bus-pci#L344-L355\n",
      "I0000 00:00:1727203561.038240  524402 cuda_executor.cc:1015] successful NUMA node read from SysFS had negative value (-1), but there must be at least one NUMA node, so returning NUMA node zero. See more at https://github.com/torvalds/linux/blob/v6.0/Documentation/ABI/testing/sysfs-bus-pci#L344-L355\n",
      "I0000 00:00:1727203561.038295  524402 cuda_executor.cc:1015] successful NUMA node read from SysFS had negative value (-1), but there must be at least one NUMA node, so returning NUMA node zero. See more at https://github.com/torvalds/linux/blob/v6.0/Documentation/ABI/testing/sysfs-bus-pci#L344-L355\n",
      "I0000 00:00:1727203561.075813  524402 cuda_executor.cc:1015] successful NUMA node read from SysFS had negative value (-1), but there must be at least one NUMA node, so returning NUMA node zero. See more at https://github.com/torvalds/linux/blob/v6.0/Documentation/ABI/testing/sysfs-bus-pci#L344-L355\n",
      "I0000 00:00:1727203561.075903  524402 cuda_executor.cc:1015] successful NUMA node read from SysFS had negative value (-1), but there must be at least one NUMA node, so returning NUMA node zero. See more at https://github.com/torvalds/linux/blob/v6.0/Documentation/ABI/testing/sysfs-bus-pci#L344-L355\n",
      "I0000 00:00:1727203561.075956  524402 cuda_executor.cc:1015] successful NUMA node read from SysFS had negative value (-1), but there must be at least one NUMA node, so returning NUMA node zero. See more at https://github.com/torvalds/linux/blob/v6.0/Documentation/ABI/testing/sysfs-bus-pci#L344-L355\n",
      "2024-09-24 14:46:01.076001: I tensorflow/core/common_runtime/gpu/gpu_device.cc:2021] Created device /job:localhost/replica:0/task:0/device:GPU:0 with 9600 MB memory:  -> device: 0, name: NVIDIA GeForce RTX 4070, pci bus id: 0000:01:00.0, compute capability: 8.9\n"
     ]
    },
    {
     "name": "stdout",
     "output_type": "stream",
     "text": [
      "GPU processing time: 0.40 seconds\n"
     ]
    }
   ],
   "execution_count": 2
  },
  {
   "metadata": {
    "ExecuteTime": {
     "end_time": "2024-09-24T18:46:18.308664Z",
     "start_time": "2024-09-24T18:46:16.811096Z"
    }
   },
   "cell_type": "code",
   "source": [
    "\n",
    "# Test with CPU\n",
    "print(\"Running on CPU...\")\n",
    "with tf.device('/CPU:0'):\n",
    "    start_time = time.time()\n",
    "    matrix_multiplication_test()\n",
    "    cpu_time = time.time() - start_time\n",
    "    print(f\"CPU processing time: {cpu_time:.2f} seconds\")\n",
    "\n",
    "if tf.config.list_physical_devices('GPU'):\n",
    "    print(f\"GPU was {cpu_time / gpu_time:.2f} times faster than the CPU.\")\n"
   ],
   "id": "a9f675c3d73a42bd",
   "outputs": [
    {
     "name": "stdout",
     "output_type": "stream",
     "text": [
      "Running on CPU...\n",
      "CPU processing time: 1.49 seconds\n",
      "GPU was 3.74 times faster than the CPU.\n"
     ]
    }
   ],
   "execution_count": 3
  },
  {
   "metadata": {},
   "cell_type": "code",
   "outputs": [],
   "execution_count": null,
   "source": "",
   "id": "fcbfe01ee374e06e"
  }
 ],
 "metadata": {
  "kernelspec": {
   "display_name": "haystack",
   "language": "python",
   "name": "haystack"
  },
  "language_info": {
   "codemirror_mode": {
    "name": "ipython",
    "version": 2
   },
   "file_extension": ".py",
   "mimetype": "text/x-python",
   "name": "python",
   "nbconvert_exporter": "python",
   "pygments_lexer": "ipython2",
   "version": "2.7.6"
  }
 },
 "nbformat": 4,
 "nbformat_minor": 5
}
