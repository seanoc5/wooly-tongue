{
 "cells": [
  {
   "cell_type": "markdown",
   "id": "b27ebe6d-652c-489d-8456-d606c9695fa5",
   "metadata": {},
   "source": [
    "# Pinecone openai demo\n",
    "https://docs.pinecone.io/integrations/openai\n",
    "\n",
    "in progress...."
   ]
  },
  {
   "cell_type": "code",
   "execution_count": 1,
   "id": "52ce8ca2-8e78-44a9-b746-91b21d4498b5",
   "metadata": {},
   "outputs": [],
   "source": [
    "# !pip install -qU \\\n",
    "#     pinecone-client==3.0.2 \\\n",
    "#     openai==1.10.0 \\\n",
    "#     datasets==2.16.1\n"
   ]
  },
  {
   "cell_type": "code",
   "execution_count": 2,
   "id": "9a40c327-5e48-4823-a0da-b8749b1c475e",
   "metadata": {
    "jupyter": {
     "is_executing": true
    }
   },
   "outputs": [
    {
     "name": "stdin",
     "output_type": "stream",
     "text": [
      "Enter an OPENAI key:  ········\n"
     ]
    }
   ],
   "source": [
    "from openai import OpenAI\n",
    "from getpass import getpass\n",
    "import os \n",
    "\n",
    "if os.environ.get('OAI_KEY'):\n",
    "    oai_key = os.environ['OAI_KEY']\n",
    "else:\n",
    "    oai_key = getpass(\"Enter an OPENAI key: \")\n",
    "    \n",
    "client = OpenAI(api_key=oai_key)"
   ]
  },
  {
   "cell_type": "code",
   "execution_count": 14,
   "id": "a7957929-5c8a-4cf6-ba84-cf5dbb0e9419",
   "metadata": {},
   "outputs": [],
   "source": [
    "def create_embeddings(text, model):\n",
    "    res = client.embeddings.create(input=text, model=model)\n",
    "    return res.data\n"
   ]
  },
  {
   "cell_type": "code",
   "execution_count": 15,
   "id": "f74e1ee8-5423-4062-a6d0-4cec354f4186",
   "metadata": {},
   "outputs": [],
   "source": [
    "model = \"text-embedding-3-small\"\n",
    "\n",
    "test_res = create_embeddings(['simple embedding test'], model)"
   ]
  },
  {
   "cell_type": "code",
   "execution_count": 16,
   "id": "61b1fd93-902e-4c7d-bcaa-ddde63c25765",
   "metadata": {},
   "outputs": [],
   "source": [
    "emb0 = test_res[0].embedding  #['embedding'][:10]"
   ]
  },
  {
   "cell_type": "code",
   "execution_count": 17,
   "id": "2eb9793e-7c83-4cbd-98c8-986e03865474",
   "metadata": {},
   "outputs": [
    {
     "name": "stdout",
     "output_type": "stream",
     "text": [
      "First 10 embeddings of first text: [0.01645466312766075, -0.03789207711815834, 0.011913697235286236, -0.045482080429792404, 0.009226778522133827, -0.01229030080139637, 0.025493139401078224, 0.005953227635473013, 0.005105870310217142, 0.014166074804961681]\n"
     ]
    }
   ],
   "source": [
    "len(emb0)\n",
    "print(f\"First 10 embeddings of first text: {emb0[:10]}\")"
   ]
  },
  {
   "cell_type": "code",
   "execution_count": 18,
   "id": "dcf42140-3f83-4147-8633-d71df3cbedde",
   "metadata": {},
   "outputs": [
    {
     "name": "stdout",
     "output_type": "stream",
     "text": [
      "index(pinecone-openai-demo) DOES exist, using existing...\n"
     ]
    },
    {
     "data": {
      "text/plain": [
       "{'dimension': 1536,\n",
       " 'index_fullness': 0.0,\n",
       " 'namespaces': {'': {'vector_count': 6}},\n",
       " 'total_vector_count': 6}"
      ]
     },
     "execution_count": 18,
     "metadata": {},
     "output_type": "execute_result"
    }
   ],
   "source": [
    "import time\n",
    "from pinecone import Pinecone\n",
    "from pinecone import ServerlessSpec\n",
    "\n",
    "pc = Pinecone(api_key=\"87c571a7-ecea-42ee-a5e3-6a1c4db88bad\")\n",
    "\n",
    "spec = ServerlessSpec(cloud=\"aws\", region=\"us-east-1\")\n",
    "\n",
    "index_name = 'pinecone-openai-demo'\n",
    "\n",
    "# check if index already exists (it shouldn't if this is your first run)\n",
    "if index_name not in pc.list_indexes().names():\n",
    "    print(f\"index({index_name}) does not exist, create index\")\n",
    "    pc.create_index(\n",
    "        index_name,\n",
    "        dimension=len(embeds[0]),  # dimensionality of text-embed-3-small\n",
    "        metric='dotproduct',\n",
    "        spec=spec\n",
    "    )\n",
    "    # wait for index to be initialized\n",
    "    while not pc.describe_index(index_name).status['ready']:\n",
    "        time.sleep(1)\n",
    "else:\n",
    "    print(f\"index({index_name}) DOES exist, using existing...\")\n",
    "    \n",
    "# connect to index\n",
    "index = pc.Index(index_name)\n",
    "time.sleep(1)\n",
    "# view index stats\n",
    "index.describe_index_stats()\n"
   ]
  },
  {
   "cell_type": "code",
   "execution_count": 19,
   "id": "b0bb3a6b-55c7-4fac-9544-53cdfc2a0f3f",
   "metadata": {},
   "outputs": [],
   "source": [
    "lines = ['1a The boy zipped up his fly after putting on his pants',\n",
    "         '1b The lad zipped his pants and washed his hands.',\n",
    "         \n",
    "         '2a The catcher pointed to the fly ball and the pitcher found it',\n",
    "         '2b The pitcher caught the popup for the 3rd out in the inning.',\n",
    "         \n",
    "         '3a I opened the tent fly flaps and enjoyed the fresh air.',\n",
    "         '3b to get fresh air I opened the tent flaps.'\n",
    "        ]"
   ]
  },
  {
   "cell_type": "code",
   "execution_count": 20,
   "id": "3e087314-20e8-46c4-8dde-e9e7ab6e9992",
   "metadata": {},
   "outputs": [],
   "source": [
    "emb_list = create_embeddings(lines, model)"
   ]
  },
  {
   "cell_type": "code",
   "execution_count": 21,
   "id": "092b182e-8da1-4355-ae77-3bc2118b2e8e",
   "metadata": {},
   "outputs": [],
   "source": [
    "# emb_list"
   ]
  },
  {
   "cell_type": "code",
   "execution_count": 22,
   "id": "c32f517a-c89d-4ae6-b400-cdb44ba97553",
   "metadata": {},
   "outputs": [],
   "source": [
    "pc_docs = []\n",
    "for idx, emb in enumerate(emb_list):\n",
    "    line = lines[idx]\n",
    "    emb = emb_list[idx].embedding\n",
    "    # print(f\"Emb: {emb}\")\n",
    "    doc = {\"id\":str(idx), 'values':emb, 'metadata':{'number':str(idx), 'content':line}}\n",
    "    pc_docs.append(doc)"
   ]
  },
  {
   "cell_type": "code",
   "execution_count": 23,
   "id": "b32515d8-11eb-4ab6-b3d3-54f07e5d7a6d",
   "metadata": {},
   "outputs": [
    {
     "data": {
      "text/plain": [
       "{'upserted_count': 6}"
      ]
     },
     "execution_count": 23,
     "metadata": {},
     "output_type": "execute_result"
    }
   ],
   "source": [
    "foo = index.upsert(vectors=pc_docs)\n",
    "foo"
   ]
  },
  {
   "cell_type": "code",
   "execution_count": 13,
   "id": "80b509a1-61ff-4377-9950-9a64b7ec5637",
   "metadata": {},
   "outputs": [
    {
     "ename": "SyntaxError",
     "evalue": "invalid syntax (373920689.py, line 2)",
     "output_type": "error",
     "traceback": [
      "\u001b[0;36m  Cell \u001b[0;32mIn[13], line 2\u001b[0;36m\u001b[0m\n\u001b[0;31m    emb =\u001b[0m\n\u001b[0m          ^\u001b[0m\n\u001b[0;31mSyntaxError\u001b[0m\u001b[0;31m:\u001b[0m invalid syntax\n"
     ]
    }
   ],
   "source": [
    "for line in lines:\n",
    "    emb = "
   ]
  }
 ],
 "metadata": {
  "kernelspec": {
   "display_name": "wt2",
   "language": "python",
   "name": "wt2"
  },
  "language_info": {
   "codemirror_mode": {
    "name": "ipython",
    "version": 3
   },
   "file_extension": ".py",
   "mimetype": "text/x-python",
   "name": "python",
   "nbconvert_exporter": "python",
   "pygments_lexer": "ipython3",
   "version": "3.10.12"
  }
 },
 "nbformat": 4,
 "nbformat_minor": 5
}
