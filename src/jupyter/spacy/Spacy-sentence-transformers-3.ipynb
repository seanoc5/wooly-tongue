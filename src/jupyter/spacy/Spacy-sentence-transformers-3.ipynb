{
 "cells": [
  {
   "cell_type": "markdown",
   "id": "cabe2820-d3a1-4ae6-b5e4-a08a95aef0f1",
   "metadata": {},
   "source": [
    "# Spacy sentence transformers demo 3\n",
    "\n"
   ]
  },
  {
   "cell_type": "code",
   "execution_count": 2,
   "id": "a31eafa4-49e6-4927-a6a0-0a64acbdd544",
   "metadata": {},
   "outputs": [],
   "source": [
    "import spacy\n",
    "import torch\n",
    "import numpy\n",
    "from numpy.testing import assert_almost_equal"
   ]
  },
  {
   "cell_type": "code",
   "execution_count": 9,
   "id": "2c8f4e73-a103-4bf9-8e45-a05084cb673c",
   "metadata": {},
   "outputs": [
    {
     "name": "stdout",
     "output_type": "stream",
     "text": [
      "Using gpu!\n"
     ]
    }
   ],
   "source": [
    "is_using_gpu = spacy.prefer_gpu()\n",
    "if is_using_gpu:\n",
    "    print(\"Using gpu!\")\n",
    "    # torch.set_default_tensor_type(\"torch.cuda.FloatTensor\")"
   ]
  },
  {
   "cell_type": "code",
   "execution_count": 10,
   "id": "69837550-9aa5-4c44-a3d5-c4985fd30cbe",
   "metadata": {},
   "outputs": [],
   "source": [
    "s_model = 'en_core_web_trf'\n",
    "nlp = spacy.load(s_model)"
   ]
  },
  {
   "cell_type": "code",
   "execution_count": 11,
   "id": "61fe81d6-7ee5-4ff8-9061-9db5f060470d",
   "metadata": {},
   "outputs": [
    {
     "data": {
      "text/plain": [
       "Here is some text to encode."
      ]
     },
     "execution_count": 11,
     "metadata": {},
     "output_type": "execute_result"
    }
   ],
   "source": [
    "doc = nlp(\"Here is some text to encode.\")\n",
    "doc.tensor.shape\n",
    "doc"
   ]
  },
  {
   "cell_type": "code",
   "execution_count": 12,
   "id": "0a1c9a15-50b9-4258-9845-250ec353f308",
   "metadata": {},
   "outputs": [
    {
     "data": {
      "text/plain": [
       "(0,)"
      ]
     },
     "execution_count": 12,
     "metadata": {},
     "output_type": "execute_result"
    }
   ],
   "source": [
    " doc.tensor.shape"
   ]
  },
  {
   "cell_type": "code",
   "execution_count": 6,
   "id": "96ac635d-bf9f-481f-8bf3-7f0b0a642801",
   "metadata": {},
   "outputs": [
    {
     "ename": "AssertionError",
     "evalue": "",
     "output_type": "error",
     "traceback": [
      "\u001b[0;31m---------------------------------------------------------------------------\u001b[0m",
      "\u001b[0;31mAssertionError\u001b[0m                            Traceback (most recent call last)",
      "Cell \u001b[0;32mIn[6], line 1\u001b[0m\n\u001b[0;32m----> 1\u001b[0m \u001b[38;5;28;01massert\u001b[39;00m doc\u001b[38;5;241m.\u001b[39mtensor\u001b[38;5;241m.\u001b[39mshape \u001b[38;5;241m==\u001b[39m (\u001b[38;5;241m7\u001b[39m, \u001b[38;5;241m768\u001b[39m)  \u001b[38;5;66;03m# Always has one row per token\u001b[39;00m\n",
      "\u001b[0;31mAssertionError\u001b[0m: "
     ]
    }
   ],
   "source": [
    "assert doc.tensor.shape == (7, 768)  # Always has one row per token"
   ]
  },
  {
   "cell_type": "code",
   "execution_count": 7,
   "id": "4c68f5d5-aed4-4a65-b5f0-79bd582745b9",
   "metadata": {},
   "outputs": [
    {
     "ename": "AttributeError",
     "evalue": "[E046] Can't retrieve unregistered extension attribute 'trf_word_pieces_'. Did you forget to call the `set_extension` method?",
     "output_type": "error",
     "traceback": [
      "\u001b[0;31m---------------------------------------------------------------------------\u001b[0m",
      "\u001b[0;31mAttributeError\u001b[0m                            Traceback (most recent call last)",
      "Cell \u001b[0;32mIn[7], line 1\u001b[0m\n\u001b[0;32m----> 1\u001b[0m \u001b[43mdoc\u001b[49m\u001b[38;5;241;43m.\u001b[39;49m\u001b[43m_\u001b[49m\u001b[38;5;241;43m.\u001b[39;49m\u001b[43mtrf_word_pieces_\u001b[49m  \u001b[38;5;66;03m# String values of the wordpieces\u001b[39;00m\n\u001b[1;32m      2\u001b[0m doc\u001b[38;5;241m.\u001b[39m_\u001b[38;5;241m.\u001b[39mtrf_word_pieces  \u001b[38;5;66;03m# Wordpiece IDs (note: *not* spaCy's hash values!)\u001b[39;00m\n\u001b[1;32m      3\u001b[0m doc\u001b[38;5;241m.\u001b[39m_\u001b[38;5;241m.\u001b[39mtrf_alignment  \u001b[38;5;66;03m# Alignment between spaCy tokens and wordpieces\u001b[39;00m\n",
      "File \u001b[0;32m~/miniforge3/envs/wt2/lib/python3.10/site-packages/spacy/tokens/underscore.py:48\u001b[0m, in \u001b[0;36mUnderscore.__getattr__\u001b[0;34m(self, name)\u001b[0m\n\u001b[1;32m     46\u001b[0m \u001b[38;5;28;01mdef\u001b[39;00m \u001b[38;5;21m__getattr__\u001b[39m(\u001b[38;5;28mself\u001b[39m, name: \u001b[38;5;28mstr\u001b[39m) \u001b[38;5;241m-\u001b[39m\u001b[38;5;241m>\u001b[39m Any:\n\u001b[1;32m     47\u001b[0m     \u001b[38;5;28;01mif\u001b[39;00m name \u001b[38;5;129;01mnot\u001b[39;00m \u001b[38;5;129;01min\u001b[39;00m \u001b[38;5;28mself\u001b[39m\u001b[38;5;241m.\u001b[39m_extensions:\n\u001b[0;32m---> 48\u001b[0m         \u001b[38;5;28;01mraise\u001b[39;00m \u001b[38;5;167;01mAttributeError\u001b[39;00m(Errors\u001b[38;5;241m.\u001b[39mE046\u001b[38;5;241m.\u001b[39mformat(name\u001b[38;5;241m=\u001b[39mname))\n\u001b[1;32m     49\u001b[0m     default, method, getter, setter \u001b[38;5;241m=\u001b[39m \u001b[38;5;28mself\u001b[39m\u001b[38;5;241m.\u001b[39m_extensions[name]\n\u001b[1;32m     50\u001b[0m     \u001b[38;5;28;01mif\u001b[39;00m getter \u001b[38;5;129;01mis\u001b[39;00m \u001b[38;5;129;01mnot\u001b[39;00m \u001b[38;5;28;01mNone\u001b[39;00m:\n",
      "\u001b[0;31mAttributeError\u001b[0m: [E046] Can't retrieve unregistered extension attribute 'trf_word_pieces_'. Did you forget to call the `set_extension` method?"
     ]
    }
   ],
   "source": [
    "doc._.trf_word_pieces_  # String values of the wordpieces\n",
    "doc._.trf_word_pieces  # Wordpiece IDs (note: *not* spaCy's hash values!)\n",
    "doc._.trf_alignment  # Alignment between spaCy tokens and wordpieces"
   ]
  },
  {
   "cell_type": "code",
   "execution_count": null,
   "id": "46b37ff2-64b7-44d7-abaf-cdbd7e467e43",
   "metadata": {},
   "outputs": [],
   "source": [
    "# The raw transformer output has one row per wordpiece.\n",
    "assert len(doc._.trf_last_hidden_state) == len(doc._.trf_word_pieces)"
   ]
  },
  {
   "cell_type": "code",
   "execution_count": null,
   "id": "57396883-8b55-41fc-ae9f-bb56aa66a958",
   "metadata": {},
   "outputs": [],
   "source": [
    "# To avoid losing information, we calculate the doc.tensor attribute such that\n",
    "# the sum-pooled vectors match (apart from numeric error)\n",
    "assert_almost_equal(doc.tensor.sum(axis=0), doc._.trf_last_hidden_state.sum(axis=0), decimal=5)\n",
    "span = doc[2:4]"
   ]
  },
  {
   "cell_type": "code",
   "execution_count": null,
   "id": "9e07a7ce-b7d7-4ffa-afe3-16c6bae708b1",
   "metadata": {},
   "outputs": [],
   "source": [
    "# Access the tensor from Span elements (especially helpful for sentences)\n",
    "assert numpy.array_equal(span.tensor, doc.tensor[2:4])\n",
    "# .vector and .similarity use the transformer outputs\n",
    "apple1 = nlp(\"Apple shares rose on the news.\")\n",
    "apple2 = nlp(\"Apple sold fewer iPhones this quarter.\")\n",
    "apple3 = nlp(\"Apple pie is delicious.\")\n",
    "print(apple1[0].similarity(apple2[0]))  # 0.73428553\n",
    "print(apple1[0].similarity(apple3[0]))  # 0.43365782"
   ]
  }
 ],
 "metadata": {
  "kernelspec": {
   "display_name": "wt2",
   "language": "python",
   "name": "wt2"
  },
  "language_info": {
   "codemirror_mode": {
    "name": "ipython",
    "version": 3
   },
   "file_extension": ".py",
   "mimetype": "text/x-python",
   "name": "python",
   "nbconvert_exporter": "python",
   "pygments_lexer": "ipython3",
   "version": "3.10.12"
  }
 },
 "nbformat": 4,
 "nbformat_minor": 5
}
