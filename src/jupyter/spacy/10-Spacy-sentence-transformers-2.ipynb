{
 "cells": [
  {
   "cell_type": "markdown",
   "id": "cabe2820-d3a1-4ae6-b5e4-a08a95aef0f1",
   "metadata": {},
   "source": [
    "# Spacy sentence transformers demo 2\n",
    "https://realpython.com/natural-language-processing-spacy-python/\n",
    "\n",
    "Status: working"
   ]
  },
  {
   "cell_type": "code",
   "execution_count": 1,
   "id": "487db742-47d2-4111-9604-d8cf4edbfdca",
   "metadata": {},
   "outputs": [],
   "source": [
    "import spacy\n",
    "import os"
   ]
  },
  {
   "cell_type": "code",
   "execution_count": 2,
   "id": "9917cd07-9c28-4640-bee3-d80b99d0ac1c",
   "metadata": {},
   "outputs": [],
   "source": [
    "nlp = spacy.load(\"en_core_web_sm\")"
   ]
  },
  {
   "cell_type": "code",
   "execution_count": 3,
   "id": "229e3a71-76b1-4cda-9160-80d498130018",
   "metadata": {},
   "outputs": [
    {
     "data": {
      "text/plain": [
       "spacy.tokens.doc.Doc"
      ]
     },
     "execution_count": 3,
     "metadata": {},
     "output_type": "execute_result"
    }
   ],
   "source": [
    "introduction_doc = nlp(\"This tutorial is about Natural Language Processing in spaCy.\")\n",
    "type(introduction_doc)"
   ]
  },
  {
   "cell_type": "code",
   "execution_count": 4,
   "id": "8bac4b8f-45ae-49bc-8abc-7085ef476431",
   "metadata": {},
   "outputs": [
    {
     "data": {
      "text/plain": [
       "['This',\n",
       " 'tutorial',\n",
       " 'is',\n",
       " 'about',\n",
       " 'Natural',\n",
       " 'Language',\n",
       " 'Processing',\n",
       " 'in',\n",
       " 'spaCy',\n",
       " '.']"
      ]
     },
     "execution_count": 4,
     "metadata": {},
     "output_type": "execute_result"
    }
   ],
   "source": [
    "[token.text for token in introduction_doc]"
   ]
  },
  {
   "cell_type": "code",
   "execution_count": 5,
   "id": "34011de9-cf80-4215-9f8d-d86502854225",
   "metadata": {},
   "outputs": [
    {
     "data": {
      "text/plain": [
       "array([ 0.07365489, -0.28243232, -0.03621174,  0.2451365 , -0.20003036,\n",
       "        0.30572206,  0.35961255, -0.00241736,  0.16126905,  0.07140888,\n",
       "        0.68929714, -0.13217781, -0.58390653, -0.12481997, -0.4346159 ,\n",
       "       -0.1291928 , -0.29638022,  0.06028746,  0.19939837,  0.12762153,\n",
       "       -0.60723764,  0.00767767,  0.13626541, -0.27676433,  0.2705509 ,\n",
       "        0.2655457 ,  0.92245257,  0.23003161,  0.29769552,  0.46623   ,\n",
       "       -0.01644283, -0.06653214,  0.19788897, -0.01722469, -0.5542281 ,\n",
       "       -0.003491  ,  0.44445166,  0.09600879,  0.03396703,  0.23875132,\n",
       "       -0.20825298,  0.02615591, -0.11708115,  0.277158  , -0.08244343,\n",
       "        0.25472617, -0.1263903 , -0.08734767,  0.09258294,  0.0543821 ,\n",
       "       -0.5824818 , -0.0971214 ,  0.13051508, -0.32115918, -0.33799523,\n",
       "       -0.15999304,  0.03894645, -0.1882629 ,  0.2722117 , -0.05839103,\n",
       "       -0.3576085 , -0.5991928 , -0.05290066,  0.05007892,  0.11633168,\n",
       "       -0.02342863,  0.4021555 , -0.09623136,  0.17463401, -0.15895137,\n",
       "        0.25773445, -0.14168778,  0.12965108, -0.31791168,  0.41073808,\n",
       "       -0.26128846, -0.24002402, -0.35173178,  0.14539611, -0.39269826,\n",
       "       -0.22165795, -0.05144738, -0.3824368 , -0.11241601,  0.34922034,\n",
       "        0.20693469,  0.02177333,  0.2935831 , -0.49283952,  0.46181855,\n",
       "       -0.11214153, -0.00208246,  0.89226973,  0.10213824, -0.62809736,\n",
       "        0.3129011 ], dtype=float32)"
      ]
     },
     "execution_count": 5,
     "metadata": {},
     "output_type": "execute_result"
    }
   ],
   "source": [
    "introduction_doc.vector"
   ]
  },
  {
   "cell_type": "code",
   "execution_count": null,
   "id": "782427be-4fee-4b11-b146-7751e7fa272f",
   "metadata": {},
   "outputs": [],
   "source": []
  }
 ],
 "metadata": {
  "kernelspec": {
   "display_name": "wt2",
   "language": "python",
   "name": "wt2"
  },
  "language_info": {
   "codemirror_mode": {
    "name": "ipython",
    "version": 3
   },
   "file_extension": ".py",
   "mimetype": "text/x-python",
   "name": "python",
   "nbconvert_exporter": "python",
   "pygments_lexer": "ipython3",
   "version": "3.10.12"
  }
 },
 "nbformat": 4,
 "nbformat_minor": 5
}
