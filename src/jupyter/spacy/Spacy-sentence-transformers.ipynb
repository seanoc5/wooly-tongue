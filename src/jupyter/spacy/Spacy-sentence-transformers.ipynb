{
 "cells": [
  {
   "cell_type": "markdown",
   "id": "cabe2820-d3a1-4ae6-b5e4-a08a95aef0f1",
   "metadata": {},
   "source": [
    "# Spacy sentence transformers demo 1\n",
    "https://www.freecodecamp.org/news/getting-started-with-nlp-using-spacy/\n"
   ]
  },
  {
   "cell_type": "code",
   "id": "487db742-47d2-4111-9604-d8cf4edbfdca",
   "metadata": {
    "ExecuteTime": {
     "end_time": "2024-09-20T15:28:21.953461Z",
     "start_time": "2024-09-20T15:28:20.528556Z"
    }
   },
   "source": [
    "import spacy\n",
    "import os"
   ],
   "outputs": [],
   "execution_count": 1
  },
  {
   "cell_type": "code",
   "id": "18941329-eeac-47b7-bf6a-ff83c5a1612e",
   "metadata": {
    "ExecuteTime": {
     "end_time": "2024-09-20T15:28:33.747524Z",
     "start_time": "2024-09-20T15:28:21.960340Z"
    }
   },
   "source": [
    "nlp = spacy.load(\"en_core_web_lg\")\n",
    "nlp"
   ],
   "outputs": [
    {
     "data": {
      "text/plain": [
       "<spacy.lang.en.English at 0x7fa6da3caaa0>"
      ]
     },
     "execution_count": 2,
     "metadata": {},
     "output_type": "execute_result"
    }
   ],
   "execution_count": 2
  },
  {
   "cell_type": "code",
   "id": "5bb7d723-d0ae-4bbd-887e-f76019023194",
   "metadata": {
    "ExecuteTime": {
     "end_time": "2024-09-20T15:28:33.822788Z",
     "start_time": "2024-09-20T15:28:33.820446Z"
    }
   },
   "source": [
    "spacy.vocab.Vocab"
   ],
   "outputs": [
    {
     "data": {
      "text/plain": [
       "spacy.vocab.Vocab"
      ]
     },
     "execution_count": 3,
     "metadata": {},
     "output_type": "execute_result"
    }
   ],
   "execution_count": 3
  },
  {
   "cell_type": "code",
   "id": "07e216d2-2df0-4ca6-b785-c3944ac349ae",
   "metadata": {
    "ExecuteTime": {
     "end_time": "2024-09-20T15:28:33.970845Z",
     "start_time": "2024-09-20T15:28:33.956090Z"
    }
   },
   "source": [
    "doc = nlp(\"\"\"By combining the power of transformer-based language models, pipeline-oriented structure, \n",
    "and developer-friendly tooling, Haystack is the NLP framework of choice for a range of organizations. Companies \n",
    "like Bank of America, Airbus, BMW, and Sooth.ai all rely on Haystack to set up their semantic search systems.\"\"\")\n",
    "\n",
    "for ent in doc.ents:\n",
    "    print(ent.text, ent.start_char, ent.end_char, ent.label_)"
   ],
   "outputs": [
    {
     "name": "stdout",
     "output_type": "stream",
     "text": [
      "Haystack 123 131 ORG\n",
      "NLP 139 142 ORG\n",
      "Bank of America 209 224 ORG\n",
      "Airbus 226 232 ORG\n",
      "BMW 234 237 ORG\n",
      "Sooth.ai 243 251 ORG\n",
      "Haystack 264 272 PRODUCT\n"
     ]
    }
   ],
   "execution_count": 4
  },
  {
   "cell_type": "code",
   "id": "4bec7e37-f638-42d3-86fa-507cdec26df0",
   "metadata": {
    "ExecuteTime": {
     "end_time": "2024-09-20T15:28:34.041410Z",
     "start_time": "2024-09-20T15:28:34.039144Z"
    }
   },
   "source": [
    "from spacy import displacy"
   ],
   "outputs": [],
   "execution_count": 5
  },
  {
   "cell_type": "code",
   "id": "fa9bc879-950e-4e32-b21c-010dfc5ba11c",
   "metadata": {
    "ExecuteTime": {
     "end_time": "2024-09-20T15:28:34.092157Z",
     "start_time": "2024-09-20T15:28:34.088656Z"
    }
   },
   "source": [
    "displacy.render(doc,style='ent')"
   ],
   "outputs": [
    {
     "data": {
      "text/plain": [
       "<IPython.core.display.HTML object>"
      ],
      "text/html": [
       "<span class=\"tex2jax_ignore\"><div class=\"entities\" style=\"line-height: 2.5; direction: ltr\">By combining the power of transformer-based language models, pipeline-oriented structure, <br>and developer-friendly tooling, \n",
       "<mark class=\"entity\" style=\"background: #7aecec; padding: 0.45em 0.6em; margin: 0 0.25em; line-height: 1; border-radius: 0.35em;\">\n",
       "    Haystack\n",
       "    <span style=\"font-size: 0.8em; font-weight: bold; line-height: 1; border-radius: 0.35em; vertical-align: middle; margin-left: 0.5rem\">ORG</span>\n",
       "</mark>\n",
       " is the \n",
       "<mark class=\"entity\" style=\"background: #7aecec; padding: 0.45em 0.6em; margin: 0 0.25em; line-height: 1; border-radius: 0.35em;\">\n",
       "    NLP\n",
       "    <span style=\"font-size: 0.8em; font-weight: bold; line-height: 1; border-radius: 0.35em; vertical-align: middle; margin-left: 0.5rem\">ORG</span>\n",
       "</mark>\n",
       " framework of choice for a range of organizations. Companies <br>like \n",
       "<mark class=\"entity\" style=\"background: #7aecec; padding: 0.45em 0.6em; margin: 0 0.25em; line-height: 1; border-radius: 0.35em;\">\n",
       "    Bank of America\n",
       "    <span style=\"font-size: 0.8em; font-weight: bold; line-height: 1; border-radius: 0.35em; vertical-align: middle; margin-left: 0.5rem\">ORG</span>\n",
       "</mark>\n",
       ", \n",
       "<mark class=\"entity\" style=\"background: #7aecec; padding: 0.45em 0.6em; margin: 0 0.25em; line-height: 1; border-radius: 0.35em;\">\n",
       "    Airbus\n",
       "    <span style=\"font-size: 0.8em; font-weight: bold; line-height: 1; border-radius: 0.35em; vertical-align: middle; margin-left: 0.5rem\">ORG</span>\n",
       "</mark>\n",
       ", \n",
       "<mark class=\"entity\" style=\"background: #7aecec; padding: 0.45em 0.6em; margin: 0 0.25em; line-height: 1; border-radius: 0.35em;\">\n",
       "    BMW\n",
       "    <span style=\"font-size: 0.8em; font-weight: bold; line-height: 1; border-radius: 0.35em; vertical-align: middle; margin-left: 0.5rem\">ORG</span>\n",
       "</mark>\n",
       ", and \n",
       "<mark class=\"entity\" style=\"background: #7aecec; padding: 0.45em 0.6em; margin: 0 0.25em; line-height: 1; border-radius: 0.35em;\">\n",
       "    Sooth.ai\n",
       "    <span style=\"font-size: 0.8em; font-weight: bold; line-height: 1; border-radius: 0.35em; vertical-align: middle; margin-left: 0.5rem\">ORG</span>\n",
       "</mark>\n",
       " all rely on \n",
       "<mark class=\"entity\" style=\"background: #bfeeb7; padding: 0.45em 0.6em; margin: 0 0.25em; line-height: 1; border-radius: 0.35em;\">\n",
       "    Haystack\n",
       "    <span style=\"font-size: 0.8em; font-weight: bold; line-height: 1; border-radius: 0.35em; vertical-align: middle; margin-left: 0.5rem\">PRODUCT</span>\n",
       "</mark>\n",
       " to set up their semantic search systems.</div></span>"
      ]
     },
     "metadata": {},
     "output_type": "display_data"
    }
   ],
   "execution_count": 6
  },
  {
   "cell_type": "code",
   "id": "53424d44-3de2-4ccd-89da-d5222150c883",
   "metadata": {
    "ExecuteTime": {
     "end_time": "2024-09-20T15:28:34.146215Z",
     "start_time": "2024-09-20T15:28:34.143868Z"
    }
   },
   "source": [
    "from spacy.matcher import Matcher "
   ],
   "outputs": [],
   "execution_count": 7
  },
  {
   "cell_type": "code",
   "id": "5e2215ad-eeb7-444c-8407-81a07bf23e13",
   "metadata": {
    "ExecuteTime": {
     "end_time": "2024-09-20T15:30:22.981240Z",
     "start_time": "2024-09-20T15:30:22.821707Z"
    }
   },
   "source": "doc.vector.shape()",
   "outputs": [
    {
     "ename": "TypeError",
     "evalue": "'tuple' object is not callable",
     "output_type": "error",
     "traceback": [
      "\u001B[0;31m---------------------------------------------------------------------------\u001B[0m",
      "\u001B[0;31mTypeError\u001B[0m                                 Traceback (most recent call last)",
      "Cell \u001B[0;32mIn[11], line 1\u001B[0m\n\u001B[0;32m----> 1\u001B[0m \u001B[43mdoc\u001B[49m\u001B[38;5;241;43m.\u001B[39;49m\u001B[43mvector\u001B[49m\u001B[38;5;241;43m.\u001B[39;49m\u001B[43mshape\u001B[49m\u001B[43m(\u001B[49m\u001B[43m)\u001B[49m\n",
      "\u001B[0;31mTypeError\u001B[0m: 'tuple' object is not callable"
     ]
    }
   ],
   "execution_count": 11
  },
  {
   "cell_type": "code",
   "id": "f37bde5a-0c57-4acb-aa85-956e678a8ddf",
   "metadata": {
    "ExecuteTime": {
     "end_time": "2024-09-20T15:28:34.730047Z",
     "start_time": "2024-09-20T15:28:34.728420Z"
    }
   },
   "source": [],
   "outputs": [],
   "execution_count": null
  }
 ],
 "metadata": {
  "kernelspec": {
   "display_name": "wt2",
   "language": "python",
   "name": "wt2"
  },
  "language_info": {
   "codemirror_mode": {
    "name": "ipython",
    "version": 3
   },
   "file_extension": ".py",
   "mimetype": "text/x-python",
   "name": "python",
   "nbconvert_exporter": "python",
   "pygments_lexer": "ipython3",
   "version": "3.10.12"
  }
 },
 "nbformat": 4,
 "nbformat_minor": 5
}
