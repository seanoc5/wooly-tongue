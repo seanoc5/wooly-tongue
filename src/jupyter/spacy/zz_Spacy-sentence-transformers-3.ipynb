{
 "cells": [
  {
   "cell_type": "markdown",
   "id": "cabe2820-d3a1-4ae6-b5e4-a08a95aef0f1",
   "metadata": {},
   "source": [
    "# Spacy sentence transformers demo 3\n",
    "\n",
    "Status: not working, something misaligned with nlp and tensors"
   ]
  },
  {
   "cell_type": "code",
   "execution_count": 1,
   "id": "a31eafa4-49e6-4927-a6a0-0a64acbdd544",
   "metadata": {},
   "outputs": [],
   "source": [
    "import spacy\n",
    "import torch\n",
    "import numpy\n",
    "from numpy.testing import assert_almost_equal"
   ]
  },
  {
   "cell_type": "code",
   "execution_count": 2,
   "id": "2c8f4e73-a103-4bf9-8e45-a05084cb673c",
   "metadata": {},
   "outputs": [
    {
     "name": "stdout",
     "output_type": "stream",
     "text": [
      "Using gpu!\n"
     ]
    }
   ],
   "source": [
    "is_using_gpu = spacy.prefer_gpu()\n",
    "if is_using_gpu:\n",
    "    print(\"Using gpu!\")\n",
    "    # torch.set_default_tensor_type(\"torch.cuda.FloatTensor\")"
   ]
  },
  {
   "cell_type": "markdown",
   "id": "c3dc898a-5683-40d9-a4a0-2ec91f0b5637",
   "metadata": {},
   "source": [
    "**Note:** it seems en_core_web_sm does not have vectors (for size reduction), I had to use '_lg' to get the tensors.shape to work"
   ]
  },
  {
   "cell_type": "code",
   "execution_count": 10,
   "id": "69837550-9aa5-4c44-a3d5-c4985fd30cbe",
   "metadata": {},
   "outputs": [],
   "source": [
    "s_model = 'en_core_web_lg'\n",
    "nlp = spacy.load(s_model)"
   ]
  },
  {
   "cell_type": "code",
   "execution_count": 12,
   "id": "61fe81d6-7ee5-4ff8-9061-9db5f060470d",
   "metadata": {},
   "outputs": [
    {
     "data": {
      "text/plain": [
       "Here is some text to encode."
      ]
     },
     "execution_count": 12,
     "metadata": {},
     "output_type": "execute_result"
    }
   ],
   "source": [
    "doc = nlp(\"Here is some text to encode.\")\n",
    "doc"
   ]
  },
  {
   "cell_type": "code",
   "execution_count": 14,
   "id": "2ea3044d-bb0e-420f-a32d-3437896e6390",
   "metadata": {},
   "outputs": [
    {
     "data": {
      "text/plain": [
       "(7, 96)"
      ]
     },
     "execution_count": 14,
     "metadata": {},
     "output_type": "execute_result"
    }
   ],
   "source": [
    "doc.tensor.shape"
   ]
  },
  {
   "cell_type": "code",
   "execution_count": 15,
   "id": "6499fe46-ba0d-4d48-9523-b99eefc2ee48",
   "metadata": {},
   "outputs": [
    {
     "data": {
      "text/plain": [
       "array([ 4.2845517e-01,  2.0716856e+00, -5.6854564e-01, -1.4164957e+00,\n",
       "        2.7636120e+00,  1.2712100e+00,  8.3245289e-01,  2.5122435e+00,\n",
       "       -3.7793028e+00, -7.3004007e-01,  9.0821857e+00,  1.6326271e+00,\n",
       "       -4.9689140e+00,  2.8948987e+00,  7.5091714e-01,  1.6071113e+00,\n",
       "        1.6758429e+00, -1.6004571e+00, -2.0532000e+00, -2.7825546e+00,\n",
       "       -2.0497139e-01, -8.7526286e-01, -1.0981814e+00, -1.2076771e+00,\n",
       "       -2.6530426e+00, -1.4273437e+00, -2.1059201e+00, -2.4124856e+00,\n",
       "       -3.3352273e+00,  1.9563740e+00,  7.7312857e-01, -6.6265839e-01,\n",
       "       -3.9945140e+00, -3.0432887e+00, -2.5132744e+00,  1.0765145e+00,\n",
       "       -1.6529428e+00,  1.3278530e+00,  3.1464956e+00,  2.8807142e+00,\n",
       "        1.1837599e+00,  1.7849790e+00, -1.1852857e+00, -4.3203428e-01,\n",
       "       -3.0609043e+00,  3.2149942e+00,  4.8887787e+00, -2.3499000e+00,\n",
       "       -3.6770146e+00,  1.8782552e+00, -2.8511712e-01, -5.6754291e-01,\n",
       "        1.7457840e+00, -5.9228888e+00, -1.3169800e+00,  3.1983998e-01,\n",
       "        6.3512725e-01,  7.8794283e-01,  2.1741998e+00, -9.2285700e-02,\n",
       "        2.2252901e+00, -3.7748572e-01, -5.0018567e-01, -4.2506856e-01,\n",
       "        2.2286057e+00,  4.4539199e+00, -3.7758870e+00, -6.0822287e+00,\n",
       "       -1.7208147e-01,  1.9897871e+00, -1.4450471e+00, -8.2795864e-01,\n",
       "       -3.3118489e+00, -8.8141423e-01, -4.5050001e-01,  3.0170143e+00,\n",
       "       -5.3045998e+00,  2.6971729e+00, -3.9020660e+00,  4.8981428e-01,\n",
       "       -5.0516095e+00, -3.6470373e+00,  5.0190288e-01,  4.2767832e-01,\n",
       "        4.0606585e+00, -7.4664718e-01,  1.7192233e-01, -5.9578145e-01,\n",
       "        3.4526572e+00, -6.7564428e-01, -1.6010185e+00,  2.2662427e+00,\n",
       "        1.6443303e+00, -5.5517836e+00,  1.2230213e+00, -2.9661429e+00,\n",
       "       -7.3213405e-03, -1.0917071e+00, -1.3289713e+00, -2.1945541e+00,\n",
       "        2.8317144e+00,  2.7276742e+00,  4.0302701e+00,  5.0153905e-01,\n",
       "       -5.8414459e-01,  4.5950427e+00, -9.1993999e-01, -2.0838928e+00,\n",
       "       -5.7769573e-01, -3.9502844e-01,  2.8210256e+00,  3.5964180e-02,\n",
       "       -8.3618575e-01,  2.5651486e+00, -1.0139014e+00,  4.0039426e-01,\n",
       "        8.7201394e-02, -1.6102799e+00, -5.9608560e-02, -3.1415083e+00,\n",
       "       -5.2392159e+00, -1.8263851e+00, -1.5008858e-01,  2.3867829e+00,\n",
       "       -5.3558558e-01, -4.6128283e+00,  8.9561427e-01, -2.1706457e+00,\n",
       "        3.9359292e-01,  1.3496943e+00, -2.8016717e+00, -1.7336998e+00,\n",
       "        2.3426058e+00, -1.6309656e+00, -1.9219856e-01,  1.3781400e-01,\n",
       "       -1.7839900e+00, -8.7510002e-01,  4.8779998e+00, -3.3162999e+00,\n",
       "       -2.4943850e+00, -2.0526600e+00,  1.8896627e+00,  2.1987717e-01,\n",
       "        1.4333572e+00, -4.9249864e-01, -2.2189784e+00,  1.2954814e+00,\n",
       "       -7.8348583e-01,  2.2958355e+00, -1.9126856e+00,  4.1065211e+00,\n",
       "        2.3155943e-01, -3.6440149e-01, -1.3418056e+00,  3.5962424e-01,\n",
       "        5.4188428e+00,  2.2751286e+00, -1.7819456e+00, -1.1254915e+00,\n",
       "        1.8568571e-01, -6.9572496e-01,  1.2834287e-01,  2.1514356e+00,\n",
       "       -3.6505713e+00, -3.0517635e+00, -5.6359215e+00,  2.4374623e+00,\n",
       "        3.9326859e-01, -1.7771800e+00,  2.4301987e+00, -3.9213711e-01,\n",
       "        1.9020083e+00,  1.0397714e+00,  2.8708146e+00, -8.9452970e-01,\n",
       "       -4.8757148e-01,  1.0316744e+00, -3.5738142e+00, -4.1022286e+00,\n",
       "        8.1065708e-01,  8.8818580e-01,  2.7444859e+00, -2.9568141e+00,\n",
       "       -2.2804573e+00, -2.9243141e-01, -2.6115341e+00, -3.4832704e+00,\n",
       "        1.4758742e+00,  1.6952573e+00, -1.7172056e+00, -2.9558430e+00,\n",
       "       -1.7029858e+00, -1.2711143e+00, -8.7862843e-01,  2.7975383e+00,\n",
       "       -1.9218215e+00,  1.9531629e+00,  9.5093983e-01,  1.0903342e+00,\n",
       "       -2.6997871e+00, -1.1690428e+00, -1.5159758e+00, -3.4950631e+00,\n",
       "        2.1309412e+00,  3.5344854e-01, -2.5183856e+00,  1.8562010e-02,\n",
       "        1.8579811e+00, -9.3665734e-02,  1.5544459e+00,  1.8587384e-02,\n",
       "        2.0518143e+00,  3.5817871e+00,  1.2351558e+00,  2.2381270e+00,\n",
       "       -4.9698570e-01, -3.9687283e+00, -5.1147574e-01,  8.1931430e-01,\n",
       "       -1.9291657e+00, -1.3019285e-01,  2.8111534e+00, -1.4592870e+00,\n",
       "       -5.8067149e-01, -1.7944568e+00,  2.4739716e+00,  6.1328727e-01,\n",
       "        1.5892328e+00, -2.3928540e-02, -8.6257559e-01, -2.5038145e+00,\n",
       "       -1.7087139e-01,  3.1509910e-02,  1.3033570e+00,  3.4891930e+00,\n",
       "        1.6853428e-01,  6.6258568e-01,  9.4336265e-01, -5.0996000e-01,\n",
       "       -3.4584553e+00, -2.6486228e+00,  6.1631000e-01,  1.7255170e+00,\n",
       "        4.7492573e-01,  2.8852150e-01, -3.4746139e+00,  1.5324140e-01,\n",
       "        1.3186843e+00,  1.9402056e+00, -5.6544000e-01, -1.9968830e+00,\n",
       "       -3.0187488e+00, -2.6096857e+00,  6.8192357e-01, -2.7769716e+00,\n",
       "        2.8221726e+00, -3.5842828e-02, -1.2729872e+00,  1.1278685e+00,\n",
       "       -1.9516715e+00,  6.2637229e+00,  2.1992440e+00,  5.0052385e+00,\n",
       "        1.4672086e+00,  1.0041286e+00, -1.1818743e+00,  1.5801986e+00,\n",
       "       -3.7332809e+00, -1.4863430e+00,  7.2299856e-01, -1.9125141e+00,\n",
       "        1.8394002e-01, -3.7849858e+00,  1.2047285e+00, -1.1353285e+00,\n",
       "        7.5489718e-01,  1.4132044e+00, -2.4298375e+00,  3.6195998e+00,\n",
       "       -9.6908325e-01, -1.1958300e+00, -1.3659185e+00,  3.1376152e+00,\n",
       "        3.9313869e+00,  4.4326040e-01,  1.1587030e+00,  1.1537000e+00,\n",
       "       -1.2008716e-01,  2.0163629e+00,  2.1941872e+00, -7.9729146e-01,\n",
       "        2.4506571e+00, -7.9072571e-01,  3.3598137e-01,  3.8033143e-01,\n",
       "       -7.1294719e-01,  2.9816720e-01, -4.9623938e+00,  3.0065999e+00],\n",
       "      dtype=float32)"
      ]
     },
     "execution_count": 15,
     "metadata": {},
     "output_type": "execute_result"
    }
   ],
   "source": [
    "doc.has_vector\n",
    "doc.vector"
   ]
  },
  {
   "cell_type": "markdown",
   "id": "db9cd402-36ae-4a37-a115-a9d47ac558f9",
   "metadata": {},
   "source": [
    "This fails, it is a different shape (perhaps copy/paste oversight on my part?)"
   ]
  },
  {
   "cell_type": "code",
   "execution_count": 16,
   "id": "96ac635d-bf9f-481f-8bf3-7f0b0a642801",
   "metadata": {},
   "outputs": [
    {
     "ename": "AssertionError",
     "evalue": "",
     "output_type": "error",
     "traceback": [
      "\u001b[0;31m---------------------------------------------------------------------------\u001b[0m",
      "\u001b[0;31mAssertionError\u001b[0m                            Traceback (most recent call last)",
      "Cell \u001b[0;32mIn[16], line 1\u001b[0m\n\u001b[0;32m----> 1\u001b[0m \u001b[38;5;28;01massert\u001b[39;00m doc\u001b[38;5;241m.\u001b[39mtensor\u001b[38;5;241m.\u001b[39mshape \u001b[38;5;241m==\u001b[39m (\u001b[38;5;241m7\u001b[39m, \u001b[38;5;241m768\u001b[39m)  \u001b[38;5;66;03m# Always has one row per token\u001b[39;00m\n",
      "\u001b[0;31mAssertionError\u001b[0m: "
     ]
    }
   ],
   "source": [
    "assert doc.tensor.shape == (7, 768)  # Always has one row per token"
   ]
  },
  {
   "cell_type": "code",
   "execution_count": 17,
   "id": "4c68f5d5-aed4-4a65-b5f0-79bd582745b9",
   "metadata": {},
   "outputs": [
    {
     "ename": "AttributeError",
     "evalue": "[E046] Can't retrieve unregistered extension attribute 'trf_word_pieces_'. Did you forget to call the `set_extension` method?",
     "output_type": "error",
     "traceback": [
      "\u001b[0;31m---------------------------------------------------------------------------\u001b[0m",
      "\u001b[0;31mAttributeError\u001b[0m                            Traceback (most recent call last)",
      "Cell \u001b[0;32mIn[17], line 1\u001b[0m\n\u001b[0;32m----> 1\u001b[0m \u001b[43mdoc\u001b[49m\u001b[38;5;241;43m.\u001b[39;49m\u001b[43m_\u001b[49m\u001b[38;5;241;43m.\u001b[39;49m\u001b[43mtrf_word_pieces_\u001b[49m  \u001b[38;5;66;03m# String values of the wordpieces\u001b[39;00m\n\u001b[1;32m      2\u001b[0m doc\u001b[38;5;241m.\u001b[39m_\u001b[38;5;241m.\u001b[39mtrf_word_pieces  \u001b[38;5;66;03m# Wordpiece IDs (note: *not* spaCy's hash values!)\u001b[39;00m\n\u001b[1;32m      3\u001b[0m doc\u001b[38;5;241m.\u001b[39m_\u001b[38;5;241m.\u001b[39mtrf_alignment  \u001b[38;5;66;03m# Alignment between spaCy tokens and wordpieces\u001b[39;00m\n",
      "File \u001b[0;32m~/miniforge3/envs/wt2/lib/python3.10/site-packages/spacy/tokens/underscore.py:48\u001b[0m, in \u001b[0;36mUnderscore.__getattr__\u001b[0;34m(self, name)\u001b[0m\n\u001b[1;32m     46\u001b[0m \u001b[38;5;28;01mdef\u001b[39;00m \u001b[38;5;21m__getattr__\u001b[39m(\u001b[38;5;28mself\u001b[39m, name: \u001b[38;5;28mstr\u001b[39m) \u001b[38;5;241m-\u001b[39m\u001b[38;5;241m>\u001b[39m Any:\n\u001b[1;32m     47\u001b[0m     \u001b[38;5;28;01mif\u001b[39;00m name \u001b[38;5;129;01mnot\u001b[39;00m \u001b[38;5;129;01min\u001b[39;00m \u001b[38;5;28mself\u001b[39m\u001b[38;5;241m.\u001b[39m_extensions:\n\u001b[0;32m---> 48\u001b[0m         \u001b[38;5;28;01mraise\u001b[39;00m \u001b[38;5;167;01mAttributeError\u001b[39;00m(Errors\u001b[38;5;241m.\u001b[39mE046\u001b[38;5;241m.\u001b[39mformat(name\u001b[38;5;241m=\u001b[39mname))\n\u001b[1;32m     49\u001b[0m     default, method, getter, setter \u001b[38;5;241m=\u001b[39m \u001b[38;5;28mself\u001b[39m\u001b[38;5;241m.\u001b[39m_extensions[name]\n\u001b[1;32m     50\u001b[0m     \u001b[38;5;28;01mif\u001b[39;00m getter \u001b[38;5;129;01mis\u001b[39;00m \u001b[38;5;129;01mnot\u001b[39;00m \u001b[38;5;28;01mNone\u001b[39;00m:\n",
      "\u001b[0;31mAttributeError\u001b[0m: [E046] Can't retrieve unregistered extension attribute 'trf_word_pieces_'. Did you forget to call the `set_extension` method?"
     ]
    }
   ],
   "source": [
    "doc._.trf_word_pieces_  # String values of the wordpieces\n",
    "# doc._.trf_word_pieces  # Wordpiece IDs (note: *not* spaCy's hash values!)\n",
    "# doc._.trf_alignment  # Alignment between spaCy tokens and wordpieces"
   ]
  },
  {
   "cell_type": "code",
   "execution_count": null,
   "id": "46b37ff2-64b7-44d7-abaf-cdbd7e467e43",
   "metadata": {},
   "outputs": [],
   "source": [
    "# The raw transformer output has one row per wordpiece.\n",
    "assert len(doc._.trf_last_hidden_state) == len(doc._.trf_word_pieces)"
   ]
  },
  {
   "cell_type": "code",
   "execution_count": null,
   "id": "57396883-8b55-41fc-ae9f-bb56aa66a958",
   "metadata": {},
   "outputs": [],
   "source": [
    "# To avoid losing information, we calculate the doc.tensor attribute such that\n",
    "# the sum-pooled vectors match (apart from numeric error)\n",
    "assert_almost_equal(doc.tensor.sum(axis=0), doc._.trf_last_hidden_state.sum(axis=0), decimal=5)\n",
    "span = doc[2:4]"
   ]
  },
  {
   "cell_type": "code",
   "execution_count": null,
   "id": "9e07a7ce-b7d7-4ffa-afe3-16c6bae708b1",
   "metadata": {},
   "outputs": [],
   "source": [
    "# Access the tensor from Span elements (especially helpful for sentences)\n",
    "assert numpy.array_equal(span.tensor, doc.tensor[2:4])\n",
    "# .vector and .similarity use the transformer outputs\n",
    "apple1 = nlp(\"Apple shares rose on the news.\")\n",
    "apple2 = nlp(\"Apple sold fewer iPhones this quarter.\")\n",
    "apple3 = nlp(\"Apple pie is delicious.\")\n",
    "print(apple1[0].similarity(apple2[0]))  # 0.73428553\n",
    "print(apple1[0].similarity(apple3[0]))  # 0.43365782"
   ]
  }
 ],
 "metadata": {
  "kernelspec": {
   "display_name": "wt2",
   "language": "python",
   "name": "wt2"
  },
  "language_info": {
   "codemirror_mode": {
    "name": "ipython",
    "version": 3
   },
   "file_extension": ".py",
   "mimetype": "text/x-python",
   "name": "python",
   "nbconvert_exporter": "python",
   "pygments_lexer": "ipython3",
   "version": "3.10.12"
  }
 },
 "nbformat": 4,
 "nbformat_minor": 5
}
