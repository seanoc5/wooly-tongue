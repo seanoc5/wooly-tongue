{
 "cells": [
  {
   "cell_type": "markdown",
   "id": "cabe2820-d3a1-4ae6-b5e4-a08a95aef0f1",
   "metadata": {},
   "source": [
    "# Spacy sentence transformers demo en_core_web_md\n",
    "\n",
    "https://realpython.com/natural-language-processing-spacy-python/\n"
   ]
  },
  {
   "cell_type": "code",
   "execution_count": 1,
   "id": "487db742-47d2-4111-9604-d8cf4edbfdca",
   "metadata": {
    "ExecuteTime": {
     "end_time": "2024-06-07T00:23:14.847813Z",
     "start_time": "2024-06-07T00:23:12.853798Z"
    }
   },
   "outputs": [],
   "source": [
    "import spacy\n",
    "import os"
   ]
  },
  {
   "cell_type": "code",
   "execution_count": 2,
   "id": "9917cd07-9c28-4640-bee3-d80b99d0ac1c",
   "metadata": {
    "ExecuteTime": {
     "end_time": "2024-06-07T00:23:17.098779Z",
     "start_time": "2024-06-07T00:23:14.848597Z"
    }
   },
   "outputs": [],
   "source": [
    "nlp = spacy.load(\"en_core_web_md\")"
   ]
  },
  {
   "cell_type": "code",
   "execution_count": 3,
   "id": "229e3a71-76b1-4cda-9160-80d498130018",
   "metadata": {
    "ExecuteTime": {
     "end_time": "2024-06-07T00:23:17.115965Z",
     "start_time": "2024-06-07T00:23:17.099317Z"
    }
   },
   "outputs": [
    {
     "data": {
      "text/plain": [
       "You can use different data classes in Haystack to carry the data through the system. The data classes are mostly likely to appear as inputs or outputs of your Pipelines.\n",
       "\n",
       "Document class contains information to be carried through the Pipeline. It can be text, metadata, tables, or binary data. Documents can be written into Document Stores but also written and read by other components.\n",
       "\n",
       "Answer class holds not only the answer generated in a Pipeline but also the originating query and metadata. "
      ]
     },
     "execution_count": 3,
     "metadata": {},
     "output_type": "execute_result"
    }
   ],
   "source": [
    "doc = nlp(\"\"\"You can use different data classes in Haystack to carry the data through the system. The data classes are mostly likely to appear as inputs or outputs of your Pipelines.\n",
    "\n",
    "Document class contains information to be carried through the Pipeline. It can be text, metadata, tables, or binary data. Documents can be written into Document Stores but also written and read by other components.\n",
    "\n",
    "Answer class holds not only the answer generated in a Pipeline but also the originating query and metadata. \"\"\")\n",
    "\n",
    "doc"
   ]
  },
  {
   "cell_type": "code",
   "execution_count": 4,
   "id": "8bac4b8f-45ae-49bc-8abc-7085ef476431",
   "metadata": {
    "ExecuteTime": {
     "end_time": "2024-06-07T00:23:17.119347Z",
     "start_time": "2024-06-07T00:23:17.116563Z"
    }
   },
   "outputs": [
    {
     "data": {
      "text/plain": [
       "['You',\n",
       " 'can',\n",
       " 'use',\n",
       " 'different',\n",
       " 'data',\n",
       " 'classes',\n",
       " 'in',\n",
       " 'Haystack',\n",
       " 'to',\n",
       " 'carry']"
      ]
     },
     "execution_count": 4,
     "metadata": {},
     "output_type": "execute_result"
    }
   ],
   "source": [
    "[token.text for token in doc[:10]]"
   ]
  },
  {
   "cell_type": "code",
   "execution_count": 4,
   "id": "9bf6fb50-8f6b-452d-8a8b-bdd14227698f",
   "metadata": {
    "ExecuteTime": {
     "end_time": "2024-06-07T00:23:17.121544Z",
     "start_time": "2024-06-07T00:23:17.120313Z"
    }
   },
   "outputs": [],
   "source": []
  }
 ],
 "metadata": {
  "kernelspec": {
   "display_name": "wt2",
   "language": "python",
   "name": "wt2"
  },
  "language_info": {
   "codemirror_mode": {
    "name": "ipython",
    "version": 3
   },
   "file_extension": ".py",
   "mimetype": "text/x-python",
   "name": "python",
   "nbconvert_exporter": "python",
   "pygments_lexer": "ipython3",
   "version": "3.10.12"
  }
 },
 "nbformat": 4,
 "nbformat_minor": 5
}
