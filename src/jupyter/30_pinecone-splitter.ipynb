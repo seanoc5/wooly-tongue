{
 "cells": [
  {
   "cell_type": "markdown",
   "id": "da883895-a035-417b-b1e7-a0e406e055e3",
   "metadata": {},
   "source": [
    "# 30 Pinecone and Haystack with splitter\n",
    "Translate to Pinecone vector db...\n",
    "\n",
    "https://haystack.deepset.ai/tutorials/30_file_type_preprocessing_index_pipeline\n",
    "\n",
    "??Working??"
   ]
  },
  {
   "cell_type": "code",
   "id": "e644503f-0fdc-4a21-8458-857e81d68a34",
   "metadata": {
    "ExecuteTime": {
     "end_time": "2024-04-23T18:38:40.850747Z",
     "start_time": "2024-04-23T18:38:39.808973Z"
    }
   },
   "source": [
    "import os\n",
    "from pathlib import Path\n",
    "from getpass import getpass\n",
    "\n",
    "from haystack.document_stores.in_memory import InMemoryDocumentStore"
   ],
   "outputs": [],
   "execution_count": 1
  },
  {
   "cell_type": "code",
   "id": "35f21492-d505-40be-82d1-3ed9c43891ab",
   "metadata": {
    "ExecuteTime": {
     "end_time": "2024-04-23T18:38:41.804215Z",
     "start_time": "2024-04-23T18:38:41.278087Z"
    }
   },
   "source": [
    "from haystack.components.writers import DocumentWriter\n",
    "from haystack.components.converters import MarkdownToDocument, PyPDFToDocument, TextFileToDocument\n",
    "from haystack.components.preprocessors import DocumentSplitter, DocumentCleaner\n",
    "from haystack.components.routers import FileTypeRouter\n",
    "from haystack.components.joiners import DocumentJoiner\n",
    "from haystack.components.embedders import SentenceTransformersDocumentEmbedder\n",
    "from haystack import Pipeline\n",
    "# from haystack.document_stores.in_memory import InMemoryDocumentStore"
   ],
   "outputs": [],
   "execution_count": 2
  },
  {
   "cell_type": "code",
   "id": "94353649-f7dc-4ac8-9588-2faea8ea307a",
   "metadata": {
    "ExecuteTime": {
     "end_time": "2024-04-23T18:38:43.288540Z",
     "start_time": "2024-04-23T18:38:43.286138Z"
    }
   },
   "source": [
    "# !pip install markdown-it-py mdit_plain pypdf"
   ],
   "outputs": [],
   "execution_count": 3
  },
  {
   "cell_type": "code",
   "id": "2330414b-164b-4f12-94c1-e0f2c598507f",
   "metadata": {
    "ExecuteTime": {
     "end_time": "2024-04-23T18:38:44.832989Z",
     "start_time": "2024-04-23T18:38:44.192999Z"
    }
   },
   "source": [
    "from haystack import Document\n",
    "from haystack_integrations.document_stores.pinecone import PineconeDocumentStore"
   ],
   "outputs": [],
   "execution_count": 4
  },
  {
   "cell_type": "code",
   "id": "8214cb75-6c3a-405a-bd77-90f98de75668",
   "metadata": {
    "ExecuteTime": {
     "end_time": "2024-04-23T03:12:03.140697Z",
     "start_time": "2024-04-23T03:11:57.794837Z"
    }
   },
   "source": [
    "os.environ[\"HF_API_TOKEN\"] = getpass(\"Enter Hugging Face API key:\")"
   ],
   "outputs": [],
   "execution_count": 4
  },
  {
   "cell_type": "code",
   "id": "b5ece069-0a47-4e0f-9d20-18609e80b721",
   "metadata": {
    "ExecuteTime": {
     "end_time": "2024-04-23T03:12:09.158817Z",
     "start_time": "2024-04-23T03:12:05.791776Z"
    }
   },
   "source": [
    "pak = \"PINECONE_API_KEY\"\n",
    "if pak in os.environ:\n",
    "    print(\"Found PINECONE_API_KEY in os.environ, no need to prompt\")\n",
    "else: \n",
    "    os.environ[\"PINECONE_API_KEY\"]= getpass(\"Enter PINECONE API key:\")\n",
    "\n",
    "#os.environ[\"PINECONE_API_KEY\"]"
   ],
   "outputs": [],
   "execution_count": 5
  },
  {
   "cell_type": "code",
   "id": "21129680-0ab8-4e05-9b70-1730cb60421c",
   "metadata": {
    "ExecuteTime": {
     "end_time": "2024-04-23T03:12:14.147457Z",
     "start_time": "2024-04-23T03:12:11.711239Z"
    }
   },
   "source": [
    "# Make sure you have the PINECONE_API_KEY environment variable set\n",
    "document_store = PineconeDocumentStore(\n",
    "\t\tenvironment=\"gcp-starter\",\n",
    "\t\tindex=\"myidx\",\n",
    "\t\tnamespace=\"myns\",\n",
    "\t\tdimension=5\n",
    ")\n",
    "\n",
    "document_store.write_documents([\n",
    "    Document(content=\"This is first\", embedding=[0.2]*5), \n",
    "    Document(content=\"This is second\", embedding=[0.1, 0.2, 0.3, 0.4, 0.5])\n",
    "    ])"
   ],
   "outputs": [
    {
     "data": {
      "text/plain": [
       "Upserted vectors:   0%|          | 0/2 [00:00<?, ?it/s]"
      ],
      "application/vnd.jupyter.widget-view+json": {
       "version_major": 2,
       "version_minor": 0,
       "model_id": "5d0f73c7257b457b87b519a0b1b3f313"
      }
     },
     "metadata": {},
     "output_type": "display_data"
    },
    {
     "data": {
      "text/plain": [
       "2"
      ]
     },
     "execution_count": 6,
     "metadata": {},
     "output_type": "execute_result"
    }
   ],
   "execution_count": 6
  },
  {
   "cell_type": "code",
   "id": "139a4561-cf5f-48c7-8ea7-96b0728a0965",
   "metadata": {
    "ExecuteTime": {
     "end_time": "2024-04-23T03:12:17.620744Z",
     "start_time": "2024-04-23T03:12:17.414312Z"
    }
   },
   "source": [
    "print(document_store.count_documents())"
   ],
   "outputs": [
    {
     "name": "stdout",
     "output_type": "stream",
     "text": [
      "2\n"
     ]
    }
   ],
   "execution_count": 7
  },
  {
   "cell_type": "code",
   "id": "2cce5c68-e95d-4ccd-84c9-7007759ff9b4",
   "metadata": {
    "ExecuteTime": {
     "end_time": "2024-04-23T03:12:18.727520Z",
     "start_time": "2024-04-23T03:12:18.723297Z"
    }
   },
   "source": [
    "document_store = InMemoryDocumentStore()\n",
    "file_type_router = FileTypeRouter(mime_types=[\"text/plain\", \"application/pdf\", \"text/markdown\"])\n",
    "text_file_converter = TextFileToDocument()\n",
    "markdown_converter = MarkdownToDocument()\n",
    "pdf_converter = PyPDFToDocument()\n",
    "document_joiner = DocumentJoiner()"
   ],
   "outputs": [],
   "execution_count": 8
  },
  {
   "cell_type": "code",
   "id": "9bfd1a0b-ee74-4066-a180-b89d237c399d",
   "metadata": {
    "ExecuteTime": {
     "end_time": "2024-04-23T03:12:19.538129Z",
     "start_time": "2024-04-23T03:12:19.535997Z"
    }
   },
   "source": [
    "document_cleaner = DocumentCleaner()\n",
    "document_splitter = DocumentSplitter(split_by=\"word\", split_length=150, split_overlap=50)"
   ],
   "outputs": [],
   "execution_count": 9
  },
  {
   "cell_type": "code",
   "id": "d838981c-4a8b-4f8f-978f-7dd92d4c44f3",
   "metadata": {
    "ExecuteTime": {
     "end_time": "2024-04-23T03:12:20.168754Z",
     "start_time": "2024-04-23T03:12:20.165900Z"
    }
   },
   "source": [
    "document_embedder = SentenceTransformersDocumentEmbedder(model=\"sentence-transformers/all-MiniLM-L6-v2\")\n",
    "document_writer = DocumentWriter(document_store)"
   ],
   "outputs": [],
   "execution_count": 10
  },
  {
   "cell_type": "code",
   "id": "1e4b677d-08ac-4731-8d98-a2475695be48",
   "metadata": {
    "ExecuteTime": {
     "end_time": "2024-04-23T03:12:20.854901Z",
     "start_time": "2024-04-23T03:12:20.851777Z"
    }
   },
   "source": [
    "preprocessing_pipeline = Pipeline()\n",
    "preprocessing_pipeline.add_component(instance=file_type_router, name=\"file_type_router\")\n",
    "preprocessing_pipeline.add_component(instance=text_file_converter, name=\"text_file_converter\")\n",
    "preprocessing_pipeline.add_component(instance=markdown_converter, name=\"markdown_converter\")\n",
    "preprocessing_pipeline.add_component(instance=pdf_converter, name=\"pypdf_converter\")\n",
    "preprocessing_pipeline.add_component(instance=document_joiner, name=\"document_joiner\")\n",
    "preprocessing_pipeline.add_component(instance=document_cleaner, name=\"document_cleaner\")\n",
    "preprocessing_pipeline.add_component(instance=document_splitter, name=\"document_splitter\")\n",
    "preprocessing_pipeline.add_component(instance=document_embedder, name=\"document_embedder\")\n",
    "preprocessing_pipeline.add_component(instance=document_writer, name=\"document_writer\")"
   ],
   "outputs": [],
   "execution_count": 11
  },
  {
   "cell_type": "code",
   "id": "a825d755-16dc-45e5-b197-301b8ac738ac",
   "metadata": {
    "ExecuteTime": {
     "end_time": "2024-04-23T03:12:23.977282Z",
     "start_time": "2024-04-23T03:12:23.972645Z"
    }
   },
   "source": [
    "preprocessing_pipeline.connect(\"file_type_router.text/plain\", \"text_file_converter.sources\")\n",
    "preprocessing_pipeline.connect(\"file_type_router.application/pdf\", \"pypdf_converter.sources\")\n",
    "preprocessing_pipeline.connect(\"file_type_router.text/markdown\", \"markdown_converter.sources\")\n",
    "preprocessing_pipeline.connect(\"text_file_converter\", \"document_joiner\")\n",
    "preprocessing_pipeline.connect(\"pypdf_converter\", \"document_joiner\")\n",
    "preprocessing_pipeline.connect(\"markdown_converter\", \"document_joiner\")\n",
    "preprocessing_pipeline.connect(\"document_joiner\", \"document_cleaner\")\n",
    "preprocessing_pipeline.connect(\"document_cleaner\", \"document_splitter\")\n",
    "preprocessing_pipeline.connect(\"document_splitter\", \"document_embedder\")\n",
    "preprocessing_pipeline.connect(\"document_embedder\", \"document_writer\")"
   ],
   "outputs": [
    {
     "data": {
      "text/plain": [
       "<haystack.core.pipeline.pipeline.Pipeline object at 0x7f2f8efba920>\n",
       "🚅 Components\n",
       "  - file_type_router: FileTypeRouter\n",
       "  - text_file_converter: TextFileToDocument\n",
       "  - markdown_converter: MarkdownToDocument\n",
       "  - pypdf_converter: PyPDFToDocument\n",
       "  - document_joiner: DocumentJoiner\n",
       "  - document_cleaner: DocumentCleaner\n",
       "  - document_splitter: DocumentSplitter\n",
       "  - document_embedder: SentenceTransformersDocumentEmbedder\n",
       "  - document_writer: DocumentWriter\n",
       "🛤️ Connections\n",
       "  - file_type_router.text/plain -> text_file_converter.sources (List[Path])\n",
       "  - file_type_router.application/pdf -> pypdf_converter.sources (List[Path])\n",
       "  - file_type_router.text/markdown -> markdown_converter.sources (List[Path])\n",
       "  - text_file_converter.documents -> document_joiner.documents (List[Document])\n",
       "  - markdown_converter.documents -> document_joiner.documents (List[Document])\n",
       "  - pypdf_converter.documents -> document_joiner.documents (List[Document])\n",
       "  - document_joiner.documents -> document_cleaner.documents (List[Document])\n",
       "  - document_cleaner.documents -> document_splitter.documents (List[Document])\n",
       "  - document_splitter.documents -> document_embedder.documents (List[Document])\n",
       "  - document_embedder.documents -> document_writer.documents (List[Document])"
      ]
     },
     "execution_count": 12,
     "metadata": {},
     "output_type": "execute_result"
    }
   ],
   "execution_count": 12
  },
  {
   "cell_type": "code",
   "id": "95d7457b-5429-4054-b973-4574b0129e81",
   "metadata": {
    "ExecuteTime": {
     "end_time": "2024-04-22T21:46:47.755289Z",
     "start_time": "2024-04-22T21:46:43.939561Z"
    }
   },
   "source": [
    "from pathlib import Path\n",
    "# data_dir = \"/opt/data/text\"\n",
    "# preprocessing_pipeline.run({\"file_type_router\": {\"sources\": list(Path(data_dir).glob(\"**/*\"))}})\n",
    "data_dir = \"/opt/data/samples\"\n",
    "preprocessing_pipeline.run({\"file_type_router\": {\"sources\": list(Path(data_dir).glob(\"**/*\"))}})"
   ],
   "outputs": [
    {
     "name": "stderr",
     "output_type": "stream",
     "text": [
      "/home/sean/miniforge3/envs/pinecode-haystack-env/lib/python3.10/site-packages/sentence_transformers/SentenceTransformer.py:93: FutureWarning: The `use_auth_token` argument is deprecated and will be removed in v3 of SentenceTransformers.\n",
      "  warnings.warn(\n",
      "Could not read /opt/data/samples/COMPREHENSIVE_ANNUAL_FINANCIAL_REPORT_CAFR_2017-18.pdf and convert it to Document, skipping. cryptography>=3.1 is required for AES algorithm\n"
     ]
    },
    {
     "data": {
      "text/plain": [
       "Batches:   0%|          | 0/9 [00:00<?, ?it/s]"
      ],
      "application/vnd.jupyter.widget-view+json": {
       "version_major": 2,
       "version_minor": 0,
       "model_id": "990288f590b8418cbbc2cfa6c9eb764d"
      }
     },
     "metadata": {},
     "output_type": "display_data"
    },
    {
     "data": {
      "text/plain": [
       "{'document_writer': {'documents_written': 258}}"
      ]
     },
     "execution_count": 14,
     "metadata": {},
     "output_type": "execute_result"
    }
   ],
   "execution_count": 14
  },
  {
   "metadata": {},
   "cell_type": "code",
   "outputs": [],
   "execution_count": null,
   "source": "",
   "id": "96ef895cd99b55aa"
  },
  {
   "cell_type": "code",
   "id": "fd8b63b8-7fcb-434e-802d-d8954e2f6ba6",
   "metadata": {
    "ExecuteTime": {
     "end_time": "2024-04-22T21:47:00.195361Z",
     "start_time": "2024-04-22T21:47:00.190799Z"
    }
   },
   "source": [
    "import os\n",
    "from getpass import getpass\n",
    "\n",
    "if \"HF_API_TOKEN\" not in os.environ:\n",
    "    os.environ[\"HF_API_TOKEN\"] = getpass(\"Enter Hugging Face token:\")"
   ],
   "outputs": [],
   "execution_count": 15
  },
  {
   "cell_type": "code",
   "id": "ec3f55ea-84d0-4643-9c67-5719a6190520",
   "metadata": {
    "ExecuteTime": {
     "end_time": "2024-04-22T21:47:43.763347Z",
     "start_time": "2024-04-22T21:47:43.748598Z"
    }
   },
   "source": [
    "from haystack.components.embedders import SentenceTransformersTextEmbedder\n",
    "from haystack.components.retrievers.in_memory import InMemoryEmbeddingRetriever\n",
    "from haystack.components.builders import PromptBuilder\n",
    "from haystack.components.generators import HuggingFaceTGIGenerator, HuggingFaceLocalGenerator\n",
    "\n",
    "template = \"\"\"\n",
    "Answer the questions based on the given context.\n",
    "\n",
    "Context:\n",
    "{% for document in documents %}\n",
    "    {{ document.content }}\n",
    "{% endfor %}\n",
    "\n",
    "Question: {{ question }}\n",
    "Answer:\n",
    "\"\"\"\n",
    "pipe = Pipeline()\n",
    "pipe.add_component(\"embedder\", SentenceTransformersTextEmbedder(model=\"sentence-transformers/all-MiniLM-L6-v2\"))\n",
    "pipe.add_component(\"retriever\", InMemoryEmbeddingRetriever(document_store=document_store))\n",
    "pipe.add_component(\"prompt_builder\", PromptBuilder(template=template))\n",
    "\n",
    "generator = HuggingFaceLocalGenerator(model=\"google/flan-t5-large\",\n",
    "                                      task=\"text2text-generation\",\n",
    "                                      generation_kwargs={\n",
    "                                        \"max_new_tokens\": 100,\n",
    "                                        \"temperature\": 0.9,\n",
    "                                        })\n",
    "# pipe.add_component(\"llm\", HuggingFaceTGIGenerator(\"mistralai/Mistral-7B-Instruct-v0.1\"))\n",
    "pipe.add_component(\"llm\", generator)\n",
    "\n",
    "pipe.connect(\"embedder.embedding\", \"retriever.query_embedding\")\n",
    "pipe.connect(\"retriever\", \"prompt_builder.documents\")\n",
    "pipe.connect(\"prompt_builder\", \"llm\")\n"
   ],
   "outputs": [
    {
     "data": {
      "text/plain": [
       "<haystack.core.pipeline.pipeline.Pipeline object at 0x7f420731bc70>\n",
       "🚅 Components\n",
       "  - embedder: SentenceTransformersTextEmbedder\n",
       "  - retriever: InMemoryEmbeddingRetriever\n",
       "  - prompt_builder: PromptBuilder\n",
       "  - llm: HuggingFaceLocalGenerator\n",
       "🛤️ Connections\n",
       "  - embedder.embedding -> retriever.query_embedding (List[float])\n",
       "  - retriever.documents -> prompt_builder.documents (List[Document])\n",
       "  - prompt_builder.prompt -> llm.prompt (str)"
      ]
     },
     "execution_count": 17,
     "metadata": {},
     "output_type": "execute_result"
    }
   ],
   "execution_count": 17
  },
  {
   "cell_type": "code",
   "id": "90de64b2-fa5c-4789-8452-6d149c60990e",
   "metadata": {
    "ExecuteTime": {
     "end_time": "2024-04-22T21:50:01.781741Z",
     "start_time": "2024-04-22T21:50:01.273682Z"
    }
   },
   "source": [
    "question = (\n",
    "    # \"What topics are discussed in jacksonville politics?\"\n",
    "    # \"What are major tax spending items in jacksonville?\"\n",
    "    \"What are major topics of concern for charter schools?\"\n",
    ")\n",
    "\n",
    "foo = pipe.run(\n",
    "    {\n",
    "        \"embedder\": {\"text\": question},\n",
    "        \"prompt_builder\": {\"question\": question},\n",
    "        \"llm\": {\"generation_kwargs\": {\"max_new_tokens\": 350}},\n",
    "    }\n",
    ")\n"
   ],
   "outputs": [
    {
     "data": {
      "text/plain": [
       "Batches:   0%|          | 0/1 [00:00<?, ?it/s]"
      ],
      "application/vnd.jupyter.widget-view+json": {
       "version_major": 2,
       "version_minor": 0,
       "model_id": "556a236f798c4aeba116f2068a6d4e5f"
      }
     },
     "metadata": {},
     "output_type": "display_data"
    }
   ],
   "execution_count": 23
  },
  {
   "cell_type": "code",
   "id": "33df726b-1d0f-4e62-82a0-71a79c85d8f5",
   "metadata": {
    "ExecuteTime": {
     "end_time": "2024-04-22T21:50:02.983486Z",
     "start_time": "2024-04-22T21:50:02.980233Z"
    }
   },
   "source": "print(f\"Foo: {foo}\")",
   "outputs": [
    {
     "name": "stdout",
     "output_type": "stream",
     "text": [
      "Foo: {'llm': {'replies': ['Lack of access to affordable facilities']}}\n"
     ]
    }
   ],
   "execution_count": 24
  },
  {
   "metadata": {},
   "cell_type": "code",
   "outputs": [],
   "execution_count": null,
   "source": "",
   "id": "6238997ce86ab802"
  }
 ],
 "metadata": {
  "kernelspec": {
   "display_name": "pinecode-haystack-env",
   "language": "python",
   "name": "pinecode-haystack-env"
  },
  "language_info": {
   "codemirror_mode": {
    "name": "ipython",
    "version": 3
   },
   "file_extension": ".py",
   "mimetype": "text/x-python",
   "name": "python",
   "nbconvert_exporter": "python",
   "pygments_lexer": "ipython3",
   "version": "3.10.0"
  }
 },
 "nbformat": 4,
 "nbformat_minor": 5
}
