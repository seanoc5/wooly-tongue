{
 "cells": [
  {
   "cell_type": "code",
   "execution_count": 1,
   "metadata": {
    "pycharm": {
     "name": "#%%\n"
    }
   },
   "outputs": [
    {
     "name": "stdout",
     "output_type": "stream",
     "text": [
      "Marking com.lucidworks.spark:spark-solr:3.6.0 for download\n",
      "-> Failed to resolve org.restlet.jee:org.restlet:2.3.0\n",
      "    -> not found: /tmp/toree-tmp-dir1641571159701781682/toree_add_deps/cache/org.restlet.jee/org.restlet/ivy-2.3.0.xml\n",
      "    -> not found: https://repo1.maven.org/maven2/org/restlet/jee/org.restlet/2.3.0/org.restlet-2.3.0.pom\n",
      "-> Failed to resolve org.restlet.jee:org.restlet.ext.servlet:2.3.0\n",
      "    -> not found: /tmp/toree-tmp-dir1641571159701781682/toree_add_deps/cache/org.restlet.jee/org.restlet.ext.servlet/ivy-2.3.0.xml\n",
      "    -> not found: https://repo1.maven.org/maven2/org/restlet/jee/org.restlet.ext.servlet/2.3.0/org.restlet.ext.servlet-2.3.0.pom\n",
      "Obtained 388 files\n"
     ]
    }
   ],
   "source": [
    "%adddeps com.lucidworks.spark spark-solr 3.6.0 --transitive"
   ]
  },
  {
   "cell_type": "code",
   "execution_count": 13,
   "metadata": {
    "pycharm": {
     "name": "#%%\n"
    }
   },
   "outputs": [
    {
     "ename": "Compile Error",
     "evalue": "<console>:61: error: stable identifier required, but this.$line17$read.spark.sqlContext.implicits found.\n       import spark.sqlContext.implicits._\n                               ^\n",
     "output_type": "error",
     "traceback": []
    }
   ],
   "source": [
    "import org.apache.solr.client.solrj.SolrQuery\n",
    "import org.apache.solr.common.SolrDocument\n",
    "\n",
    "import com.lucidworks.spark._\n",
    "import com.lucidworks.spark.query.StreamingResultsIterator\n",
    "import com.lucidworks.spark.util.QueryConstants._\n",
    "import com.lucidworks.spark.util.{SolrQuerySupport, SolrSupport}\n",
    "import com.lucidworks.spark.rdd.SelectSolrRDD\n",
    "//import org.apache.spark.sql.functions._\n",
    "import spark.sqlContext.implicits._"
   ]
  },
  {
   "cell_type": "code",
   "execution_count": 14,
   "metadata": {
    "pycharm": {
     "name": "#%%\n"
    }
   },
   "outputs": [
    {
     "data": {
      "text/plain": [
       "[key: string, value: string]"
      ]
     },
     "execution_count": 14,
     "metadata": {},
     "output_type": "execute_result"
    }
   ],
   "source": [
    "spark.sql(\"set spark.sql.caseSensitive=true\")"
   ]
  },
  {
   "cell_type": "code",
   "execution_count": 15,
   "metadata": {
    "pycharm": {
     "name": "#%%\n"
    }
   },
   "outputs": [
    {
     "data": {
      "text/plain": [
       "q = term:po*\n",
       "optionsVocab = Map(zkhost -> 192.168.1.43:9983, collection -> vocabulary, query -> term:po*, filters -> +type:kevins,+capitalized_b:false,+phrase_b:false,-tags:skip, fields -> *)\n"
      ]
     },
     "metadata": {},
     "output_type": "display_data"
    },
    {
     "data": {
      "text/plain": [
       "Map(zkhost -> 192.168.1.43:9983, collection -> vocabulary, query -> term:po*, filters -> +type:kevins,+capitalized_b:false,+phrase_b:false,-tags:skip, fields -> *)"
      ]
     },
     "execution_count": 15,
     "metadata": {},
     "output_type": "execute_result"
    }
   ],
   "source": [
    "val q = \"term:po*\"\n",
    "val optionsVocab = Map(\n",
    "    \"collection\" -> \"vocabulary\",\n",
    "    \"zkhost\" -> \"192.168.1.43:9983\",\n",
    "    \"fields\" -> \"*\",\n",
    "   \"filters\" -> \"+type:kevins,+capitalized_b:false,+phrase_b:false,-tags:skip\",\n",
    "   \"query\" -> q\n",
    ")"
   ]
  },
  {
   "cell_type": "code",
   "execution_count": 16,
   "metadata": {
    "pycharm": {
     "name": "#%%\n"
    }
   },
   "outputs": [
    {
     "data": {
      "text/plain": [
       "dfVocabulary = [capitalized_b: boolean, count_i: bigint ... 22 more fields]\n"
      ]
     },
     "metadata": {},
     "output_type": "display_data"
    },
    {
     "data": {
      "text/plain": [
       "1061"
      ]
     },
     "execution_count": 16,
     "metadata": {},
     "output_type": "execute_result"
    }
   ],
   "source": [
    "val dfVocabulary = spark.read.format(\"solr\").options(optionsVocab).load()\n",
    "dfVocabulary.count"
   ]
  },
  {
   "cell_type": "code",
   "execution_count": 17,
   "metadata": {
    "pycharm": {
     "name": "#%%\n"
    }
   },
   "outputs": [
    {
     "name": "stdout",
     "output_type": "stream",
     "text": [
      "+--------------+----------+----+---------------+--------------------+\n",
      "|            id|      term|tags|           type|        posLabels_ss|\n",
      "+--------------+----------+----+---------------+--------------------+\n",
      "|        kwl-po|        po|null|kevins wordlist|              [Noun]|\n",
      "|       kwl-poa|       poa|null|kevins wordlist|              [Noun]|\n",
      "|   kwl-poaceae|   poaceae|null|kevins wordlist|              [Noun]|\n",
      "|     kwl-poach|     poach|null|kevins wordlist|[Verb (usu partic...|\n",
      "|   kwl-poacher|   poacher|null|kevins wordlist|              [Noun]|\n",
      "|kwl-poachiness|poachiness|null|kevins wordlist|              [Noun]|\n",
      "|  kwl-poaching|  poaching|null|kevins wordlist|              [Noun]|\n",
      "|       kwl-pob|       pob|null|kevins wordlist|              [Noun]|\n",
      "|kwl-pocahontas|pocahontas|null|kevins wordlist|              [Noun]|\n",
      "|   kwl-pochade|   pochade|null|kevins wordlist|              [Noun]|\n",
      "|  kwl-pochades|  pochades|null|kevins wordlist|            [Plural]|\n",
      "|   kwl-pochard|   pochard|null|kevins wordlist|              [Noun]|\n",
      "|  kwl-pochette|  pochette|null|kevins wordlist|              [Noun]|\n",
      "|    kwl-pocill|    pocill|null|kevins wordlist|              [Noun]|\n",
      "|      kwl-pock|      pock|null|kevins wordlist|[Noun,Verb (usu p...|\n",
      "|    kwl-pocket|    pocket|null|kevins wordlist|[Noun,Verb (trans...|\n",
      "|kwl-pocketbook|pocketbook|null|kevins wordlist|              [Noun]|\n",
      "|kwl-pocketcomb|pocketcomb|null|kevins wordlist|              [Noun]|\n",
      "| kwl-pocketful| pocketful|null|kevins wordlist|              [Noun]|\n",
      "|kwl-pocketfuls|pocketfuls|null|kevins wordlist|            [Plural]|\n",
      "+--------------+----------+----+---------------+--------------------+\n",
      "only showing top 20 rows\n",
      "\n"
     ]
    }
   ],
   "source": [
    "dfVocabulary.select(\"id\", \"term\", \"tags\", \"type\", \"posLabels_ss\").sort(\"term\").show()"
   ]
  },
  {
   "cell_type": "code",
   "execution_count": 18,
   "metadata": {
    "pycharm": {
     "name": "#%%\n"
    }
   },
   "outputs": [
    {
     "data": {
      "text/plain": [
       "1061"
      ]
     },
     "execution_count": 18,
     "metadata": {},
     "output_type": "execute_result"
    }
   ],
   "source": [
    "dfVocabulary.count()"
   ]
  },
  {
   "cell_type": "code",
   "execution_count": 19,
   "metadata": {
    "pycharm": {
     "name": "#%%\n"
    }
   },
   "outputs": [
    {
     "name": "stdout",
     "output_type": "stream",
     "text": [
      "+----------------------------------------------+\n",
      "|posLabels_ss                                  |\n",
      "+----------------------------------------------+\n",
      "|[Noun]                                        |\n",
      "|[Noun]                                        |\n",
      "|[Verb (usu participle),Verb (intransitive)]   |\n",
      "|[Noun]                                        |\n",
      "|[Noun]                                        |\n",
      "|[Noun]                                        |\n",
      "|[Plural]                                      |\n",
      "|[Noun]                                        |\n",
      "|[Noun,Verb (usu participle)]                  |\n",
      "|[Noun,Verb (transitive),Verb (usu participle)]|\n",
      "|[Noun]                                        |\n",
      "|[Noun]                                        |\n",
      "|[Plural]                                      |\n",
      "|[Noun]                                        |\n",
      "|[Noun,Adjective]                              |\n",
      "|[Noun]                                        |\n",
      "|[Noun]                                        |\n",
      "|[Noun]                                        |\n",
      "|[Noun]                                        |\n",
      "|[Plural]                                      |\n",
      "+----------------------------------------------+\n",
      "only showing top 20 rows\n",
      "\n"
     ]
    }
   ],
   "source": [
    "dfVocabulary.select(\"posLabels_ss\").show(20, false)"
   ]
  },
  {
   "cell_type": "code",
   "execution_count": 21,
   "metadata": {
    "pycharm": {
     "name": "#%%\n"
    }
   },
   "outputs": [
    {
     "data": {
      "text/plain": [
       "dfVocabSplit = [capitalized_b: boolean, count_i: bigint ... 23 more fields]\n"
      ]
     },
     "metadata": {},
     "output_type": "display_data"
    },
    {
     "data": {
      "text/plain": [
       "[capitalized_b: boolean, count_i: bigint ... 23 more fields]"
      ]
     },
     "execution_count": 21,
     "metadata": {},
     "output_type": "execute_result"
    }
   ],
   "source": [
    "val dfVocabSplit = dfVocabulary.withColumn(\"posLabelsSplit2_ss\", col(\"posLabels_ss\"))"
   ]
  },
  {
   "cell_type": "code",
   "execution_count": 10,
   "metadata": {
    "pycharm": {
     "name": "#%%\n"
    }
   },
   "outputs": [
    {
     "ename": "Compile Error",
     "evalue": "<console>:51: error: not found: value dfVocabSplit\n       dfVocabSplit.printSchema\n       ^\n",
     "output_type": "error",
     "traceback": []
    }
   ],
   "source": [
    "dfVocabSplit.printSchema"
   ]
  },
  {
   "cell_type": "code",
   "execution_count": 11,
   "metadata": {
    "pycharm": {
     "name": "#%%\n"
    }
   },
   "outputs": [
    {
     "ename": "Compile Error",
     "evalue": "<console>:51: error: not found: value dfVocabSplit\n       dfVocabSplit.show()\n       ^\n",
     "output_type": "error",
     "traceback": []
    }
   ],
   "source": [
    "dfVocabSplit.show()"
   ]
  },
  {
   "cell_type": "code",
   "execution_count": 12,
   "metadata": {
    "scrolled": true,
    "pycharm": {
     "name": "#%%\n"
    }
   },
   "outputs": [
    {
     "ename": "Compile Error",
     "evalue": "<console>:51: error: not found: value dfVocabSplit\n       dfVocabSplit.select(\"posLabelsSplit_ss\").show()\n       ^\n",
     "output_type": "error",
     "traceback": []
    }
   ],
   "source": [
    "dfVocabSplit.select(\"posLabelsSplit_ss\").show()"
   ]
  },
  {
   "cell_type": "code",
   "execution_count": null,
   "metadata": {
    "pycharm": {
     "name": "#%%\n"
    }
   },
   "outputs": [],
   "source": []
  }
 ],
 "metadata": {
  "kernelspec": {
   "display_name": "Apache Toree - Scala",
   "language": "scala",
   "name": "apache_toree_scala"
  },
  "language_info": {
   "codemirror_mode": "text/x-scala",
   "file_extension": ".scala",
   "mimetype": "text/x-scala",
   "name": "scala",
   "pygments_lexer": "scala",
   "version": "2.11.12"
  },
  "toc": {
   "base_numbering": 1,
   "nav_menu": {},
   "number_sections": false,
   "sideBar": false,
   "skip_h1_title": false,
   "title_cell": "Table of Contents",
   "title_sidebar": "Contents",
   "toc_cell": false,
   "toc_position": {},
   "toc_section_display": false,
   "toc_window_display": false
  }
 },
 "nbformat": 4,
 "nbformat_minor": 2
}