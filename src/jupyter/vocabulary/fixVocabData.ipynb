{
 "cells": [
  {
   "cell_type": "code",
   "execution_count": 1,
   "metadata": {},
   "outputs": [
    {
     "name": "stdout",
     "output_type": "stream",
     "text": [
      "Marking com.lucidworks.spark:spark-solr:3.6.0 for download\n",
      "-> Failed to resolve org.restlet.jee:org.restlet:2.3.0\n",
      "    -> not found: /tmp/toree-tmp-dir6007934783881216397/toree_add_deps/cache/org.restlet.jee/org.restlet/ivy-2.3.0.xml\n",
      "    -> not found: https://repo1.maven.org/maven2/org/restlet/jee/org.restlet/2.3.0/org.restlet-2.3.0.pom\n",
      "-> Failed to resolve org.restlet.jee:org.restlet.ext.servlet:2.3.0\n",
      "    -> not found: /tmp/toree-tmp-dir6007934783881216397/toree_add_deps/cache/org.restlet.jee/org.restlet.ext.servlet/ivy-2.3.0.xml\n",
      "    -> not found: https://repo1.maven.org/maven2/org/restlet/jee/org.restlet.ext.servlet/2.3.0/org.restlet.ext.servlet-2.3.0.pom\n",
      "Obtained 388 files\n"
     ]
    }
   ],
   "source": [
    "%adddeps com.lucidworks.spark spark-solr 3.6.0 --transitive"
   ]
  },
  {
   "cell_type": "code",
   "execution_count": 2,
   "metadata": {},
   "outputs": [],
   "source": [
    "import org.apache.solr.client.solrj.SolrQuery\n",
    "import org.apache.solr.common.SolrDocument\n",
    "\n",
    "import com.lucidworks.spark._\n",
    "import com.lucidworks.spark.query.StreamingResultsIterator\n",
    "import com.lucidworks.spark.util.QueryConstants._\n",
    "import com.lucidworks.spark.util.{SolrQuerySupport, SolrSupport}\n",
    "import com.lucidworks.spark.rdd.SelectSolrRDD"
   ]
  },
  {
   "cell_type": "code",
   "execution_count": 3,
   "metadata": {},
   "outputs": [
    {
     "data": {
      "text/plain": [
       "[key: string, value: string]"
      ]
     },
     "execution_count": 3,
     "metadata": {},
     "output_type": "execute_result"
    }
   ],
   "source": [
    "spark.sql(\"set spark.sql.caseSensitive=true\")"
   ]
  },
  {
   "cell_type": "code",
   "execution_count": 4,
   "metadata": {},
   "outputs": [
    {
     "data": {
      "text/plain": [
       "q = term:pow*\n",
       "optionsVocab = Map(zkhost -> localhost:9983, collection -> vocabulary, query -> term:pow*, filters -> type:kevins,capitalized_b:false,phrase_b:false, fields -> *)\n"
      ]
     },
     "metadata": {},
     "output_type": "display_data"
    },
    {
     "data": {
      "text/plain": [
       "Map(zkhost -> localhost:9983, collection -> vocabulary, query -> term:pow*, filters -> type:kevins,capitalized_b:false,phrase_b:false, fields -> *)"
      ]
     },
     "execution_count": 4,
     "metadata": {},
     "output_type": "execute_result"
    }
   ],
   "source": [
    "val q = \"term:pow*\"\n",
    "val optionsVocab = Map(\n",
    "    \"collection\" -> \"vocabulary\",\n",
    "    \"zkhost\" -> \"localhost:9983\",\n",
    "    \"fields\" -> \"*\",\n",
    "   \"filters\" -> \"type:kevins,capitalized_b:false,phrase_b:false\",\n",
    "   \"query\" -> q\n",
    ")"
   ]
  },
  {
   "cell_type": "code",
   "execution_count": 5,
   "metadata": {},
   "outputs": [
    {
     "data": {
      "text/plain": [
       "dfVocabulary = [analysis_s: string, capitalized_b: boolean ... 25 more fields]\n"
      ]
     },
     "metadata": {},
     "output_type": "display_data"
    },
    {
     "data": {
      "text/plain": [
       "21"
      ]
     },
     "execution_count": 5,
     "metadata": {},
     "output_type": "execute_result"
    }
   ],
   "source": [
    "val dfVocabulary = spark.read.format(\"solr\").options(optionsVocab).load()\n",
    "dfVocabulary.count"
   ]
  },
  {
   "cell_type": "code",
   "execution_count": 7,
   "metadata": {},
   "outputs": [
    {
     "name": "stdout",
     "output_type": "stream",
     "text": [
      "+-----------------+-------------+-----------+--------------------+\n",
      "|               id|         term|       tags|        posLabels_ss|\n",
      "+-----------------+-------------+-----------+--------------------+\n",
      "|          kwl-pow|          pow|       null| [Interjection,Noun]|\n",
      "|        kwl-powan|        powan|       null|              [Noun]|\n",
      "|       kwl-powder|       powder|       null|[Noun,Verb (usu p...|\n",
      "|     kwl-powdered|     powdered|system skip|         [Adjective]|\n",
      "|  kwl-powderiness|  powderiness|       null|              [Noun]|\n",
      "|    kwl-powderize|    powderize|       null|[Verb (usu partic...|\n",
      "|   kwl-powderpuff|   powderpuff|       null|              [Noun]|\n",
      "|      kwl-powdery|      powdery|       null|[Adjective,Verb (...|\n",
      "|        kwl-power|        power|       null|[Noun,Verb (trans...|\n",
      "|    kwl-powerboat|    powerboat|       null|              [Noun]|\n",
      "|      kwl-powered|      powered|system skip|         [Adjective]|\n",
      "|     kwl-powerful|     powerful|       null|  [Adjective,Adverb]|\n",
      "|   kwl-powerfully|   powerfully|system skip|            [Adverb]|\n",
      "| kwl-powerfulness| powerfulness|       null|              [Noun]|\n",
      "|   kwl-powerhouse|   powerhouse|       null|              [Noun]|\n",
      "|    kwl-powerless|    powerless|system skip|         [Adjective]|\n",
      "|  kwl-powerlessly|  powerlessly|system skip|            [Adverb]|\n",
      "|kwl-powerlessness|powerlessness|       null|              [Noun]|\n",
      "|    kwl-powerwash|    powerwash|       null|[Verb (usu partic...|\n",
      "|     kwl-powhatan|     powhatan|       null|              [Noun]|\n",
      "+-----------------+-------------+-----------+--------------------+\n",
      "only showing top 20 rows\n",
      "\n"
     ]
    }
   ],
   "source": [
    "dfVocabulary.select(\"id\", \"term\", \"tags\", \"posLabels_ss\").sort(\"term\").show()"
   ]
  },
  {
   "cell_type": "code",
   "execution_count": null,
   "metadata": {},
   "outputs": [],
   "source": []
  }
 ],
 "metadata": {
  "kernelspec": {
   "display_name": "Apache Toree - Scala",
   "language": "scala",
   "name": "apache_toree_scala"
  },
  "language_info": {
   "codemirror_mode": "text/x-scala",
   "file_extension": ".scala",
   "mimetype": "text/x-scala",
   "name": "scala",
   "pygments_lexer": "scala",
   "version": "2.11.12"
  }
 },
 "nbformat": 4,
 "nbformat_minor": 2
}
