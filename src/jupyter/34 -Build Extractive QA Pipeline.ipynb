{
 "cells": [
  {
   "cell_type": "markdown",
   "id": "67919775",
   "metadata": {},
   "source": [
    "# Build Extractive QA Pipeline\n",
    "https://haystack.deepset.ai/tutorials/34_extractive_qa_pipeline  \n",
    "see similar script (more recent?): `src/haystack/34_extractive_qa_pipeline.py`  \n",
    "\n",
    "Working"
   ]
  },
  {
   "cell_type": "code",
   "execution_count": 1,
   "id": "59287eb0",
   "metadata": {},
   "outputs": [],
   "source": [
    "#!pip install haystack-ai accelerate \"sentence-transformers>=2.2.0\" \"datasets>=2.6.1\""
   ]
  },
  {
   "cell_type": "code",
   "execution_count": 3,
   "id": "dd94ed9f",
   "metadata": {},
   "outputs": [],
   "source": [
    "from haystack.telemetry import tutorial_running\n",
    "\n",
    "tutorial_running(34)\n"
   ]
  },
  {
   "cell_type": "code",
   "execution_count": 4,
   "id": "f786c3bf",
   "metadata": {},
   "outputs": [],
   "source": [
    "from datasets import load_dataset\n",
    "from haystack import Document\n",
    "from haystack import Pipeline\n",
    "from haystack.document_stores.in_memory import InMemoryDocumentStore\n",
    "from haystack.components.retrievers.in_memory import InMemoryEmbeddingRetriever\n",
    "from haystack.components.readers import ExtractiveReader\n",
    "from haystack.components.embedders import SentenceTransformersDocumentEmbedder\n",
    "from haystack.components.writers import DocumentWriter"
   ]
  },
  {
   "cell_type": "code",
   "execution_count": 5,
   "id": "c116a084",
   "metadata": {},
   "outputs": [],
   "source": [
    "dataset = load_dataset(\"bilgeyucel/seven-wonders\", split=\"train\")"
   ]
  },
  {
   "cell_type": "code",
   "execution_count": 6,
   "id": "6f77f2a5",
   "metadata": {},
   "outputs": [
    {
     "data": {
      "text/plain": [
       "[Document(id=75fd8474f2c88337f7e0dad69eba0f24ba293cb06693fb746ec403df01a1c0c5, content: 'The Colossus of Rhodes (Ancient Greek: ὁ Κολοσσὸς Ῥόδιος, romanized: ho Kolossòs Rhódios Greek: Κολο...', meta: {'url': 'https://en.wikipedia.org/wiki/Colossus_of_Rhodes', '_split_id': 0}),\n",
       " Document(id=5e4115a663f0afb5f51c3aba9d04daf6f4fae39031cc55e553e31d7be7f1d734, content: '[6]\n",
       " In 653, an Arab force under Muslim general Muawiyah I conquered Rhodes, and according to the Chr...', meta: {'url': 'https://en.wikipedia.org/wiki/Colossus_of_Rhodes', '_split_id': 1}),\n",
       " Document(id=c674d039894fc1fdcfef9d3801ae976919c7fbe6b81a189a8ca630cd4e1d7961, content: 'Construction[edit]\n",
       " Timeline and map of the Seven Wonders of the Ancient World, including the Colossu...', meta: {'url': 'https://en.wikipedia.org/wiki/Colossus_of_Rhodes', '_split_id': 2}),\n",
       " Document(id=6554927b94b6bdbb39d6276775c18233900dbdef5e47b4222130c7b861be8fba, content: 'Philo of Byzantium wrote in De septem mundi miraculis that Chares created the sculpture in situ by c...', meta: {'url': 'https://en.wikipedia.org/wiki/Colossus_of_Rhodes', '_split_id': 3}),\n",
       " Document(id=9981f20089a777c41b09c54e508d60c0c86ae5f625c7f31f7220f4b0cff5ff4e, content: 'The lower plates were 25 millimetres (1 in) in thickness to the knee and .mw-parser-output .frac{whi...', meta: {'url': 'https://en.wikipedia.org/wiki/Colossus_of_Rhodes', '_split_id': 4}),\n",
       " Document(id=e3f80e18c67ef207b78369919d724c1c84173f4e491085a633621e53cb40c458, content: 'To you, O Sun, the people of Dorian Rhodes set up this bronze statue reaching to Olympus, when they ...', meta: {'url': 'https://en.wikipedia.org/wiki/Colossus_of_Rhodes', '_split_id': 5}),\n",
       " Document(id=06ce9e11253c0c619159c6bd9c8f8e711d7a841025efc696e07b74000c5f750a, content: 'The remains were described briefly by Strabo (64 or 63 BC – c. 24 AD), in his work Geography (Book X...', meta: {'url': 'https://en.wikipedia.org/wiki/Colossus_of_Rhodes', '_split_id': 6}),\n",
       " Document(id=08cdb3580fa96f67843c1be56d205fc7abfd24212691cf5512d84545acd8d2c4, content: 'It is remarkable also for its good order, and for its careful attention to the administration of aff...', meta: {'url': 'https://en.wikipedia.org/wiki/Colossus_of_Rhodes', '_split_id': 7}),\n",
       " Document(id=8910f21f7c0e97792473bcc60a8dcc7f6a90586dbb46b7bf96d28dbfcdc313f4, content: '[21]\n",
       " Pliny the Elder (AD 23/24 – 79) was a Roman author, a naturalist and natural philosopher, a nav...', meta: {'url': 'https://en.wikipedia.org/wiki/Colossus_of_Rhodes', '_split_id': 8}),\n",
       " Document(id=a3ee3a9a55b47ff651ae11dc56d84d2b6f8d931b795bd866c14eacfa56000965, content: 'Within it, too, are to be seen large masses of rock, by the weight of which the artist steadied it w...', meta: {'url': 'https://en.wikipedia.org/wiki/Colossus_of_Rhodes', '_split_id': 9}),\n",
       " Document(id=48d2265b04561ff9bd0558ed960fa85d2d0c5dcde0fa2710c3d7e06ee040e610, content: 'In 653, an Arab force under Muslim general Muawiyah I raided Rhodes, and according to the Chronicle ...', meta: {'url': 'https://en.wikipedia.org/wiki/Colossus_of_Rhodes', '_split_id': 10}),\n",
       " Document(id=831093e79e7ab91ecd1e2efc48450b19a3d3ecb37cc9f36a2ad50f11999dd553, content: '[28]\n",
       " Given the likely previous neglect of the remains and various opportunities for authorities to h...', meta: {'url': 'https://en.wikipedia.org/wiki/Colossus_of_Rhodes', '_split_id': 11}),\n",
       " Document(id=e65fad0dd0bcb8faec4cd0637f75b9a9514c54c6eb54c5cd03650cdea825fd3c, content: 'References to this conception are also found in literary works. William Shakespeare's Cassius in Jul...', meta: {'url': 'https://en.wikipedia.org/wiki/Colossus_of_Rhodes', '_split_id': 12}),\n",
       " Document(id=635c136fb7d15406c60d10b206b1eb6fe876eedf6cc460f35b60d1d4386ba451, content: 'Also, the fallen statue would have blocked the harbour, and since the ancient Rhodians did not have ...', meta: {'url': 'https://en.wikipedia.org/wiki/Colossus_of_Rhodes', '_split_id': 13}),\n",
       " Document(id=e918ad9b3106c229ab9992845bbe2cf11b9ee7e06bf48970faf32e78c9ba9dac, content: 'Silver tetradrachm of Rhodes showing Helios and a rose (205–190 BC, 13.48 g)\n",
       " While scholars do not k...', meta: {'url': 'https://en.wikipedia.org/wiki/Colossus_of_Rhodes', '_split_id': 14}),\n",
       " Document(id=3776c0cc4fd927122884506bb0264162adbe667395a29ded96165ccb5bdfd166, content: 'Curved blocks of marble that were incorporated into the Fortress structure, but are considered too i...', meta: {'url': 'https://en.wikipedia.org/wiki/Colossus_of_Rhodes', '_split_id': 15}),\n",
       " Document(id=99ac161bcc967e3897c2fffe850f68ef3a40319d9d38852ce1cbc9d8f5bd8ab3, content: 'It would cost up to €200 million.[32]\n",
       " In December 2015, a group of European architects announced pla...', meta: {'url': 'https://en.wikipedia.org/wiki/Colossus_of_Rhodes', '_split_id': 16}),\n",
       " Document(id=cdda325aed5b28cc0818d066371b9d110a45d1795376150895e7cde993e20275, content: 'The Statue of Zeus at Olympia was a giant seated figure, about 12.4 m (41 ft) tall,[1] made by the G...', meta: {'url': 'https://en.wikipedia.org/wiki/Statue_of_Zeus_at_Olympia', '_split_id': 0}),\n",
       " Document(id=382f34edec5b00cf78649285c6968c9fefbc8418b410bdd28f13da2226a4c204, content: 'Seeking to outdo their Athenian rivals, the Eleans employed sculptor Phidias, who had previously mad...', meta: {'url': 'https://en.wikipedia.org/wiki/Statue_of_Zeus_at_Olympia', '_split_id': 1}),\n",
       " Document(id=f10c7c36e492e69177236cfcf2e129209c0818d294ed9d02718ab5b26c608348, content: '[5] Zeus' golden sandals rested upon a footstool decorated with an Amazonomachy in relief. The passa...', meta: {'url': 'https://en.wikipedia.org/wiki/Statue_of_Zeus_at_Olympia', '_split_id': 2}),\n",
       " Document(id=c8b23f44286e874a16ac4df63a6d67da3c14f4a71fc85513758b117180cf2410, content: '[10]\n",
       " \n",
       " Statue of Jupiter (Hermitage), marble and bronze (restored), following the type established by...', meta: {'url': 'https://en.wikipedia.org/wiki/Statue_of_Zeus_at_Olympia', '_split_id': 3}),\n",
       " Document(id=277376b2c83933084fcb5936b331ba3a592ffb3bf979a6193cb918f8b475889f, content: '[13][14]\n",
       " According to Pausanias, \"when the image was quite finished Pheidias prayed the god to show ...', meta: {'url': 'https://en.wikipedia.org/wiki/Statue_of_Zeus_at_Olympia', '_split_id': 4}),\n",
       " Document(id=60469411be57782b4a518ee430379e5235c5dff6f279fe232fae0adfb840644d, content: 'The 11th-century Byzantine historian Georgios Kedrenos records a tradition that it was carried off t...', meta: {'url': 'https://en.wikipedia.org/wiki/Statue_of_Zeus_at_Olympia', '_split_id': 5}),\n",
       " Document(id=1a717a802fca723f6f0bff8ad714bb5a73d655f828fa2406a6f04fe8a90f900e, content: 'Most of the latter were used to create glass plaques, and to form the statue's robe from sheets of g...', meta: {'url': 'https://en.wikipedia.org/wiki/Statue_of_Zeus_at_Olympia', '_split_id': 6}),\n",
       " Document(id=76faac9079190122b6af0e7a46f8ad79d04f8243aee0fe9fea8c999bc2dfea19, content: 'The Great Pyramid of Giza[a] is the largest Egyptian pyramid and the tomb of Fourth Dynasty pharaoh ...', meta: {'url': 'https://en.wikipedia.org/wiki/Great_Pyramid_of_Giza', '_split_id': 0}),\n",
       " Document(id=f100f5f3af3ab7b4b146fb6ae877732ba959d4f1469a80869b1018fb6322847b, content: '[5]\n",
       " The dimensions of the pyramid were 280 royal cubits (146.7 m; 481.4 ft) high, a base length of 4...', meta: {'url': 'https://en.wikipedia.org/wiki/Great_Pyramid_of_Giza', '_split_id': 1}),\n",
       " Document(id=aa6f7c38cc3f10e7d875941240b7bc0781c1a357d34578d0d4777a5aa6f68f9b, content: 'The funerary complex around the pyramid consisted of two mortuary temples connected by a causeway (o...', meta: {'url': 'https://en.wikipedia.org/wiki/Great_Pyramid_of_Giza', '_split_id': 2}),\n",
       " Document(id=b3379f42acc6ffa653b2024a8618dac9e922718eb1656a16d11e72591c6935b3, content: ': “The gang, The white crown of Khnum-Khufu is powerful”). The names of Khufu were spelled out on th...', meta: {'url': 'https://en.wikipedia.org/wiki/Great_Pyramid_of_Giza', '_split_id': 3}),\n",
       " Document(id=4a988f268c10bbb6af9a18063a14460b7e0126c7ed1befb2be17c9cbbc4bb064, content: 'The earliest pharaonic name of seal impressions is that of Khufu, the latest of Pepi II. Worker graf...', meta: {'url': 'https://en.wikipedia.org/wiki/Great_Pyramid_of_Giza', '_split_id': 4}),\n",
       " Document(id=4339803c70ec1d67734426a6f220699f9c317ef889c037f569cb6b64cee0dfe0, content: 'It reads: \"He yoked the horses in Memphis, when he was still young, and stopped at the Sanctuary of ...', meta: {'url': 'https://en.wikipedia.org/wiki/Great_Pyramid_of_Giza', '_split_id': 5}),\n",
       " Document(id=0106c3e6abf5837b067434401db75fb4b81face24e78fa66c2ef3ec2e941df00, content: 'It documents the transportation of white limestone blocks from Tura to the Great Pyramid, which is m...', meta: {'url': 'https://en.wikipedia.org/wiki/Great_Pyramid_of_Giza', '_split_id': 6}),\n",
       " Document(id=28bc51f66d2848f6295b131d1dac66c25a869064927e200014f383611d059c2d, content: '(2010)[36]\n",
       " \n",
       " 2613–2577 BC\n",
       " \n",
       " The Great Pyramid has been determined to be about 4600 years old by two pr...', meta: {'url': 'https://en.wikipedia.org/wiki/Great_Pyramid_of_Giza', '_split_id': 7}),\n",
       " Document(id=2251706ee591cb6492833d15b3f2aaa67a3fc47fc7c33a12d0e31c57e32e0f3e, content: 'The majority of recent chronological estimates date Khufu and his pyramid roughly between 2700 and 2...', meta: {'url': 'https://en.wikipedia.org/wiki/Great_Pyramid_of_Giza', '_split_id': 8}),\n",
       " Document(id=06a67d6c268d51d06a6c1faa794f6cf5325d2da3f6a499d6ecc66c5918f84b4d, content: 'After inheritance it was donated to the Museum of Aberdeen in 1946, however it had broken into piece...', meta: {'url': 'https://en.wikipedia.org/wiki/Great_Pyramid_of_Giza', '_split_id': 9}),\n",
       " Document(id=d9a6c9b84fb07fe1dddb80ca163a04eb090cbf4120be362e2c623ddf2956dbc7, content: 'Because of the aforementioned differences in spelling, he didn't recognize Khufu on Manetho's king l...', meta: {'url': 'https://en.wikipedia.org/wiki/Great_Pyramid_of_Giza', '_split_id': 10}),\n",
       " Document(id=e28bf65a9e6cd74929ae7e999176b956140bdb2dc66b8e3a626d4e2f34483a8d, content: 'It is, however, still not a fully appreciated method due to larger margins or error, calibration unc...', meta: {'url': 'https://en.wikipedia.org/wiki/Great_Pyramid_of_Giza', '_split_id': 11}),\n",
       " Document(id=b7d6b791a014c32ad7358c36722a1807a2291804682c9b11bf0b772cc076b4c5, content: 'Accordingly, his explanations present themselves as a mixture of comprehensible descriptions, person...', meta: {'url': 'https://en.wikipedia.org/wiki/Great_Pyramid_of_Giza', '_split_id': 12}),\n",
       " Document(id=7e6d0e1cf1e0f35af58767e1555e73eb9aa21c00792113e69ba5bfe4a9ce12a4, content: 'These were intended to be burial places for Khufu himself and were encompassed with water by a chann...', meta: {'url': 'https://en.wikipedia.org/wiki/Great_Pyramid_of_Giza', '_split_id': 13}),\n",
       " Document(id=c03ef2b285274336c11d85b731e68e034122d112c46c4cc6aefd2a0d0dde6002, content: 'Diodorus's work was inspired by historians of the past, but he also distanced himself from Herodotus...', meta: {'url': 'https://en.wikipedia.org/wiki/Great_Pyramid_of_Giza', '_split_id': 14}),\n",
       " Document(id=ac33615cb09f468747617410a2c79089c876d4b5975b5d8382bbde07a729296e, content: 'He estimated the number of workers necessary to erect the Great Pyramid at 360,000 and the construct...', meta: {'url': 'https://en.wikipedia.org/wiki/Great_Pyramid_of_Giza', '_split_id': 15}),\n",
       " Document(id=bb2c5f3d2e2e2bf28d599c7b686ab47ba10fbc13c07279e612d8632af81e5d71, content: 'The Roman writer Pliny the Elder, writing in the first century AD, argued that the Great Pyramid had...', meta: {'url': 'https://en.wikipedia.org/wiki/Great_Pyramid_of_Giza', '_split_id': 16}),\n",
       " Document(id=417cb72c998c669851f4cfc8b4a2ba75c7ab8fd2e880f53ea10e6c75d8e0a6b2, content: 'Further, he describes a method discovered by Thales of Miletus for ascertaining the pyramid's height...', meta: {'url': 'https://en.wikipedia.org/wiki/Great_Pyramid_of_Giza', '_split_id': 17}),\n",
       " Document(id=e48b6eb49cc3e46c8f53085cd998fc3d0e921ffd30515bc4514627c59160d7f3, content: 'In 530 AD, Stephanos of Byzantium added more to this idea when he wrote in his Ethnica that the word...', meta: {'url': 'https://en.wikipedia.org/wiki/Great_Pyramid_of_Giza', '_split_id': 18}),\n",
       " Document(id=9c1d7b92058a18bd101c037c87519e9225983c1dbb9386d51412895d5101d096, content: '[68]\n",
       " The most notable account of this legend was given by Al-Masudi (896–956) in his Akbar al-zaman,...', meta: {'url': 'https://en.wikipedia.org/wiki/Great_Pyramid_of_Giza', '_split_id': 19}),\n",
       " Document(id=fa80203b62ba10ac5bb75f24bf06c993cd06669a58f53b9a0f28f026250e359f, content: 'Inside the vessel was \"something like pitch,\" and when the explorer reached into the vessel \"a gold ...', meta: {'url': 'https://en.wikipedia.org/wiki/Great_Pyramid_of_Giza', '_split_id': 20}),\n",
       " Document(id=055b1454beddf2064ddfd8079da93ddffd5f9a0dfa25fb5321835b914312c32b, content: 'In addition to measuring the structure, alongside the other pyramids at Giza, al-Baghdadi also write...', meta: {'url': 'https://en.wikipedia.org/wiki/Great_Pyramid_of_Giza', '_split_id': 21}),\n",
       " Document(id=62b740443778bd783e082734cf3b57684f1ff204afcb42f473f32987ee79f9e0, content: '[79] The bedrock reaches a height of almost 6 metres (20 ft) above the pyramid base at the location ...', meta: {'url': 'https://en.wikipedia.org/wiki/Great_Pyramid_of_Giza', '_split_id': 22}),\n",
       " Document(id=b5e479793c777112eeadb8cba6cfd785e5b968ea31a17e5c3e266b9b8d329f35, content: '[85] [86] The white limestone used for the casing was transported by boat across the Nile from the T...', meta: {'url': 'https://en.wikipedia.org/wiki/Great_Pyramid_of_Giza', '_split_id': 23}),\n",
       " Document(id=a7d4a6a3583720b098f051b2f4539b41f33e26b63a67ef39ef43d8b28d1bfa3d, content: '[89]\n",
       " Worker graffiti found at Giza suggest haulers were divided into zau (singular za), groups of 40...', meta: {'url': 'https://en.wikipedia.org/wiki/Great_Pyramid_of_Giza', '_split_id': 24}),\n",
       " Document(id=e4e1da0082045e48de58dfdf6dbd24ba25ff6090120b15f2b4d30747f543105c, content: '[91]\n",
       " A construction management study conducted in 1999, in association with Mark Lehner and other Eg...', meta: {'url': 'https://en.wikipedia.org/wiki/Great_Pyramid_of_Giza', '_split_id': 25}),\n",
       " Document(id=7156cffac9055a3447af18e63a4f6fded7bacb20bf1ddeb989c71e9f5e40d465, content: 'Petrie measured the lowest layer to be 148 centimetres (4.86 ft) high, whereas the layers towards th...', meta: {'url': 'https://en.wikipedia.org/wiki/Great_Pyramid_of_Giza', '_split_id': 26}),\n",
       " Document(id=067d34bb826ab555d09f838ba676842c23ec4421ca9c79d62cb9b52cd880f5ce, content: '[98] Petrie concluded: \"but these relations of areas and of circular ratio are so systematic that we...', meta: {'url': 'https://en.wikipedia.org/wiki/Great_Pyramid_of_Giza', '_split_id': 27}),\n",
       " Document(id=6ab2971102458d2ccd8ca11b4f6d685c871f06179f8707c5ba30c87da8ddb0dc, content: 'Employing a pinhole produced much more accurate results (19 arc seconds off), whereas using an angle...', meta: {'url': 'https://en.wikipedia.org/wiki/Great_Pyramid_of_Giza', '_split_id': 28}),\n",
       " Document(id=46a64cbb26eff37eba558ef9e8d35a4254bb7978a1cfab6abd66d04c157af2f6, content: 'He writes that \"such a working diagram would also serve to generate the architecture of the pyramid ...', meta: {'url': 'https://en.wikipedia.org/wiki/Great_Pyramid_of_Giza', '_split_id': 29}),\n",
       " Document(id=3227f68a26c0085b9cf386d471b449fb8eb9495d47b1fd28f469772ade70a588, content: '[110][111] Unfinished casing blocks of the pyramids of Menkaure and Henutsen at Giza suggest that th...', meta: {'url': 'https://en.wikipedia.org/wiki/Great_Pyramid_of_Giza', '_split_id': 30}),\n",
       " Document(id=4e8a0d8247fea20414effaf96492e4b22a2acab3820bb0175ccb1ef12af028ca, content: 'Amidst earthquakes in northern Egypt, workers (perhaps the descendants of those who served Al-Mamun)...', meta: {'url': 'https://en.wikipedia.org/wiki/Great_Pyramid_of_Giza', '_split_id': 31}),\n",
       " Document(id=0c4895bb375f37bc3babb9324ba2e954611058b814f92e0d2ec3c63321cd1a74, content: '[118][119]\n",
       " It has been suggested that some or all of the casing stones were cast in place, rather th...', meta: {'url': 'https://en.wikipedia.org/wiki/Great_Pyramid_of_Giza', '_split_id': 32}),\n",
       " Document(id=2da23b66a4d665687d676bb6778d13e81ee28f49892b5043edec20aaca9c5a53, content: 'All known 4th dynasty pyramidia (of the Red Pyramid, Satellite Pyramid of Khufu (G1-d) and Queen's P...', meta: {'url': 'https://en.wikipedia.org/wiki/Great_Pyramid_of_Giza', '_split_id': 33}),\n",
       " Document(id=57285b92fe78e8ce276e395656db1435b50c95962a1658a0225e4a6c3f982a23, content: '1. Original entrance, North Face Corridor   2. Robbers' Tunnel (tourist entrance)   3, 4. Descending...', meta: {'url': 'https://en.wikipedia.org/wiki/Great_Pyramid_of_Giza', '_split_id': 34}),\n",
       " Document(id=42480e0258718d9a33a22c0047a154d56ae823653cf0c28cfe1b90db27d23755, content: 'Before the removal of the casing in the middle ages, the pyramid was entered through a hole in the 1...', meta: {'url': 'https://en.wikipedia.org/wiki/Great_Pyramid_of_Giza', '_split_id': 35}),\n",
       " Document(id=4cbfa08bf2dd4922365a0546dd8f98184b613e776ece0f167dc27d212e9ea372, content: '[130]\n",
       " \n",
       " North Face Corridor\n",
       " In 2016 the ScanPyramids team detected a cavity behind the entrance chevr...', meta: {'url': 'https://en.wikipedia.org/wiki/Great_Pyramid_of_Giza', '_split_id': 36}),\n",
       " Document(id=984e0e5527abba3053f753a0cd9345b475e0dc8e92aea1a44037fdfa182d1fb7, content: '[135]\n",
       " The origin of this Robbers' Tunnel is the subject of much scholarly discussion. According to t...', meta: {'url': 'https://en.wikipedia.org/wiki/Great_Pyramid_of_Giza', '_split_id': 37}),\n",
       " Document(id=dbe056d5fcd9702eb7445375dfbc9004eea7392d7413019c4fda1f39d48fab74, content: 'This theory is furthered by the report of patriarch Dionysius I Telmaharoyo, who claimed that before...', meta: {'url': 'https://en.wikipedia.org/wiki/Great_Pyramid_of_Giza', '_split_id': 38}),\n",
       " Document(id=24ccbf1512e45fe0be3c36ab066c8b3abeee3231890ddbee92d6a4220e70eed2, content: 'The passage continues to descend for another 72 metres (236 ft), now through bedrock instead of the ...', meta: {'url': 'https://en.wikipedia.org/wiki/Great_Pyramid_of_Giza', '_split_id': 39}),\n",
       " Document(id=56d66e26270041a5e7fe3e013f30eddcb8d40f32a2cf804500a3690084c13bdb, content: 'Located about 27 m (89 ft) below base level,[80] it measures roughly 16 cubits (8.4 m; 27.5 ft) nort...', meta: {'url': 'https://en.wikipedia.org/wiki/Great_Pyramid_of_Giza', '_split_id': 40}),\n",
       " Document(id=dac0fd26a3c244be54ad2d73c867d06513603ed27af972f9c922d58447bed073, content: 'The uppermost part may have ancient origins, about 2 m (6.6 ft) squared in width and 1.5 m (4.9 ft) ...', meta: {'url': 'https://en.wikipedia.org/wiki/Great_Pyramid_of_Giza', '_split_id': 41}),\n",
       " Document(id=23e90cf8bbcb1ed45b574a3eb9f835377352190f8bed01443cbe5e7e30666692, content: 'Ludwig Borchardt suggested that the Subterranean Chamber was originally planned to be the burial pla...', meta: {'url': 'https://en.wikipedia.org/wiki/Great_Pyramid_of_Giza', '_split_id': 42}),\n",
       " Document(id=ae1042e3261d4dacb9564d842f02e845fc1cf905444392a5a6305736140b3c9d, content: 'Most of the joints between the blocks of the walls run perpendicular to the floor, with two exceptio...', meta: {'url': 'https://en.wikipedia.org/wiki/Great_Pyramid_of_Giza', '_split_id': 43}),\n",
       " Document(id=57cb7f6829953036e7cdd073bf1e50aff7ce6f0064aaa4720c66fecac951cb67, content: 'The lower half of the Well Shaft goes through the bedrock at an angle of about 45° for 26.5 metres (...', meta: {'url': 'https://en.wikipedia.org/wiki/Great_Pyramid_of_Giza', '_split_id': 44}),\n",
       " Document(id=5d02e37e955d05869cad244b01e9c458c0676a736390b04f347390aa6d8236f7, content: 'The passage is 2 cubits (1.0 m; 3.4 ft) wide and 1.17 m (3.8 ft) high for most of its length, but ne...', meta: {'url': 'https://en.wikipedia.org/wiki/Great_Pyramid_of_Giza', '_split_id': 45}),\n",
       " Document(id=de8d91b2a5a6d476529d72c54b4ac0690c4fe55eced061efd746ca9f4c139e3f, content: 'The shafts were not connected to the outer faces of the pyramid or the Queen's Chamber; their purpos...', meta: {'url': 'https://en.wikipedia.org/wiki/Great_Pyramid_of_Giza', '_split_id': 46}),\n",
       " Document(id=db8126a416289392f50711cb60b3df9dce5677682cc88702450a71ae2269e0c3, content: '[158] The northern passage, which was difficult to navigate because of its twists and turns, was als...', meta: {'url': 'https://en.wikipedia.org/wiki/Great_Pyramid_of_Giza', '_split_id': 47}),\n",
       " Document(id=4a843c7b8b118439271b71af212dee3c1262e5cf1a49f90f9c77cfab0dc853af, content: '[161]\n",
       " \n",
       " Grand Gallery\n",
       " Grand Gallery (with modern walkway up the middle)\n",
       " The Grand Gallery continues t...', meta: {'url': 'https://en.wikipedia.org/wiki/Great_Pyramid_of_Giza', '_split_id': 48}),\n",
       " Document(id=1b0baddba6b3dd1253c072b9c336a1587e5393e9bce21accf88d2ce2e1927d47, content: '[163]\n",
       " At the upper end of the Gallery, on the eastern wall, is a hole near the roof that opens into ...', meta: {'url': 'https://en.wikipedia.org/wiki/Great_Pyramid_of_Giza', '_split_id': 49}),\n",
       " Document(id=66210c7b51f95a655d4868d6ef342746d6fe7163e353c0a19f41c5f51b98bf95, content: 'At the top of the gallery, there is a step onto a small horizontal platform where a tunnel leads thr...', meta: {'url': 'https://en.wikipedia.org/wiki/Great_Pyramid_of_Giza', '_split_id': 50}),\n",
       " Document(id=88eb71b56b86e994f66df0cfe5be8b82494d064f730a8f59f2dcd92ee6005307, content: '[171]\n",
       " To verify and pinpoint the void, a team from Kyushu University, Tohoku University, the Univers...', meta: {'url': 'https://en.wikipedia.org/wiki/Great_Pyramid_of_Giza', '_split_id': 51}),\n",
       " Document(id=2f92280022c2d006f04b9578dbf9d17201ac303f06abb5537a317a914053b047, content: 'The Antechamber has a design flaw: the space above them can be accessed, thus all but the last block...', meta: {'url': 'https://en.wikipedia.org/wiki/Great_Pyramid_of_Giza', '_split_id': 52}),\n",
       " Document(id=1ad0ebf6e945f0e4d380bca9150a9107f1bca37e9bc41c013213b3ad046d9381, content: '[175] The stones are precisely fitted together. The facing surfaces are dressed to varying degrees, ...', meta: {'url': 'https://en.wikipedia.org/wiki/Great_Pyramid_of_Giza', '_split_id': 53}),\n",
       " Document(id=a25f3002f2b47be8732477337126193c626ab53a499566f7537b6ae5a79d42db, content: 'The sarcophagus is too large to fit around the corner between the Ascending and Descending Passages,...', meta: {'url': 'https://en.wikipedia.org/wiki/Great_Pyramid_of_Giza', '_split_id': 54}),\n",
       " Document(id=c0fea7660355216d24cdb3bc58740cdd78359a249b762dab58a6bbeb1cb04d51, content: 'If they originally penetrated the outer casing is unknown.\n",
       " The purpose of these shafts is not clear:...', meta: {'url': 'https://en.wikipedia.org/wiki/Great_Pyramid_of_Giza', '_split_id': 55}),\n",
       " Document(id=a20601ed856da66a9fbc14cda2bb395a61dd57c236a7ba411fa0367448900338, content: 'They were presumably intended to safeguard the King's Chamber from the possibility of the roof colla...', meta: {'url': 'https://en.wikipedia.org/wiki/Great_Pyramid_of_Giza', '_split_id': 56}),\n",
       " Document(id=905d8d116a5ab4350431ed9039ccf26fd733e45ff5ff0fdcb475f43523d659fa, content: 'Numerous graffiti of red ochre paint were found covering the limestone walls of all four newly disco...', meta: {'url': 'https://en.wikipedia.org/wiki/Great_Pyramid_of_Giza', '_split_id': 57}),\n",
       " Document(id=6ecad0a097c97191ef1c6bf17d7d8f26a30989c749af37b1ac74e50d1e577b83, content: 'Pyramid complex\n",
       " See also: Giza pyramid complex\n",
       " The Great Pyramid is surrounded by a complex of sever...', meta: {'url': 'https://en.wikipedia.org/wiki/Great_Pyramid_of_Giza', '_split_id': 58}),\n",
       " Document(id=946e8bd5856cae1d57694a89fd18595c6b728c414e5944534b43c55cfd8de280, content: 'Subsidiary pyramids\n",
       " On the southern end of the east side are four subsidiary pyramids The three that...', meta: {'url': 'https://en.wikipedia.org/wiki/Great_Pyramid_of_Giza', '_split_id': 59}),\n",
       " Document(id=e42388e23323dad64d9cd5dd5e93fa1391d93be3dc161236d789e2eb7de99546, content: 'These were entrusted to a boat builder, Haj Ahmed Yusuf, who worked out how the pieces fit together....', meta: {'url': 'https://en.wikipedia.org/wiki/Great_Pyramid_of_Giza', '_split_id': 60}),\n",
       " Document(id=7f3c9185287d1a8000e75fbd54c69279a7741d7d58662491538ff4c828a060b5, content: '[197][198] In the early 21st century, Lehner and his team made several discoveries, including what a...', meta: {'url': 'https://en.wikipedia.org/wiki/Great_Pyramid_of_Giza', '_split_id': 61}),\n",
       " Document(id=9f49570771ee549d64bf9dc35494a69294ee1c4639df47150a672629dc6cc10e, content: '[202]\n",
       " \n",
       " Looting\n",
       " Authors Bob Brier and Hoyt Hobbs claim that \"all the pyramids were robbed\" by the New...', meta: {'url': 'https://en.wikipedia.org/wiki/Great_Pyramid_of_Giza', '_split_id': 62}),\n",
       " Document(id=d1c6b3a20e7dd03e07720b0bfc254dbe2635caf3b5db40b33c803c1b43aceaa2, content: '[205] Scholars such as Gaston Maspero and Flinders Petrie have noted that evidence for a similar doo...', meta: {'url': 'https://en.wikipedia.org/wiki/Great_Pyramid_of_Giza', '_split_id': 63}),\n",
       " Document(id=9b6d3d0d9599886ec38a2476e741988900133e6d57056f4d4718976ab7bc8d87, content: 'The Mausoleum at Halicarnassus or Tomb of Mausolus[a] (Ancient Greek: Μαυσωλεῖον τῆς Ἁλικαρνασσοῦ; T...', meta: {'url': 'https://en.wikipedia.org/wiki/Mausoleum_at_Halicarnassus', '_split_id': 0}),\n",
       " Document(id=8d83c5906c44567371940fa0a00dfd5da94a2f0e93001c08013fa21978705df4, content: 'Conquest[edit]\n",
       " In the 4th century BC, Halicarnassus was the capital of a small regional kingdom of C...', meta: {'url': 'https://en.wikipedia.org/wiki/Mausoleum_at_Halicarnassus', '_split_id': 1}),\n",
       " Document(id=365b4bf49e3df92aaab4511cdd527e0205e522a050988a5d8e92b5d3040ad325, content: 'Mausolus decided to build a new capital, one as safe from capture as it was magnificent to be seen. ...', meta: {'url': 'https://en.wikipedia.org/wiki/Mausoleum_at_Halicarnassus', '_split_id': 2}),\n",
       " Document(id=05f7813824c9c936eb4267d89812331ecd4cfafba3657c9653d54357961ba01d, content: 'According to the historian Pliny the Elder, the craftsmen decided to stay and finish the work after ...', meta: {'url': 'https://en.wikipedia.org/wiki/Mausoleum_at_Halicarnassus', '_split_id': 3}),\n",
       " Document(id=ef22b6cc348f940fbe0beaac06b5f497124ae6afba6cfb5a838d26445c28f7c1, content: 'At each corner, stone warriors mounted on horseback guarded the tomb. At the center of the platform,...', meta: {'url': 'https://en.wikipedia.org/wiki/Mausoleum_at_Halicarnassus', '_split_id': 4}),\n",
       " Document(id=975a20d36be68ebf6c7c7a37012dd0deff29797201dddb21e1b3a25c29b168e2, content: 'Modern historians have pointed out that two years would not be enough time to decorate and build suc...', meta: {'url': 'https://en.wikipedia.org/wiki/Mausoleum_at_Halicarnassus', '_split_id': 5}),\n",
       " Document(id=72d9ba5c859a4737ea03759f89a6d4fb50cab7f04061de6c33e1835ef7f8eedf, content: 'Because of this, Fergusson concluded that the building was ruined, probably by an earthquake, betwee...', meta: {'url': 'https://en.wikipedia.org/wiki/Mausoleum_at_Halicarnassus', '_split_id': 6}),\n",
       " Document(id=82910536ef0e03bfb9b8d9dd61110a48f49dcdce69e83648318515386476e7ff, content: '[13] At some point before or after this, grave robbers broke into and destroyed the underground buri...', meta: {'url': 'https://en.wikipedia.org/wiki/Mausoleum_at_Halicarnassus', '_split_id': 7}),\n",
       " Document(id=15930531d5e2091cff17d36b750f0acbb048eb177b02f8714b6dd3dcfd013d45, content: '[16] The vase contains an inscription in Old Persian, Egyptian, Babylonian, and Elamite:[16][17][18]...', meta: {'url': 'https://en.wikipedia.org/wiki/Mausoleum_at_Halicarnassus', '_split_id': 8}),\n",
       " Document(id=0b3ec68a3754c399d2160c93c36ea172c318edad9310828c7d056392956f884f, content: 'The building was rectangular, not square, surrounded by a colonnade of thirty-six columns. There was...', meta: {'url': 'https://en.wikipedia.org/wiki/Mausoleum_at_Halicarnassus', '_split_id': 9}),\n",
       " Document(id=ba408f7432d70b3de4a13f559a0d50214b186d014e88cf872938196197d0eaf3, content: 'The height of the building was 43 metres (140 ft).[22]\n",
       " The only other author that gives the dimensio...', meta: {'url': 'https://en.wikipedia.org/wiki/Mausoleum_at_Halicarnassus', '_split_id': 10}),\n",
       " Document(id=9d5f0da042e2606d28dc574d4e80216067ed4905e38391724a7ebbd5994a3f24, content: '[21]\n",
       " The Mausoleum was adorned with many great and beautiful sculptures. Some of these sculptures ha...', meta: {'url': 'https://en.wikipedia.org/wiki/Mausoleum_at_Halicarnassus', '_split_id': 11}),\n",
       " Document(id=cc9a5b32b85a94c5a59aa365659776af1d789343fe2b9cea261ead7255ca604c, content: 'It was untouched when the city fell to Alexander the Great in 334 BC and still undamaged after attac...', meta: {'url': 'https://en.wikipedia.org/wiki/Mausoleum_at_Halicarnassus', '_split_id': 12}),\n",
       " Document(id=6b21aec10613c8a644e2f265c6d5d9bc2c83cbb1ab0c4d803a5a937a394e7100, content: '[citation needed]\n",
       " During the fortification work, a party of knights entered the base of the monument...', meta: {'url': 'https://en.wikipedia.org/wiki/Mausoleum_at_Halicarnassus', '_split_id': 13}),\n",
       " Document(id=0714f072f04ea5c32907c852eaffbe7287b53f71b6faa95e05da7b8044a905d8, content: '[citation needed]\n",
       " \n",
       " Discovery and excavation[edit]\n",
       " An actress performs a play in front of two statues...', meta: {'url': 'https://en.wikipedia.org/wiki/Mausoleum_at_Halicarnassus', '_split_id': 14}),\n",
       " Document(id=0f92f200a5b7a1a2d0521d32f27d5ef244e52198a6a49e905e7ee552424bfa64, content: 'Newton then excavated the site and found sections of the reliefs that decorated the wall of the buil...', meta: {'url': 'https://en.wikipedia.org/wiki/Mausoleum_at_Halicarnassus', '_split_id': 15}),\n",
       " Document(id=094f435172a73cd5570dc8694f51676cfd73013e614a862cf867eb3c26b92323, content: 'The beauty of the Mausoleum was not only in the structure itself, but in the decorations and statues...', meta: {'url': 'https://en.wikipedia.org/wiki/Mausoleum_at_Halicarnassus', '_split_id': 16}),\n",
       " Document(id=a7870f5b4528984f61a0ad0c50cb9bf9dc4e5899f04028dabc2d0c55b4426223, content: 'British Museum Room 21\n",
       " \n",
       " Statue usually identified as Artemisia; reconstruction of the Amazonomachy c...', meta: {'url': 'https://en.wikipedia.org/wiki/Mausoleum_at_Halicarnassus', '_split_id': 17}),\n",
       " Document(id=4c82325818ccd91af8d68fec37108ce7a93696392f315bd0497ad3a8903d0b45, content: 'The Masonic House of the Temple of the Scottish Rite, Washington, DC, designed by John Russell Pope,...', meta: {'url': 'https://en.wikipedia.org/wiki/Mausoleum_at_Halicarnassus', '_split_id': 18}),\n",
       " Document(id=e6244310d1a0686d06b52b93c1d96972a8d01943be7735b6593a0ffadd091b3c, content: 'The Temple of Artemis or Artemision (Greek: Ἀρτεμίσιον; Turkish: Artemis Tapınağı), also known as th...', meta: {'url': 'https://en.wikipedia.org/wiki/Temple_of_Artemis', '_split_id': 0}),\n",
       " Document(id=0b78f3551ebd8f3fbbf956b5b143579d8397dc7048fb99d753f9651e965077e9, content: 'The next, greatest, and last form of the temple, funded by the Ephesians themselves, is described in...', meta: {'url': 'https://en.wikipedia.org/wiki/Temple_of_Artemis', '_split_id': 1}),\n",
       " Document(id=3a9f0990fd6541ffb866549907bfcd6d896adb51716afd49509f7964eeb513ad, content: 'Pausanias was certain that it antedated the Ionic immigration by many years, being older even than t...', meta: {'url': 'https://en.wikipedia.org/wiki/Temple_of_Artemis', '_split_id': 2}),\n",
       " Document(id=de0480cf304ee42ec382ba29752d16015e5b656e84a59518afe59549643e77cc, content: 'In the 7th century BC, a flood[7] destroyed the temple, depositing over half a meter of sand and flo...', meta: {'url': 'https://en.wikipedia.org/wiki/Temple_of_Artemis', '_split_id': 3}),\n",
       " Document(id=1ac2cb3043fa1216b553c6cc60643e012263427143e61f7cfd17b32e92e6409f, content: 'Its peripteral columns stood some 13 m (40 ft) high, in double rows that formed a wide ceremonial pa...', meta: {'url': 'https://en.wikipedia.org/wiki/Temple_of_Artemis', '_split_id': 4}),\n",
       " Document(id=0e38002d4aa24cc0d4efcfbccf4b937647bbc8dd8d1f5296d924624c9fb0d1a9, content: '[12]\n",
       " Fragments of bas-relief on the lowest drums of the temple columns, preserved in the British Mus...', meta: {'url': 'https://en.wikipedia.org/wiki/Temple_of_Artemis', '_split_id': 5}),\n",
       " Document(id=15ba19be181b99cedeada16c282ea812d83b35f744ea5066530d40fbf784546c, content: 'Various sources describe this as a vainglorious act of arson by a man, Herostratus, who set fire to ...', meta: {'url': 'https://en.wikipedia.org/wiki/Temple_of_Artemis', '_split_id': 6}),\n",
       " Document(id=26db3dbab6dc1a4825119920f66bc5574e9de9dd9f82a0d8a3abc1f84e3c7391, content: '[21]: 88–89\n",
       " The fire might even have been deliberately and covertly set by the temple's administrato...', meta: {'url': 'https://en.wikipedia.org/wiki/Temple_of_Artemis', '_split_id': 7}),\n",
       " Document(id=979fcf2ed4403d357cb53e525092f51a8c7799dd7310ee2531869aea9f774366, content: '[24]\n",
       " \n",
       " A drum from the base of a column from the 4th-century rebuilding, now in the British Museum\n",
       " Pa...', meta: {'url': 'https://en.wikipedia.org/wiki/Temple_of_Artemis', '_split_id': 8}),\n",
       " Document(id=b66609ad893b3e4043c2a10c74c655bd4ff04c4f274c03f8e52a05a7fc5dce58, content: '[25] The 2nd-century Acts of John includes an apocryphal tale of the temple's destruction: the apost...', meta: {'url': 'https://en.wikipedia.org/wiki/Temple_of_Artemis', '_split_id': 9}),\n",
       " Document(id=d9c15ec6a7c9b40f45400870a17fcbcdc761b26861340acd68ba698acd379b41, content: 'After closure and after the city had become Christian, the name of Artemis appears to have been eras...', meta: {'url': 'https://en.wikipedia.org/wiki/Temple_of_Artemis', '_split_id': 10}),\n",
       " Document(id=e103a8e73103336053621065fd85e73d17b3de6055870dce7188d02322071119, content: 'Rediscovery of the temple[edit]\n",
       " Reconstructive plan of Temple of Artemis at Ephesus according to Joh...', meta: {'url': 'https://en.wikipedia.org/wiki/Temple_of_Artemis', '_split_id': 11}),\n",
       " Document(id=7737c2c1fc7a9f9950e56e43d614ad1746670b1e37f1c2fbac7fd104b273ffc4, content: 'The literary accounts that describe it as \"Amazonian\" refer to the later founder-myths of Greek emig...', meta: {'url': 'https://en.wikipedia.org/wiki/Temple_of_Artemis', '_split_id': 12}),\n",
       " Document(id=98cf6567679c41139eafd65d23dc7f7c2a3ab8081309e9ea398be1b6a0d56bf2, content: '[44] Ephesian Artemis lent her city's diplomacy a powerful religious edge.\n",
       " Under Hellenic rule, and ...', meta: {'url': 'https://en.wikipedia.org/wiki/Temple_of_Artemis', '_split_id': 13}),\n",
       " Document(id=7869db5d3d6e320e7820da89e09c7b37714d0d10e75aa15300a595054a1fb598, content: '718, 1st century AD, Ephesus Archaeological Museum\n",
       " From the Greek point of view, the Ephesian Artemi...', meta: {'url': 'https://en.wikipedia.org/wiki/Temple_of_Artemis', '_split_id': 14}),\n",
       " Document(id=eb5f15f028ff4651407399c1f3ab9d542f89893d2af673e2a8bf88babe16803d, content: 'This interpretation began in late antiquity and resulted in designations of the Ephesian goddess as ...', meta: {'url': 'https://en.wikipedia.org/wiki/Temple_of_Artemis', '_split_id': 15}),\n",
       " Document(id=798b7e5c5628f881003757390885f62630dc7e80fb4c9b8812f9de8a85918457, content: 'These objects remained in place where the ancient wooden statue of the goddess had been caught by an...', meta: {'url': 'https://en.wikipedia.org/wiki/Temple_of_Artemis', '_split_id': 16}),\n",
       " Document(id=29298f630a7bcda1c8daf46301f0147b20b35161cc9957b75e3fe928734ebd4a, content: 'The Greek habits of syncretism assimilated all foreign gods under some form of the Olympian pantheon...', meta: {'url': 'https://en.wikipedia.org/wiki/Temple_of_Artemis', '_split_id': 17}),\n",
       " Document(id=9322c40ad7441344c8e0d35c142949b4d7241e70e90fa313b2d928d4fae014db, content: 'Lynn LiDonnici observes that modern scholars are likely to be more concerned with origins of the Lad...', meta: {'url': 'https://en.wikipedia.org/wiki/Temple_of_Artemis', '_split_id': 18}),\n",
       " Document(id=fbd0df186da9ad0116952cd92d7a9e9ff4e292c959244af331656ef007e61986, content: 'The Lighthouse of Alexandria, sometimes called the Pharos of Alexandria (/ˈfɛərɒs/; Ancient Greek: ὁ...', meta: {'url': 'https://en.wikipedia.org/wiki/Lighthouse_of_Alexandria', '_split_id': 0}),\n",
       " Document(id=7e70b7b210826429ae37471eaa0341f5ce809f729d642d36ccaed0e45d976523, content: '[4] In 2016 the Ministry of State of Antiquities in Egypt had plans to turn submerged ruins of ancie...', meta: {'url': 'https://en.wikipedia.org/wiki/Lighthouse_of_Alexandria', '_split_id': 1}),\n",
       " Document(id=09af7baea84fbe125b3321c9fdb851cbe9f3fdc54d5e4f21b2f6e63134882d24, content: 'The Ras el-Tin promontory, where Ras el-Tin Palace was built in the 19th century, represents all tha...', meta: {'url': 'https://en.wikipedia.org/wiki/Lighthouse_of_Alexandria', '_split_id': 2}),\n",
       " Document(id=fc0d63805ec9732e1980a7df3960b38ec1111e3c693794058e3a105af30a8e00, content: '[10] In his second century AD educational treatise How to Write History, Lucian claimed that Sostrat...', meta: {'url': 'https://en.wikipedia.org/wiki/Lighthouse_of_Alexandria', '_split_id': 3}),\n",
       " Document(id=ba8088a8270810460c8c50f9d634302c8783982fd7238576f04104bc31b6de22, content: '[14] Al-Masudi wrote in the 10th century that the seaward-facing side featured an inscription dedica...', meta: {'url': 'https://en.wikipedia.org/wiki/Lighthouse_of_Alexandria', '_split_id': 4}),\n",
       " Document(id=0331f72a758a3058ccc90ac9d6a57de69cb67e9764e0a2fba629f5bbb0c07197, content: 'In clockwise rotation, the ramp held four stories with eighteen, fourteen, and seventeen rooms on th...', meta: {'url': 'https://en.wikipedia.org/wiki/Lighthouse_of_Alexandria', '_split_id': 5}),\n",
       " Document(id=d7733ea9aee5f81557f59335e554cd45b06f878eaf5aab7ec1716daf487a3d62, content: '[16]\n",
       " \n",
       " The Lighthouse on coins minted in Alexandria in the second century AD (1: reverse of a coin of...', meta: {'url': 'https://en.wikipedia.org/wiki/Lighthouse_of_Alexandria', '_split_id': 6}),\n",
       " Document(id=39ae9c270a107350d9013249c53e8defb847040570cc2f3f8cd8a5f520a6b5e8, content: 'The 10th-century writer al-Mas'udi reports a legendary tale on the lighthouse's destruction, accordi...', meta: {'url': 'https://en.wikipedia.org/wiki/Lighthouse_of_Alexandria', '_split_id': 7}),\n",
       " Document(id=ebb491d589e22df573cad950bc1a57d64fc533ad08fb25329abc6a1d93a09cde, content: '[24]\n",
       " A team of French archaeologists led by Jean-Yves Empereur re-discovered the physical remains of...', meta: {'url': 'https://en.wikipedia.org/wiki/Lighthouse_of_Alexandria', '_split_id': 8}),\n",
       " Document(id=809bb7b9cdd0ffc53a138ae56f78b765a8b2fc70d771728702a950476e2464a5, content: '[28] It is possible to go diving and see the ruins. The secretariat of the UNESCO Convention on the ...', meta: {'url': 'https://en.wikipedia.org/wiki/Lighthouse_of_Alexandria', '_split_id': 9}),\n",
       " Document(id=86c1c68d79afd2c77147bb1d4eb7c256e40e8d490ac5d2d1e1193647ea400aad, content: 'In 2015, the Egyptian government and the Alexandria governorate suggested building a skyscraper on t...', meta: {'url': 'https://en.wikipedia.org/wiki/Lighthouse_of_Alexandria', '_split_id': 10}),\n",
       " Document(id=23444162a36bbba4a7a9b9f27969a75a0c532fbee22db5aa25559fccc30383e5, content: 'Known colloquially under various names – the Pharos of Abusir, the Abusir funerary monument and Burg...', meta: {'url': 'https://en.wikipedia.org/wiki/Lighthouse_of_Alexandria', '_split_id': 11}),\n",
       " Document(id=73928c7a6b5ce616d620d4760ae17e079e8d8e37afbd9e6f4a20137506d22740, content: 'In literature[edit]\n",
       " Julius Caesar, in his Civil Wars (Part III, 111–112), describes the Pharos and i...', meta: {'url': 'https://en.wikipedia.org/wiki/Lighthouse_of_Alexandria', '_split_id': 12}),\n",
       " Document(id=0dec3e3401066be90f550ebc73b9b3cbd95fd9262f96c5228e0207e3323b25bf, content: '[35]\n",
       " Ibn Battuta visited the lighthouse in 1326, finding \"one of its faces in ruins,\" yet he could e...', meta: {'url': 'https://en.wikipedia.org/wiki/Lighthouse_of_Alexandria', '_split_id': 13}),\n",
       " Document(id=d9d010c8de4b44dade963cb84f936a313a56f96e9aaed19f760cf8538ded0e4f, content: 'The Hanging Gardens of Babylon were one of the Seven Wonders of the Ancient World listed by Hellenic...', meta: {'url': 'https://en.wikipedia.org/wiki/Hanging_Gardens_of_Babylon', '_split_id': 0}),\n",
       " Document(id=1d3b00c0c761487040b62edb06fdcd47b84a7ea8e35382c474f9107bcb7f2afe, content: 'The construction of the Hanging Gardens has also been attributed to the legendary queen Semiramis[4]...', meta: {'url': 'https://en.wikipedia.org/wiki/Hanging_Gardens_of_Babylon', '_split_id': 1}),\n",
       " Document(id=228e349738d8c6c68233469ae86ab78031b08c2641fca5ca1741d9607d7d254d, content: 'These writers concern themselves with the size of the Hanging Gardens, their overall design and mean...', meta: {'url': 'https://en.wikipedia.org/wiki/Hanging_Gardens_of_Babylon', '_split_id': 2}),\n",
       " Document(id=c35f53862a8132d1130bb7c0d349406a02f095c5c7024685e8528379b066d06c, content: 'He states that the garden was in the shape of a square, with each side approximately four plethra lo...', meta: {'url': 'https://en.wikipedia.org/wiki/Hanging_Gardens_of_Babylon', '_split_id': 3}),\n",
       " Document(id=2f4361500c404bd24138661ad346b314fd575925472e79b4d0b6f67781e1ca1c, content: 'The last of the classical sources thought to be independent of the others is A Handbook to the Seven...', meta: {'url': 'https://en.wikipedia.org/wiki/Hanging_Gardens_of_Babylon', '_split_id': 4}),\n",
       " Document(id=1ac6d4aedca0f952d87a1cfd4d4bde946d54f103a8f802419671d9ad2e26f3bc, content: '[21] However, the gardens were said to still exist at the time that later writers described them, an...', meta: {'url': 'https://en.wikipedia.org/wiki/Hanging_Gardens_of_Babylon', '_split_id': 5}),\n",
       " Document(id=6b10fe81a7fbed8b3cccea3009351bf20bfb6c53f7b3993223f1f3b97b836992, content: '[24]\n",
       " \n",
       " Identification with Sennacherib's gardens at Nineveh\n",
       " See also: Nineveh § Sennacherib's Nineveh...', meta: {'url': 'https://en.wikipedia.org/wiki/Hanging_Gardens_of_Babylon', '_split_id': 6}),\n",
       " Document(id=8898fdd9ba5e7049fcec94ae5e9f172337de969977ccbfb1d5e2b23baf964d15, content: 'Only Josephus names Nebuchadnezzar as the king who built the gardens; although Nebuchadnezzar left m...', meta: {'url': 'https://en.wikipedia.org/wiki/Hanging_Gardens_of_Babylon', '_split_id': 7}),\n",
       " Document(id=785075351ac84affb97aca27041e4a412e2e7ac7b3a03c986b5ca6fdd386425c, content: '[36] There was a tradition of Assyrian royal garden building. King Ashurnasirpal II (883–859 BC) had...', meta: {'url': 'https://en.wikipedia.org/wiki/Hanging_Gardens_of_Babylon', '_split_id': 8}),\n",
       " Document(id=f736d7b87b1e0b18d32a823cacc82df7773fd3e6437b6d3e6b1dfd9b49dd80e6, content: 'Sennacherib was proud of the technologies he had employed and describes them in some detail on his i...', meta: {'url': 'https://en.wikipedia.org/wiki/Hanging_Gardens_of_Babylon', '_split_id': 9}),\n",
       " Document(id=48772903972a37c30dc1acf6ca2a712cfadbfff28d1a64d135e91a4f8b056c99, content: 'This meant he could build a garden that towered above the landscape with large trees on the top of t...', meta: {'url': 'https://en.wikipedia.org/wiki/Hanging_Gardens_of_Babylon', '_split_id': 10})]"
      ]
     },
     "execution_count": 6,
     "metadata": {},
     "output_type": "execute_result"
    }
   ],
   "source": [
    "documents = [Document(content=doc[\"content\"], meta=doc[\"meta\"]) for doc in dataset]\n",
    "documents"
   ]
  },
  {
   "cell_type": "code",
   "execution_count": 7,
   "id": "957feac0",
   "metadata": {},
   "outputs": [
    {
     "data": {
      "text/plain": [
       "<haystack.core.pipeline.pipeline.Pipeline object at 0x7f55402e74d0>\n",
       "🚅 Components\n",
       "  - embedder: SentenceTransformersDocumentEmbedder\n",
       "  - writer: DocumentWriter\n",
       "🛤️ Connections\n",
       "  - embedder.documents -> writer.documents (List[Document])"
      ]
     },
     "execution_count": 7,
     "metadata": {},
     "output_type": "execute_result"
    }
   ],
   "source": [
    "model = \"sentence-transformers/multi-qa-mpnet-base-dot-v1\"\n",
    "\n",
    "document_store = InMemoryDocumentStore()\n",
    "\n",
    "indexing_pipeline = Pipeline()\n",
    "\n",
    "indexing_pipeline.add_component(instance=SentenceTransformersDocumentEmbedder(model=model), name=\"embedder\")\n",
    "indexing_pipeline.add_component(instance=DocumentWriter(document_store=document_store), name=\"writer\")\n",
    "indexing_pipeline.connect(\"embedder.documents\", \"writer.documents\")"
   ]
  },
  {
   "cell_type": "code",
   "execution_count": 8,
   "id": "174fe02d",
   "metadata": {},
   "outputs": [
    {
     "name": "stderr",
     "output_type": "stream",
     "text": [
      "Batches: 100%|█████████████████████████████████████████████████████████████████████████████████████████████████████████████████████████████████████████████████████████████████████████████████████████████████| 5/5 [00:01<00:00,  4.24it/s]\n"
     ]
    },
    {
     "data": {
      "text/plain": [
       "{'writer': {'documents_written': 151}}"
      ]
     },
     "execution_count": 8,
     "metadata": {},
     "output_type": "execute_result"
    }
   ],
   "source": [
    "indexing_pipeline.run({\"documents\": documents})"
   ]
  },
  {
   "cell_type": "code",
   "execution_count": 9,
   "id": "ed6e61ef",
   "metadata": {},
   "outputs": [
    {
     "data": {
      "text/plain": [
       "<haystack.core.pipeline.pipeline.Pipeline object at 0x7f553b6b2b90>\n",
       "🚅 Components\n",
       "  - embedder: SentenceTransformersTextEmbedder\n",
       "  - retriever: InMemoryEmbeddingRetriever\n",
       "  - reader: ExtractiveReader\n",
       "🛤️ Connections\n",
       "  - embedder.embedding -> retriever.query_embedding (List[float])\n",
       "  - retriever.documents -> reader.documents (List[Document])"
      ]
     },
     "execution_count": 9,
     "metadata": {},
     "output_type": "execute_result"
    }
   ],
   "source": [
    "from haystack.components.retrievers.in_memory import InMemoryEmbeddingRetriever\n",
    "from haystack.components.readers import ExtractiveReader\n",
    "from haystack.components.embedders import SentenceTransformersTextEmbedder\n",
    "\n",
    "\n",
    "retriever = InMemoryEmbeddingRetriever(document_store=document_store)\n",
    "reader = ExtractiveReader()\n",
    "reader.warm_up()\n",
    "\n",
    "extractive_qa_pipeline = Pipeline()\n",
    "\n",
    "extractive_qa_pipeline.add_component(instance=SentenceTransformersTextEmbedder(model=model), name=\"embedder\")\n",
    "extractive_qa_pipeline.add_component(instance=retriever, name=\"retriever\")\n",
    "extractive_qa_pipeline.add_component(instance=reader, name=\"reader\")\n",
    "\n",
    "extractive_qa_pipeline.connect(\"embedder.embedding\", \"retriever.query_embedding\")\n",
    "extractive_qa_pipeline.connect(\"retriever.documents\", \"reader.documents\")"
   ]
  },
  {
   "cell_type": "code",
   "execution_count": 10,
   "id": "5fe8f010",
   "metadata": {},
   "outputs": [
    {
     "name": "stderr",
     "output_type": "stream",
     "text": [
      "Batches: 100%|█████████████████████████████████████████████████████████████████████████████████████████████████████████████████████████████████████████████████████████████████████████████████████████████████| 1/1 [00:00<00:00, 15.18it/s]\n"
     ]
    },
    {
     "data": {
      "text/plain": [
       "{'reader': {'answers': [ExtractedAnswer(query='Who was Pliny the Elder?', score=0.8306007385253906, data='Roman writer', document=Document(id=bb2c5f3d2e2e2bf28d599c7b686ab47ba10fbc13c07279e612d8632af81e5d71, content: 'The Roman writer Pliny the Elder, writing in the first century AD, argued that the Great Pyramid had...', meta: {'url': 'https://en.wikipedia.org/wiki/Great_Pyramid_of_Giza', '_split_id': 16}, score: 21.66772910369628), context=None, document_offset=ExtractedAnswer.Span(start=4, end=16), context_offset=None, meta={}),\n",
       "   ExtractedAnswer(query='Who was Pliny the Elder?', score=0.7280879616737366, data='a Roman author', document=Document(id=8910f21f7c0e97792473bcc60a8dcc7f6a90586dbb46b7bf96d28dbfcdc313f4, content: '[21]\n",
       "   Pliny the Elder (AD 23/24 – 79) was a Roman author, a naturalist and natural philosopher, a nav...', meta: {'url': 'https://en.wikipedia.org/wiki/Colossus_of_Rhodes', '_split_id': 8}, score: 26.85754046335517), context=None, document_offset=ExtractedAnswer.Span(start=41, end=55), context_offset=None, meta={}),\n",
       "   ExtractedAnswer(query='Who was Pliny the Elder?', score=0.046061698478524704, data=None, document=None, context=None, document_offset=None, context_offset=None, meta={})]}}"
      ]
     },
     "execution_count": 10,
     "metadata": {},
     "output_type": "execute_result"
    }
   ],
   "source": [
    "query = \"Who was Pliny the Elder?\"\n",
    "extractive_qa_pipeline.run(\n",
    "    data={\"embedder\": {\"text\": query}, \"retriever\": {\"top_k\": 3}, \"reader\": {\"query\": query, \"top_k\": 2}}\n",
    ")"
   ]
  },
  {
   "cell_type": "code",
   "execution_count": null,
   "id": "a8245ceb",
   "metadata": {},
   "outputs": [],
   "source": []
  }
 ],
 "metadata": {
  "kernelspec": {
   "display_name": "Python [conda env:nvidia-test] *",
   "language": "python",
   "name": "conda-env-nvidia-test-py"
  },
  "language_info": {
   "codemirror_mode": {
    "name": "ipython",
    "version": 3
   },
   "file_extension": ".py",
   "mimetype": "text/x-python",
   "name": "python",
   "nbconvert_exporter": "python",
   "pygments_lexer": "ipython3",
   "version": "3.11.8"
  }
 },
 "nbformat": 4,
 "nbformat_minor": 5
}
