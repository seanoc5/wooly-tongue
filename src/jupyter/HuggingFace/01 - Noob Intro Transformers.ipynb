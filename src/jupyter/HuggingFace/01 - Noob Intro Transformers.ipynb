{
 "cells": [
  {
   "cell_type": "markdown",
   "id": "b9262801",
   "metadata": {},
   "source": [
    "# 01 - Noob intro to transformers\n",
    "https://huggingface.co/blog/noob_intro_transformers\n",
    "\n",
    "works with `torch-env`"
   ]
  },
  {
   "cell_type": "code",
   "execution_count": 1,
   "id": "88555207",
   "metadata": {},
   "outputs": [],
   "source": [
    "from transformers import AutoTokenizer, AutoModelForCausalLM"
   ]
  },
  {
   "cell_type": "code",
   "execution_count": 2,
   "id": "b3c9173f",
   "metadata": {},
   "outputs": [],
   "source": [
    "model_id = \"microsoft/phi-2\""
   ]
  },
  {
   "cell_type": "code",
   "execution_count": 3,
   "id": "49becd13",
   "metadata": {},
   "outputs": [
    {
     "data": {
      "application/vnd.jupyter.widget-view+json": {
       "model_id": "8eaf13744dd2446f8cd5e008dc6d22bf",
       "version_major": 2,
       "version_minor": 0
      },
      "text/plain": [
       "Downloading shards:   0%|          | 0/2 [00:00<?, ?it/s]"
      ]
     },
     "metadata": {},
     "output_type": "display_data"
    },
    {
     "data": {
      "application/vnd.jupyter.widget-view+json": {
       "model_id": "61f29628d4974449af9f2cad0a8e3e5d",
       "version_major": 2,
       "version_minor": 0
      },
      "text/plain": [
       "Loading checkpoint shards:   0%|          | 0/2 [00:00<?, ?it/s]"
      ]
     },
     "metadata": {},
     "output_type": "display_data"
    }
   ],
   "source": [
    "model = AutoModelForCausalLM.from_pretrained(model_id)"
   ]
  },
  {
   "cell_type": "code",
   "execution_count": 4,
   "id": "11954f2b",
   "metadata": {},
   "outputs": [
    {
     "name": "stderr",
     "output_type": "stream",
     "text": [
      "Special tokens have been added in the vocabulary, make sure the associated word embeddings are fine-tuned or trained.\n"
     ]
    }
   ],
   "source": [
    "tokenizer = AutoTokenizer.from_pretrained(model_id, add_eos_token=True, padding_side='left')"
   ]
  },
  {
   "cell_type": "code",
   "execution_count": 5,
   "id": "a0bc0f93",
   "metadata": {},
   "outputs": [],
   "source": [
    "input_text = \"Who are you?\"\n",
    "input_ids = tokenizer(input_text, return_tensors=\"pt\")"
   ]
  },
  {
   "cell_type": "code",
   "execution_count": 6,
   "id": "f4e20108",
   "metadata": {},
   "outputs": [
    {
     "name": "stderr",
     "output_type": "stream",
     "text": [
      "The attention mask and the pad token id were not set. As a consequence, you may observe unexpected behavior. Please pass your input's `attention_mask` to obtain reliable results.\n",
      "Setting `pad_token_id` to `eos_token_id`:50256 for open-end generation.\n"
     ]
    },
    {
     "name": "stdout",
     "output_type": "stream",
     "text": [
      "Who are you? What are you doing here?\n",
      "\n",
      "The man looked at her with a mixture of surprise and suspicion. He was a tall, thin man with a scruffy beard and a worn-out coat. He seemed to be in his late thirties, and he had a tired look in his eyes.\n",
      "\n",
      "\"I'm sorry,\" he said, his voice hoarse. \"I didn't mean to scare you. I'm just looking for a place to stay.\"\n",
      "\n",
      "Soph\n"
     ]
    }
   ],
   "source": [
    "outputs = model.generate(input_ids[\"input_ids\"], max_new_tokens=100)\n",
    "decoded_outputs = tokenizer.decode(outputs[0])\n",
    "print(decoded_outputs)"
   ]
  },
  {
   "cell_type": "code",
   "execution_count": null,
   "id": "f0efdcac",
   "metadata": {},
   "outputs": [],
   "source": []
  }
 ],
 "metadata": {
  "kernelspec": {
   "display_name": "torch-env",
   "language": "python",
   "name": "torch-env"
  },
  "language_info": {
   "codemirror_mode": {
    "name": "ipython",
    "version": 3
   },
   "file_extension": ".py",
   "mimetype": "text/x-python",
   "name": "python",
   "nbconvert_exporter": "python",
   "pygments_lexer": "ipython3",
   "version": "3.10.12"
  }
 },
 "nbformat": 4,
 "nbformat_minor": 5
}
