{
 "cells": [
  {
   "cell_type": "markdown",
   "id": "da883895-a035-417b-b1e7-a0e406e055e3",
   "metadata": {},
   "source": [
    "# 30 Pinecone and Haystack with splitter\n",
    "Translate to Pinecone vector db...\n",
    "\n",
    "https://haystack.deepset.ai/tutorials/30_file_type_preprocessing_index_pipeline\n",
    "\n",
    "??Working??"
   ]
  },
  {
   "cell_type": "code",
   "id": "e644503f-0fdc-4a21-8458-857e81d68a34",
   "metadata": {
    "ExecuteTime": {
     "end_time": "2024-04-22T20:04:24.459688Z",
     "start_time": "2024-04-22T20:04:24.457116Z"
    }
   },
   "source": [
    "import os\n",
    "from pathlib import Path\n",
    "from getpass import getpass"
   ],
   "outputs": [],
   "execution_count": 1
  },
  {
   "cell_type": "code",
   "id": "35f21492-d505-40be-82d1-3ed9c43891ab",
   "metadata": {
    "ExecuteTime": {
     "end_time": "2024-04-22T20:04:25.893745Z",
     "start_time": "2024-04-22T20:04:24.460266Z"
    }
   },
   "source": [
    "from haystack.components.writers import DocumentWriter\n",
    "from haystack.components.converters import MarkdownToDocument, PyPDFToDocument, TextFileToDocument\n",
    "from haystack.components.preprocessors import DocumentSplitter, DocumentCleaner\n",
    "from haystack.components.routers import FileTypeRouter\n",
    "from haystack.components.joiners import DocumentJoiner\n",
    "from haystack.components.embedders import SentenceTransformersDocumentEmbedder\n",
    "from haystack import Pipeline\n",
    "# from haystack.document_stores.in_memory import InMemoryDocumentStore"
   ],
   "outputs": [],
   "execution_count": 2
  },
  {
   "cell_type": "code",
   "id": "94353649-f7dc-4ac8-9588-2faea8ea307a",
   "metadata": {
    "ExecuteTime": {
     "end_time": "2024-04-22T20:04:25.895659Z",
     "start_time": "2024-04-22T20:04:25.894232Z"
    }
   },
   "source": [
    "# !pip install markdown-it-py mdit_plain pypdf"
   ],
   "outputs": [],
   "execution_count": 3
  },
  {
   "cell_type": "code",
   "id": "2330414b-164b-4f12-94c1-e0f2c598507f",
   "metadata": {
    "ExecuteTime": {
     "end_time": "2024-04-22T20:04:25.987322Z",
     "start_time": "2024-04-22T20:04:25.896013Z"
    }
   },
   "source": [
    "from haystack import Document\n",
    "from haystack_integrations.document_stores.pinecone import PineconeDocumentStore"
   ],
   "outputs": [
    {
     "ename": "ModuleNotFoundError",
     "evalue": "No module named 'haystack_integrations'",
     "output_type": "error",
     "traceback": [
      "\u001B[0;31m---------------------------------------------------------------------------\u001B[0m",
      "\u001B[0;31mModuleNotFoundError\u001B[0m                       Traceback (most recent call last)",
      "Cell \u001B[0;32mIn[4], line 2\u001B[0m\n\u001B[1;32m      1\u001B[0m \u001B[38;5;28;01mfrom\u001B[39;00m \u001B[38;5;21;01mhaystack\u001B[39;00m \u001B[38;5;28;01mimport\u001B[39;00m Document\n\u001B[0;32m----> 2\u001B[0m \u001B[38;5;28;01mfrom\u001B[39;00m \u001B[38;5;21;01mhaystack_integrations\u001B[39;00m\u001B[38;5;21;01m.\u001B[39;00m\u001B[38;5;21;01mdocument_stores\u001B[39;00m\u001B[38;5;21;01m.\u001B[39;00m\u001B[38;5;21;01mpinecone\u001B[39;00m \u001B[38;5;28;01mimport\u001B[39;00m PineconeDocumentStore\n",
      "\u001B[0;31mModuleNotFoundError\u001B[0m: No module named 'haystack_integrations'"
     ]
    }
   ],
   "execution_count": 4
  },
  {
   "cell_type": "code",
   "id": "8214cb75-6c3a-405a-bd77-90f98de75668",
   "metadata": {
    "ExecuteTime": {
     "end_time": "2024-04-22T20:04:25.988104Z",
     "start_time": "2024-04-22T20:04:25.988055Z"
    }
   },
   "source": [
    "os.environ[\"HF_API_TOKEN\"] = getpass(\"Enter Hugging Face API key:\")"
   ],
   "outputs": [],
   "execution_count": null
  },
  {
   "cell_type": "code",
   "id": "b5ece069-0a47-4e0f-9d20-18609e80b721",
   "metadata": {},
   "source": [
    "pak = \"PINECONE_API_KEY\"\n",
    "if pak in os.environ:\n",
    "    print(\"Found PINECONE_API_KEY in os.environ, no need to prompt\")\n",
    "else: \n",
    "    os.environ[\"PINECONE_API_KEY\"]= getpass(\"Enter PINECONE API key:\")\n",
    "\n",
    "#os.environ[\"PINECONE_API_KEY\"]"
   ],
   "outputs": [],
   "execution_count": null
  },
  {
   "cell_type": "code",
   "id": "21129680-0ab8-4e05-9b70-1730cb60421c",
   "metadata": {},
   "source": [
    "# Make sure you have the PINECONE_API_KEY environment variable set\n",
    "document_store = PineconeDocumentStore(\n",
    "\t\tenvironment=\"gcp-starter\",\n",
    "\t\tindex=\"myidx\",\n",
    "\t\tnamespace=\"myns\",\n",
    "\t\tdimension=5\n",
    ")\n",
    "\n",
    "document_store.write_documents([\n",
    "    Document(content=\"This is first\", embedding=[0.2]*5), \n",
    "    Document(content=\"This is second\", embedding=[0.1, 0.2, 0.3, 0.4, 0.5])\n",
    "    ])"
   ],
   "outputs": [],
   "execution_count": null
  },
  {
   "cell_type": "code",
   "id": "139a4561-cf5f-48c7-8ea7-96b0728a0965",
   "metadata": {},
   "source": [
    "print(document_store.count_documents())"
   ],
   "outputs": [],
   "execution_count": null
  },
  {
   "cell_type": "code",
   "id": "2cce5c68-e95d-4ccd-84c9-7007759ff9b4",
   "metadata": {},
   "source": [
    "document_store = InMemoryDocumentStore()\n",
    "file_type_router = FileTypeRouter(mime_types=[\"text/plain\", \"application/pdf\", \"text/markdown\"])\n",
    "text_file_converter = TextFileToDocument()\n",
    "markdown_converter = MarkdownToDocument()\n",
    "pdf_converter = PyPDFToDocument()\n",
    "document_joiner = DocumentJoiner()"
   ],
   "outputs": [],
   "execution_count": null
  },
  {
   "cell_type": "code",
   "id": "9bfd1a0b-ee74-4066-a180-b89d237c399d",
   "metadata": {},
   "source": [
    "document_cleaner = DocumentCleaner()\n",
    "document_splitter = DocumentSplitter(split_by=\"word\", split_length=150, split_overlap=50)"
   ],
   "outputs": [],
   "execution_count": null
  },
  {
   "cell_type": "code",
   "id": "d838981c-4a8b-4f8f-978f-7dd92d4c44f3",
   "metadata": {},
   "source": [
    "document_embedder = SentenceTransformersDocumentEmbedder(model=\"sentence-transformers/all-MiniLM-L6-v2\")\n",
    "document_writer = DocumentWriter(document_store)"
   ],
   "outputs": [],
   "execution_count": null
  },
  {
   "cell_type": "code",
   "id": "1e4b677d-08ac-4731-8d98-a2475695be48",
   "metadata": {},
   "source": [
    "preprocessing_pipeline = Pipeline()\n",
    "preprocessing_pipeline.add_component(instance=file_type_router, name=\"file_type_router\")\n",
    "preprocessing_pipeline.add_component(instance=text_file_converter, name=\"text_file_converter\")\n",
    "preprocessing_pipeline.add_component(instance=markdown_converter, name=\"markdown_converter\")\n",
    "preprocessing_pipeline.add_component(instance=pdf_converter, name=\"pypdf_converter\")\n",
    "preprocessing_pipeline.add_component(instance=document_joiner, name=\"document_joiner\")\n",
    "preprocessing_pipeline.add_component(instance=document_cleaner, name=\"document_cleaner\")\n",
    "preprocessing_pipeline.add_component(instance=document_splitter, name=\"document_splitter\")\n",
    "preprocessing_pipeline.add_component(instance=document_embedder, name=\"document_embedder\")\n",
    "preprocessing_pipeline.add_component(instance=document_writer, name=\"document_writer\")"
   ],
   "outputs": [],
   "execution_count": null
  },
  {
   "cell_type": "code",
   "id": "a825d755-16dc-45e5-b197-301b8ac738ac",
   "metadata": {},
   "source": [
    "preprocessing_pipeline.connect(\"file_type_router.text/plain\", \"text_file_converter.sources\")\n",
    "preprocessing_pipeline.connect(\"file_type_router.application/pdf\", \"pypdf_converter.sources\")\n",
    "preprocessing_pipeline.connect(\"file_type_router.text/markdown\", \"markdown_converter.sources\")\n",
    "preprocessing_pipeline.connect(\"text_file_converter\", \"document_joiner\")\n",
    "preprocessing_pipeline.connect(\"pypdf_converter\", \"document_joiner\")\n",
    "preprocessing_pipeline.connect(\"markdown_converter\", \"document_joiner\")\n",
    "preprocessing_pipeline.connect(\"document_joiner\", \"document_cleaner\")\n",
    "preprocessing_pipeline.connect(\"document_cleaner\", \"document_splitter\")\n",
    "preprocessing_pipeline.connect(\"document_splitter\", \"document_embedder\")\n",
    "preprocessing_pipeline.connect(\"document_embedder\", \"document_writer\")"
   ],
   "outputs": [],
   "execution_count": null
  },
  {
   "cell_type": "code",
   "id": "95d7457b-5429-4054-b973-4574b0129e81",
   "metadata": {},
   "source": [
    "from pathlib import Path\n",
    "data_dir = \"/opt/data/samples\"\n",
    "preprocessing_pipeline.run({\"file_type_router\": {\"sources\": list(Path(data_dir).glob(\"**/*\"))}})"
   ],
   "outputs": [],
   "execution_count": null
  },
  {
   "cell_type": "code",
   "id": "fd8b63b8-7fcb-434e-802d-d8954e2f6ba6",
   "metadata": {},
   "source": [
    "import os\n",
    "from getpass import getpass\n",
    "\n",
    "if \"HF_API_TOKEN\" not in os.environ:\n",
    "    os.environ[\"HF_API_TOKEN\"] = getpass(\"Enter Hugging Face token:\")"
   ],
   "outputs": [],
   "execution_count": null
  },
  {
   "cell_type": "code",
   "id": "ec3f55ea-84d0-4643-9c67-5719a6190520",
   "metadata": {},
   "source": [
    "from haystack.components.embedders import SentenceTransformersTextEmbedder\n",
    "from haystack.components.retrievers.in_memory import InMemoryEmbeddingRetriever\n",
    "from haystack.components.builders import PromptBuilder\n",
    "from haystack.components.generators import HuggingFaceTGIGenerator\n",
    "\n",
    "template = \"\"\"\n",
    "Answer the questions based on the given context.\n",
    "\n",
    "Context:\n",
    "{% for document in documents %}\n",
    "    {{ document.content }}\n",
    "{% endfor %}\n",
    "\n",
    "Question: {{ question }}\n",
    "Answer:\n",
    "\"\"\"\n",
    "pipe = Pipeline()\n",
    "pipe.add_component(\"embedder\", SentenceTransformersTextEmbedder(model=\"sentence-transformers/all-MiniLM-L6-v2\"))\n",
    "pipe.add_component(\"retriever\", InMemoryEmbeddingRetriever(document_store=document_store))\n",
    "pipe.add_component(\"prompt_builder\", PromptBuilder(template=template))\n",
    "pipe.add_component(\"llm\", HuggingFaceTGIGenerator(\"mistralai/Mistral-7B-Instruct-v0.1\"))\n",
    "\n",
    "pipe.connect(\"embedder.embedding\", \"retriever.query_embedding\")\n",
    "pipe.connect(\"retriever\", \"prompt_builder.documents\")\n",
    "pipe.connect(\"prompt_builder\", \"llm\")\n"
   ],
   "outputs": [],
   "execution_count": null
  },
  {
   "cell_type": "code",
   "id": "90de64b2-fa5c-4789-8452-6d149c60990e",
   "metadata": {},
   "source": [
    "question = (\n",
    "    # \"What topics are discussed in jacksonville politics?\"\n",
    "    \"What are some Action Based Groups in jacksonville?\"\n",
    ")\n",
    "\n",
    "pipe.run(\n",
    "    {\n",
    "        \"embedder\": {\"text\": question},\n",
    "        \"prompt_builder\": {\"question\": question},\n",
    "        \"llm\": {\"generation_kwargs\": {\"max_new_tokens\": 350}},\n",
    "    }\n",
    ")\n"
   ],
   "outputs": [],
   "execution_count": null
  },
  {
   "cell_type": "code",
   "id": "33df726b-1d0f-4e62-82a0-71a79c85d8f5",
   "metadata": {},
   "source": [],
   "outputs": [],
   "execution_count": null
  }
 ],
 "metadata": {
  "kernelspec": {
   "display_name": "ollama-haystack",
   "language": "python",
   "name": "ollama-haystack"
  },
  "language_info": {
   "codemirror_mode": {
    "name": "ipython",
    "version": 3
   },
   "file_extension": ".py",
   "mimetype": "text/x-python",
   "name": "python",
   "nbconvert_exporter": "python",
   "pygments_lexer": "ipython3",
   "version": "3.10.0"
  }
 },
 "nbformat": 4,
 "nbformat_minor": 5
}
