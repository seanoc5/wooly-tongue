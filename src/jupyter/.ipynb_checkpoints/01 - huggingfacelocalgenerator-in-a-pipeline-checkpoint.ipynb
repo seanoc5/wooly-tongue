{
 "cells": [
  {
   "cell_type": "markdown",
   "id": "6c57fe1b-07e1-4afe-9f54-b0a6c06f5c4f",
   "metadata": {},
   "source": [
    "# huggingfacelocalgenerator in-a-pipeline\n",
    "https://docs.haystack.deepset.ai/docs/huggingfacelocalgenerator#in-a-pipeline"
   ]
  },
  {
   "cell_type": "code",
   "id": "5ec2a36231a8e8c9",
   "metadata": {
    "ExecuteTime": {
     "end_time": "2024-04-22T21:35:46.802082Z",
     "start_time": "2024-04-22T21:35:44.038879Z"
    }
   },
   "source": [
    "from haystack import Pipeline\n",
    "from haystack.components.retrievers.in_memory import InMemoryBM25Retriever\n",
    "from haystack.components.builders.prompt_builder import PromptBuilder\n",
    "from haystack.components.generators import HuggingFaceLocalGenerator\n",
    "from haystack.document_stores.in_memory import InMemoryDocumentStore\n",
    "from haystack import Document\n",
    "\n",
    "docstore = InMemoryDocumentStore()\n",
    "docstore.write_documents([Document(content=\"Rome is the capital of Italy\"), Document(content=\"Paris is the capital of France\")])\n",
    "\n",
    "generator = HuggingFaceLocalGenerator(model=\"google/flan-t5-large\",\n",
    "                                      task=\"text2text-generation\",\n",
    "                                      generation_kwargs={\n",
    "                                        \"max_new_tokens\": 100,\n",
    "                                        \"temperature\": 0.9,\n",
    "                                        })\n",
    "\n",
    "query = \"What is the capital of France?\"\n",
    "\n",
    "template = \"\"\"\n",
    "Given the following information, answer the question.\n",
    "\n",
    "Context: \n",
    "{% for document in documents %}\n",
    "    {{ document.content }}\n",
    "{% endfor %}\n",
    "\n",
    "Question: {{ query }}?\n",
    "Answer: \n",
    "\"\"\"\n",
    "pipe = Pipeline()\n",
    "\n",
    "pipe.add_component(\"retriever\", InMemoryBM25Retriever(document_store=docstore))\n",
    "pipe.add_component(\"prompt_builder\", PromptBuilder(template=template))\n",
    "pipe.add_component(\"llm\", generator)\n",
    "pipe.connect(\"retriever\", \"prompt_builder.documents\")\n",
    "pipe.connect(\"prompt_builder\", \"llm\")\n",
    "\n",
    "res=pipe.run({\n",
    "    \"prompt_builder\": {\n",
    "        \"query\": query\n",
    "    },\n",
    "    \"retriever\": {\n",
    "        \"query\": query\n",
    "    }\n",
    "})"
   ],
   "outputs": [],
   "execution_count": null
  },
  {
   "metadata": {
    "ExecuteTime": {
     "end_time": "2024-04-22T21:35:53.267890Z",
     "start_time": "2024-04-22T21:35:53.264285Z"
    }
   },
   "cell_type": "code",
   "source": "print(res)",
   "id": "36203ae3-2490-445a-9bf5-64e2cfc57453",
   "outputs": [
    {
     "name": "stdout",
     "output_type": "stream",
     "text": [
      "{'llm': {'replies': ['Paris']}}\n"
     ]
    }
   ],
   "execution_count": 2
  },
  {
   "cell_type": "code",
   "execution_count": null,
   "id": "124e9e4c-0f0c-4edf-b6d4-20519fc2f31f",
   "metadata": {},
   "outputs": [],
   "source": []
  }
 ],
 "metadata": {
  "kernelspec": {
   "display_name": "Python 3 (ipykernel)",
   "language": "python",
   "name": "python3"
  },
  "language_info": {
   "codemirror_mode": {
    "name": "ipython",
    "version": 3
   },
   "file_extension": ".py",
   "mimetype": "text/x-python",
   "name": "python",
   "nbconvert_exporter": "python",
   "pygments_lexer": "ipython3",
   "version": "3.12.2"
  }
 },
 "nbformat": 4,
 "nbformat_minor": 5
}
