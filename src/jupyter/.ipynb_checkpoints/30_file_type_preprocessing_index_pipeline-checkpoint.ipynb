{
 "cells": [
  {
   "cell_type": "markdown",
   "id": "da883895-a035-417b-b1e7-a0e406e055e3",
   "metadata": {},
   "source": [
    "# 30_file_type_preprocessing_index_pipeline\n",
    "In Memory \n",
    "\n",
    "https://haystack.deepset.ai/tutorials/30_file_type_preprocessing_index_pipeline\n",
    "\n",
    "Working"
   ]
  },
  {
   "cell_type": "code",
   "execution_count": 1,
   "id": "35f21492-d505-40be-82d1-3ed9c43891ab",
   "metadata": {},
   "outputs": [],
   "source": [
    "from haystack.components.writers import DocumentWriter\n",
    "from haystack.components.converters import MarkdownToDocument, PyPDFToDocument, TextFileToDocument\n",
    "from haystack.components.preprocessors import DocumentSplitter, DocumentCleaner\n",
    "from haystack.components.routers import FileTypeRouter\n",
    "from haystack.components.joiners import DocumentJoiner\n",
    "from haystack.components.embedders import SentenceTransformersDocumentEmbedder\n",
    "from haystack import Pipeline\n",
    "from haystack.document_stores.in_memory import InMemoryDocumentStore"
   ]
  },
  {
   "cell_type": "code",
   "execution_count": 2,
   "id": "94353649-f7dc-4ac8-9588-2faea8ea307a",
   "metadata": {},
   "outputs": [],
   "source": [
    "# !pip install markdown-it-py mdit_plain pypdf"
   ]
  },
  {
   "cell_type": "code",
   "execution_count": 3,
   "id": "2cce5c68-e95d-4ccd-84c9-7007759ff9b4",
   "metadata": {},
   "outputs": [],
   "source": [
    "document_store = InMemoryDocumentStore()\n",
    "file_type_router = FileTypeRouter(mime_types=[\"text/plain\", \"application/pdf\", \"text/markdown\"])\n",
    "text_file_converter = TextFileToDocument()\n",
    "markdown_converter = MarkdownToDocument()\n",
    "pdf_converter = PyPDFToDocument()\n",
    "document_joiner = DocumentJoiner()"
   ]
  },
  {
   "cell_type": "code",
   "execution_count": 4,
   "id": "9bfd1a0b-ee74-4066-a180-b89d237c399d",
   "metadata": {},
   "outputs": [],
   "source": [
    "document_cleaner = DocumentCleaner()\n",
    "document_splitter = DocumentSplitter(split_by=\"word\", split_length=150, split_overlap=50)"
   ]
  },
  {
   "cell_type": "code",
   "execution_count": 5,
   "id": "d838981c-4a8b-4f8f-978f-7dd92d4c44f3",
   "metadata": {},
   "outputs": [],
   "source": [
    "document_embedder = SentenceTransformersDocumentEmbedder(model=\"sentence-transformers/all-MiniLM-L6-v2\")\n",
    "document_writer = DocumentWriter(document_store)"
   ]
  },
  {
   "cell_type": "code",
   "execution_count": 6,
   "id": "1e4b677d-08ac-4731-8d98-a2475695be48",
   "metadata": {},
   "outputs": [],
   "source": [
    "preprocessing_pipeline = Pipeline()\n",
    "preprocessing_pipeline.add_component(instance=file_type_router, name=\"file_type_router\")\n",
    "preprocessing_pipeline.add_component(instance=text_file_converter, name=\"text_file_converter\")\n",
    "preprocessing_pipeline.add_component(instance=markdown_converter, name=\"markdown_converter\")\n",
    "preprocessing_pipeline.add_component(instance=pdf_converter, name=\"pypdf_converter\")\n",
    "preprocessing_pipeline.add_component(instance=document_joiner, name=\"document_joiner\")\n",
    "preprocessing_pipeline.add_component(instance=document_cleaner, name=\"document_cleaner\")\n",
    "preprocessing_pipeline.add_component(instance=document_splitter, name=\"document_splitter\")\n",
    "preprocessing_pipeline.add_component(instance=document_embedder, name=\"document_embedder\")\n",
    "preprocessing_pipeline.add_component(instance=document_writer, name=\"document_writer\")"
   ]
  },
  {
   "cell_type": "code",
   "execution_count": 7,
   "id": "a825d755-16dc-45e5-b197-301b8ac738ac",
   "metadata": {},
   "outputs": [
    {
     "data": {
      "text/plain": [
       "<haystack.core.pipeline.pipeline.Pipeline object at 0x7f434c367d90>\n",
       "🚅 Components\n",
       "  - file_type_router: FileTypeRouter\n",
       "  - text_file_converter: TextFileToDocument\n",
       "  - markdown_converter: MarkdownToDocument\n",
       "  - pypdf_converter: PyPDFToDocument\n",
       "  - document_joiner: DocumentJoiner\n",
       "  - document_cleaner: DocumentCleaner\n",
       "  - document_splitter: DocumentSplitter\n",
       "  - document_embedder: SentenceTransformersDocumentEmbedder\n",
       "  - document_writer: DocumentWriter\n",
       "🛤️ Connections\n",
       "  - file_type_router.text/plain -> text_file_converter.sources (List[Path])\n",
       "  - file_type_router.application/pdf -> pypdf_converter.sources (List[Path])\n",
       "  - file_type_router.text/markdown -> markdown_converter.sources (List[Path])\n",
       "  - text_file_converter.documents -> document_joiner.documents (List[Document])\n",
       "  - markdown_converter.documents -> document_joiner.documents (List[Document])\n",
       "  - pypdf_converter.documents -> document_joiner.documents (List[Document])\n",
       "  - document_joiner.documents -> document_cleaner.documents (List[Document])\n",
       "  - document_cleaner.documents -> document_splitter.documents (List[Document])\n",
       "  - document_splitter.documents -> document_embedder.documents (List[Document])\n",
       "  - document_embedder.documents -> document_writer.documents (List[Document])"
      ]
     },
     "execution_count": 7,
     "metadata": {},
     "output_type": "execute_result"
    }
   ],
   "source": [
    "preprocessing_pipeline.connect(\"file_type_router.text/plain\", \"text_file_converter.sources\")\n",
    "preprocessing_pipeline.connect(\"file_type_router.application/pdf\", \"pypdf_converter.sources\")\n",
    "preprocessing_pipeline.connect(\"file_type_router.text/markdown\", \"markdown_converter.sources\")\n",
    "preprocessing_pipeline.connect(\"text_file_converter\", \"document_joiner\")\n",
    "preprocessing_pipeline.connect(\"pypdf_converter\", \"document_joiner\")\n",
    "preprocessing_pipeline.connect(\"markdown_converter\", \"document_joiner\")\n",
    "preprocessing_pipeline.connect(\"document_joiner\", \"document_cleaner\")\n",
    "preprocessing_pipeline.connect(\"document_cleaner\", \"document_splitter\")\n",
    "preprocessing_pipeline.connect(\"document_splitter\", \"document_embedder\")\n",
    "preprocessing_pipeline.connect(\"document_embedder\", \"document_writer\")"
   ]
  },
  {
   "cell_type": "code",
   "execution_count": 8,
   "id": "95d7457b-5429-4054-b973-4574b0129e81",
   "metadata": {},
   "outputs": [
    {
     "name": "stderr",
     "output_type": "stream",
     "text": [
      "Ignoring wrong pointing object 11 0 (offset 0)\n",
      "Ignoring wrong pointing object 33 0 (offset 0)\n",
      "Ignoring wrong pointing object 8 0 (offset 0)\n",
      "Ignoring wrong pointing object 10 0 (offset 0)\n",
      "Ignoring wrong pointing object 12 0 (offset 0)\n",
      "Ignoring wrong pointing object 15 0 (offset 0)\n",
      "Could not read /opt/data/jax/Duval Charter schools/17601_2018_1.pdf and convert it to Document, skipping. cryptography>=3.1 is required for AES algorithm\n",
      "Could not read /opt/data/jax/Duval Charter schools/COMPREHENSIVE_ANNUAL_FINANCIAL_REPORT_CAFR_2017-18.pdf and convert it to Document, skipping. cryptography>=3.1 is required for AES algorithm\n",
      "Ignoring wrong pointing object 45 0 (offset 0)\n",
      "Could not read /opt/data/jax/Duval Charter schools/19032_2018_1.pdf and convert it to Document, skipping. cryptography>=3.1 is required for AES algorithm\n"
     ]
    },
    {
     "data": {
      "application/vnd.jupyter.widget-view+json": {
       "model_id": "9f884bfeb0de44b3b1b57cd70a1238c0",
       "version_major": 2,
       "version_minor": 0
      },
      "text/plain": [
       "Batches:   0%|          | 0/205 [00:00<?, ?it/s]"
      ]
     },
     "metadata": {},
     "output_type": "display_data"
    },
    {
     "data": {
      "text/plain": [
       "{'file_type_router': {'unclassified': [PosixPath('/opt/data/jax/Coggins'),\n",
       "   PosixPath('/opt/data/jax/Beaches dem club'),\n",
       "   PosixPath('/opt/data/jax/Duval Charter schools'),\n",
       "   PosixPath('/opt/data/jax/Coggins/Baynard.docx'),\n",
       "   PosixPath('/opt/data/jax/Coggins/Blue Ecosystem2.xmind'),\n",
       "   PosixPath('/opt/data/jax/Coggins/LohBaynard.docx'),\n",
       "   PosixPath('/opt/data/jax/Coggins/Albert Loh ChungPing.docx'),\n",
       "   PosixPath('/opt/data/jax/Coggins/ACSDT5Y2020.B27010_2022-08-09T082301.zip'),\n",
       "   PosixPath('/opt/data/jax/Beaches dem club/9bc497_a28e8e03f6ae443080e2f1484d244f6e.docx'),\n",
       "   PosixPath('/opt/data/jax/Beaches dem club/9bc497_8b744d71e02c41008335e247a94d30fc.docx'),\n",
       "   PosixPath('/opt/data/jax/Beaches dem club/FL Dems.docx'),\n",
       "   PosixPath('/opt/data/jax/Beaches dem club/BDC content.docx'),\n",
       "   PosixPath('/opt/data/jax/Beaches dem club/9bc497_4dfd6216b2514148bac61a539f492da2.docx'),\n",
       "   PosixPath('/opt/data/jax/Beaches dem club/CAFR'),\n",
       "   PosixPath('/opt/data/jax/Beaches dem club/9bc497_89e56c2985b740a0bb99af7ccc100e21.docx'),\n",
       "   PosixPath('/opt/data/jax/Beaches dem club/9bc497_bd79735a3ceb4778902430e8654a8c44.docx'),\n",
       "   PosixPath('/opt/data/jax/Duval Charter schools/ARFullTimeSchlStaff1920.xlsx')]},\n",
       " 'document_writer': {'documents_written': 6551}}"
      ]
     },
     "execution_count": 8,
     "metadata": {},
     "output_type": "execute_result"
    }
   ],
   "source": [
    "from pathlib import Path\n",
    "data_dir = \"/opt/data/samples\"\n",
    "preprocessing_pipeline.run({\"file_type_router\": {\"sources\": list(Path(data_dir).glob(\"**/*\"))}})"
   ]
  },
  {
   "cell_type": "code",
   "execution_count": 10,
   "id": "fd8b63b8-7fcb-434e-802d-d8954e2f6ba6",
   "metadata": {},
   "outputs": [],
   "source": [
    "import os\n",
    "from getpass import getpass\n",
    "\n",
    "if \"HF_API_TOKEN\" not in os.environ:\n",
    "    os.environ[\"HF_API_TOKEN\"] = getpass(\"Enter Hugging Face token:\")"
   ]
  },
  {
   "cell_type": "code",
   "execution_count": 11,
   "id": "ec3f55ea-84d0-4643-9c67-5719a6190520",
   "metadata": {},
   "outputs": [
    {
     "data": {
      "text/plain": [
       "<haystack.core.pipeline.pipeline.Pipeline object at 0x7f434c3a8d90>\n",
       "🚅 Components\n",
       "  - embedder: SentenceTransformersTextEmbedder\n",
       "  - retriever: InMemoryEmbeddingRetriever\n",
       "  - prompt_builder: PromptBuilder\n",
       "  - llm: HuggingFaceTGIGenerator\n",
       "🛤️ Connections\n",
       "  - embedder.embedding -> retriever.query_embedding (List[float])\n",
       "  - retriever.documents -> prompt_builder.documents (List[Document])\n",
       "  - prompt_builder.prompt -> llm.prompt (str)"
      ]
     },
     "execution_count": 11,
     "metadata": {},
     "output_type": "execute_result"
    }
   ],
   "source": [
    "from haystack.components.embedders import SentenceTransformersTextEmbedder\n",
    "from haystack.components.retrievers.in_memory import InMemoryEmbeddingRetriever\n",
    "from haystack.components.builders import PromptBuilder\n",
    "from haystack.components.generators import HuggingFaceTGIGenerator\n",
    "\n",
    "template = \"\"\"\n",
    "Answer the questions based on the given context.\n",
    "\n",
    "Context:\n",
    "{% for document in documents %}\n",
    "    {{ document.content }}\n",
    "{% endfor %}\n",
    "\n",
    "Question: {{ question }}\n",
    "Answer:\n",
    "\"\"\"\n",
    "pipe = Pipeline()\n",
    "pipe.add_component(\"embedder\", SentenceTransformersTextEmbedder(model=\"sentence-transformers/all-MiniLM-L6-v2\"))\n",
    "pipe.add_component(\"retriever\", InMemoryEmbeddingRetriever(document_store=document_store))\n",
    "pipe.add_component(\"prompt_builder\", PromptBuilder(template=template))\n",
    "pipe.add_component(\"llm\", HuggingFaceTGIGenerator(\"mistralai/Mistral-7B-Instruct-v0.1\"))\n",
    "\n",
    "pipe.connect(\"embedder.embedding\", \"retriever.query_embedding\")\n",
    "pipe.connect(\"retriever\", \"prompt_builder.documents\")\n",
    "pipe.connect(\"prompt_builder\", \"llm\")\n"
   ]
  },
  {
   "cell_type": "code",
   "execution_count": 12,
   "id": "90de64b2-fa5c-4789-8452-6d149c60990e",
   "metadata": {},
   "outputs": [
    {
     "data": {
      "application/vnd.jupyter.widget-view+json": {
       "model_id": "c2177dd71ec24ab19979ed2c87185753",
       "version_major": 2,
       "version_minor": 0
      },
      "text/plain": [
       "Batches:   0%|          | 0/1 [00:00<?, ?it/s]"
      ]
     },
     "metadata": {},
     "output_type": "display_data"
    },
    {
     "data": {
      "text/plain": [
       "{'llm': {'replies': [' 1. Office of Sports and Entertainment\\n2. Military Affairs, Veterans & Disabled Svcs\\n3. Downtown Investment Authority\\n4. Jacksonville Housing & Finance Auth.\\n5. Office of Ethics, Compliance & Oversight\\n6. Central Operations\\n7. Environmental and Compliance\\n8. Recreation and Community Services\\n9. Information Technolog y\\n10. Human Rights Commission\\n11. Jacksonville Economic Dev. Commission\\n12. Housing and Neighborhoods\\n13. Administration and Finance\\n14. Parks, Rec., Enter., and Conservation\\n15. Community Services\\n16. Procurement and Supply\\n17. Agriculture\\n18. Judicial\\n19. Commerce\\n20. Transportation\\n21. Aviation Port\\n22. Business-Type\\n23. Commission\\n24. Units\\n25. JEA Authority\\n26. Authority\\n27. ACTIVITIES\\n28. MAJOR JACKSONVILLE JACKSONVILLE JACKSONVILLE AND DEVELOPMENT COMPONENT TRANSPORTATION AVIATION PORT BUSINESS-TYPE COMMISSION UNITS JEA AUTHORITY AUTHORITY ACTIVITIES\\n29. $ - $ - $ - $ - $ - $ - $ (63,289)\\n30. - - - - - (502) (6,487) - - - - - (6,487) - 2,198'],\n",
       "  'meta': [{'model': 'mistralai/Mistral-7B-Instruct-v0.1',\n",
       "    'index': 0,\n",
       "    'finish_reason': 'length',\n",
       "    'usage': {'completion_tokens': 350,\n",
       "     'prompt_tokens': 3845,\n",
       "     'total_tokens': 4195}}]}}"
      ]
     },
     "execution_count": 12,
     "metadata": {},
     "output_type": "execute_result"
    }
   ],
   "source": [
    "question = (\n",
    "    # \"What topics are discussed in jacksonville politics?\"\n",
    "    \"What are some Action Based Groups in jacksonville?\"\n",
    ")\n",
    "\n",
    "pipe.run(\n",
    "    {\n",
    "        \"embedder\": {\"text\": question},\n",
    "        \"prompt_builder\": {\"question\": question},\n",
    "        \"llm\": {\"generation_kwargs\": {\"max_new_tokens\": 350}},\n",
    "    }\n",
    ")\n"
   ]
  },
  {
   "cell_type": "code",
   "execution_count": null,
   "id": "33df726b-1d0f-4e62-82a0-71a79c85d8f5",
   "metadata": {},
   "outputs": [],
   "source": []
  }
 ],
 "metadata": {
  "kernelspec": {
   "display_name": "Python 3 (ipykernel)",
   "language": "python",
   "name": "python3"
  },
  "language_info": {
   "codemirror_mode": {
    "name": "ipython",
    "version": 3
   },
   "file_extension": ".py",
   "mimetype": "text/x-python",
   "name": "python",
   "nbconvert_exporter": "python",
   "pygments_lexer": "ipython3",
   "version": "3.10.12"
  }
 },
 "nbformat": 4,
 "nbformat_minor": 5
}
