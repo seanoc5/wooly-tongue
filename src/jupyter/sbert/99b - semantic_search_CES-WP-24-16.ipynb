{
 "cells": [
  {
   "cell_type": "markdown",
   "metadata": {
    "id": "AF_x5L0e9r8A"
   },
   "source": [
    "# Semantic Search - CES-WP-24-16\n",
    "\n",
    "You can input a query or a question. The script then uses semantic search\n",
    "to find relevant passages  from a Census.gov report:\n",
    "\n",
    "https://www.census.gov/hfp/btos/downloads/CES-WP-24-16.pdf \n",
    "\n",
    "**PDF Title**:\n",
    "Tracking Firm Use of AI in Real Time: A Snapshot from the Business Trends and\n",
    "Outlook Survey\n",
    "\n",
    "\n",
    "\n",
    "As model, we use: nq-distilbert-base-v1\n",
    "\n",
    "It was trained on the Natural Questions dataset, a dataset with real questions from Google Search together with annotated data from \n",
    "Wikipedia providing the answer.\n",
    "\n"
   ]
  },
  {
   "cell_type": "code",
   "execution_count": null,
   "metadata": {
    "colab": {
     "base_uri": "https://localhost:8080/"
    },
    "id": "hJbZ22zZ7yPi",
    "outputId": "bddbd74b-d27e-4c20-dd51-d0bc9c8da9ad"
   },
   "outputs": [],
   "source": [
    "#!pip install -U sentence-transformers"
   ]
  },
  {
   "cell_type": "code",
   "execution_count": 2,
   "metadata": {
    "id": "6zQLM84377Xf"
   },
   "outputs": [
    {
     "name": "stdout",
     "output_type": "stream",
     "text": [
      "Found and using cuda/gpu...\n"
     ]
    }
   ],
   "source": [
    "import json\n",
    "from sentence_transformers import SentenceTransformer, CrossEncoder, util\n",
    "import time\n",
    "import gzip\n",
    "import os\n",
    "import torch\n",
    "import pypdf\n",
    "\n",
    "if torch.cuda.is_available():\n",
    "    print(\"Found and using cuda/gpu...\")\n",
    "else:\n",
    "    print(\"Warning: No GPU found. Please add GPU to your notebook\")"
   ]
  },
  {
   "cell_type": "code",
   "execution_count": 3,
   "metadata": {
    "id": "6zQLM84377Xf"
   },
   "outputs": [],
   "source": [
    "# We use the Bi-Encoder to encode all passages, so that we can use it with sematic search\n",
    "model_name = 'nq-distilbert-base-v1'\n",
    "bi_encoder = SentenceTransformer(model_name)\n",
    "top_k = 5  # Number of passages we want to retrieve with the bi-encoder"
   ]
  },
  {
   "cell_type": "code",
   "execution_count": 4,
   "metadata": {
    "id": "6zQLM84377Xf"
   },
   "outputs": [
    {
     "name": "stdout",
     "output_type": "stream",
     "text": [
      "Found pdf (CES-WP-24-16.pdf) available locally, no need to (re)download it\n"
     ]
    }
   ],
   "source": [
    "# As dataset, we use Simple English Wikipedia. Compared to the full English wikipedia, it has only\n",
    "import requests\n",
    "pdf_name = \"CES-WP-24-16.pdf\"\n",
    "if os.path.exists(pdf_name):\n",
    "    print(f\"Found pdf ({pdf_name}) available locally, no need to (re)download it\")\n",
    "else:\n",
    "    print(f\"Coud NOT find pdf ({pdf_name}) available locally, attempting to download it...\")\n",
    "    url = f'https://www.census.gov/hfp/btos/downloads/{pdf_name}'\n",
    "    response = requests.get(url)\n",
    "    with open(pdf_name, 'wb') as f:\n",
    "        f.write(response.content)\n",
    "    print(f\"Wrote file(?): {pdf_name}\")"
   ]
  },
  {
   "cell_type": "code",
   "execution_count": 8,
   "metadata": {
    "id": "6zQLM84377Xf"
   },
   "outputs": [
    {
     "name": "stdout",
     "output_type": "stream",
     "text": [
      "Extracted text from (63) pages, text size:(120720\n"
     ]
    }
   ],
   "source": [
    "\n",
    "# Open the PDF file\n",
    "with open(pdf_name, 'rb') as file:\n",
    "    reader = pypdf.PdfReader(file)\n",
    "    text = \"\"\n",
    "    # page_count = reader.page_count\n",
    "    page_count = 0\n",
    "    for page in reader.pages:\n",
    "        page_count = page_count + 1\n",
    "        text += page.extract_text() + \"\\n\"\n",
    "\n",
    "print(f\"Extracted text from ({page_count}) pages, text size:({len(text)}\")"
   ]
  },
  {
   "cell_type": "markdown",
   "metadata": {},
   "source": [
    "Now that we have extracted each page of text, and added them together, let's split that back apart..."
   ]
  },
  {
   "cell_type": "code",
   "execution_count": null,
   "metadata": {},
   "outputs": [],
   "source": []
  },
  {
   "cell_type": "code",
   "execution_count": null,
   "metadata": {
    "id": "6zQLM84377Xf"
   },
   "outputs": [],
   "source": [
    "# To speed things up, pre-computed embeddings are downloaded.\n",
    "# The provided file encoded the passages with the model 'nq-distilbert-base-v1'\n",
    "if model_name == 'nq-distilbert-base-v1':\n",
    "    embeddings_filepath = f'{pdf_name}-nq-distilbert-base-v1.pt'\n",
    "    if os.path.exists(embeddings_filepath):\n",
    "        print(f\"Found existing (pre)embeddings file: {embeddings_filepath}\")\n",
    "    else:\n",
    "        print(f\"NO (pre)embeddings found, download/cache file: {embeddings_filepath} now...\")\n",
    "        util.http_get('http://sbert.net/datasets/simplewiki-2020-11-01-nq-distilbert-base-v1.pt', embeddings_filepath)\n",
    "\n",
    "    corpus_embeddings = torch.load(embeddings_filepath)\n",
    "    corpus_embeddings = corpus_embeddings.float()  # Convert embedding file to float\n",
    "    if torch.cuda.is_available():\n",
    "        corpus_embeddings = corpus_embeddings.to('cuda')\n",
    "else:  # Here, we compute the corpus_embeddings from scratch (which can take a while depending on the GPU)\n",
    "    corpus_embeddings = bi_encoder.encode(passages, convert_to_tensor=True, show_progress_bar=True)"
   ]
  },
  {
   "cell_type": "code",
   "execution_count": null,
   "metadata": {
    "id": "ay9y6HdQ8Dx2"
   },
   "outputs": [],
   "source": [
    "def search(query):\n",
    "    # Encode the query using the bi-encoder and find potentially relevant passages\n",
    "    start_time = time.time()\n",
    "    question_embedding = bi_encoder.encode(query, convert_to_tensor=True)\n",
    "    hits = util.semantic_search(question_embedding, corpus_embeddings, top_k=top_k)\n",
    "    hits = hits[0]  # Get the hits for the first query\n",
    "    end_time = time.time()\n",
    "\n",
    "    # Output of top-k hits\n",
    "    print(\"Input question:\", query)\n",
    "    print(\"Results (after {:.3f} seconds):\".format(end_time - start_time))\n",
    "    for hit in hits:\n",
    "        print(\"\\t{:.3f}\\t{}\".format(hit['score'], passages[hit['corpus_id']]))"
   ]
  },
  {
   "cell_type": "code",
   "execution_count": null,
   "metadata": {
    "colab": {
     "base_uri": "https://localhost:8080/"
    },
    "id": "yzYTZ62j8JYv",
    "outputId": "4d765440-2b0f-43af-e9d7-4d1361b893b7"
   },
   "outputs": [],
   "source": [
    "search(query = \"What is the capital of the France?\")"
   ]
  },
  {
   "cell_type": "code",
   "execution_count": null,
   "metadata": {
    "colab": {
     "base_uri": "https://localhost:8080/"
    },
    "id": "i09OgOIz8K-u",
    "outputId": "7244ae09-ded6-4182-998d-25c942d0b83d"
   },
   "outputs": [],
   "source": [
    "search(query = \"What is the best orchestra in the world?\")"
   ]
  },
  {
   "cell_type": "code",
   "execution_count": null,
   "metadata": {
    "colab": {
     "base_uri": "https://localhost:8080/"
    },
    "id": "I34QJmac8MGm",
    "outputId": "de832dfb-aac7-4e93-de80-03c70314eaae"
   },
   "outputs": [],
   "source": [
    "search(query = \"Number countries Europe\")"
   ]
  },
  {
   "cell_type": "code",
   "execution_count": null,
   "metadata": {
    "colab": {
     "base_uri": "https://localhost:8080/"
    },
    "id": "07Y5IlfY8NYO",
    "outputId": "40976ab6-23b2-45fb-c1a7-c2e0c38e7e8b"
   },
   "outputs": [],
   "source": [
    "search(query = \"When did the cold war end?\")"
   ]
  },
  {
   "cell_type": "code",
   "execution_count": null,
   "metadata": {
    "colab": {
     "base_uri": "https://localhost:8080/"
    },
    "id": "-Vwl92Sj8OfH",
    "outputId": "5e6c5889-4b79-49e3-f23b-5a5769cf6c50"
   },
   "outputs": [],
   "source": [
    "search(query = \"How long do cats live?\")"
   ]
  },
  {
   "cell_type": "code",
   "execution_count": null,
   "metadata": {
    "colab": {
     "base_uri": "https://localhost:8080/"
    },
    "id": "8ctUiLrj8Qjv",
    "outputId": "522784fd-6cab-4933-acc1-cc197913fe31"
   },
   "outputs": [],
   "source": [
    "search(query = \"How many people live in Toronto?\")"
   ]
  },
  {
   "cell_type": "code",
   "execution_count": null,
   "metadata": {
    "colab": {
     "base_uri": "https://localhost:8080/"
    },
    "id": "52IVo1tt8Rxu",
    "outputId": "639519aa-1c8b-4db2-b029-9436ffced905"
   },
   "outputs": [],
   "source": [
    "search(query = \"Oldest US president\")"
   ]
  },
  {
   "cell_type": "code",
   "execution_count": null,
   "metadata": {
    "colab": {
     "base_uri": "https://localhost:8080/"
    },
    "id": "wmU6eCWz8TO-",
    "outputId": "fe9fc50c-a61a-4616-c833-eb508fbde12f"
   },
   "outputs": [],
   "source": [
    "search(query = \"Coldest place earth\")"
   ]
  },
  {
   "cell_type": "code",
   "execution_count": null,
   "metadata": {
    "colab": {
     "base_uri": "https://localhost:8080/"
    },
    "id": "8PlBh4lE8Vki",
    "outputId": "a5a44d32-42fc-4c67-a196-302c70bdfc6e"
   },
   "outputs": [],
   "source": [
    "search(query = \"When was Barack Obama born?\")"
   ]
  },
  {
   "cell_type": "code",
   "execution_count": null,
   "metadata": {
    "colab": {
     "base_uri": "https://localhost:8080/"
    },
    "id": "imc4y5-08YEX",
    "outputId": "f585489a-7041-4369-b86e-70b75756d363"
   },
   "outputs": [],
   "source": [
    "search(query = \"Paris eiffel tower\")"
   ]
  },
  {
   "cell_type": "code",
   "execution_count": null,
   "metadata": {
    "colab": {
     "base_uri": "https://localhost:8080/"
    },
    "id": "7lohdeEU8ZFJ",
    "outputId": "9f5c1b3d-9673-400e-e1df-c6811a5993e6"
   },
   "outputs": [],
   "source": [
    "search(query = \"Which US president was killed?\")"
   ]
  },
  {
   "cell_type": "code",
   "execution_count": null,
   "metadata": {
    "colab": {
     "base_uri": "https://localhost:8080/"
    },
    "id": "0NHv0VYs8aNm",
    "outputId": "7f9c1454-eb5b-4c79-9b4c-526429257798"
   },
   "outputs": [],
   "source": [
    "search(query=\"When is Chinese New Year\")"
   ]
  },
  {
   "cell_type": "code",
   "execution_count": null,
   "metadata": {
    "colab": {
     "base_uri": "https://localhost:8080/"
    },
    "id": "azCVW4Pb7ExY",
    "outputId": "8d00c613-b012-48f6-d78d-4345b09e169b"
   },
   "outputs": [],
   "source": [
    "search(query=\"what is the name of manchester united stadium\")"
   ]
  },
  {
   "cell_type": "code",
   "execution_count": null,
   "metadata": {
    "colab": {
     "base_uri": "https://localhost:8080/"
    },
    "id": "Kau1RStr8HAq",
    "outputId": "13fe4783-5357-447b-ce1a-da60e35ee58f"
   },
   "outputs": [],
   "source": [
    "search(query=\"who wrote cant get you out of my head lyrics\")"
   ]
  },
  {
   "cell_type": "code",
   "execution_count": null,
   "metadata": {
    "colab": {
     "base_uri": "https://localhost:8080/"
    },
    "id": "eWJv14Bw8oZg",
    "outputId": "da777b3c-3558-4c5c-ca55-7e96730787db"
   },
   "outputs": [],
   "source": [
    "search(query=\"where does the story the great gatsby take place\")"
   ]
  },
  {
   "cell_type": "code",
   "execution_count": null,
   "metadata": {
    "colab": {
     "base_uri": "https://localhost:8080/"
    },
    "id": "LEb8wz6S9Yku",
    "outputId": "2e874371-fd1e-48e0-d11c-ed862588db9a"
   },
   "outputs": [],
   "source": [
    "search(query=\"who turned out to be the mother on how i met your mother\")"
   ]
  },
  {
   "cell_type": "code",
   "execution_count": null,
   "metadata": {
    "colab": {
     "base_uri": "https://localhost:8080/"
    },
    "id": "uGm4v0MeBYUa",
    "outputId": "95d8bafb-c96c-45ac-8b5d-5aa934f98038"
   },
   "outputs": [],
   "source": [
    "from sentence_transformers import SentenceTransformer, util\n",
    "model = SentenceTransformer('nq-distilbert-base-v1')\n",
    "\n",
    "query_embedding = model.encode('How many people live in London?')\n",
    "\n",
    "#The passages are encoded as [title, text]\n",
    "passage_embedding = model.encode([['London', 'London has 9,787,426 inhabitants at the 2011 census.']])\n",
    "\n",
    "print(\"Similarity:\", util.pytorch_cos_sim(query_embedding, passage_embedding))"
   ]
  },
  {
   "cell_type": "code",
   "execution_count": null,
   "metadata": {
    "colab": {
     "base_uri": "https://localhost:8080/"
    },
    "id": "OFaQkBLK_4pn",
    "outputId": "b1ce1304-5824-44d5-f756-c48d592645c5"
   },
   "outputs": [],
   "source": [
    "query_embedding = model.encode('who turned out to be the mother on how i met your mother')\n",
    "\n",
    "#The passages are encoded as [title, text]\n",
    "passage_embedding = model.encode([['The Mother (How I Met Your Mother)', 'The Mother (How I Met Your Mother) Tracy McConnell (colloquial: \"The Mother\") is the title character from the CBS television sitcom \"How I Met Your Mother\". The show, narrated by Future Ted (Bob Saget), tells the story of how Ted Mosby (Josh Radnor) met The Mother. Tracy McConnell appears in eight episodes, from \"Lucky Penny\" to \"The Time Travelers\", as an unseen character; she was first seen fully in \"Something New\" and was promoted to a main character in season 9. The Mother is played by Cristin Milioti. The story of how Ted met The Mother is the framing device'],\n",
    "                                  ['Make It Easy on Me', 'and Pete Waterman on her 1993 album \"Good \\'N\\' Ready\", on which a remixed version of the song is included. \"Make It Easy On Me\", a mid-tempo R&B jam, received good reviews (especially for signalling a different, more soulful and mature sound atypical of the producers\\' Europop fare), but failed to make an impact on the charts, barely making the UK top 100 peaking at #99, and peaking at #52 on the \"Billboard\" R&B charts. The pop group Steps covered the song on their 1999 album \"Steptacular\". It was sung as a solo by Lisa Scott-Lee. Make It Easy on']])\n",
    "\n",
    "print(\"Similarity:\", util.pytorch_cos_sim(query_embedding, passage_embedding))"
   ]
  },
  {
   "cell_type": "code",
   "execution_count": null,
   "metadata": {
    "colab": {
     "base_uri": "https://localhost:8080/"
    },
    "id": "yq6w1AUQAaNW",
    "outputId": "f901331e-09ea-4bc8-bf01-7261e28f7018"
   },
   "outputs": [],
   "source": [
    "query_embedding = model.encode('where does the story the great gatsby take place')\n",
    "passage_embedding = model.encode([['The Great Gatsby',\n",
    " 'The Great Gatsby The Great Gatsby is a 1925 novel written by American author F. Scott Fitzgerald that follows a cast of characters living in the fictional towns of West Egg and East Egg on prosperous Long Island in the summer of 1922. The story primarily concerns the young and mysterious millionaire Jay Gatsby and his quixotic passion and obsession with the beautiful former debutante Daisy Buchanan. Considered to be Fitzgerald\\'s magnum opus, \"The Great Gatsby\" explores themes of decadence, idealism, resistance to change, social upheaval, and excess, creating a portrait of the Roaring Twenties that has been described as'],\n",
    " ['The Producers (1967 film)', '2005 (to coincide with the remake released that year). In 2011, MGM licensed the title to Shout! Factory to release a DVD and Blu-ray combo pack with new HD transfers and bonus materials. StudioCanal (worldwide rights holder to all of the Embassy Pictures library) released several R2 DVD editions and Blu-ray B releases using a transfer slightly different from the North Ameri can DVD and BDs. The Producers (1967 film) The Producers is a 1967 American satirical comedy film written and directed by Mel Brooks and starring Zero Mostel, Gene Wilder, Dick Shawn, and Kenneth Mars. The film was Brooks\\'s directorial']\n",
    "])\n",
    "\n",
    "print(\"Similarity:\", util.pytorch_cos_sim(query_embedding, passage_embedding))\n"
   ]
  },
  {
   "cell_type": "code",
   "execution_count": null,
   "metadata": {},
   "outputs": [],
   "source": []
  }
 ],
 "metadata": {
  "accelerator": "GPU",
  "colab": {
   "provenance": []
  },
  "kernelspec": {
   "display_name": "sbert",
   "language": "python",
   "name": "sbert"
  },
  "language_info": {
   "codemirror_mode": {
    "name": "ipython",
    "version": 3
   },
   "file_extension": ".py",
   "mimetype": "text/x-python",
   "name": "python",
   "nbconvert_exporter": "python",
   "pygments_lexer": "ipython3",
   "version": "3.10.12"
  }
 },
 "nbformat": 4,
 "nbformat_minor": 4
}
