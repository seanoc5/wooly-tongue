{
 "cells": [
  {
   "cell_type": "markdown",
   "id": "10a4967e-174f-40cf-abed-1571141b2f7a",
   "metadata": {},
   "source": [
    "# Quick demo to try to find similar words\n",
    "This could be a (hackish?) way to highlight results from ML/vector/semantic searchs\n"
   ]
  },
  {
   "cell_type": "code",
   "execution_count": 1,
   "id": "a950df9f-91dd-4365-86f7-c2390dfc865d",
   "metadata": {},
   "outputs": [],
   "source": [
    "from transformers import BertModel, BertTokenizer\n",
    "import torch\n",
    "from scipy.spatial.distance import cosine"
   ]
  },
  {
   "cell_type": "code",
   "execution_count": 2,
   "id": "d8eda466-e952-4471-a227-2dc7ac63cbbb",
   "metadata": {},
   "outputs": [],
   "source": [
    "# Load tokenizer and model\n",
    "tokenizer = BertTokenizer.from_pretrained('bert-base-uncased')\n",
    "model = BertModel.from_pretrained('bert-base-uncased')"
   ]
  },
  {
   "cell_type": "code",
   "execution_count": 3,
   "id": "2304e42d-caab-4c24-92f3-9006308143ec",
   "metadata": {},
   "outputs": [],
   "source": [
    "# Function to get word embeddings\n",
    "def get_word_embeddings(sentence):\n",
    "    inputs = tokenizer(sentence, return_tensors='pt', padding=True, truncation=True)\n",
    "    outputs = model(**inputs)\n",
    "    # Use the last hidden state\n",
    "    embeddings = outputs.last_hidden_state\n",
    "    return embeddings, inputs['input_ids']"
   ]
  },
  {
   "cell_type": "code",
   "execution_count": 4,
   "id": "3a5ac357-18e2-41d1-a112-9089a273a2ea",
   "metadata": {},
   "outputs": [],
   "source": [
    "# Function to find similar words\n",
    "def find_similar_words(sentence1, sentence2):\n",
    "    embeddings1, ids1 = get_word_embeddings(sentence1)\n",
    "    embeddings2, ids2 = get_word_embeddings(sentence2)\n",
    "\n",
    "    # Map ids back to tokens\n",
    "    tokens1 = [tokenizer.decode([id]) for id in ids1[0]]\n",
    "    tokens2 = [tokenizer.decode([id]) for id in ids2[0]]\n",
    "\n",
    "    # Calculate similarities\n",
    "    similarities = {}\n",
    "    for i, token1 in enumerate(tokens1):\n",
    "        for j, token2 in enumerate(tokens2):\n",
    "            # Compute cosine similarity\n",
    "            sim = 1 - cosine(embeddings1[0, i].detach().numpy(), embeddings2[0, j].detach().numpy())\n",
    "            if token1 not in similarities or similarities[token1][1] < sim:\n",
    "                similarities[token1] = (token2, sim)\n",
    "    \n",
    "    return similarities"
   ]
  },
  {
   "cell_type": "code",
   "execution_count": 5,
   "id": "323c4113-0e3b-454d-8e99-64d6e1f135c2",
   "metadata": {},
   "outputs": [],
   "source": [
    "# Example sentences\n",
    "sentence1 = \"The boy smiled at his teacher.\"\n",
    "sentence2 = \"The child was eating ice cream.\""
   ]
  },
  {
   "cell_type": "code",
   "execution_count": 6,
   "id": "2fd21949-eaea-4f20-a669-6047bba37c9a",
   "metadata": {},
   "outputs": [
    {
     "name": "stdout",
     "output_type": "stream",
     "text": [
      "{'[CLS]': ('[CLS]', 0.8606757052455114), 'the': ('the', 0.73774177663601), 'boy': ('child', 0.6595289324990087), 'smiled': ('was', 0.4766085492943497), 'at': ('eating', 0.407170474189551), 'his': ('the', 0.4130035502665621), 'teacher': ('child', 0.49251745015367443), '.': ('[SEP]', 0.9145055804767722), '[SEP]': ('[SEP]', 0.8814502295370953)}\n"
     ]
    }
   ],
   "source": [
    "similar_words = find_similar_words(sentence1, sentence2)\n",
    "print(similar_words)"
   ]
  },
  {
   "cell_type": "code",
   "execution_count": null,
   "id": "15f84002-1524-4e7c-882e-2d86f2ce8c01",
   "metadata": {},
   "outputs": [],
   "source": []
  }
 ],
 "metadata": {
  "kernelspec": {
   "display_name": "sbert",
   "language": "python",
   "name": "sbert"
  },
  "language_info": {
   "codemirror_mode": {
    "name": "ipython",
    "version": 3
   },
   "file_extension": ".py",
   "mimetype": "text/x-python",
   "name": "python",
   "nbconvert_exporter": "python",
   "pygments_lexer": "ipython3",
   "version": "3.10.12"
  }
 },
 "nbformat": 4,
 "nbformat_minor": 5
}
