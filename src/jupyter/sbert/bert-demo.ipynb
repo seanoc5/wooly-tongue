{
 "cells": [
  {
   "metadata": {},
   "cell_type": "markdown",
   "source": [
    "# Vector Embeddings demo - partee\n",
    "https://partee.io/2022/08/11/vector-embeddings/"
   ],
   "id": "873bc943bc303159"
  },
  {
   "cell_type": "code",
   "id": "869abbf15f4b6232",
   "metadata": {
    "collapsed": true,
    "ExecuteTime": {
     "end_time": "2024-05-07T21:39:05.044095Z",
     "start_time": "2024-05-07T21:38:59.747345Z"
    }
   },
   "source": [
    "import numpy as np\n",
    "\n",
    "from numpy.linalg import norm\n",
    "from sentence_transformers import SentenceTransformer"
   ],
   "outputs": [],
   "execution_count": 1
  },
  {
   "metadata": {
    "ExecuteTime": {
     "end_time": "2024-05-07T21:39:08.675333Z",
     "start_time": "2024-05-07T21:39:06.930296Z"
    }
   },
   "cell_type": "code",
   "source": [
    "\n",
    "# Define the model we want to use (it'll download itself)\n",
    "model = SentenceTransformer('sentence-transformers/all-MiniLM-L6-v2')"
   ],
   "id": "e18d89bd5120b971",
   "outputs": [],
   "execution_count": 2
  },
  {
   "metadata": {
    "ExecuteTime": {
     "end_time": "2024-05-07T21:39:11.922888Z",
     "start_time": "2024-05-07T21:39:11.920689Z"
    }
   },
   "cell_type": "code",
   "source": [
    "\n",
    "sentences = [\n",
    "  \"That is a very happy person\",\n",
    "  \"That is a happy dog\",\n",
    "  \"Today is a sunny day\"\n",
    "]"
   ],
   "id": "c9cbd8d554f956eb",
   "outputs": [],
   "execution_count": 3
  },
  {
   "metadata": {
    "ExecuteTime": {
     "end_time": "2024-05-07T21:39:28.105183Z",
     "start_time": "2024-05-07T21:39:27.251146Z"
    }
   },
   "cell_type": "code",
   "source": [
    "# vector embeddings created from dataset\n",
    "embeddings = model.encode(sentences)\n",
    "\n",
    "# query vector embedding\n",
    "query_embedding = model.encode(\"That is a happy person\")"
   ],
   "id": "bb449fb616fac451",
   "outputs": [],
   "execution_count": 4
  },
  {
   "metadata": {},
   "cell_type": "markdown",
   "source": "",
   "id": "27e50896baa06146"
  },
  {
   "metadata": {
    "ExecuteTime": {
     "end_time": "2024-05-07T21:40:02.993524Z",
     "start_time": "2024-05-07T21:40:02.986061Z"
    }
   },
   "cell_type": "code",
   "source": "embeddings",
   "id": "26b2cbb23a4d7a5d",
   "outputs": [
    {
     "data": {
      "text/plain": [
       "array([[-0.00248317,  0.09151708,  0.04838625, ..., -0.02641121,\n",
       "        -0.07529832,  0.02803211],\n",
       "       [ 0.00504994,  0.06316979,  0.01415728, ...,  0.04035438,\n",
       "         0.07584123,  0.0908735 ],\n",
       "       [-0.01629126,  0.10406609,  0.09740778, ...,  0.00676727,\n",
       "        -0.08788458,  0.03404385]], dtype=float32)"
      ]
     },
     "execution_count": 5,
     "metadata": {},
     "output_type": "execute_result"
    }
   ],
   "execution_count": 5
  },
  {
   "metadata": {
    "ExecuteTime": {
     "end_time": "2024-05-07T21:40:42.838853Z",
     "start_time": "2024-05-07T21:40:42.834165Z"
    }
   },
   "cell_type": "code",
   "source": [
    "# define our distance metric\n",
    "def cosine_similarity(a, b):\n",
    "    return np.dot(a, b)/(norm(a)*norm(b))"
   ],
   "id": "345ef3130ad6ae71",
   "outputs": [],
   "execution_count": 6
  },
  {
   "metadata": {
    "ExecuteTime": {
     "end_time": "2024-05-07T21:40:45.621123Z",
     "start_time": "2024-05-07T21:40:45.618619Z"
    }
   },
   "cell_type": "code",
   "source": [
    "# run semantic similarity search\n",
    "print(\"Query: That is a happy person\")\n",
    "for e, s in zip(embeddings, sentences):\n",
    "    print(s, \" -> similarity score = \",\n",
    "         cosine_similarity(e, query_embedding))\n"
   ],
   "id": "initial_id",
   "outputs": [
    {
     "name": "stdout",
     "output_type": "stream",
     "text": [
      "Query: That is a happy person\n",
      "That is a very happy person  -> similarity score =  0.942915\n",
      "That is a happy dog  -> similarity score =  0.6945775\n",
      "Today is a sunny day  -> similarity score =  0.25687605\n"
     ]
    }
   ],
   "execution_count": 7
  },
  {
   "metadata": {},
   "cell_type": "code",
   "outputs": [],
   "execution_count": null,
   "source": "",
   "id": "792b16fa6d7ccc47"
  }
 ],
 "metadata": {
  "kernelspec": {
   "display_name": "Python 3",
   "language": "python",
   "name": "python3"
  },
  "language_info": {
   "codemirror_mode": {
    "name": "ipython",
    "version": 2
   },
   "file_extension": ".py",
   "mimetype": "text/x-python",
   "name": "python",
   "nbconvert_exporter": "python",
   "pygments_lexer": "ipython2",
   "version": "2.7.6"
  }
 },
 "nbformat": 4,
 "nbformat_minor": 5
}
