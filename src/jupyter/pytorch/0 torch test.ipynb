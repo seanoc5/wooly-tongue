{
 "cells": [
  {
   "cell_type": "code",
   "execution_count": 2,
   "id": "5040e23f",
   "metadata": {},
   "outputs": [
    {
     "name": "stdout",
     "output_type": "stream",
     "text": [
      "tensor([[0.2292, 0.0172, 0.4087],\n",
      "        [0.5681, 0.2681, 0.7009],\n",
      "        [0.6499, 0.3990, 0.3144],\n",
      "        [0.6511, 0.3566, 0.6913],\n",
      "        [0.4795, 0.8005, 0.9147]])\n"
     ]
    },
    {
     "data": {
      "text/plain": [
       "True"
      ]
     },
     "execution_count": 2,
     "metadata": {},
     "output_type": "execute_result"
    }
   ],
   "source": [
    "import torch\n",
    "x = torch.rand(5, 3)\n",
    "print(x)\n",
    "\n",
    "torch.cuda.is_available()"
   ]
  },
  {
   "cell_type": "code",
   "execution_count": null,
   "id": "f6307b0e",
   "metadata": {},
   "outputs": [],
   "source": []
  }
 ],
 "metadata": {
  "kernelspec": {
   "display_name": "Python [conda env:nvidia-test] *",
   "language": "python",
   "name": "conda-env-nvidia-test-py"
  },
  "language_info": {
   "codemirror_mode": {
    "name": "ipython",
    "version": 3
   },
   "file_extension": ".py",
   "mimetype": "text/x-python",
   "name": "python",
   "nbconvert_exporter": "python",
   "pygments_lexer": "ipython3",
   "version": "3.11.8"
  }
 },
 "nbformat": 4,
 "nbformat_minor": 5
}
