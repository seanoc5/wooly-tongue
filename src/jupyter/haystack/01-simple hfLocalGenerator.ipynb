{
 "cells": [
  {
   "cell_type": "markdown",
   "id": "92e6fabb-c1b6-4867-8566-06f35d2e1fdb",
   "metadata": {},
   "source": [
    "# Haystack testing and fragents\n",
    "\n",
    "Note: need to resolve temparature & use_samplings (currently just commented out temp)"
   ]
  },
  {
   "cell_type": "code",
   "id": "d881d672-9630-4d33-84b4-d68a324c2b8e",
   "metadata": {
    "ExecuteTime": {
     "end_time": "2024-05-28T23:01:42.719617Z",
     "start_time": "2024-05-28T23:01:40.748978Z"
    }
   },
   "source": [
    "from haystack.components.generators import HuggingFaceLocalGenerator"
   ],
   "outputs": [],
   "execution_count": 1
  },
  {
   "cell_type": "code",
   "id": "43f833e2-2588-44cd-84e4-56ca09cebf20",
   "metadata": {
    "ExecuteTime": {
     "end_time": "2024-05-28T23:01:42.722166Z",
     "start_time": "2024-05-28T23:01:42.720325Z"
    }
   },
   "source": [
    "generator = HuggingFaceLocalGenerator(model=\"google/flan-t5-large\",\n",
    "                                      task=\"text2text-generation\",\n",
    "                                      generation_kwargs={\n",
    "                                        \"max_new_tokens\": 100,\n",
    "                                        # \"temperature\": 0.9,\n",
    "                                        })"
   ],
   "outputs": [],
   "execution_count": 2
  },
  {
   "cell_type": "code",
   "id": "a512e54e-bb8e-49f6-97b2-59b98cccc801",
   "metadata": {
    "ExecuteTime": {
     "end_time": "2024-05-28T23:01:50.406917Z",
     "start_time": "2024-05-28T23:01:42.722583Z"
    }
   },
   "source": [
    "generator.warm_up()"
   ],
   "outputs": [],
   "execution_count": 3
  },
  {
   "cell_type": "code",
   "id": "f7a68f41-77ab-48e9-8d6e-f156765b0ddd",
   "metadata": {
    "ExecuteTime": {
     "end_time": "2024-05-28T23:01:50.547978Z",
     "start_time": "2024-05-28T23:01:50.407694Z"
    }
   },
   "source": [
    "print(generator.run(\"Who is the best American actor?\"))\n"
   ],
   "outputs": [
    {
     "name": "stdout",
     "output_type": "stream",
     "text": [
      "{'replies': ['john wayne']}\n"
     ]
    }
   ],
   "execution_count": 4
  },
  {
   "cell_type": "code",
   "execution_count": null,
   "id": "0740ba46-0df4-45ab-9faa-24159c7264ae",
   "metadata": {},
   "outputs": [],
   "source": []
  }
 ],
 "metadata": {
  "kernelspec": {
   "display_name": "wt2",
   "language": "python",
   "name": "wt2"
  },
  "language_info": {
   "codemirror_mode": {
    "name": "ipython",
    "version": 3
   },
   "file_extension": ".py",
   "mimetype": "text/x-python",
   "name": "python",
   "nbconvert_exporter": "python",
   "pygments_lexer": "ipython3",
   "version": "3.10.12"
  }
 },
 "nbformat": 4,
 "nbformat_minor": 5
}
