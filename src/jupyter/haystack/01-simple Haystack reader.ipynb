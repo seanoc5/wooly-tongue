{
 "cells": [
  {
   "cell_type": "markdown",
   "id": "92e6fabb-c1b6-4867-8566-06f35d2e1fdb",
   "metadata": {},
   "source": [
    "# Haystack testing and fragents\n",
    "\n",
    "Note: need to resolve temparature & use_samplings (currently just commented out temp)"
   ]
  },
  {
   "cell_type": "code",
   "id": "d881d672-9630-4d33-84b4-d68a324c2b8e",
   "metadata": {
    "ExecuteTime": {
     "end_time": "2024-05-28T23:02:57.433217Z",
     "start_time": "2024-05-28T23:02:56.279318Z"
    }
   },
   "source": [
    "from haystack import Document\n",
    "from haystack.components.readers import ExtractiveReader\n",
    "from rich import print  # https://rich.readthedocs.io/en/stable/markup.html#console-markup\n",
    "from rich.console import Console\n",
    "from rich.highlighter import RegexHighlighter\n",
    "from rich.style import Style\n",
    "from rich.table import Table\n",
    "from rich.theme import Theme"
   ],
   "outputs": [],
   "execution_count": 1
  },
  {
   "cell_type": "code",
   "id": "3948e227-dc0f-436f-b0d0-9c130e758f4c",
   "metadata": {
    "ExecuteTime": {
     "end_time": "2024-05-28T23:03:02.411669Z",
     "start_time": "2024-05-28T23:03:02.406939Z"
    }
   },
   "source": [
    "docs = [\n",
    "    Document(content=\"Python is a popular programming language\"),\n",
    "    Document(content=\"Icecream is delicious\"),\n",
    "    Document(content=\"Camels have humps\"),\n",
    "]"
   ],
   "outputs": [],
   "execution_count": 2
  },
  {
   "cell_type": "code",
   "id": "c94bffd2-3d65-4e7a-8fe9-df6446ecf676",
   "metadata": {
    "ExecuteTime": {
     "end_time": "2024-05-28T23:03:03.992150Z",
     "start_time": "2024-05-28T23:03:03.508447Z"
    }
   },
   "source": [
    "reader = ExtractiveReader()\n",
    "reader.warm_up()"
   ],
   "outputs": [],
   "execution_count": 3
  },
  {
   "cell_type": "code",
   "id": "539500a3-efaa-4f10-bd11-47f9b3ff63aa",
   "metadata": {
    "ExecuteTime": {
     "end_time": "2024-05-28T23:03:06.751680Z",
     "start_time": "2024-05-28T23:03:06.633427Z"
    }
   },
   "source": [
    "question = \"What is a popular programming language?\"\n",
    "result = reader.run(query=question, documents=docs)"
   ],
   "outputs": [],
   "execution_count": 4
  },
  {
   "cell_type": "code",
   "execution_count": 10,
   "id": "f78e4b46-7882-4d4d-bbb6-ee3d97ae8d74",
   "metadata": {},
   "outputs": [],
   "source": [
    "assert \"Python\" in result[\"answers\"][0].data"
   ]
  },
  {
   "cell_type": "code",
   "id": "ec0cd55b-e6ea-4f38-b011-bf8e748e9f20",
   "metadata": {
    "ExecuteTime": {
     "end_time": "2024-05-28T23:08:04.782721Z",
     "start_time": "2024-05-28T23:08:04.748499Z"
    }
   },
   "source": [
    "table = Table(title=question, show_lines=True, highlight=True)\n",
    "table.add_column(\"node id\", style=\"blue\", )     #no_wrap=True\n",
    "table.add_column(\"Score\", style=\"blue\", )     #no_wrap=True\n",
    "# table.add_column(\"Tika Score\",  style=\"green\")\n",
    "table.add_column(\"Tika Text\")\n",
    "\n",
    "for answer in result['answers']:\n",
    "    print(\"answer\", answer)\n"
   ],
   "outputs": [
    {
     "data": {
      "text/plain": [
       "answer\n",
       "\u001B[1;35mExtractedAnswer\u001B[0m\u001B[1m(\u001B[0m\n",
       "    \u001B[33mquery\u001B[0m=\u001B[32m'What is a popular programming language?'\u001B[0m,\n",
       "    \u001B[33mscore\u001B[0m=\u001B[1;36m0\u001B[0m\u001B[1;36m.7912205457687378\u001B[0m,\n",
       "    \u001B[33mdata\u001B[0m=\u001B[32m'Python'\u001B[0m,\n",
       "    \u001B[33mdocument\u001B[0m=\u001B[1;35mDocument\u001B[0m\u001B[1m(\u001B[0m\u001B[33mid\u001B[0m=\u001B[35mdb7f24c54f2476f5d0c438cfcbbea5e45de37124ff7de69a5bf8e82413c3f614\u001B[0m, content: \u001B[32m'Python is a \u001B[0m\n",
       "\u001B[32mpopular programming language'\u001B[0m\u001B[1m)\u001B[0m,\n",
       "    \u001B[33mcontext\u001B[0m=\u001B[3;35mNone\u001B[0m,\n",
       "    \u001B[33mdocument_offset\u001B[0m=\u001B[1;35mSpan\u001B[0m\u001B[1m(\u001B[0m\u001B[33mstart\u001B[0m=\u001B[1;36m0\u001B[0m, \u001B[33mend\u001B[0m=\u001B[1;36m6\u001B[0m\u001B[1m)\u001B[0m,\n",
       "    \u001B[33mcontext_offset\u001B[0m=\u001B[3;35mNone\u001B[0m,\n",
       "    \u001B[33mmeta\u001B[0m=\u001B[1m{\u001B[0m\u001B[1m}\u001B[0m\n",
       "\u001B[1m)\u001B[0m\n"
      ],
      "text/html": [
       "<pre style=\"white-space:pre;overflow-x:auto;line-height:normal;font-family:Menlo,'DejaVu Sans Mono',consolas,'Courier New',monospace\">answer\n",
       "<span style=\"color: #800080; text-decoration-color: #800080; font-weight: bold\">ExtractedAnswer</span><span style=\"font-weight: bold\">(</span>\n",
       "    <span style=\"color: #808000; text-decoration-color: #808000\">query</span>=<span style=\"color: #008000; text-decoration-color: #008000\">'What is a popular programming language?'</span>,\n",
       "    <span style=\"color: #808000; text-decoration-color: #808000\">score</span>=<span style=\"color: #008080; text-decoration-color: #008080; font-weight: bold\">0.7912205457687378</span>,\n",
       "    <span style=\"color: #808000; text-decoration-color: #808000\">data</span>=<span style=\"color: #008000; text-decoration-color: #008000\">'Python'</span>,\n",
       "    <span style=\"color: #808000; text-decoration-color: #808000\">document</span>=<span style=\"color: #800080; text-decoration-color: #800080; font-weight: bold\">Document</span><span style=\"font-weight: bold\">(</span><span style=\"color: #808000; text-decoration-color: #808000\">id</span>=<span style=\"color: #800080; text-decoration-color: #800080\">db7f24c54f2476f5d0c438cfcbbea5e45de37124ff7de69a5bf8e82413c3f614</span>, content: <span style=\"color: #008000; text-decoration-color: #008000\">'Python is a </span>\n",
       "<span style=\"color: #008000; text-decoration-color: #008000\">popular programming language'</span><span style=\"font-weight: bold\">)</span>,\n",
       "    <span style=\"color: #808000; text-decoration-color: #808000\">context</span>=<span style=\"color: #800080; text-decoration-color: #800080; font-style: italic\">None</span>,\n",
       "    <span style=\"color: #808000; text-decoration-color: #808000\">document_offset</span>=<span style=\"color: #800080; text-decoration-color: #800080; font-weight: bold\">Span</span><span style=\"font-weight: bold\">(</span><span style=\"color: #808000; text-decoration-color: #808000\">start</span>=<span style=\"color: #008080; text-decoration-color: #008080; font-weight: bold\">0</span>, <span style=\"color: #808000; text-decoration-color: #808000\">end</span>=<span style=\"color: #008080; text-decoration-color: #008080; font-weight: bold\">6</span><span style=\"font-weight: bold\">)</span>,\n",
       "    <span style=\"color: #808000; text-decoration-color: #808000\">context_offset</span>=<span style=\"color: #800080; text-decoration-color: #800080; font-style: italic\">None</span>,\n",
       "    <span style=\"color: #808000; text-decoration-color: #808000\">meta</span>=<span style=\"font-weight: bold\">{}</span>\n",
       "<span style=\"font-weight: bold\">)</span>\n",
       "</pre>\n"
      ]
     },
     "metadata": {},
     "output_type": "display_data"
    },
    {
     "data": {
      "text/plain": [
       "answer\n",
       "\u001B[1;35mExtractedAnswer\u001B[0m\u001B[1m(\u001B[0m\n",
       "    \u001B[33mquery\u001B[0m=\u001B[32m'What is a popular programming language?'\u001B[0m,\n",
       "    \u001B[33mscore\u001B[0m=\u001B[1;36m0\u001B[0m\u001B[1;36m.32089659571647644\u001B[0m,\n",
       "    \u001B[33mdata\u001B[0m=\u001B[32m'language'\u001B[0m,\n",
       "    \u001B[33mdocument\u001B[0m=\u001B[1;35mDocument\u001B[0m\u001B[1m(\u001B[0m\u001B[33mid\u001B[0m=\u001B[35mdb7f24c54f2476f5d0c438cfcbbea5e45de37124ff7de69a5bf8e82413c3f614\u001B[0m, content: \u001B[32m'Python is a \u001B[0m\n",
       "\u001B[32mpopular programming language'\u001B[0m\u001B[1m)\u001B[0m,\n",
       "    \u001B[33mcontext\u001B[0m=\u001B[3;35mNone\u001B[0m,\n",
       "    \u001B[33mdocument_offset\u001B[0m=\u001B[1;35mSpan\u001B[0m\u001B[1m(\u001B[0m\u001B[33mstart\u001B[0m=\u001B[1;36m32\u001B[0m, \u001B[33mend\u001B[0m=\u001B[1;36m40\u001B[0m\u001B[1m)\u001B[0m,\n",
       "    \u001B[33mcontext_offset\u001B[0m=\u001B[3;35mNone\u001B[0m,\n",
       "    \u001B[33mmeta\u001B[0m=\u001B[1m{\u001B[0m\u001B[1m}\u001B[0m\n",
       "\u001B[1m)\u001B[0m\n"
      ],
      "text/html": [
       "<pre style=\"white-space:pre;overflow-x:auto;line-height:normal;font-family:Menlo,'DejaVu Sans Mono',consolas,'Courier New',monospace\">answer\n",
       "<span style=\"color: #800080; text-decoration-color: #800080; font-weight: bold\">ExtractedAnswer</span><span style=\"font-weight: bold\">(</span>\n",
       "    <span style=\"color: #808000; text-decoration-color: #808000\">query</span>=<span style=\"color: #008000; text-decoration-color: #008000\">'What is a popular programming language?'</span>,\n",
       "    <span style=\"color: #808000; text-decoration-color: #808000\">score</span>=<span style=\"color: #008080; text-decoration-color: #008080; font-weight: bold\">0.32089659571647644</span>,\n",
       "    <span style=\"color: #808000; text-decoration-color: #808000\">data</span>=<span style=\"color: #008000; text-decoration-color: #008000\">'language'</span>,\n",
       "    <span style=\"color: #808000; text-decoration-color: #808000\">document</span>=<span style=\"color: #800080; text-decoration-color: #800080; font-weight: bold\">Document</span><span style=\"font-weight: bold\">(</span><span style=\"color: #808000; text-decoration-color: #808000\">id</span>=<span style=\"color: #800080; text-decoration-color: #800080\">db7f24c54f2476f5d0c438cfcbbea5e45de37124ff7de69a5bf8e82413c3f614</span>, content: <span style=\"color: #008000; text-decoration-color: #008000\">'Python is a </span>\n",
       "<span style=\"color: #008000; text-decoration-color: #008000\">popular programming language'</span><span style=\"font-weight: bold\">)</span>,\n",
       "    <span style=\"color: #808000; text-decoration-color: #808000\">context</span>=<span style=\"color: #800080; text-decoration-color: #800080; font-style: italic\">None</span>,\n",
       "    <span style=\"color: #808000; text-decoration-color: #808000\">document_offset</span>=<span style=\"color: #800080; text-decoration-color: #800080; font-weight: bold\">Span</span><span style=\"font-weight: bold\">(</span><span style=\"color: #808000; text-decoration-color: #808000\">start</span>=<span style=\"color: #008080; text-decoration-color: #008080; font-weight: bold\">32</span>, <span style=\"color: #808000; text-decoration-color: #808000\">end</span>=<span style=\"color: #008080; text-decoration-color: #008080; font-weight: bold\">40</span><span style=\"font-weight: bold\">)</span>,\n",
       "    <span style=\"color: #808000; text-decoration-color: #808000\">context_offset</span>=<span style=\"color: #800080; text-decoration-color: #800080; font-style: italic\">None</span>,\n",
       "    <span style=\"color: #808000; text-decoration-color: #808000\">meta</span>=<span style=\"font-weight: bold\">{}</span>\n",
       "<span style=\"font-weight: bold\">)</span>\n",
       "</pre>\n"
      ]
     },
     "metadata": {},
     "output_type": "display_data"
    },
    {
     "data": {
      "text/plain": [
       "answer\n",
       "\u001B[1;35mExtractedAnswer\u001B[0m\u001B[1m(\u001B[0m\n",
       "    \u001B[33mquery\u001B[0m=\u001B[32m'What is a popular programming language?'\u001B[0m,\n",
       "    \u001B[33mscore\u001B[0m=\u001B[1;36m0\u001B[0m\u001B[1;36m.23741841316223145\u001B[0m,\n",
       "    \u001B[33mdata\u001B[0m=\u001B[32m'Camels'\u001B[0m,\n",
       "    \u001B[33mdocument\u001B[0m=\u001B[1;35mDocument\u001B[0m\u001B[1m(\u001B[0m\u001B[33mid\u001B[0m=\u001B[35mf938693041dfc8026ee1a7646a85997af21c8d6f3af5538462457a84c2a934a0\u001B[0m, content: \u001B[32m'Camels have \u001B[0m\n",
       "\u001B[32mhumps'\u001B[0m\u001B[1m)\u001B[0m,\n",
       "    \u001B[33mcontext\u001B[0m=\u001B[3;35mNone\u001B[0m,\n",
       "    \u001B[33mdocument_offset\u001B[0m=\u001B[1;35mSpan\u001B[0m\u001B[1m(\u001B[0m\u001B[33mstart\u001B[0m=\u001B[1;36m0\u001B[0m, \u001B[33mend\u001B[0m=\u001B[1;36m6\u001B[0m\u001B[1m)\u001B[0m,\n",
       "    \u001B[33mcontext_offset\u001B[0m=\u001B[3;35mNone\u001B[0m,\n",
       "    \u001B[33mmeta\u001B[0m=\u001B[1m{\u001B[0m\u001B[1m}\u001B[0m\n",
       "\u001B[1m)\u001B[0m\n"
      ],
      "text/html": [
       "<pre style=\"white-space:pre;overflow-x:auto;line-height:normal;font-family:Menlo,'DejaVu Sans Mono',consolas,'Courier New',monospace\">answer\n",
       "<span style=\"color: #800080; text-decoration-color: #800080; font-weight: bold\">ExtractedAnswer</span><span style=\"font-weight: bold\">(</span>\n",
       "    <span style=\"color: #808000; text-decoration-color: #808000\">query</span>=<span style=\"color: #008000; text-decoration-color: #008000\">'What is a popular programming language?'</span>,\n",
       "    <span style=\"color: #808000; text-decoration-color: #808000\">score</span>=<span style=\"color: #008080; text-decoration-color: #008080; font-weight: bold\">0.23741841316223145</span>,\n",
       "    <span style=\"color: #808000; text-decoration-color: #808000\">data</span>=<span style=\"color: #008000; text-decoration-color: #008000\">'Camels'</span>,\n",
       "    <span style=\"color: #808000; text-decoration-color: #808000\">document</span>=<span style=\"color: #800080; text-decoration-color: #800080; font-weight: bold\">Document</span><span style=\"font-weight: bold\">(</span><span style=\"color: #808000; text-decoration-color: #808000\">id</span>=<span style=\"color: #800080; text-decoration-color: #800080\">f938693041dfc8026ee1a7646a85997af21c8d6f3af5538462457a84c2a934a0</span>, content: <span style=\"color: #008000; text-decoration-color: #008000\">'Camels have </span>\n",
       "<span style=\"color: #008000; text-decoration-color: #008000\">humps'</span><span style=\"font-weight: bold\">)</span>,\n",
       "    <span style=\"color: #808000; text-decoration-color: #808000\">context</span>=<span style=\"color: #800080; text-decoration-color: #800080; font-style: italic\">None</span>,\n",
       "    <span style=\"color: #808000; text-decoration-color: #808000\">document_offset</span>=<span style=\"color: #800080; text-decoration-color: #800080; font-weight: bold\">Span</span><span style=\"font-weight: bold\">(</span><span style=\"color: #808000; text-decoration-color: #808000\">start</span>=<span style=\"color: #008080; text-decoration-color: #008080; font-weight: bold\">0</span>, <span style=\"color: #808000; text-decoration-color: #808000\">end</span>=<span style=\"color: #008080; text-decoration-color: #008080; font-weight: bold\">6</span><span style=\"font-weight: bold\">)</span>,\n",
       "    <span style=\"color: #808000; text-decoration-color: #808000\">context_offset</span>=<span style=\"color: #800080; text-decoration-color: #800080; font-style: italic\">None</span>,\n",
       "    <span style=\"color: #808000; text-decoration-color: #808000\">meta</span>=<span style=\"font-weight: bold\">{}</span>\n",
       "<span style=\"font-weight: bold\">)</span>\n",
       "</pre>\n"
      ]
     },
     "metadata": {},
     "output_type": "display_data"
    },
    {
     "data": {
      "text/plain": [
       "answer\n",
       "\u001B[1;35mExtractedAnswer\u001B[0m\u001B[1m(\u001B[0m\n",
       "    \u001B[33mquery\u001B[0m=\u001B[32m'What is a popular programming language?'\u001B[0m,\n",
       "    \u001B[33mscore\u001B[0m=\u001B[1;36m0\u001B[0m\u001B[1;36m.23270942270755768\u001B[0m,\n",
       "    \u001B[33mdata\u001B[0m=\u001B[32m'programming'\u001B[0m,\n",
       "    \u001B[33mdocument\u001B[0m=\u001B[1;35mDocument\u001B[0m\u001B[1m(\u001B[0m\u001B[33mid\u001B[0m=\u001B[35mdb7f24c54f2476f5d0c438cfcbbea5e45de37124ff7de69a5bf8e82413c3f614\u001B[0m, content: \u001B[32m'Python is a \u001B[0m\n",
       "\u001B[32mpopular programming language'\u001B[0m\u001B[1m)\u001B[0m,\n",
       "    \u001B[33mcontext\u001B[0m=\u001B[3;35mNone\u001B[0m,\n",
       "    \u001B[33mdocument_offset\u001B[0m=\u001B[1;35mSpan\u001B[0m\u001B[1m(\u001B[0m\u001B[33mstart\u001B[0m=\u001B[1;36m20\u001B[0m, \u001B[33mend\u001B[0m=\u001B[1;36m31\u001B[0m\u001B[1m)\u001B[0m,\n",
       "    \u001B[33mcontext_offset\u001B[0m=\u001B[3;35mNone\u001B[0m,\n",
       "    \u001B[33mmeta\u001B[0m=\u001B[1m{\u001B[0m\u001B[1m}\u001B[0m\n",
       "\u001B[1m)\u001B[0m\n"
      ],
      "text/html": [
       "<pre style=\"white-space:pre;overflow-x:auto;line-height:normal;font-family:Menlo,'DejaVu Sans Mono',consolas,'Courier New',monospace\">answer\n",
       "<span style=\"color: #800080; text-decoration-color: #800080; font-weight: bold\">ExtractedAnswer</span><span style=\"font-weight: bold\">(</span>\n",
       "    <span style=\"color: #808000; text-decoration-color: #808000\">query</span>=<span style=\"color: #008000; text-decoration-color: #008000\">'What is a popular programming language?'</span>,\n",
       "    <span style=\"color: #808000; text-decoration-color: #808000\">score</span>=<span style=\"color: #008080; text-decoration-color: #008080; font-weight: bold\">0.23270942270755768</span>,\n",
       "    <span style=\"color: #808000; text-decoration-color: #808000\">data</span>=<span style=\"color: #008000; text-decoration-color: #008000\">'programming'</span>,\n",
       "    <span style=\"color: #808000; text-decoration-color: #808000\">document</span>=<span style=\"color: #800080; text-decoration-color: #800080; font-weight: bold\">Document</span><span style=\"font-weight: bold\">(</span><span style=\"color: #808000; text-decoration-color: #808000\">id</span>=<span style=\"color: #800080; text-decoration-color: #800080\">db7f24c54f2476f5d0c438cfcbbea5e45de37124ff7de69a5bf8e82413c3f614</span>, content: <span style=\"color: #008000; text-decoration-color: #008000\">'Python is a </span>\n",
       "<span style=\"color: #008000; text-decoration-color: #008000\">popular programming language'</span><span style=\"font-weight: bold\">)</span>,\n",
       "    <span style=\"color: #808000; text-decoration-color: #808000\">context</span>=<span style=\"color: #800080; text-decoration-color: #800080; font-style: italic\">None</span>,\n",
       "    <span style=\"color: #808000; text-decoration-color: #808000\">document_offset</span>=<span style=\"color: #800080; text-decoration-color: #800080; font-weight: bold\">Span</span><span style=\"font-weight: bold\">(</span><span style=\"color: #808000; text-decoration-color: #808000\">start</span>=<span style=\"color: #008080; text-decoration-color: #008080; font-weight: bold\">20</span>, <span style=\"color: #808000; text-decoration-color: #808000\">end</span>=<span style=\"color: #008080; text-decoration-color: #008080; font-weight: bold\">31</span><span style=\"font-weight: bold\">)</span>,\n",
       "    <span style=\"color: #808000; text-decoration-color: #808000\">context_offset</span>=<span style=\"color: #800080; text-decoration-color: #800080; font-style: italic\">None</span>,\n",
       "    <span style=\"color: #808000; text-decoration-color: #808000\">meta</span>=<span style=\"font-weight: bold\">{}</span>\n",
       "<span style=\"font-weight: bold\">)</span>\n",
       "</pre>\n"
      ]
     },
     "metadata": {},
     "output_type": "display_data"
    },
    {
     "data": {
      "text/plain": [
       "answer\n",
       "\u001B[1;35mExtractedAnswer\u001B[0m\u001B[1m(\u001B[0m\n",
       "    \u001B[33mquery\u001B[0m=\u001B[32m'What is a popular programming language?'\u001B[0m,\n",
       "    \u001B[33mscore\u001B[0m=\u001B[1;36m0\u001B[0m\u001B[1;36m.21754954755306244\u001B[0m,\n",
       "    \u001B[33mdata\u001B[0m=\u001B[32m'a popular'\u001B[0m,\n",
       "    \u001B[33mdocument\u001B[0m=\u001B[1;35mDocument\u001B[0m\u001B[1m(\u001B[0m\u001B[33mid\u001B[0m=\u001B[35mdb7f24c54f2476f5d0c438cfcbbea5e45de37124ff7de69a5bf8e82413c3f614\u001B[0m, content: \u001B[32m'Python is a \u001B[0m\n",
       "\u001B[32mpopular programming language'\u001B[0m\u001B[1m)\u001B[0m,\n",
       "    \u001B[33mcontext\u001B[0m=\u001B[3;35mNone\u001B[0m,\n",
       "    \u001B[33mdocument_offset\u001B[0m=\u001B[1;35mSpan\u001B[0m\u001B[1m(\u001B[0m\u001B[33mstart\u001B[0m=\u001B[1;36m10\u001B[0m, \u001B[33mend\u001B[0m=\u001B[1;36m19\u001B[0m\u001B[1m)\u001B[0m,\n",
       "    \u001B[33mcontext_offset\u001B[0m=\u001B[3;35mNone\u001B[0m,\n",
       "    \u001B[33mmeta\u001B[0m=\u001B[1m{\u001B[0m\u001B[1m}\u001B[0m\n",
       "\u001B[1m)\u001B[0m\n"
      ],
      "text/html": [
       "<pre style=\"white-space:pre;overflow-x:auto;line-height:normal;font-family:Menlo,'DejaVu Sans Mono',consolas,'Courier New',monospace\">answer\n",
       "<span style=\"color: #800080; text-decoration-color: #800080; font-weight: bold\">ExtractedAnswer</span><span style=\"font-weight: bold\">(</span>\n",
       "    <span style=\"color: #808000; text-decoration-color: #808000\">query</span>=<span style=\"color: #008000; text-decoration-color: #008000\">'What is a popular programming language?'</span>,\n",
       "    <span style=\"color: #808000; text-decoration-color: #808000\">score</span>=<span style=\"color: #008080; text-decoration-color: #008080; font-weight: bold\">0.21754954755306244</span>,\n",
       "    <span style=\"color: #808000; text-decoration-color: #808000\">data</span>=<span style=\"color: #008000; text-decoration-color: #008000\">'a popular'</span>,\n",
       "    <span style=\"color: #808000; text-decoration-color: #808000\">document</span>=<span style=\"color: #800080; text-decoration-color: #800080; font-weight: bold\">Document</span><span style=\"font-weight: bold\">(</span><span style=\"color: #808000; text-decoration-color: #808000\">id</span>=<span style=\"color: #800080; text-decoration-color: #800080\">db7f24c54f2476f5d0c438cfcbbea5e45de37124ff7de69a5bf8e82413c3f614</span>, content: <span style=\"color: #008000; text-decoration-color: #008000\">'Python is a </span>\n",
       "<span style=\"color: #008000; text-decoration-color: #008000\">popular programming language'</span><span style=\"font-weight: bold\">)</span>,\n",
       "    <span style=\"color: #808000; text-decoration-color: #808000\">context</span>=<span style=\"color: #800080; text-decoration-color: #800080; font-style: italic\">None</span>,\n",
       "    <span style=\"color: #808000; text-decoration-color: #808000\">document_offset</span>=<span style=\"color: #800080; text-decoration-color: #800080; font-weight: bold\">Span</span><span style=\"font-weight: bold\">(</span><span style=\"color: #808000; text-decoration-color: #808000\">start</span>=<span style=\"color: #008080; text-decoration-color: #008080; font-weight: bold\">10</span>, <span style=\"color: #808000; text-decoration-color: #808000\">end</span>=<span style=\"color: #008080; text-decoration-color: #008080; font-weight: bold\">19</span><span style=\"font-weight: bold\">)</span>,\n",
       "    <span style=\"color: #808000; text-decoration-color: #808000\">context_offset</span>=<span style=\"color: #800080; text-decoration-color: #800080; font-style: italic\">None</span>,\n",
       "    <span style=\"color: #808000; text-decoration-color: #808000\">meta</span>=<span style=\"font-weight: bold\">{}</span>\n",
       "<span style=\"font-weight: bold\">)</span>\n",
       "</pre>\n"
      ]
     },
     "metadata": {},
     "output_type": "display_data"
    },
    {
     "data": {
      "text/plain": [
       "answer\n",
       "\u001B[1;35mExtractedAnswer\u001B[0m\u001B[1m(\u001B[0m\n",
       "    \u001B[33mquery\u001B[0m=\u001B[32m'What is a popular programming language?'\u001B[0m,\n",
       "    \u001B[33mscore\u001B[0m=\u001B[1;36m0\u001B[0m\u001B[1;36m.21110448241233826\u001B[0m,\n",
       "    \u001B[33mdata\u001B[0m=\u001B[32m'is'\u001B[0m,\n",
       "    \u001B[33mdocument\u001B[0m=\u001B[1;35mDocument\u001B[0m\u001B[1m(\u001B[0m\u001B[33mid\u001B[0m=\u001B[35mdb7f24c54f2476f5d0c438cfcbbea5e45de37124ff7de69a5bf8e82413c3f614\u001B[0m, content: \u001B[32m'Python is a \u001B[0m\n",
       "\u001B[32mpopular programming language'\u001B[0m\u001B[1m)\u001B[0m,\n",
       "    \u001B[33mcontext\u001B[0m=\u001B[3;35mNone\u001B[0m,\n",
       "    \u001B[33mdocument_offset\u001B[0m=\u001B[1;35mSpan\u001B[0m\u001B[1m(\u001B[0m\u001B[33mstart\u001B[0m=\u001B[1;36m7\u001B[0m, \u001B[33mend\u001B[0m=\u001B[1;36m9\u001B[0m\u001B[1m)\u001B[0m,\n",
       "    \u001B[33mcontext_offset\u001B[0m=\u001B[3;35mNone\u001B[0m,\n",
       "    \u001B[33mmeta\u001B[0m=\u001B[1m{\u001B[0m\u001B[1m}\u001B[0m\n",
       "\u001B[1m)\u001B[0m\n"
      ],
      "text/html": [
       "<pre style=\"white-space:pre;overflow-x:auto;line-height:normal;font-family:Menlo,'DejaVu Sans Mono',consolas,'Courier New',monospace\">answer\n",
       "<span style=\"color: #800080; text-decoration-color: #800080; font-weight: bold\">ExtractedAnswer</span><span style=\"font-weight: bold\">(</span>\n",
       "    <span style=\"color: #808000; text-decoration-color: #808000\">query</span>=<span style=\"color: #008000; text-decoration-color: #008000\">'What is a popular programming language?'</span>,\n",
       "    <span style=\"color: #808000; text-decoration-color: #808000\">score</span>=<span style=\"color: #008080; text-decoration-color: #008080; font-weight: bold\">0.21110448241233826</span>,\n",
       "    <span style=\"color: #808000; text-decoration-color: #808000\">data</span>=<span style=\"color: #008000; text-decoration-color: #008000\">'is'</span>,\n",
       "    <span style=\"color: #808000; text-decoration-color: #808000\">document</span>=<span style=\"color: #800080; text-decoration-color: #800080; font-weight: bold\">Document</span><span style=\"font-weight: bold\">(</span><span style=\"color: #808000; text-decoration-color: #808000\">id</span>=<span style=\"color: #800080; text-decoration-color: #800080\">db7f24c54f2476f5d0c438cfcbbea5e45de37124ff7de69a5bf8e82413c3f614</span>, content: <span style=\"color: #008000; text-decoration-color: #008000\">'Python is a </span>\n",
       "<span style=\"color: #008000; text-decoration-color: #008000\">popular programming language'</span><span style=\"font-weight: bold\">)</span>,\n",
       "    <span style=\"color: #808000; text-decoration-color: #808000\">context</span>=<span style=\"color: #800080; text-decoration-color: #800080; font-style: italic\">None</span>,\n",
       "    <span style=\"color: #808000; text-decoration-color: #808000\">document_offset</span>=<span style=\"color: #800080; text-decoration-color: #800080; font-weight: bold\">Span</span><span style=\"font-weight: bold\">(</span><span style=\"color: #808000; text-decoration-color: #808000\">start</span>=<span style=\"color: #008080; text-decoration-color: #008080; font-weight: bold\">7</span>, <span style=\"color: #808000; text-decoration-color: #808000\">end</span>=<span style=\"color: #008080; text-decoration-color: #008080; font-weight: bold\">9</span><span style=\"font-weight: bold\">)</span>,\n",
       "    <span style=\"color: #808000; text-decoration-color: #808000\">context_offset</span>=<span style=\"color: #800080; text-decoration-color: #800080; font-style: italic\">None</span>,\n",
       "    <span style=\"color: #808000; text-decoration-color: #808000\">meta</span>=<span style=\"font-weight: bold\">{}</span>\n",
       "<span style=\"font-weight: bold\">)</span>\n",
       "</pre>\n"
      ]
     },
     "metadata": {},
     "output_type": "display_data"
    },
    {
     "data": {
      "text/plain": [
       "answer\n",
       "\u001B[1;35mExtractedAnswer\u001B[0m\u001B[1m(\u001B[0m\n",
       "    \u001B[33mquery\u001B[0m=\u001B[32m'What is a popular programming language?'\u001B[0m,\n",
       "    \u001B[33mscore\u001B[0m=\u001B[1;36m0\u001B[0m\u001B[1;36m.1946004182100296\u001B[0m,\n",
       "    \u001B[33mdata\u001B[0m=\u001B[32m'Icecream is delicious'\u001B[0m,\n",
       "    \u001B[33mdocument\u001B[0m=\u001B[1;35mDocument\u001B[0m\u001B[1m(\u001B[0m\u001B[33mid\u001B[0m=\u001B[35m430f0f677b3a8dc31ce4fbf3e83fe250b95132e53106de2f76770c5ef00f8c98\u001B[0m, content: \u001B[32m'Icecream is \u001B[0m\n",
       "\u001B[32mdelicious'\u001B[0m\u001B[1m)\u001B[0m,\n",
       "    \u001B[33mcontext\u001B[0m=\u001B[3;35mNone\u001B[0m,\n",
       "    \u001B[33mdocument_offset\u001B[0m=\u001B[1;35mSpan\u001B[0m\u001B[1m(\u001B[0m\u001B[33mstart\u001B[0m=\u001B[1;36m0\u001B[0m, \u001B[33mend\u001B[0m=\u001B[1;36m21\u001B[0m\u001B[1m)\u001B[0m,\n",
       "    \u001B[33mcontext_offset\u001B[0m=\u001B[3;35mNone\u001B[0m,\n",
       "    \u001B[33mmeta\u001B[0m=\u001B[1m{\u001B[0m\u001B[1m}\u001B[0m\n",
       "\u001B[1m)\u001B[0m\n"
      ],
      "text/html": [
       "<pre style=\"white-space:pre;overflow-x:auto;line-height:normal;font-family:Menlo,'DejaVu Sans Mono',consolas,'Courier New',monospace\">answer\n",
       "<span style=\"color: #800080; text-decoration-color: #800080; font-weight: bold\">ExtractedAnswer</span><span style=\"font-weight: bold\">(</span>\n",
       "    <span style=\"color: #808000; text-decoration-color: #808000\">query</span>=<span style=\"color: #008000; text-decoration-color: #008000\">'What is a popular programming language?'</span>,\n",
       "    <span style=\"color: #808000; text-decoration-color: #808000\">score</span>=<span style=\"color: #008080; text-decoration-color: #008080; font-weight: bold\">0.1946004182100296</span>,\n",
       "    <span style=\"color: #808000; text-decoration-color: #808000\">data</span>=<span style=\"color: #008000; text-decoration-color: #008000\">'Icecream is delicious'</span>,\n",
       "    <span style=\"color: #808000; text-decoration-color: #808000\">document</span>=<span style=\"color: #800080; text-decoration-color: #800080; font-weight: bold\">Document</span><span style=\"font-weight: bold\">(</span><span style=\"color: #808000; text-decoration-color: #808000\">id</span>=<span style=\"color: #800080; text-decoration-color: #800080\">430f0f677b3a8dc31ce4fbf3e83fe250b95132e53106de2f76770c5ef00f8c98</span>, content: <span style=\"color: #008000; text-decoration-color: #008000\">'Icecream is </span>\n",
       "<span style=\"color: #008000; text-decoration-color: #008000\">delicious'</span><span style=\"font-weight: bold\">)</span>,\n",
       "    <span style=\"color: #808000; text-decoration-color: #808000\">context</span>=<span style=\"color: #800080; text-decoration-color: #800080; font-style: italic\">None</span>,\n",
       "    <span style=\"color: #808000; text-decoration-color: #808000\">document_offset</span>=<span style=\"color: #800080; text-decoration-color: #800080; font-weight: bold\">Span</span><span style=\"font-weight: bold\">(</span><span style=\"color: #808000; text-decoration-color: #808000\">start</span>=<span style=\"color: #008080; text-decoration-color: #008080; font-weight: bold\">0</span>, <span style=\"color: #808000; text-decoration-color: #808000\">end</span>=<span style=\"color: #008080; text-decoration-color: #008080; font-weight: bold\">21</span><span style=\"font-weight: bold\">)</span>,\n",
       "    <span style=\"color: #808000; text-decoration-color: #808000\">context_offset</span>=<span style=\"color: #800080; text-decoration-color: #800080; font-style: italic\">None</span>,\n",
       "    <span style=\"color: #808000; text-decoration-color: #808000\">meta</span>=<span style=\"font-weight: bold\">{}</span>\n",
       "<span style=\"font-weight: bold\">)</span>\n",
       "</pre>\n"
      ]
     },
     "metadata": {},
     "output_type": "display_data"
    },
    {
     "data": {
      "text/plain": [
       "answer\n",
       "\u001B[1;35mExtractedAnswer\u001B[0m\u001B[1m(\u001B[0m\n",
       "    \u001B[33mquery\u001B[0m=\u001B[32m'What is a popular programming language?'\u001B[0m,\n",
       "    \u001B[33mscore\u001B[0m=\u001B[1;36m0\u001B[0m\u001B[1;36m.18848739564418793\u001B[0m,\n",
       "    \u001B[33mdata\u001B[0m=\u001B[32m'humps'\u001B[0m,\n",
       "    \u001B[33mdocument\u001B[0m=\u001B[1;35mDocument\u001B[0m\u001B[1m(\u001B[0m\u001B[33mid\u001B[0m=\u001B[35mf938693041dfc8026ee1a7646a85997af21c8d6f3af5538462457a84c2a934a0\u001B[0m, content: \u001B[32m'Camels have \u001B[0m\n",
       "\u001B[32mhumps'\u001B[0m\u001B[1m)\u001B[0m,\n",
       "    \u001B[33mcontext\u001B[0m=\u001B[3;35mNone\u001B[0m,\n",
       "    \u001B[33mdocument_offset\u001B[0m=\u001B[1;35mSpan\u001B[0m\u001B[1m(\u001B[0m\u001B[33mstart\u001B[0m=\u001B[1;36m12\u001B[0m, \u001B[33mend\u001B[0m=\u001B[1;36m17\u001B[0m\u001B[1m)\u001B[0m,\n",
       "    \u001B[33mcontext_offset\u001B[0m=\u001B[3;35mNone\u001B[0m,\n",
       "    \u001B[33mmeta\u001B[0m=\u001B[1m{\u001B[0m\u001B[1m}\u001B[0m\n",
       "\u001B[1m)\u001B[0m\n"
      ],
      "text/html": [
       "<pre style=\"white-space:pre;overflow-x:auto;line-height:normal;font-family:Menlo,'DejaVu Sans Mono',consolas,'Courier New',monospace\">answer\n",
       "<span style=\"color: #800080; text-decoration-color: #800080; font-weight: bold\">ExtractedAnswer</span><span style=\"font-weight: bold\">(</span>\n",
       "    <span style=\"color: #808000; text-decoration-color: #808000\">query</span>=<span style=\"color: #008000; text-decoration-color: #008000\">'What is a popular programming language?'</span>,\n",
       "    <span style=\"color: #808000; text-decoration-color: #808000\">score</span>=<span style=\"color: #008080; text-decoration-color: #008080; font-weight: bold\">0.18848739564418793</span>,\n",
       "    <span style=\"color: #808000; text-decoration-color: #808000\">data</span>=<span style=\"color: #008000; text-decoration-color: #008000\">'humps'</span>,\n",
       "    <span style=\"color: #808000; text-decoration-color: #808000\">document</span>=<span style=\"color: #800080; text-decoration-color: #800080; font-weight: bold\">Document</span><span style=\"font-weight: bold\">(</span><span style=\"color: #808000; text-decoration-color: #808000\">id</span>=<span style=\"color: #800080; text-decoration-color: #800080\">f938693041dfc8026ee1a7646a85997af21c8d6f3af5538462457a84c2a934a0</span>, content: <span style=\"color: #008000; text-decoration-color: #008000\">'Camels have </span>\n",
       "<span style=\"color: #008000; text-decoration-color: #008000\">humps'</span><span style=\"font-weight: bold\">)</span>,\n",
       "    <span style=\"color: #808000; text-decoration-color: #808000\">context</span>=<span style=\"color: #800080; text-decoration-color: #800080; font-style: italic\">None</span>,\n",
       "    <span style=\"color: #808000; text-decoration-color: #808000\">document_offset</span>=<span style=\"color: #800080; text-decoration-color: #800080; font-weight: bold\">Span</span><span style=\"font-weight: bold\">(</span><span style=\"color: #808000; text-decoration-color: #808000\">start</span>=<span style=\"color: #008080; text-decoration-color: #008080; font-weight: bold\">12</span>, <span style=\"color: #808000; text-decoration-color: #808000\">end</span>=<span style=\"color: #008080; text-decoration-color: #008080; font-weight: bold\">17</span><span style=\"font-weight: bold\">)</span>,\n",
       "    <span style=\"color: #808000; text-decoration-color: #808000\">context_offset</span>=<span style=\"color: #800080; text-decoration-color: #800080; font-style: italic\">None</span>,\n",
       "    <span style=\"color: #808000; text-decoration-color: #808000\">meta</span>=<span style=\"font-weight: bold\">{}</span>\n",
       "<span style=\"font-weight: bold\">)</span>\n",
       "</pre>\n"
      ]
     },
     "metadata": {},
     "output_type": "display_data"
    },
    {
     "data": {
      "text/plain": [
       "answer\n",
       "\u001B[1;35mExtractedAnswer\u001B[0m\u001B[1m(\u001B[0m\n",
       "    \u001B[33mquery\u001B[0m=\u001B[32m'What is a popular programming language?'\u001B[0m,\n",
       "    \u001B[33mscore\u001B[0m=\u001B[1;36m0\u001B[0m\u001B[1;36m.15321364998817444\u001B[0m,\n",
       "    \u001B[33mdata\u001B[0m=\u001B[32m'have'\u001B[0m,\n",
       "    \u001B[33mdocument\u001B[0m=\u001B[1;35mDocument\u001B[0m\u001B[1m(\u001B[0m\u001B[33mid\u001B[0m=\u001B[35mf938693041dfc8026ee1a7646a85997af21c8d6f3af5538462457a84c2a934a0\u001B[0m, content: \u001B[32m'Camels have \u001B[0m\n",
       "\u001B[32mhumps'\u001B[0m\u001B[1m)\u001B[0m,\n",
       "    \u001B[33mcontext\u001B[0m=\u001B[3;35mNone\u001B[0m,\n",
       "    \u001B[33mdocument_offset\u001B[0m=\u001B[1;35mSpan\u001B[0m\u001B[1m(\u001B[0m\u001B[33mstart\u001B[0m=\u001B[1;36m7\u001B[0m, \u001B[33mend\u001B[0m=\u001B[1;36m11\u001B[0m\u001B[1m)\u001B[0m,\n",
       "    \u001B[33mcontext_offset\u001B[0m=\u001B[3;35mNone\u001B[0m,\n",
       "    \u001B[33mmeta\u001B[0m=\u001B[1m{\u001B[0m\u001B[1m}\u001B[0m\n",
       "\u001B[1m)\u001B[0m\n"
      ],
      "text/html": [
       "<pre style=\"white-space:pre;overflow-x:auto;line-height:normal;font-family:Menlo,'DejaVu Sans Mono',consolas,'Courier New',monospace\">answer\n",
       "<span style=\"color: #800080; text-decoration-color: #800080; font-weight: bold\">ExtractedAnswer</span><span style=\"font-weight: bold\">(</span>\n",
       "    <span style=\"color: #808000; text-decoration-color: #808000\">query</span>=<span style=\"color: #008000; text-decoration-color: #008000\">'What is a popular programming language?'</span>,\n",
       "    <span style=\"color: #808000; text-decoration-color: #808000\">score</span>=<span style=\"color: #008080; text-decoration-color: #008080; font-weight: bold\">0.15321364998817444</span>,\n",
       "    <span style=\"color: #808000; text-decoration-color: #808000\">data</span>=<span style=\"color: #008000; text-decoration-color: #008000\">'have'</span>,\n",
       "    <span style=\"color: #808000; text-decoration-color: #808000\">document</span>=<span style=\"color: #800080; text-decoration-color: #800080; font-weight: bold\">Document</span><span style=\"font-weight: bold\">(</span><span style=\"color: #808000; text-decoration-color: #808000\">id</span>=<span style=\"color: #800080; text-decoration-color: #800080\">f938693041dfc8026ee1a7646a85997af21c8d6f3af5538462457a84c2a934a0</span>, content: <span style=\"color: #008000; text-decoration-color: #008000\">'Camels have </span>\n",
       "<span style=\"color: #008000; text-decoration-color: #008000\">humps'</span><span style=\"font-weight: bold\">)</span>,\n",
       "    <span style=\"color: #808000; text-decoration-color: #808000\">context</span>=<span style=\"color: #800080; text-decoration-color: #800080; font-style: italic\">None</span>,\n",
       "    <span style=\"color: #808000; text-decoration-color: #808000\">document_offset</span>=<span style=\"color: #800080; text-decoration-color: #800080; font-weight: bold\">Span</span><span style=\"font-weight: bold\">(</span><span style=\"color: #808000; text-decoration-color: #808000\">start</span>=<span style=\"color: #008080; text-decoration-color: #008080; font-weight: bold\">7</span>, <span style=\"color: #808000; text-decoration-color: #808000\">end</span>=<span style=\"color: #008080; text-decoration-color: #008080; font-weight: bold\">11</span><span style=\"font-weight: bold\">)</span>,\n",
       "    <span style=\"color: #808000; text-decoration-color: #808000\">context_offset</span>=<span style=\"color: #800080; text-decoration-color: #800080; font-style: italic\">None</span>,\n",
       "    <span style=\"color: #808000; text-decoration-color: #808000\">meta</span>=<span style=\"font-weight: bold\">{}</span>\n",
       "<span style=\"font-weight: bold\">)</span>\n",
       "</pre>\n"
      ]
     },
     "metadata": {},
     "output_type": "display_data"
    },
    {
     "data": {
      "text/plain": [
       "answer\n",
       "\u001B[1;35mExtractedAnswer\u001B[0m\u001B[1m(\u001B[0m\n",
       "    \u001B[33mquery\u001B[0m=\u001B[32m'What is a popular programming language?'\u001B[0m,\n",
       "    \u001B[33mscore\u001B[0m=\u001B[1;36m0\u001B[0m\u001B[1;36m.02834175226969469\u001B[0m,\n",
       "    \u001B[33mdata\u001B[0m=\u001B[3;35mNone\u001B[0m,\n",
       "    \u001B[33mdocument\u001B[0m=\u001B[3;35mNone\u001B[0m,\n",
       "    \u001B[33mcontext\u001B[0m=\u001B[3;35mNone\u001B[0m,\n",
       "    \u001B[33mdocument_offset\u001B[0m=\u001B[3;35mNone\u001B[0m,\n",
       "    \u001B[33mcontext_offset\u001B[0m=\u001B[3;35mNone\u001B[0m,\n",
       "    \u001B[33mmeta\u001B[0m=\u001B[1m{\u001B[0m\u001B[1m}\u001B[0m\n",
       "\u001B[1m)\u001B[0m\n"
      ],
      "text/html": [
       "<pre style=\"white-space:pre;overflow-x:auto;line-height:normal;font-family:Menlo,'DejaVu Sans Mono',consolas,'Courier New',monospace\">answer\n",
       "<span style=\"color: #800080; text-decoration-color: #800080; font-weight: bold\">ExtractedAnswer</span><span style=\"font-weight: bold\">(</span>\n",
       "    <span style=\"color: #808000; text-decoration-color: #808000\">query</span>=<span style=\"color: #008000; text-decoration-color: #008000\">'What is a popular programming language?'</span>,\n",
       "    <span style=\"color: #808000; text-decoration-color: #808000\">score</span>=<span style=\"color: #008080; text-decoration-color: #008080; font-weight: bold\">0.02834175226969469</span>,\n",
       "    <span style=\"color: #808000; text-decoration-color: #808000\">data</span>=<span style=\"color: #800080; text-decoration-color: #800080; font-style: italic\">None</span>,\n",
       "    <span style=\"color: #808000; text-decoration-color: #808000\">document</span>=<span style=\"color: #800080; text-decoration-color: #800080; font-style: italic\">None</span>,\n",
       "    <span style=\"color: #808000; text-decoration-color: #808000\">context</span>=<span style=\"color: #800080; text-decoration-color: #800080; font-style: italic\">None</span>,\n",
       "    <span style=\"color: #808000; text-decoration-color: #808000\">document_offset</span>=<span style=\"color: #800080; text-decoration-color: #800080; font-style: italic\">None</span>,\n",
       "    <span style=\"color: #808000; text-decoration-color: #808000\">context_offset</span>=<span style=\"color: #800080; text-decoration-color: #800080; font-style: italic\">None</span>,\n",
       "    <span style=\"color: #808000; text-decoration-color: #808000\">meta</span>=<span style=\"font-weight: bold\">{}</span>\n",
       "<span style=\"font-weight: bold\">)</span>\n",
       "</pre>\n"
      ]
     },
     "metadata": {},
     "output_type": "display_data"
    }
   ],
   "execution_count": 8
  },
  {
   "cell_type": "code",
   "execution_count": null,
   "id": "92876fab-5d62-4f9f-bd5b-f0db5603031b",
   "metadata": {},
   "outputs": [],
   "source": []
  }
 ],
 "metadata": {
  "kernelspec": {
   "display_name": "wt2",
   "language": "python",
   "name": "wt2"
  },
  "language_info": {
   "codemirror_mode": {
    "name": "ipython",
    "version": 3
   },
   "file_extension": ".py",
   "mimetype": "text/x-python",
   "name": "python",
   "nbconvert_exporter": "python",
   "pygments_lexer": "ipython3",
   "version": "3.10.12"
  }
 },
 "nbformat": 4,
 "nbformat_minor": 5
}
