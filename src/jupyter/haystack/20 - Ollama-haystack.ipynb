{
 "cells": [
  {
   "cell_type": "markdown",
   "id": "48a48276-b0fb-49a2-94a9-6aef8d7fbb3a",
   "metadata": {},
   "source": [
    "# Ollama Haystack integration demo\n",
    "https://github.com/deepset-ai/haystack-integrations/blob/main/integrations/ollama.md\n",
    "\n",
    "WORKING: ollama-haystack env"
   ]
  },
  {
   "cell_type": "code",
   "execution_count": 4,
   "id": "81d4ed1e-7f42-446a-8c80-c331eb7d50d9",
   "metadata": {},
   "outputs": [],
   "source": [
    "from haystack import Document, Pipeline\n",
    "from haystack.components.builders.prompt_builder import PromptBuilder\n",
    "from haystack.components.retrievers.in_memory import InMemoryBM25Retriever\n",
    "from haystack.document_stores.in_memory import InMemoryDocumentStore"
   ]
  },
  {
   "cell_type": "code",
   "execution_count": 5,
   "id": "5e616538-880d-42cb-a12f-cfa6ec18e47b",
   "metadata": {
    "scrolled": true
   },
   "outputs": [],
   "source": [
    "#!pip install ollama-haystack"
   ]
  },
  {
   "cell_type": "code",
   "execution_count": 6,
   "id": "a4b2fb1c-6b3e-422a-ab2b-c8e3f1c709eb",
   "metadata": {},
   "outputs": [],
   "source": [
    "from haystack_integrations.components.generators.ollama import OllamaGenerator"
   ]
  },
  {
   "cell_type": "code",
   "execution_count": 7,
   "id": "dc49089a-66c8-4288-92f6-de96ebfcf6fb",
   "metadata": {},
   "outputs": [
    {
     "data": {
      "text/plain": [
       "5"
      ]
     },
     "execution_count": 7,
     "metadata": {},
     "output_type": "execute_result"
    }
   ],
   "source": [
    "document_store = InMemoryDocumentStore()\n",
    "document_store.write_documents(\n",
    "    [\n",
    "        Document(content=\"\"\"Haystack offers various components, each performing different kinds of tasks. You can see the whole variety in the PIPELINE COMPONENTS section in the left-side navigation. These are often powered by the latest Large Language Models (LLMs) and transformer models. Code-wise, they are Python classes with methods you can directly call. Most commonly, all you need to do is initialize the component with the required parameters and then run it with a run() method.\n",
    "Working on this level with Haystack components is a hands-on approach. Components define the name and the type of all of their inputs and outputs. The Component API reduces complexity and makes it easier to create custom components, for example, for third-party APIs and databases. Haystack validates the connections between components before running the pipeline and, if needed, generates error messages with instructions on fixing the errors. \"\"\",\n",
    "                meta={\"heading\":\"Components\"}\n",
    "                ),\n",
    "        Document(content=\"\"\"Generators are responsible for generating text responses after you give them a prompt. They are specific for each LLM technology (OpenAI, Cohere, local models, and others). There are two types of Generators: chat and non-chat:\n",
    "    The chat ones enable chat completion and are designed for conversational contexts. It expects a list of messages to interact with the user.\n",
    "    The non-chat Generators use LLMs for simpler text generation (for example, translating or summarizing text).\n",
    "Read more about various Generators in our guides. \"\"\",\n",
    "                meta={\"heading\":\"Generators\"}\n",
    "                ),\n",
    "        Document(content=\"\"\"Retrievers go through all the Documents in a Document Store, select the ones that match the user query, and pass it on to the next component. There are various Retrievers that are customized for specific Document Stores. This means that they can handle specific requirements for each database using customized parameters.\n",
    "For example, for Elasticsearch Document Store, you will find both the Document Store and Retriever packages in its GitHub repo.  \"\"\",\n",
    "                meta={\"heading\":\"Retrievers\"}),\n",
    "        Document(content=\"\"\"Document Store is an object that stores your Documents in Haystack, like an interface to a storage database. It uses specific functions like write_documents() or delete_documents() to work with data. Various components have access to the Document Store and can interact with it by, for example, reading or writing Documents.\n",
    "If you are working with more complex Pipelines in Haystack, you can use a DocumentWriter component to write data into Document Stores for you.\"\"\",\n",
    "                meta={\"heading\":\"Document Stores\"}),\n",
    "        Document(content=\"\"\"You can use different data classes in Haystack to carry the data through the system. The data classes are mostly likely to appear as inputs or outputs of your Pipelines.\n",
    "\n",
    "Document class contains information to be carried through the Pipeline. It can be text, metadata, tables, or binary data. Documents can be written into Document Stores but also written and read by other components.\n",
    "\n",
    "Answer class holds not only the answer generated in a Pipeline but also the originating query and metadata. \"\"\",\n",
    "                meta={\"heading\":\"Data Classes\"}),\n",
    "    ]\n",
    ")"
   ]
  },
  {
   "cell_type": "code",
   "execution_count": 8,
   "id": "e4dc49a7-b921-4f1f-90a5-cb4e7d22095c",
   "metadata": {},
   "outputs": [],
   "source": [
    "template = \"\"\"\n",
    "Given only the following information, answer the question.\n",
    "Ignore your own knowledge.\n",
    "\n",
    "Context:\n",
    "{% for document in documents %}\n",
    "    {{ document.content }}\n",
    "{% endfor %}\n",
    "\n",
    "Question: {{ query }}?\n",
    "\"\"\""
   ]
  },
  {
   "cell_type": "code",
   "execution_count": 9,
   "id": "4a93574c-b660-4274-aa6d-aad344a403c3",
   "metadata": {},
   "outputs": [
    {
     "data": {
      "text/plain": [
       "<haystack.core.pipeline.pipeline.Pipeline object at 0x7ff604db26b0>\n",
       "🚅 Components\n",
       "  - retriever: InMemoryBM25Retriever\n",
       "  - prompt_builder: PromptBuilder\n",
       "  - llm: OllamaGenerator\n",
       "🛤️ Connections\n",
       "  - retriever.documents -> prompt_builder.documents (List[Document])\n",
       "  - prompt_builder.prompt -> llm.prompt (str)"
      ]
     },
     "execution_count": 9,
     "metadata": {},
     "output_type": "execute_result"
    }
   ],
   "source": [
    "pipe = Pipeline()\n",
    "\n",
    "pipe.add_component(\"retriever\", InMemoryBM25Retriever(document_store=document_store))\n",
    "pipe.add_component(\"prompt_builder\", PromptBuilder(template=template))\n",
    "pipe.add_component(\"llm\", OllamaGenerator(model=\"orca-mini\", url=\"http://minti9:11434/api/generate\"))\n",
    "pipe.connect(\"retriever\", \"prompt_builder.documents\")\n",
    "pipe.connect(\"prompt_builder\", \"llm\")"
   ]
  },
  {
   "cell_type": "code",
   "execution_count": 10,
   "id": "09c0fdf3-8b40-495f-9803-1dc923b52885",
   "metadata": {},
   "outputs": [
    {
     "data": {
      "application/vnd.jupyter.widget-view+json": {
       "model_id": "946a4214363a430ea5ecad7dfe2ef1bc",
       "version_major": 2,
       "version_minor": 0
      },
      "text/plain": [
       "Ranking by BM25...:   0%|          | 0/5 [00:00<?, ? docs/s]"
      ]
     },
     "metadata": {},
     "output_type": "display_data"
    },
    {
     "name": "stdout",
     "output_type": "stream",
     "text": [
      "[' Haystack Retrievers are a specific type of component in the Haystack framework that is used to retrieve documents from a specific Document Store based on a user query. They can be customized for different database systems and use customized parameters to handle specific requirements for each database.']\n"
     ]
    }
   ],
   "source": [
    "query = \"What are haystack retrievers?\"\n",
    "\n",
    "response = pipe.run({\"prompt_builder\": {\"query\": query}, \"retriever\": {\"query\": query}})\n",
    "\n",
    "print(response[\"llm\"][\"replies\"])"
   ]
  },
  {
   "cell_type": "code",
   "execution_count": null,
   "id": "b1d52a8b-7485-4314-bf15-95dd7e568dbe",
   "metadata": {},
   "outputs": [],
   "source": []
  }
 ],
 "metadata": {
  "kernelspec": {
   "display_name": "ollama-haystack",
   "language": "python",
   "name": "ollama-haystack"
  },
  "language_info": {
   "codemirror_mode": {
    "name": "ipython",
    "version": 3
   },
   "file_extension": ".py",
   "mimetype": "text/x-python",
   "name": "python",
   "nbconvert_exporter": "python",
   "pygments_lexer": "ipython3",
   "version": "3.10.12"
  }
 },
 "nbformat": 4,
 "nbformat_minor": 5
}
