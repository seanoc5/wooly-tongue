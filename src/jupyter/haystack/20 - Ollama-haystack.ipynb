{
 "cells": [
  {
   "cell_type": "markdown",
   "id": "48a48276-b0fb-49a2-94a9-6aef8d7fbb3a",
   "metadata": {},
   "source": [
    "# Ollama Haystack integration demo\n",
    "https://github.com/deepset-ai/haystack-integrations/blob/main/integrations/ollama.md\n",
    "\n",
    "WORKING: ollama-haystack env"
   ]
  },
  {
   "cell_type": "code",
   "execution_count": 1,
   "id": "81d4ed1e-7f42-446a-8c80-c331eb7d50d9",
   "metadata": {},
   "outputs": [],
   "source": [
    "from haystack import Document, Pipeline\n",
    "from haystack.components.builders.prompt_builder import PromptBuilder\n",
    "from haystack.components.retrievers.in_memory import InMemoryBM25Retriever\n",
    "from haystack.document_stores.in_memory import InMemoryDocumentStore"
   ]
  },
  {
   "cell_type": "code",
   "execution_count": 2,
   "id": "5e616538-880d-42cb-a12f-cfa6ec18e47b",
   "metadata": {
    "scrolled": true
   },
   "outputs": [],
   "source": [
    "#!pip install ollama-haystack"
   ]
  },
  {
   "cell_type": "code",
   "execution_count": 3,
   "id": "a4b2fb1c-6b3e-422a-ab2b-c8e3f1c709eb",
   "metadata": {},
   "outputs": [],
   "source": [
    "from haystack_integrations.components.generators.ollama import OllamaGenerator"
   ]
  },
  {
   "cell_type": "code",
   "execution_count": 4,
   "id": "dc49089a-66c8-4288-92f6-de96ebfcf6fb",
   "metadata": {},
   "outputs": [
    {
     "data": {
      "text/plain": [
       "3"
      ]
     },
     "execution_count": 4,
     "metadata": {},
     "output_type": "execute_result"
    }
   ],
   "source": [
    "document_store = InMemoryDocumentStore()\n",
    "document_store.write_documents(\n",
    "    [\n",
    "        Document(content=\"Super Mario was an important politician\"),\n",
    "        Document(content=\"Mario owns several castles and uses them to conduct important political business\"),\n",
    "        Document(\n",
    "            content=\"Super Mario was a successful military leader who fought off several invasion attempts by \"\n",
    "            \"his arch rival - Bowser\"\n",
    "        ),\n",
    "    ]\n",
    ")"
   ]
  },
  {
   "cell_type": "code",
   "execution_count": 5,
   "id": "e4dc49a7-b921-4f1f-90a5-cb4e7d22095c",
   "metadata": {},
   "outputs": [],
   "source": [
    "template = \"\"\"\n",
    "Given only the following information, answer the question.\n",
    "Ignore your own knowledge.\n",
    "\n",
    "Context:\n",
    "{% for document in documents %}\n",
    "    {{ document.content }}\n",
    "{% endfor %}\n",
    "\n",
    "Question: {{ query }}?\n",
    "\"\"\""
   ]
  },
  {
   "cell_type": "code",
   "execution_count": 8,
   "id": "4a93574c-b660-4274-aa6d-aad344a403c3",
   "metadata": {},
   "outputs": [
    {
     "data": {
      "text/plain": [
       "<haystack.core.pipeline.pipeline.Pipeline object at 0x7f98b1123460>\n",
       "🚅 Components\n",
       "  - retriever: InMemoryBM25Retriever\n",
       "  - prompt_builder: PromptBuilder\n",
       "  - llm: OllamaGenerator\n",
       "🛤️ Connections\n",
       "  - retriever.documents -> prompt_builder.documents (List[Document])\n",
       "  - prompt_builder.prompt -> llm.prompt (str)"
      ]
     },
     "execution_count": 8,
     "metadata": {},
     "output_type": "execute_result"
    }
   ],
   "source": [
    "pipe = Pipeline()\n",
    "\n",
    "pipe.add_component(\"retriever\", InMemoryBM25Retriever(document_store=document_store))\n",
    "pipe.add_component(\"prompt_builder\", PromptBuilder(template=template))\n",
    "pipe.add_component(\"llm\", OllamaGenerator(model=\"orca-mini\", url=\"http://minti9:11434/api/generate\"))\n",
    "pipe.connect(\"retriever\", \"prompt_builder.documents\")\n",
    "pipe.connect(\"prompt_builder\", \"llm\")"
   ]
  },
  {
   "cell_type": "code",
   "execution_count": 10,
   "id": "09c0fdf3-8b40-495f-9803-1dc923b52885",
   "metadata": {},
   "outputs": [
    {
     "data": {
      "application/vnd.jupyter.widget-view+json": {
       "model_id": "85a69ab276ef41989ee106b270e9abfa",
       "version_major": 2,
       "version_minor": 0
      },
      "text/plain": [
       "Ranking by BM25...:   0%|          | 0/3 [00:00<?, ? docs/s]"
      ]
     },
     "metadata": {},
     "output_type": "display_data"
    },
    {
     "name": "stdout",
     "output_type": "stream",
     "text": [
      "[\" Based on the given context, Super Mario is likely either a successful military leader who fought off several invasion attempts by his arch rival - Bowser or an important politician. However, without more information or context, it's impossible to determine with certainty who Super Mario might be.\"]\n"
     ]
    }
   ],
   "source": [
    "query = \"Who is Super Mario?\"\n",
    "\n",
    "response = pipe.run({\"prompt_builder\": {\"query\": query}, \"retriever\": {\"query\": query}})\n",
    "\n",
    "print(response[\"llm\"][\"replies\"])"
   ]
  },
  {
   "cell_type": "code",
   "execution_count": null,
   "id": "b1d52a8b-7485-4314-bf15-95dd7e568dbe",
   "metadata": {},
   "outputs": [],
   "source": []
  }
 ],
 "metadata": {
  "kernelspec": {
   "display_name": "ollama-haystack",
   "language": "python",
   "name": "ollama-haystack"
  },
  "language_info": {
   "codemirror_mode": {
    "name": "ipython",
    "version": 3
   },
   "file_extension": ".py",
   "mimetype": "text/x-python",
   "name": "python",
   "nbconvert_exporter": "python",
   "pygments_lexer": "ipython3",
   "version": "3.10.12"
  }
 },
 "nbformat": 4,
 "nbformat_minor": 5
}
