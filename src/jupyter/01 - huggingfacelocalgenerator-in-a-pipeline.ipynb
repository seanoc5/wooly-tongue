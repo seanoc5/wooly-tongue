{
 "cells": [
  {
   "cell_type": "markdown",
   "id": "6c57fe1b-07e1-4afe-9f54-b0a6c06f5c4f",
   "metadata": {},
   "source": [
    "# 01- huggingfacelocalgenerator in-a-pipeline\n",
    "https://docs.haystack.deepset.ai/docs/huggingfacelocalgenerator#in-a-pipeline\n",
    "\n",
    "WORKING - unknown kernel"
   ]
  },
  {
   "cell_type": "code",
   "execution_count": 1,
   "id": "142a64fe-30fc-456c-ac1e-ae27b6de177d",
   "metadata": {},
   "outputs": [],
   "source": [
    "from haystack import Pipeline\n",
    "from haystack.components.retrievers.in_memory import InMemoryBM25Retriever\n",
    "from haystack.components.builders.prompt_builder import PromptBuilder\n",
    "from haystack.components.generators import HuggingFaceLocalGenerator\n",
    "from haystack.document_stores.in_memory import InMemoryDocumentStore\n",
    "from haystack import Document"
   ]
  },
  {
   "cell_type": "code",
   "execution_count": 2,
   "id": "2b8497df-2a0b-4a6a-ae3e-fa39565432e7",
   "metadata": {},
   "outputs": [
    {
     "data": {
      "text/plain": [
       "2"
      ]
     },
     "execution_count": 2,
     "metadata": {},
     "output_type": "execute_result"
    }
   ],
   "source": [
    "docstore = InMemoryDocumentStore()\n",
    "docstore.write_documents([Document(content=\"Rome is the capital of Italy\"), Document(content=\"Paris is the capital of France\")])"
   ]
  },
  {
   "cell_type": "code",
   "execution_count": 3,
   "id": "bd6d33be-f779-45a4-8618-2f83c68c7bef",
   "metadata": {},
   "outputs": [],
   "source": [
    "generator = HuggingFaceLocalGenerator(model=\"google/flan-t5-large\",\n",
    "                                      task=\"text2text-generation\",\n",
    "                                      generation_kwargs={\n",
    "                                        \"max_new_tokens\": 100,\n",
    "                                        \"temperature\": 0.9,\n",
    "                                        })\n",
    "\n",
    "query = \"What is the capital of France?\"\n",
    "\n",
    "template = \"\"\"\n",
    "Given the following information, answer the question.\n",
    "\n",
    "Context: \n",
    "{% for document in documents %}\n",
    "    {{ document.content }}\n",
    "{% endfor %}\n",
    "\n",
    "Question: {{ query }}?\n",
    "Answer: \n",
    "\"\"\""
   ]
  },
  {
   "cell_type": "code",
   "execution_count": 4,
   "id": "ce97c92d-22e7-49af-a34b-262f28dc5180",
   "metadata": {},
   "outputs": [
    {
     "data": {
      "application/vnd.jupyter.widget-view+json": {
       "model_id": "4594966f9b5a4446870ca363394c9cb1",
       "version_major": 2,
       "version_minor": 0
      },
      "text/plain": [
       "Ranking by BM25...:   0%|          | 0/2 [00:00<?, ? docs/s]"
      ]
     },
     "metadata": {},
     "output_type": "display_data"
    },
    {
     "name": "stderr",
     "output_type": "stream",
     "text": [
      "/home/sean/miniforge3/envs/ollama-haystack/lib/python3.10/site-packages/transformers/generation/configuration_utils.py:492: UserWarning: `do_sample` is set to `False`. However, `temperature` is set to `0.9` -- this flag is only used in sample-based generation modes. You should set `do_sample=True` or unset `temperature`.\n",
      "  warnings.warn(\n"
     ]
    }
   ],
   "source": [
    "pipe = Pipeline()\n",
    "\n",
    "pipe.add_component(\"retriever\", InMemoryBM25Retriever(document_store=docstore))\n",
    "pipe.add_component(\"prompt_builder\", PromptBuilder(template=template))\n",
    "pipe.add_component(\"llm\", generator)\n",
    "pipe.connect(\"retriever\", \"prompt_builder.documents\")\n",
    "pipe.connect(\"prompt_builder\", \"llm\")\n",
    "\n",
    "res=pipe.run({\n",
    "    \"prompt_builder\": {\n",
    "        \"query\": query\n",
    "    },\n",
    "    \"retriever\": {\n",
    "        \"query\": query\n",
    "    }\n",
    "})"
   ]
  },
  {
   "cell_type": "code",
   "execution_count": 5,
   "id": "27562bc9-6995-43a9-b80c-baf5aed15a51",
   "metadata": {},
   "outputs": [
    {
     "name": "stdout",
     "output_type": "stream",
     "text": [
      "{'llm': {'replies': ['Paris']}}\n"
     ]
    }
   ],
   "source": [
    "print(res)"
   ]
  },
  {
   "cell_type": "code",
   "execution_count": null,
   "id": "124e9e4c-0f0c-4edf-b6d4-20519fc2f31f",
   "metadata": {},
   "outputs": [],
   "source": []
  }
 ],
 "metadata": {
  "kernelspec": {
   "display_name": "Python 3 (ipykernel)",
   "language": "python",
   "name": "python3"
  },
  "language_info": {
   "codemirror_mode": {
    "name": "ipython",
    "version": 3
   },
   "file_extension": ".py",
   "mimetype": "text/x-python",
   "name": "python",
   "nbconvert_exporter": "python",
   "pygments_lexer": "ipython3",
   "version": "3.10.12"
  }
 },
 "nbformat": 4,
 "nbformat_minor": 5
}
