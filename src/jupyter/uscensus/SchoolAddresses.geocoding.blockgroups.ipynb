{
 "cells": [
  {
   "cell_type": "markdown",
   "id": "a73a2c93-956e-4f01-9788-57744a3a32b4",
   "metadata": {},
   "source": [
    "#  US Census geocoding information \n",
    "Add location info (e.g. block groups/fips) to list of places (schools)"
   ]
  },
  {
   "cell_type": "code",
   "id": "27e59b69-11b7-4b8c-9cc4-4ca24847007b",
   "metadata": {
    "ExecuteTime": {
     "end_time": "2024-08-11T00:42:30.618567Z",
     "start_time": "2024-08-11T00:42:30.617072Z"
    }
   },
   "source": [
    "import os\n",
    "import requests\n",
    "import pandas as pd\n",
    "import io\n",
    "import csv"
   ],
   "outputs": [],
   "execution_count": 14
  },
  {
   "cell_type": "code",
   "id": "f00c89d2cda57dc9",
   "metadata": {
    "ExecuteTime": {
     "end_time": "2024-08-11T00:42:31.041546Z",
     "start_time": "2024-08-11T00:42:31.037338Z"
    }
   },
   "source": [
    "# filename = 'uscensus/data/School-Addresses.csv'\n",
    "filename = '/home/sean/Downloads/Duval schools full list SoC.csv'\n",
    "# filename = '/opt/work/wooly-tongue/src/jupyter/uscensus/data/School-AddressesNoMatch.csv'\n",
    "dfDistrict = pd.read_csv(filename, sep=',', engine='python')"
   ],
   "outputs": [],
   "execution_count": 15
  },
  {
   "cell_type": "code",
   "id": "25ed3d8ce9d8a1e",
   "metadata": {
    "ExecuteTime": {
     "end_time": "2024-08-11T00:42:32.408587Z",
     "start_time": "2024-08-11T00:42:32.406026Z"
    }
   },
   "source": [
    "# import os\n",
    "# # Get the current working directory\n",
    "# current_directory = os.getcwd()\n",
    "# \n",
    "# print(current_directory)\n",
    "# dfDistrict = dfDistrict.dropna(how='any')# "
   ],
   "outputs": [],
   "execution_count": 16
  },
  {
   "cell_type": "code",
   "id": "e9c5d1ba-35de-4ab3-9f44-b7fd31cfb7aa",
   "metadata": {
    "ExecuteTime": {
     "end_time": "2024-08-11T00:42:33.469272Z",
     "start_time": "2024-08-11T00:42:33.466214Z"
    }
   },
   "source": [
    "dfDistrict.shape"
   ],
   "outputs": [
    {
     "data": {
      "text/plain": [
       "(381, 5)"
      ]
     },
     "execution_count": 17,
     "metadata": {},
     "output_type": "execute_result"
    }
   ],
   "execution_count": 17
  },
  {
   "cell_type": "code",
   "id": "9b6dacfb-4630-4c1d-af48-27d815eb1481",
   "metadata": {
    "ExecuteTime": {
     "end_time": "2024-08-11T00:42:34.690484Z",
     "start_time": "2024-08-11T00:42:34.683912Z"
    }
   },
   "source": [
    "dfDistrict.head()"
   ],
   "outputs": [
    {
     "data": {
      "text/plain": [
       "   1       1157 Golfair Blvd     Jacksonville  Fl  32209-4037\n",
       "0  2       555 Wonderwood Dr   Atlantic Beach  Fl  32233-4699\n",
       "1  3      964 Saint Clair St     Jacksonville  Fl  32254-3148\n",
       "2  4  1201 University Blvd N     Jacksonville  Fl  32211-8851\n",
       "3  5           298 Sherry Dr   Atlantic Beach  Fl  32233-5238\n",
       "4  6    3257 Lake Shore Blvd     Jacksonville  Fl  32210-5345"
      ],
      "text/html": [
       "<div>\n",
       "<style scoped>\n",
       "    .dataframe tbody tr th:only-of-type {\n",
       "        vertical-align: middle;\n",
       "    }\n",
       "\n",
       "    .dataframe tbody tr th {\n",
       "        vertical-align: top;\n",
       "    }\n",
       "\n",
       "    .dataframe thead th {\n",
       "        text-align: right;\n",
       "    }\n",
       "</style>\n",
       "<table border=\"1\" class=\"dataframe\">\n",
       "  <thead>\n",
       "    <tr style=\"text-align: right;\">\n",
       "      <th></th>\n",
       "      <th>1</th>\n",
       "      <th>1157 Golfair Blvd</th>\n",
       "      <th>Jacksonville</th>\n",
       "      <th>Fl</th>\n",
       "      <th>32209-4037</th>\n",
       "    </tr>\n",
       "  </thead>\n",
       "  <tbody>\n",
       "    <tr>\n",
       "      <th>0</th>\n",
       "      <td>2</td>\n",
       "      <td>555 Wonderwood Dr</td>\n",
       "      <td>Atlantic Beach</td>\n",
       "      <td>Fl</td>\n",
       "      <td>32233-4699</td>\n",
       "    </tr>\n",
       "    <tr>\n",
       "      <th>1</th>\n",
       "      <td>3</td>\n",
       "      <td>964 Saint Clair St</td>\n",
       "      <td>Jacksonville</td>\n",
       "      <td>Fl</td>\n",
       "      <td>32254-3148</td>\n",
       "    </tr>\n",
       "    <tr>\n",
       "      <th>2</th>\n",
       "      <td>4</td>\n",
       "      <td>1201 University Blvd N</td>\n",
       "      <td>Jacksonville</td>\n",
       "      <td>Fl</td>\n",
       "      <td>32211-8851</td>\n",
       "    </tr>\n",
       "    <tr>\n",
       "      <th>3</th>\n",
       "      <td>5</td>\n",
       "      <td>298 Sherry Dr</td>\n",
       "      <td>Atlantic Beach</td>\n",
       "      <td>Fl</td>\n",
       "      <td>32233-5238</td>\n",
       "    </tr>\n",
       "    <tr>\n",
       "      <th>4</th>\n",
       "      <td>6</td>\n",
       "      <td>3257 Lake Shore Blvd</td>\n",
       "      <td>Jacksonville</td>\n",
       "      <td>Fl</td>\n",
       "      <td>32210-5345</td>\n",
       "    </tr>\n",
       "  </tbody>\n",
       "</table>\n",
       "</div>"
      ]
     },
     "execution_count": 18,
     "metadata": {},
     "output_type": "execute_result"
    }
   ],
   "execution_count": 18
  },
  {
   "cell_type": "code",
   "id": "df4ffd236117094f",
   "metadata": {
    "ExecuteTime": {
     "end_time": "2024-08-11T00:42:35.912437Z",
     "start_time": "2024-08-11T00:42:35.909244Z"
    }
   },
   "source": [
    "url = 'https://geocoding.geo.census.gov/geocoder/geographies/addressbatch'\n",
    "payload = {'benchmark':'Public_AR_Current','vintage':'Current_Current'}"
   ],
   "outputs": [],
   "execution_count": 19
  },
  {
   "cell_type": "code",
   "id": "3685ab5c-beca-428b-aaf4-7b5d8ae79725",
   "metadata": {
    "ExecuteTime": {
     "end_time": "2024-08-11T00:43:00.565415Z",
     "start_time": "2024-08-11T00:42:40.931662Z"
    }
   },
   "source": [
    "print(f\"Prepare to query Census API using address file: {filename}\")\n",
    "files = {'addressFile': (filename, open(filename, 'rb'), 'text/csv')}\n",
    "s = requests.post(url, files=files, data=payload, timeout=None)\n",
    "contents = s.content\n",
    "print(f\"\\t\\tGot reponse from Census API: {s.status_code} -- Content length: {len(contents)}\")"
   ],
   "outputs": [
    {
     "name": "stdout",
     "output_type": "stream",
     "text": [
      "Prepare to query Census API using address file: /home/sean/Downloads/Duval schools full list SoC.csv\n",
      "\t\tGot reponse from Census API: 200 -- Content length: 74524\n"
     ]
    }
   ],
   "execution_count": 20
  },
  {
   "cell_type": "code",
   "id": "2e57ed28-b088-4027-997d-cbd332c01de9",
   "metadata": {
    "ExecuteTime": {
     "end_time": "2024-08-11T00:43:00.576061Z",
     "start_time": "2024-08-11T00:43:00.568941Z"
    }
   },
   "source": [
    "import io\n",
    "csv_string_readable = io.StringIO(contents.decode('utf-8'))\n",
    "csv_string_readable"
   ],
   "outputs": [
    {
     "data": {
      "text/plain": [
       "<_io.StringIO at 0x7f7e18c885e0>"
      ]
     },
     "execution_count": 21,
     "metadata": {},
     "output_type": "execute_result"
    }
   ],
   "execution_count": 21
  },
  {
   "cell_type": "code",
   "id": "0247bbd5-eae5-4617-85d0-0348c14212a1",
   "metadata": {
    "ExecuteTime": {
     "end_time": "2024-08-11T00:43:00.612150Z",
     "start_time": "2024-08-11T00:43:00.576907Z"
    }
   },
   "source": [
    "contents\n",
    "# response_chunk_file = open(response_chunk_name, 'wb')\n",
    "# response_chunk_file.write(s.content)\n",
    "# response_chunk_file.close()"
   ],
   "outputs": [
    {
     "data": {
      "text/plain": [
       "b'\"350\",\"7020 Ramona Blvd ,  Jacksonville,  FL, 32205\",\"Match\",\"Exact\",\"7020 RAMONA BLVD, JACKSONVILLE, FL, 32205\",\"-81.76221334839232,30.313754951505928\",\"83989119\",\"L\",\"12\",\"031\",\"012000\",\"1000\"\\n\"230\",\"10063 Baymeadows Road ,  Jacksonville,  FL, 32256\",\"No_Match\"\\n\"351\",\"8964 Old Plank Road ,  Jacksonville,  FL, 32220\",\"Match\",\"Exact\",\"8964 OLD PLANK RD, JACKSONVILLE, FL, 32220\",\"-81.80266744033486,30.330543854852237\",\"83957169\",\"L\",\"12\",\"031\",\"011901\",\"2004\"\\n\"110\",\"700 Seagate Ave,  Neptune Beach, Fl, 32266-3505\",\"Match\",\"Non_Exact\",\"700 SEAGATE AVE, NEPTUNE BEACH, FL, 32266\",\"-81.40182204301527,30.3076187264042\",\"83922963\",\"R\",\"12\",\"031\",\"014001\",\"3003\"\\n\"231\",\"9000 Southside Blvd. Bldg. 900,  Jacksonville,  FL, 32256\",\"Match\",\"Exact\",\"9000 SOUTHSIDE BLVD, JACKSONVILLE, FL, 32256\",\"-81.5518212506077,30.195179698600384\",\"83952442\",\"L\",\"12\",\"031\",\"015922\",\"2008\"\\n\"352\",\"2841 Alaskan Way ,  Jacksonville,  FL, 32226\",\"Match\",\"Exact\",\"2841 ALASKAN WAY, JACKSONVILLE, FL, 32226\",\"-81.57390944604555,30.494394806517903\",\"640771744\",\"R\",\"12\",\"031\",\"010106\",\"1001\"\\n\"111\",\"1700 Old Middleburg Rd N,  Jacksonville, Fl, 32210-1232\",\"Match\",\"Non_Exact\",\"1700 OLD MIDDLEBURG RD N, JACKSONVILLE, FL, 32210\",\"-81.76552007389364,30.29102658320386\",\"83910131\",\"R\",\"12\",\"031\",\"012601\",\"2004\"\\n\"232\",\"1351 Sprinkle Drive ,  Jacksonville,  FL, 32211\",\"Match\",\"Exact\",\"1351 SPRINKLE DR, JACKSONVILLE, FL, 32211\",\"-81.59219093353028,30.334206857698746\",\"83903459\",\"R\",\"12\",\"031\",\"015400\",\"1026\"\\n\"353\",\"7900 Lone Star Road ,  Jacksonville,  FL, 32211\",\"Match\",\"Exact\",\"7900 LONE STAR RD, JACKSONVILLE, FL, 32211\",\"-81.57692803899522,30.337252393347626\",\"83903906\",\"R\",\"12\",\"031\",\"015002\",\"1001\"\\n\"112\",\"4412 Barnes Rd,  Jacksonville, Fl, 32207-7469\",\"Match\",\"Non_Exact\",\"4412 BARNES RD S, JACKSONVILLE, FL, 32207\",\"-81.60991551291033,30.27829099097187\",\"83918795\",\"R\",\"12\",\"031\",\"016102\",\"2000\"\\n\"233\",\"3000 Dunn Ave Ste 8 ,  Jacksonville,  FL, 32218\",\"Match\",\"Exact\",\"3000 DUNN AVE, JACKSONVILLE, FL, 32218\",\"-81.6980753975796,30.43863824987403\",\"83890199\",\"L\",\"12\",\"031\",\"010503\",\"1000\"\\n\"354\",\"2701 Hodges Boulevard ,  Jacksonville,  FL,   32224-1264\",\"No_Match\"\\n\"113\",\"590 Duval Station Rd,  Jacksonville, Fl, 32218-1869\",\"Match\",\"Non_Exact\",\"590 DUVAL STATION RD, JACKSONVILLE, FL, 32218\",\"-81.6122162068803,30.485515555847314\",\"83961150\",\"R\",\"12\",\"031\",\"010204\",\"2004\"\\n\"234\",\"2130 Woodside Street ,  Jacksonville,  FL, 32209\",\"Match\",\"Exact\",\"2130 WOODSIDE ST, JACKSONVILLE, FL, 32209\",\"-81.69689452671753,30.335592728387667\",\"83894655\",\"L\",\"12\",\"031\",\"002701\",\"2031\"\\n\"355\",\"634 Lomax Street ,  Jacksonville,  FL, 32204\",\"Match\",\"Exact\",\"634 LOMAX ST, JACKSONVILLE, FL, 32204\",\"-81.6786787953435,30.312907894642535\",\"83896820\",\"L\",\"12\",\"031\",\"017102\",\"2040\"\\n\"114\",\"7450 Wilson Blvd,  Jacksonville, Fl, 32210-3523\",\"Match\",\"Non_Exact\",\"7450 WILSON BLVD, JACKSONVILLE, FL, 32210\",\"-81.77028359566293,30.269749229915362\",\"83967216\",\"L\",\"12\",\"031\",\"012800\",\"4002\"\\n\"235\",\"12443 Joda Lane E ,  Jacksonville,  FL, 32258\",\"Match\",\"Exact\",\"12443 JODA LN E, JACKSONVILLE, FL, 32258\",\"-81.5829055180244,30.145018879887118\",\"83921556\",\"L\",\"12\",\"031\",\"016811\",\"1001\"\\n\"356\",\"201 E Beaver St ,  Jacksonville,  FL, 32202\",\"Match\",\"Exact\",\"201 E BEAVER ST, JACKSONVILLE, FL, 32202\",\"-81.65396782931185,30.331033579369034\",\"83899787\",\"L\",\"12\",\"031\",\"001000\",\"2013\"\\n\"115\",\"3701 Winton Dr,  Jacksonville, Fl, 32208-2998\",\"Match\",\"Non_Exact\",\"3701 WINTON DR, JACKSONVILLE, FL, 32208\",\"-81.7071551610191,30.389420588004214\",\"83891551\",\"R\",\"12\",\"031\",\"011300\",\"2007\"\\n\"236\",\"8011 Philips Hwy Suite 10,  Jacksonville,  FL, 32256\",\"Match\",\"Exact\",\"8011 PHILIPS HWY, JACKSONVILLE, FL, 32256\",\"-81.58699077965417,30.223043070299752\",\"83966549\",\"L\",\"12\",\"031\",\"016605\",\"2014\"\\n\"357\",\"5710 Jack Road ,  Jacksonville,  FL, 32277\",\"Match\",\"Exact\",\"5710 JACK RD, JACKSONVILLE, FL, 32277\",\"-81.6019942298467,30.361248081209567\",\"83902594\",\"R\",\"12\",\"031\",\"014800\",\"3001\"\\n\"116\",\"4831 Greenland Rd,  Jacksonville, Fl, 32258-1517\",\"Match\",\"Non_Exact\",\"4831 GREENLAND RD, JACKSONVILLE, FL, 32258\",\"-81.58166477734193,30.161353569238145\",\"83989649\",\"R\",\"12\",\"031\",\"016810\",\"2000\"\\n\"237\",\"4024 Moncrief Road ,  Jacksonville,  FL, 32209\",\"Match\",\"Exact\",\"4024 MONCRIEF RD, JACKSONVILLE, FL, 32209\",\"-81.6784132063732,30.363239841807285\",\"83893000\",\"L\",\"12\",\"031\",\"002901\",\"2000\"\\n\"358\",\"830 Oak Street ,  Jacksonville,  FL,   32204-3391\",\"Match\",\"Non_Exact\",\"830 OAK ST, JACKSONVILLE, FL, 32204\",\"-81.6789187492924,30.31618635949218\",\"83896808\",\"L\",\"12\",\"031\",\"017102\",\"2052\"\\n\"117\",\"3239 Norman E Thagard Blvd,  Jacksonville, Fl, 32254-1796\",\"Match\",\"Non_Exact\",\"3239 NORMAN E THAGARD BLVD, JACKSONVILLE, FL, 32254\",\"-81.72427677462264,30.34392431715412\",\"83970137\",\"R\",\"12\",\"031\",\"011800\",\"1017\"\\n\"238\",\"6700 Southpoint Parkway Suite 400,  Jacksonville,  FL, 32216\",\"Match\",\"Exact\",\"6700 SOUTHPOINT PKWY, JACKSONVILLE, FL, 32216\",\"-81.59403157101656,30.258846830676305\",\"83985816\",\"L\",\"12\",\"031\",\"015924\",\"2028\"\\n\"359\",\"5752 Blanding Blvd. ,  Jacksonville,  FL, 32244\",\"Match\",\"Exact\",\"5752 BLANDING BLVD, JACKSONVILLE, FL, 32244\",\"-81.7428325481194,30.24410814966484\",\"83912287\",\"R\",\"12\",\"031\",\"013525\",\"1004\"\\n\"118\",\"1200 S Mcduff Ave,  Jacksonville, Fl, 32205-8098\",\"No_Match\"\\n\"239\",\"3903 North Main Street ,  Jacksonville,  FL, 32206\",\"Match\",\"Exact\",\"3903 N MAIN ST, JACKSONVILLE, FL, 32206\",\"-81.65308953926763,30.364272566547868\",\"83897992\",\"R\",\"12\",\"031\",\"001300\",\"3006\"\\n\"119\",\"7000 Powers Ave,  Jacksonville, Fl, 32217-3398\",\"Match\",\"Non_Exact\",\"7000 POWERS AVE, JACKSONVILLE, FL, 32217\",\"-81.6128897456345,30.24882526807272\",\"610518975\",\"L\",\"12\",\"031\",\"016606\",\"1000\"\\n\"10\",\"3925 Athore Dr,  Jacksonville, Fl, 32277-2032\",\"Match\",\"Non_Exact\",\"3925 ATHORE DR, JACKSONVILLE, FL, 32277\",\"-81.59454081956636,30.370504581041985\",\"83902280\",\"R\",\"12\",\"031\",\"014702\",\"1009\"\\n\"11\",\"2854 W 45Th St,  Jacksonville, Fl, 32209-2825\",\"Match\",\"Non_Exact\",\"2854 W 45TH ST, JACKSONVILLE, FL, 32209\",\"-81.71085103851073,30.369634508438537\",\"83891944\",\"L\",\"12\",\"031\",\"011600\",\"2021\"\\n\"12\",\"7800 Gregory Dr,  Jacksonville, Fl, 32210-4685\",\"Match\",\"Non_Exact\",\"7800 GREGORY DR, JACKSONVILLE, FL, 32210\",\"-81.77741337778906,30.262445963920356\",\"83967215\",\"R\",\"12\",\"031\",\"012704\",\"3005\"\\n\"13\",\"9430 Lem Turner Rd,  Jacksonville, Fl, 32208-1598\",\"Match\",\"Non_Exact\",\"9430 LEM TURNER RD, JACKSONVILLE, FL, 32208\",\"-81.68952684391093,30.411298501603937\",\"83891621\",\"L\",\"12\",\"031\",\"011000\",\"4015\"\\n\"14\",\"6127 Cedar Hills Blvd,  Jacksonville, Fl, 32210-5199\",\"Match\",\"Non_Exact\",\"6127 CEDAR HILLS BLVD, JACKSONVILLE, FL, 32210\",\"-81.74157454951978,30.26724460837869\",\"83910795\",\"R\",\"12\",\"031\",\"012500\",\"4001\"\\n\"15\",\"6900 Altama Rd,  Jacksonville, Fl, 32216-9104\",\"Match\",\"Non_Exact\",\"6900 ALTAMA RD, JACKSONVILLE, FL, 32216\",\"-81.58544339779019,30.302724613721125\",\"83919163\",\"R\",\"12\",\"031\",\"015804\",\"1006\"\\n\"16\",\"4827 Carlisle Rd,  Jacksonville, Fl, 32210-8164\",\"Match\",\"Non_Exact\",\"4827 CARLISLE RD, JACKSONVILLE, FL, 32210\",\"-81.70361659883736,30.25932126586133\",\"83967323\",\"L\",\"12\",\"031\",\"013000\",\"2014\"\\n\"17\",\"7840 Burma Rd,  Jacksonville, Fl, 32221-6198\",\"Match\",\"Non_Exact\",\"7840 BURMA RD, JACKSONVILLE, FL, 32221\",\"-81.77970015999477,30.30890501147678\",\"83932271\",\"L\",\"12\",\"031\",\"012000\",\"3021\"\\n\"18\",\"7401 Old Kings Rd S,  Jacksonville, Fl, 32217-3799\",\"Match\",\"Non_Exact\",\"7401 OLD KINGS RD S, JACKSONVILLE, FL, 32217\",\"-81.61580016880043,30.24565160279883\",\"610519974\",\"L\",\"12\",\"031\",\"016606\",\"1000\"\\n\"19\",\"6527 Merrill Rd,  Jacksonville, Fl, 32277-3626\",\"Match\",\"Non_Exact\",\"6527 MERRILL RD, JACKSONVILLE, FL, 32277\",\"-81.58919023273597,30.351920247715896\",\"83902912\",\"L\",\"12\",\"031\",\"014901\",\"3015\"\\n\"360\",\"11600 Old St. Augustine Road ,  Jacksonville,  FL, 32258\",\"Match\",\"Exact\",\"11600 OLD ST AUGUSTINE RD, JACKSONVILLE, FL, 32258\",\"-81.60044658588828,30.162604836904507\",\"83921303\",\"R\",\"12\",\"031\",\"016807\",\"2002\"\\n\"240\",\"3819 N Main Street ,  Jacksonville,  FL, 32206\",\"Match\",\"Exact\",\"3819 N MAIN ST, JACKSONVILLE, FL, 32206\",\"-81.65334806607024,30.361880684975574\",\"83898000\",\"R\",\"12\",\"031\",\"001300\",\"3014\"\\n\"361\",\"1773-0010 Blanding Boulevard ,  Jacksonville,  FL, 32210\",\"Match\",\"Non_Exact\",\"1773 BLANDING BLVD, JACKSONVILLE, FL, 32210\",\"-81.72433534868264,30.28662307729479\",\"83967912\",\"L\",\"12\",\"031\",\"012300\",\"2016\"\\n\"120\",\"2750 John Prom Blvd,  Jacksonville, Fl, 32246-3999\",\"Match\",\"Non_Exact\",\"2750 JOHN PROM BLVD, JACKSONVILLE, FL, 32246\",\"-81.51608681309983,30.297498899986635\",\"83968743\",\"R\",\"12\",\"031\",\"014312\",\"1002\"\\n\"241\",\"320 Demper Drive ,  Jacksonville,  FL, 32208\",\"Match\",\"Exact\",\"320 DEMPER DR, JACKSONVILLE, FL, 32208\",\"-81.65699628745818,30.377921100335982\",\"83897747\",\"L\",\"12\",\"031\",\"001401\",\"2021\"\\n\"362\",\"601 Airport Center Drive East ,  Jacksonville,  FL, 32218\",\"Match\",\"Exact\",\"601 AIRPORT CENTER DR E, JACKSONVILLE, FL, 32218\",\"-81.62108776995774,30.47612150092334\",\"641026397\",\"R\",\"12\",\"031\",\"010204\",\"2004\"\\n\"121\",\"1149 W 13Th St,  Jacksonville, Fl, 32209-5699\",\"Match\",\"Non_Exact\",\"1149 W 13TH ST, JACKSONVILLE, FL, 32209\",\"-81.67297912024031,30.35145871280389\",\"83895802\",\"R\",\"12\",\"031\",\"001500\",\"1009\"\\n\"242\",\"4736 Avenue B ,  Jacksonville,  FL, 32209\",\"Match\",\"Exact\",\"4736 AVE B, JACKSONVILLE, FL, 32209\",\"-81.69893515365004,30.36527959193802\",\"83892208\",\"L\",\"12\",\"031\",\"011600\",\"1019\"\\n\"363\",\"2609 Park Street ,  Jacksonville,  FL, 32204\",\"Match\",\"Exact\",\"2609 PARK ST, JACKSONVILLE, FL, 32204\",\"-81.69288628973288,30.311082888485316\",\"83895065\",\"R\",\"12\",\"031\",\"017101\",\"3017\"\\n\"1\",\"1157 Golfair Blvd,  Jacksonville, Fl, 32209-4037\",\"Match\",\"Non_Exact\",\"1157 GOLFAIR BLVD, JACKSONVILLE, FL, 32209\",\"-81.6731898832524,30.364963000879584\",\"83893237\",\"R\",\"12\",\"031\",\"001402\",\"3004\"\\n\"122\",\"7301 Parker School Rd,  Jacksonville, Fl, 32211-5198\",\"Match\",\"Non_Exact\",\"7301 PARKER SCHOOL RD, JACKSONVILLE, FL, 32211\",\"-81.57705193195864,30.342218358434934\",\"83970372\",\"L\",\"12\",\"031\",\"015001\",\"3007\"\\n\"243\",\"580 Lawton Ave ,  Jacksonville,  FL, 32208\",\"Match\",\"Exact\",\"580 LAWTON AVE, JACKSONVILLE, FL, 32208\",\"-81.64246131188338,30.386462806027396\",\"83898089\",\"R\",\"12\",\"031\",\"000102\",\"1008\"\\n\"364\",\"428 Second Avenue North  Jacksonville Beach Fl 32250, , , \",\"Match\",\"Exact\",\"428 2ND AVE N, JACKSONVILLE BEACH, FL, 32250\",\"-81.39383054160601,30.290659051664818\",\"83923540\",\"L\",\"12\",\"031\",\"014103\",\"2049\"\\n\"2\",\"555 Wonderwood Dr,  Atlantic Beach, Fl, 32233-4699\",\"Match\",\"Non_Exact\",\"555 WONDERWOOD DR, ATLANTIC BEACH, FL, 32233\",\"-81.40969265244559,30.371147049037802\",\"83906631\",\"R\",\"12\",\"031\",\"013906\",\"3000\"\\n\"123\",\"3663 Raines Ave,  Jacksonville, Fl, 32209-1999\",\"Match\",\"Non_Exact\",\"3663 RAINES AVE, JACKSONVILLE, FL, 32209\",\"-81.7078926310794,30.381896394073408\",\"83891866\",\"R\",\"12\",\"031\",\"011400\",\"1006\"\\n\"244\",\"6803 Arques Road ,  Jacksonville,  FL, 32205\",\"Match\",\"Exact\",\"6803 ARQUES RD, JACKSONVILLE, FL, 32205\",\"-81.75910654577552,30.307202572178483\",\"83968338\",\"R\",\"12\",\"031\",\"012000\",\"1000\"\\n\"365\",\"3619 Toledo Road ,  Jacksonville,  FL, 32217\",\"Match\",\"Exact\",\"3619 TOLEDO RD, JACKSONVILLE, FL, 32217\",\"-81.6243326660848,30.24744746666181\",\"83916976\",\"L\",\"12\",\"031\",\"016604\",\"1002\"\\n\"3\",\"964 Saint Clair St,  Jacksonville, Fl, 32254-3148\",\"Match\",\"Non_Exact\",\"964 ST CLAIR ST, JACKSONVILLE, FL, 32254\",\"-81.71664827809377,30.335920165447533\",\"83889080\",\"L\",\"12\",\"031\",\"002702\",\"2006\"\\n\"124\",\"2710 Dupont Ave,  Jacksonville, Fl, 32217-2635\",\"Match\",\"Non_Exact\",\"2710 DUPONT AVE, JACKSONVILLE, FL, 32217\",\"-81.63340137255761,30.250832051703867\",\"83916862\",\"R\",\"12\",\"031\",\"016500\",\"4023\"\\n\"245\",\"223 Mill Creek Road ,  Jacksonville,  FL, 32211\",\"Match\",\"Exact\",\"223 MILL CREEK RD, JACKSONVILLE, FL, 32211\",\"-81.56021656403306,30.318680619956297\",\"83904958\",\"R\",\"12\",\"031\",\"015502\",\"2000\"\\n\"366\",\"7423 San Jose Boulevard ,  Jacksonville,  FL, 32217\",\"Match\",\"Exact\",\"7423 SAN JOSE BLVD, JACKSONVILLE, FL, 32217\",\"-81.62733224589488,30.244215212192728\",\"638006417\",\"L\",\"12\",\"031\",\"016500\",\"2005\"\\n\"4\",\"1201 University Blvd N,  Jacksonville, Fl, 32211-8851\",\"Match\",\"Non_Exact\",\"1201 UNIVERSITY BLVD N, JACKSONVILLE, FL, 32211\",\"-81.60300464098123,30.332430057405702\",\"83970351\",\"R\",\"12\",\"031\",\"015400\",\"2031\"\\n\"125\",\"8141 Lone Star Rd,  Jacksonville, Fl, 32211-5145\",\"Match\",\"Non_Exact\",\"8141 LONE STAR RD, JACKSONVILLE, FL, 32211\",\"-81.57036517422392,30.33770797107161\",\"83970384\",\"L\",\"12\",\"031\",\"015001\",\"3012\"\\n\"246\",\"9857 Old St. Augustine Road Suite 6,  Jacksonville,  FL, 32257\",\"Match\",\"Exact\",\"9857 OLD SAINT AUGUSTINE RD, JACKSONVILLE, FL, 32257\",\"-81.61394803811777,30.198073831042166\",\"629624861\",\"L\",\"12\",\"031\",\"016731\",\"2000\"\\n\"367\",\"8057 Arlington Expressway ,  Jacksonville,  FL, 32211\",\"Match\",\"Exact\",\"8057 ARLINGTON EXPY, JACKSONVILLE, FL, 32211\",\"-81.5716541433917,30.32778916042838\",\"83969679\",\"L\",\"12\",\"031\",\"015002\",\"3013\"\\n\"5\",\"298 Sherry Dr,  Atlantic Beach, Fl, 32233-5238\",\"Match\",\"Non_Exact\",\"298 SHERRY DR, ATLANTIC BEACH, FL, 32233\",\"-81.40031724716147,30.327684614926568\",\"83970047\",\"L\",\"12\",\"031\",\"013906\",\"1023\"\\n\"126\",\"7050 Melvin Rd,  Jacksonville, Fl, 32210-6830\",\"Match\",\"Non_Exact\",\"7050 MELVIN RD, JACKSONVILLE, FL, 32210\",\"-81.76069788793188,30.255583973126477\",\"83911997\",\"L\",\"12\",\"031\",\"012800\",\"5016\"\\n\"247\",\"13965 Strong Eagle Drive ,  Jacksonville,  FL, 32226\",\"Match\",\"Exact\",\"13965 STRONG EAGLE DR, JACKSONVILLE, FL, 32226\",\"-81.56696758045308,30.491232635206245\",\"614098284\",\"L\",\"12\",\"031\",\"010106\",\"3002\"\\n\"368\",\"6505 Norwood Avenue ,  Jacksonville,  FL, 32208\",\"Match\",\"Exact\",\"6505 NORWOOD AVE, JACKSONVILLE, FL, 32208\",\"-81.66871636735789,30.378063816611416\",\"83893151\",\"R\",\"12\",\"031\",\"001401\",\"3001\"\\n\"6\",\"3257 Lake Shore Blvd,  Jacksonville, Fl, 32210-5345\",\"Match\",\"Non_Exact\",\"3257 LAKE SHORE BLVD, JACKSONVILLE, FL, 32210\",\"-81.7233919031508,30.27106391493595\",\"83967922\",\"L\",\"12\",\"031\",\"012400\",\"2033\"\\n\"127\",\"2000 3Rd St N,  Jacksonville Beach, Fl, 32250-7430\",\"Match\",\"Non_Exact\",\"2000 3RD ST N, JACKSONVILLE BEACH, FL, 32250\",\"-81.39556973872328,30.306784671780974\",\"83923058\",\"L\",\"12\",\"031\",\"014103\",\"1000\"\\n\"248\",\"1901 Leonid Rd. ,  Jacksonville,  FL, 32218\",\"Match\",\"Exact\",\"1901 LEONID RD, JACKSONVILLE, FL, 32218\",\"-81.6768846633654,30.429885312877673\",\"640433942\",\"R\",\"12\",\"031\",\"010306\",\"1015\"\\n\"369\",\"440 Lenox Avenue ,  Jacksonville,  FL, 32254\",\"Match\",\"Non_Exact\",\"440 LENOX SQ, JACKSONVILLE, FL, 32254\",\"-81.71035213370897,30.32237450398145\",\"83945742\",\"L\",\"12\",\"031\",\"002600\",\"4018\"\\n\"7\",\"2101 W Palm Ave,  Jacksonville, Fl, 32254-1734\",\"Match\",\"Non_Exact\",\"2101 W PALM AVE, JACKSONVILLE, FL, 32254\",\"-81.72920033409946,30.34352002418791\",\"83888805\",\"R\",\"12\",\"031\",\"011800\",\"1020\"\\n\"128\",\"3787 University Club Blvd,  Jacksonville, Fl, 32277-1973\",\"Match\",\"Non_Exact\",\"3787 UNIVERSITY CLUB BLVD, JACKSONVILLE, FL, 32277\",\"-81.59672669511679,30.36964265035391\",\"83971002\",\"R\",\"12\",\"031\",\"014702\",\"1009\"\\n\"249\",\"1718 Edgewood Ave N ,  Jacksonville,  FL, 32254\",\"Match\",\"Exact\",\"1718 EDGEWOOD AVE N, JACKSONVILLE, FL, 32254\",\"-81.73118367303033,30.34546810846348\",\"83888791\",\"L\",\"12\",\"031\",\"011800\",\"1010\"\\n\"8\",\"10450 Theresa Dr,  Jacksonville, Fl, 32246-8746\",\"Match\",\"Non_Exact\",\"10450 THERESA DR, JACKSONVILLE, FL, 32246\",\"-81.52915700996482,30.32005837565856\",\"83969834\",\"R\",\"12\",\"031\",\"014311\",\"1009\"\\n\"129\",\"10913 Pine Estates Rd E,  Jacksonville, Fl, 32218-4634\",\"Match\",\"Non_Exact\",\"10913 E PINE ESTATES RD, JACKSONVILLE, FL, 32218\",\"-81.6828574899153,30.43384439349495\",\"83890402\",\"R\",\"12\",\"031\",\"010306\",\"1001\"\\n\"9\",\"3977 Herschel St,  Jacksonville, Fl, 32205-9267\",\"Match\",\"Non_Exact\",\"3977 HERSCHEL ST, JACKSONVILLE, FL, 32205\",\"-81.71324126618606,30.292294864787777\",\"83913385\",\"R\",\"12\",\"031\",\"002200\",\"4022\"\\n\"20\",\"10400 Lone Star Rd,  Jacksonville, Fl, 32225-6797\",\"Match\",\"Non_Exact\",\"10400 LONE STAR RD, JACKSONVILLE, FL, 32225\",\"-81.5314021834356,30.338298276870546\",\"83905182\",\"R\",\"12\",\"031\",\"014603\",\"3000\"\\n\"21\",\"3723 Franklin St,  Jacksonville, Fl, 32206-1599\",\"Match\",\"Non_Exact\",\"3723 FRANKLIN ST, JACKSONVILLE, FL, 32206\",\"-81.63914104636763,30.36136629766895\",\"83898304\",\"R\",\"12\",\"031\",\"000200\",\"2007\"\\n\"22\",\"8801 Lake Placid Dr E,  Jacksonville, Fl, 32208-6922\",\"Match\",\"Non_Exact\",\"8801 LAKE PLACID DR E, JACKSONVILLE, FL, 32208\",\"-81.71105036795495,30.40092371106863\",\"83891445\",\"R\",\"12\",\"031\",\"010900\",\"2005\"\\n\"23\",\"2753 Shangri La Dr,  Atlantic Beach, Fl, 32233-2999\",\"Match\",\"Non_Exact\",\"2753 SHANGRI LA DR, ATLANTIC BEACH, FL, 32233\",\"-81.41916639364644,30.361776262077854\",\"83906591\",\"R\",\"12\",\"031\",\"013904\",\"3018\"\\n\"24\",\"8257 Herlong Rd,  Jacksonville, Fl, 32210-2323\",\"Match\",\"Non_Exact\",\"8257 HERLONG RD, JACKSONVILLE, FL, 32210\",\"-81.78709505994522,30.284376550484353\",\"647056141\",\"R\",\"12\",\"031\",\"012702\",\"2003\"\\n\"25\",\"4010 Baltic St,  Jacksonville, Fl, 32210-4300\",\"Match\",\"Non_Exact\",\"4010 BALTIC ST, JACKSONVILLE, FL, 32210\",\"-81.7026794491133,30.275146184303424\",\"83913790\",\"R\",\"12\",\"031\",\"002400\",\"1026\"\\n\"26\",\"1709 Lansdowne Dr,  Jacksonville, Fl, 32211-5197\",\"Match\",\"Non_Exact\",\"1709 LANSDOWNE DR, JACKSONVILLE, FL, 32211\",\"-81.57317542622064,30.34016833295476\",\"83970380\",\"R\",\"12\",\"031\",\"015001\",\"3011\"\\n\"27\",\"10741 Pine Estates Rd E,  Jacksonville, Fl, 32218-4699\",\"Match\",\"Non_Exact\",\"10741 E PINE ESTATES RD, JACKSONVILLE, FL, 32218\",\"-81.68282601894867,30.431053485904783\",\"83890496\",\"R\",\"12\",\"031\",\"010306\",\"1001\"\\n\"28\",\"4228 Dignan St,  Jacksonville, Fl, 32254-4111\",\"Match\",\"Non_Exact\",\"4228 DIGNAN ST, JACKSONVILLE, FL, 32254\",\"-81.72104570850132,30.3245627891489\",\"83889426\",\"L\",\"12\",\"031\",\"012100\",\"1019\"\\n\"29\",\"1951 W 15Th St,  Jacksonville, Fl, 32209-4796\",\"Match\",\"Non_Exact\",\"1951 W 15TH ST, JACKSONVILLE, FL, 32209\",\"-81.69118472684659,30.352731531730626\",\"83956666\",\"R\",\"12\",\"031\",\"002801\",\"1024\"\\n\"370\",\"4200 Georgetown Dr. ,  Jacksonville,  FL, 32210\",\"Match\",\"Exact\",\"4200 GEORGETOWN DR, JACKSONVILLE, FL, 32210\",\"-81.76444112082157,30.260312171468627\",\"83910498\",\"R\",\"12\",\"031\",\"012800\",\"4004\"\\n\"250\",\"1050 N. Davis Street ,  Jacksonville,  FL, 32209\",\"Match\",\"Exact\",\"1050 N DAVIS ST, JACKSONVILLE, FL, 32209\",\"-81.66705495885674,30.337324583204747\",\"640433969\",\"L\",\"12\",\"031\",\"017200\",\"2004\"\\n\"371\",\"1766 West 17Th Street ,  Jacksonville,  FL, 32209\",\"Match\",\"Exact\",\"1766 W 17TH ST, JACKSONVILLE, FL, 32209\",\"-81.68575775393401,30.35402705961792\",\"83895146\",\"L\",\"12\",\"031\",\"002901\",\"3045\"\\n\"130\",\"3276 Norman E Thagard Blvd,  Jacksonville, Fl, 32254-1765\",\"Match\",\"Non_Exact\",\"3276 NORMAN E THAGARD BLVD, JACKSONVILLE, FL, 32254\",\"-81.72479742480243,30.34381308431557\",\"83970137\",\"L\",\"12\",\"031\",\"011800\",\"1020\"\\n\"251\",\"One Unf Drive Building 57 Room 2800,  Jacksonville,  FL, 32224\",\"No_Match\"\\n\"372\",\"11271 Alumni Way ,  Jacksonville,  FL, 32246\",\"Match\",\"Exact\",\"11271 ALUMNI WAY, JACKSONVILLE, FL, 32246\",\"-81.52527217819306,30.27500884864503\",\"638339018\",\"L\",\"12\",\"031\",\"014414\",\"1000\"\\n\"131\",\"3610 Ribault Scenic Dr,  Jacksonville, Fl, 32208-2997\",\"Match\",\"Non_Exact\",\"3610 RIBAULT SCENIC DR, JACKSONVILLE, FL, 32208\",\"-81.71104502346299,30.391596460631035\",\"83971655\",\"L\",\"12\",\"031\",\"011300\",\"2007\"\\n\"252\",\"4401 Wesconnett Boulevard ,  Jacksonville,  FL, 32210\",\"Match\",\"Exact\",\"4401 WESCONNETT BLVD, JACKSONVILLE, FL, 32210\",\"-81.73985240937418,30.26180599934304\",\"83967287\",\"L\",\"12\",\"031\",\"012500\",\"3005\"\\n\"373\",\"2300 Bartram Rd ,  Jacksonville,  FL, 32207\",\"Match\",\"Exact\",\"2300 BARTRAM RD, JACKSONVILLE, FL, 32207\",\"-81.60296487562698,30.30415260361758\",\"652509679\",\"L\",\"12\",\"031\",\"015702\",\"3006\"\\n\"132\",\"1819 Thacker Ave,  Jacksonville, Fl, 32207-3397\",\"Match\",\"Non_Exact\",\"1819 THACKER AVE, JACKSONVILLE, FL, 32207\",\"-81.65329799022703,30.30750169395526\",\"83914830\",\"L\",\"12\",\"031\",\"000700\",\"1002\"\\n\"253\",\"102 15Th Street South  Jacksonville Beach Fl 32250, , , \",\"Match\",\"Non_Exact\",\"102 S 15TH ST, JACKSONVILLE BEACH, FL, 32250\",\"-81.4071331724167,30.28685439096006\",\"651223109\",\"R\",\"12\",\"031\",\"014204\",\"4000\"\\n\"374\",\"1150 South Lane Avenue ,  Jacksonville,  FL, 32205\",\"Match\",\"Non_Exact\",\"1150 LANE AVE S, JACKSONVILLE, FL, 32205\",\"-81.75197027365482,30.304361733948383\",\"83910223\",\"R\",\"12\",\"031\",\"012202\",\"2007\"\\n\"133\",\"2271 Kernan Blvd S,  Jacksonville, Fl, 32276-4073\",\"Match\",\"Non_Exact\",\"2271 KERNAN BLVD S, JACKSONVILLE, FL, 32246\",\"-81.48891335943784,30.30344543267978\",\"610493160\",\"L\",\"12\",\"031\",\"014339\",\"1013\"\\n\"254\",\"6211 Terry Rd ,  Jacksonville,  FL, 32216\",\"Match\",\"Exact\",\"6211 TERRY RD, JACKSONVILLE, FL, 32216\",\"-81.60066279270313,30.277412074075414\",\"83918864\",\"L\",\"12\",\"031\",\"016001\",\"3003\"\\n\"375\",\"5732 Normandy Blvd. ,  Jacksonville,  FL, 32205\",\"Match\",\"Exact\",\"5732 NORMANDY BLVD, JACKSONVILLE, FL, 32205\",\"-81.74672362817648,30.307695036095254\",\"639974931\",\"L\",\"12\",\"031\",\"012202\",\"2004\"\\n\"134\",\"2519 Bayview Rd,  Jacksonville, Fl, 32210-5399\",\"Match\",\"Non_Exact\",\"2519 BAYVIEW RD, JACKSONVILLE, FL, 32210\",\"-81.72600331454612,30.27377595502179\",\"83967920\",\"L\",\"12\",\"031\",\"012400\",\"2048\"\\n\"255\",\"3718 Salisbury Road ,  Jacksonville,  FL, 32216\",\"Match\",\"Exact\",\"3718 SALISBURY RD, JACKSONVILLE, FL, 32216\",\"-81.59725151146654,30.26143269824439\",\"83919113\",\"R\",\"12\",\"031\",\"016002\",\"1025\"\\n\"376\",\"135 S Chaffee Road ,  Jacksonville,  FL, 32220\",\"Match\",\"Non_Exact\",\"135 CHAFFEE RD S, JACKSONVILLE, FL, 32220\",\"-81.84849082035305,30.313401057694648\",\"83886006\",\"L\",\"12\",\"031\",\"011901\",\"4014\"\\n\"135\",\"101 Kernan Blvd N,  Jacksonville, Fl, 32225-5302\",\"Match\",\"Non_Exact\",\"101 KERNAN BLVD N, JACKSONVILLE, FL, 32225\",\"-81.4894865014358,30.331996456006664\",\"629624249\",\"L\",\"12\",\"031\",\"014336\",\"3000\"\\n\"256\",\"1144 Arlington Road N. ,  Jacksonville,  FL, 32211\",\"Match\",\"Non_Exact\",\"1144 N ARLINGTON RD, JACKSONVILLE, FL, 32211\",\"-81.5880913634573,30.331430833940658\",\"647401673\",\"L\",\"12\",\"031\",\"015100\",\"2014\"\\n\"377\",\"10167 San Jose Blvd. ,  Jacksonville,  FL, 32257\",\"Match\",\"Exact\",\"10167 SAN JOSE BLVD, JACKSONVILLE, FL, 32257\",\"-81.62462158630251,30.193214141453495\",\"83989454\",\"R\",\"12\",\"031\",\"016726\",\"1001\"\\n\"136\",\"501 N Davis St,  Jacksonville, Fl, 32202-4728\",\"Match\",\"Non_Exact\",\"501 N DAVIS ST, JACKSONVILLE, FL, 32202\",\"-81.66799673668339,30.33200495421835\",\"83897075\",\"R\",\"12\",\"031\",\"017200\",\"2039\"\\n\"257\",\"1210 Marcheck Street ,  Jacksonville,  FL, 32211\",\"Match\",\"Exact\",\"1210 MARCHECK ST, JACKSONVILLE, FL, 32211\",\"-81.60171536638177,30.332394890338946\",\"83985568\",\"L\",\"12\",\"031\",\"015400\",\"2031\"\\n\"378\",\"800 Hammond Blvd. ,  Jacksonville,  FL,   32221-1342\",\"Match\",\"Non_Exact\",\"800 HAMMOND BLVD, JACKSONVILLE, FL, 32221\",\"-81.793512830525,30.311169762435668\",\"83886848\",\"R\",\"12\",\"031\",\"011903\",\"3001\"\\n\"137\",\"5100 Hood Rd,  Jacksonville, Fl, 32257-1122\",\"Match\",\"Non_Exact\",\"5100 HOOD RD, JACKSONVILLE, FL, 32257\",\"-81.58848226104635,30.190258216758764\",\"627912917\",\"R\",\"12\",\"031\",\"016728\",\"1000\"\\n\"258\",\"2220 County Road 210 West Suite 108,  Jacksonville,  FL, 32259\",\"No_Match\"\\n\"379\",\"5520 University Blvd. West ,  Jacksonville,  FL, 32216\",\"Match\",\"Exact\",\"5520 UNIVERSITY BLVD W, JACKSONVILLE, FL, 32216\",\"-81.60980297038685,30.271098648503255\",\"83918821\",\"R\",\"12\",\"031\",\"016002\",\"1011\"\\n\"138\",\"1424 Franklin St,  Jacksonville, Fl, 32206-4899\",\"No_Match\"\\n\"259\",\"2804 St. John\\'S Bluff Rd.S. Ste.103,  Jacksonville,  FL, 32246\",\"Match\",\"Exact\",\"2804 SAINT JOHNS BLUFF RD S, JACKSONVILLE, FL, 32246\",\"-81.52588443486547,30.294932849219947\",\"83957445\",\"R\",\"12\",\"031\",\"014311\",\"3007\"\\n\"139\",\"2600 Mayport Rd,  Atlantic Beach, Fl, 32233-2804\",\"Match\",\"Non_Exact\",\"2600 MAYPORT RD, ATLANTIC BEACH, FL, 32233\",\"-81.42244550480558,30.363447221735612\",\"651714378\",\"L\",\"12\",\"031\",\"013904\",\"2000\"\\n\"30\",\"840 Reynolds Ln,  Jacksonville, Fl, 32254-2998\",\"Match\",\"Non_Exact\",\"840 REYNOLDS LN, JACKSONVILLE, FL, 32254\",\"-81.73528203318557,30.334969762485002\",\"83889099\",\"L\",\"12\",\"031\",\"011800\",\"3060\"\\n\"31\",\"6725 Hema Rd,  Jacksonville, Fl, 32209-1424\",\"Match\",\"Non_Exact\",\"6725 HEMA RD, JACKSONVILLE, FL, 32209\",\"-81.7264666132919,30.380705755680538\",\"83949484\",\"R\",\"12\",\"031\",\"010700\",\"2001\"\\n\"32\",\"7528 Hull St,  Jacksonville, Fl, 32219-3415\",\"Match\",\"Non_Exact\",\"7528 HULL ST, JACKSONVILLE, FL, 32219\",\"-81.73266895194939,30.38949031590539\",\"83978701\",\"L\",\"12\",\"031\",\"010700\",\"3058\"\\n\"33\",\"600 Baisden Rd,  Jacksonville, Fl, 32218-4299\",\"Match\",\"Non_Exact\",\"600 BAISDEN RD, JACKSONVILLE, FL, 32218\",\"-81.62792699207466,30.439593618275467\",\"83891327\",\"R\",\"12\",\"031\",\"010202\",\"2016\"\\n\"34\",\"1400 Seabreeze Ave,  Jacksonville Beach, Fl, 32250-3293\",\"Match\",\"Non_Exact\",\"1400 SEABREEZE AVE, JACKSONVILLE BEACH, FL, 32250\",\"-81.4005984511333,30.270856777654558\",\"83923741\",\"L\",\"12\",\"031\",\"014204\",\"2004\"\\n\"35\",\"1128 Barber St,  Jacksonville, Fl, 32209-7199\",\"Match\",\"Non_Exact\",\"1128 BARBER ST, JACKSONVILLE, FL, 32209\",\"-81.6890847989335,30.339843893014233\",\"83927473\",\"L\",\"12\",\"031\",\"002802\",\"3003\"\\n\"36\",\"8233 Nevada St,  Jacksonville, Fl, 32220-2651\",\"Match\",\"Non_Exact\",\"8233 NEVADA ST, JACKSONVILLE, FL, 32220\",\"-81.7868260413403,30.324066541221555\",\"83886930\",\"R\",\"12\",\"031\",\"011901\",\"3024\"\\n\"37\",\"2801 Herschel St,  Jacksonville, Fl, 32205-8116\",\"Match\",\"Non_Exact\",\"2801 HERSCHEL ST, JACKSONVILLE, FL, 32205\",\"-81.6953494545005,30.308326867406436\",\"83913639\",\"R\",\"12\",\"031\",\"002102\",\"1009\"\\n\"38\",\"5530 Firestone Rd,  Jacksonville, Fl, 32244-1599\",\"Match\",\"Non_Exact\",\"5530 FIRESTONE RD, JACKSONVILLE, FL, 32244\",\"-81.76458913945191,30.246594447363748\",\"83966858\",\"R\",\"12\",\"031\",\"013523\",\"1011\"\\n\"39\",\"3831 Forest Blvd,  Jacksonville, Fl, 32246-6499\",\"Match\",\"Non_Exact\",\"3831 FOREST BLVD, JACKSONVILLE, FL, 32246\",\"-81.54310095461688,30.277543769374574\",\"647374914\",\"L\",\"12\",\"031\",\"014414\",\"2000\"\\n\"380\",\"10613 Lem Turner Road ,  Jacksonville,  FL, 32218\",\"Match\",\"Exact\",\"10613 LEM TURNER RD, JACKSONVILLE, FL, 32218\",\"-81.69419772936027,30.428198985622203\",\"83890289\",\"R\",\"12\",\"031\",\"010401\",\"1013\"\\n\"260\",\"44 E. 27Th St. ,  Jacksonville,  FL, 32206\",\"Match\",\"Exact\",\"44 E 27TH ST, JACKSONVILLE, FL, 32206\",\"-81.65320322506068,30.360734953454028\",\"83898720\",\"R\",\"12\",\"031\",\"001300\",\"3020\"\\n\"381\",\"11711 Normandy Boulevard ,  Jacksonville,  FL, 32221\",\"Match\",\"Exact\",\"11711 NORMANDY BLVD, JACKSONVILLE, FL, 32221\",\"-81.85697030818164,30.263634767770554\",\"629265514\",\"L\",\"12\",\"031\",\"013733\",\"2004\"\\n\"140\",\"143 Oceanway Ave,  Jacksonville, Fl, 32218-2615\",\"Match\",\"Non_Exact\",\"143 OCEANWAY AVE, JACKSONVILLE, FL, 32218\",\"-81.6296264962553,30.466571087617297\",\"83890906\",\"L\",\"12\",\"031\",\"010204\",\"1008\"\\n\"261\",\"1572 Penman Road Suite 1 Jacksonville Beach Fl 32250, , , \",\"Match\",\"Exact\",\"1572 PENMAN RD, JACKSONVILLE BEACH, FL, 32250\",\"-81.40659643353695,30.30445809605942\",\"83922951\",\"L\",\"12\",\"031\",\"014101\",\"2009\"\\n\"382\",\"1028 East 10Th Street ,  Jacksonville,  FL, 32206\",\"Match\",\"Exact\",\"1028 E 10TH ST, JACKSONVILLE, FL, 32206\",\"-81.64193797573068,30.347909267980867\",\"83899479\",\"R\",\"12\",\"031\",\"000300\",\"1018\"\\n\"141\",\"2948 Knights Ln E,  Jacksonville, Fl, 32216-5697\",\"Match\",\"Non_Exact\",\"2948 KNIGHTS LN E, JACKSONVILLE, FL, 32216\",\"-81.59446655539642,30.272232377754676\",\"83967440\",\"R\",\"12\",\"031\",\"016001\",\"2009\"\\n\"262\",\"12276 San Jose Blvd Suite 508,  Jacksonville,  FL, 32223\",\"Match\",\"Exact\",\"12276 SAN JOSE BLVD, JACKSONVILLE, FL, 32223\",\"-81.63268418698118,30.146113795387464\",\"83939797\",\"R\",\"12\",\"031\",\"016804\",\"2014\"\\n\"142\",\"2034 Hubbard St,  Jacksonville, Fl, 32206-3728\",\"Match\",\"Non_Exact\",\"2034 HUBBARD ST, JACKSONVILLE, FL, 32206\",\"-81.65214343410088,30.348832356914727\",\"83898829\",\"L\",\"12\",\"031\",\"001200\",\"1010\"\\n\"263\",\"8401 Baymeadows Way ,  Jacksonville,  FL, 32256\",\"Match\",\"Exact\",\"8401 BAYMEADOWS WAY, JACKSONVILLE, FL, 32256\",\"-81.58297774608889,30.229311517229632\",\"83920138\",\"R\",\"12\",\"031\",\"016605\",\"2009\"\\n\"143\",\"8050 Point Meadows Dr,  Jacksonville, Fl, 32256-7011\",\"Match\",\"Non_Exact\",\"8050 POINT MEADOWS DR, JACKSONVILLE, FL, 32256\",\"-81.51494086864807,30.225938085367204\",\"653179396\",\"R\",\"12\",\"031\",\"014417\",\"1009\"\\n\"264\",\"1210 Lee Road ,  Jacksonville,  FL, 32225\",\"Match\",\"Exact\",\"1210 LEE RD, JACKSONVILLE, FL, 32225\",\"-81.53750697685075,30.341005858857613\",\"83927103\",\"R\",\"12\",\"031\",\"014603\",\"4009\"\\n\"144\",\"4815 Wesconnett Blvd,  Jacksonville, Fl, 32210-7398\",\"Match\",\"Non_Exact\",\"4815 WESCONNETT BLVD, JACKSONVILLE, FL, 32210\",\"-81.73986449125744,30.254286751400002\",\"83967301\",\"L\",\"12\",\"031\",\"013403\",\"1008\"\\n\"265\",\"1550 Penman Road  Jacksonville Beach Fl 32250, , , \",\"Match\",\"Exact\",\"1550 PENMAN RD, JACKSONVILLE BEACH, FL, 32250\",\"-81.4065852429365,30.304032852592798\",\"83922951\",\"L\",\"12\",\"031\",\"014101\",\"2009\"\\n\"145\",\"6400 Atlantic Blvd,  Jacksonville, Fl, 32211-8768\",\"Match\",\"Non_Exact\",\"6400 ATLANTIC BLVD, JACKSONVILLE, FL, 32211\",\"-81.59321191154578,30.312529006025727\",\"83903610\",\"R\",\"12\",\"031\",\"015804\",\"1001\"\\n\"266\",\"407 Third Street  Neptune Beach Fl 32266, , , \",\"Match\",\"Exact\",\"407 3RD ST, NEPTUNE BEACH, FL, 32266\",\"-81.39773238766179,30.321679907625537\",\"83907797\",\"L\",\"12\",\"031\",\"014001\",\"1047\"\\n\"146\",\"2360 St Johns Bluff Rd S,  Jacksonville, Fl, 32246\",\"Match\",\"Exact\",\"2360 SAINT JOHNS BLUFF RD S, JACKSONVILLE, FL, 32246\",\"-81.5260445530314,30.307132223095095\",\"629626209\",\"R\",\"12\",\"031\",\"014311\",\"3000\"\\n\"267\",\"5500 Shindler Drive ,  Jacksonville,  FL, 32222\",\"Match\",\"Exact\",\"5500 SHINDLER DR, JACKSONVILLE, FL, 32222\",\"-81.79815527347859,30.246085290325425\",\"653175430\",\"R\",\"12\",\"031\",\"013729\",\"2001\"\\n\"147\",\"7510 Baymeadows Way,  Jacksonville, Fl, 32256-6818\",\"Match\",\"Non_Exact\",\"7510 BAY MEADOWS CIR, JACKSONVILLE, FL, 32256\",\"-81.56356688915366,30.23527038955143\",\"83967064\",\"R\",\"12\",\"031\",\"015926\",\"2006\"\\n\"268\",\"6620 Arlington Expressway ,  Jacksonville,  FL, 32211\",\"Match\",\"Exact\",\"6620 ARLINGTON EXPY, JACKSONVILLE, FL, 32211\",\"-81.58895463543183,30.327213642546667\",\"83969638\",\"R\",\"12\",\"031\",\"015501\",\"1004\"\\n\"148\",\"100 Scholars Way,  Jacksonville, Fl, 32216\",\"No_Match\"\\n\"269\",\"6801 Merrill Rd ,  Jacksonville,  FL, 32277\",\"Match\",\"Non_Exact\",\"6801 MERRILL CT, JACKSONVILLE, FL, 32211\",\"-81.58525592667911,30.35102284119472\",\"83903693\",\"L\",\"12\",\"031\",\"015100\",\"3004\"\\n\"149\",\"12800 Beach Blvd,  Jacksonville, Fl, 32224\",\"Match\",\"Non_Exact\",\"12800 BEACH BLVD, JACKSONVILLE, FL, 32246\",\"-81.48861147474827,30.287268799258698\",\"83922182\",\"R\",\"12\",\"031\",\"014419\",\"3004\"\\n\"40\",\"900 Acorn St,  Jacksonville, Fl, 32209-7106\",\"Match\",\"Non_Exact\",\"900 ACORN ST, JACKSONVILLE, FL, 32209\",\"-81.6851920657291,30.337674359268306\",\"83895495\",\"L\",\"12\",\"031\",\"002802\",\"3029\"\\n\"41\",\"12731 Abess Blvd,  Jacksonville, Fl, 32225-5942\",\"Match\",\"Non_Exact\",\"12731 ABESS BLVD, JACKSONVILLE, FL, 32225\",\"-81.47619442381387,30.321726819823766\",\"83969907\",\"R\",\"12\",\"031\",\"014336\",\"1005\"\\n\"42\",\"2051 San Pablo Rd S,  Jacksonville, Fl, 32224-1031\",\"Match\",\"Non_Exact\",\"2051 SAN PABLO RD, JACKSONVILLE, FL, 32224\",\"-81.44809770009209,30.314641284623804\",\"629624422\",\"R\",\"12\",\"031\",\"014341\",\"1004\"\\n\"43\",\"101 W 12Th St,  Jacksonville, Fl, 32206-3622\",\"Match\",\"Non_Exact\",\"101 W 12TH ST, JACKSONVILLE, FL, 32206\",\"-81.65538059312695,30.350850138073213\",\"83898781\",\"R\",\"12\",\"031\",\"001200\",\"2001\"\\n\"44\",\"1520 Sprinkle Dr,  Jacksonville, Fl, 32211-5452\",\"Match\",\"Non_Exact\",\"1520 SPRINKLE DR, JACKSONVILLE, FL, 32211\",\"-81.59233064994305,30.336588779250803\",\"83960547\",\"L\",\"12\",\"031\",\"015400\",\"1010\"\\n\"45\",\"291 Mill St W,  Baldwin, Fl, 32234-1307\",\"Match\",\"Non_Exact\",\"291 MILL ST W, BALDWIN, FL, 32234\",\"-81.97915947150716,30.303703106983676\",\"83931080\",\"R\",\"12\",\"031\",\"017300\",\"4025\"\\n\"46\",\"14799 Bartram Springs Pkwy,  Jacksonville, Fl, 32258-6101\",\"Match\",\"Non_Exact\",\"14799 BARTRAM SPRINGS PKWY, JACKSONVILLE, FL, 32258\",\"-81.49605429880916,30.108035940761283\",\"650092025\",\"L\",\"12\",\"031\",\"014423\",\"3034\"\\n\"47\",\"4555 Craven Rd W,  Jacksonville, Fl, 32257-5003\",\"Match\",\"Non_Exact\",\"4555 CRAVEN RD W, JACKSONVILLE, FL, 32257\",\"-81.60881043686703,30.218696322733194\",\"83919926\",\"L\",\"12\",\"031\",\"016724\",\"1005\"\\n\"48\",\"12230 Biscayne Blvd,  Jacksonville, Fl, 32218-8616\",\"Match\",\"Non_Exact\",\"12230 BISCAYNE BLVD, JACKSONVILLE, FL, 32218\",\"-81.66959128204678,30.45190772295132\",\"640946916\",\"L\",\"12\",\"031\",\"010305\",\"1001\"\\n\"49\",\"6534 Ish Brant Rd,  Jacksonville, Fl, 32210-7051\",\"Match\",\"Non_Exact\",\"6534 ISH BRANT RD, JACKSONVILLE, FL, 32210\",\"-81.7508234762928,30.25910696392208\",\"83967269\",\"L\",\"12\",\"031\",\"012900\",\"2006\"\\n\"270\",\"10047 Kit Fox Parkway ,  Jacksonville,  FL, 32222\",\"Match\",\"Exact\",\"10047 KIT FOX PKWY, JACKSONVILLE, FL, 32222\",\"-81.84047834700306,30.200261948632033\",\"650476634\",\"L\",\"12\",\"031\",\"013723\",\"3016\"\\n\"150\",\"12755 Flagler Center Blvd,  Jacksonville, Fl, 32258-2610\",\"Match\",\"Non_Exact\",\"12755 FLAGLER CENTER BLVD, JACKSONVILLE, FL, 32258\",\"-81.51755017862638,30.13822633257996\",\"83962256\",\"L\",\"12\",\"031\",\"014423\",\"1060\"\\n\"271\",\"8730 Waterfront Terrace ,  Jacksonville,  FL, 32217\",\"Match\",\"Exact\",\"8730 WATERFRONT TER, JACKSONVILLE, FL, 32217\",\"-81.6138634466584,30.22015914825863\",\"83940202\",\"R\",\"12\",\"031\",\"016603\",\"2019\"\\n\"151\",\"5209 Shad Rd,  Jacksonville, Fl, 32257-2005\",\"Match\",\"Non_Exact\",\"5209 SHAD RD, JACKSONVILLE, FL, 32257\",\"-81.58143965274144,30.192058372582323\",\"83966328\",\"L\",\"12\",\"031\",\"016730\",\"2005\"\\n\"272\",\"4640 Ricker Road ,  Jacksonville,  FL, 32210\",\"Match\",\"Exact\",\"4640 RICKER RD, JACKSONVILLE, FL, 32210\",\"-81.77335354888345,30.261956075619423\",\"83909327\",\"R\",\"12\",\"031\",\"012704\",\"3006\"\\n\"152\",\"8680 Ac Skinner Pkwy,  Jacksonville, Fl, 32256\",\"No_Match\"\\n\"273\",\"4800 North Main Street ,  Jacksonville,  FL, 32206\",\"Match\",\"Exact\",\"4800 N MAIN ST, JACKSONVILLE, FL, 32206\",\"-81.65255273789751,30.367407743932404\",\"83990019\",\"L\",\"12\",\"031\",\"000102\",\"2034\"\\n\"153\",\"9238 103Rd St,  Jacksonville, Fl, 32210-8610\",\"Match\",\"Non_Exact\",\"9238 103RD ST, JACKSONVILLE, FL, 32210\",\"-81.80913603024504,30.247694968290773\",\"83936528\",\"R\",\"12\",\"031\",\"013723\",\"1003\"\\n\"274\",\"6429 Atlantic Blvd ,  Jacksonville,  FL, 32211\",\"Match\",\"Exact\",\"6429 ATLANTIC BLVD, JACKSONVILLE, FL, 32211\",\"-81.5934984621116,30.31264393131613\",\"83903610\",\"L\",\"12\",\"031\",\"015501\",\"1037\"\\n\"154\",\"9143 Phillips Hwy Ste. 590,  Jacksonville, Fl, 32256-1381\",\"Match\",\"Non_Exact\",\"9143 PHILIPS HWY, JACKSONVILLE, FL, 32256\",\"-81.57293855972756,30.200633704097754\",\"636331451\",\"L\",\"12\",\"031\",\"016725\",\"1001\"\\n\"275\",\"2103 Grand Street ,  Jacksonville,  FL, 32208\",\"Match\",\"Exact\",\"2103 GRAND ST, JACKSONVILLE, FL, 32208\",\"-81.68771445108774,30.403888779225497\",\"83892316\",\"R\",\"12\",\"031\",\"011000\",\"3002\"\\n\"155\",\"8985 Lone Star Rd,  Jacksonville, Fl, 32211\",\"Match\",\"Exact\",\"8985 LONE STAR RD, JACKSONVILLE, FL, 32211\",\"-81.55939497118203,30.337957338890817\",\"83904830\",\"L\",\"12\",\"031\",\"015001\",\"1002\"\\n\"276\",\"1614 Leonid Road ,  Jacksonville,  FL, 32218\",\"Match\",\"Exact\",\"1614 LEONID RD, JACKSONVILLE, FL, 32218\",\"-81.67314693658301,30.42976027291013\",\"640433942\",\"L\",\"12\",\"031\",\"010401\",\"2000\"\\n\"156\",\"2043 Forest St,  Jacksonville, Fl, 32204\",\"Match\",\"Exact\",\"2043 FOREST ST, JACKSONVILLE, FL, 32204\",\"-81.68467657342495,30.32506861037723\",\"83896439\",\"R\",\"12\",\"031\",\"002600\",\"1053\"\\n\"277\",\"11925 Beach Blvd. Suite 207 ,  Jacksonville,  FL, 32246\",\"Match\",\"Exact\",\"11925 BEACH BLVD, JACKSONVILLE, FL, 32246\",\"-81.50375890931463,30.287220539065515\",\"83922100\",\"L\",\"12\",\"031\",\"014312\",\"3011\"\\n\"157\",\"1440 North Mcduff Ave,  Jacksonville, Fl, 32254\",\"Match\",\"Exact\",\"1440 N MCDUFF AVE, JACKSONVILLE, FL, 32254\",\"-81.70563873790724,30.342571469031896\",\"83893542\",\"L\",\"12\",\"031\",\"002701\",\"1026\"\\n\"278\",\"3675 San Pablo Rd S ,  Jacksonville,  FL, 32224\",\"No_Match\"\\n\"158\",\"1440 Mcduff Ave N,  Jacksonville, Fl, 32254-2035\",\"Match\",\"Non_Exact\",\"1440 N MCDUFF AVE, JACKSONVILLE, FL, 32254\",\"-81.70563873790724,30.342571469031896\",\"83893542\",\"L\",\"12\",\"031\",\"002701\",\"1026\"\\n\"279\",\"6847 Champlain Rd ,  Jacksonville,  FL, 32208\",\"Match\",\"Exact\",\"6847 CHAMPLAIN RD, JACKSONVILLE, FL, 32208\",\"-81.70462330438062,30.39458337598944\",\"83937404\",\"R\",\"12\",\"031\",\"011300\",\"2012\"\\n\"159\",\"7565 Beach Blvd,  Jacksonville, Fl, 32216-3003\",\"Match\",\"Non_Exact\",\"7565 BEACH BLVD, JACKSONVILLE, FL, 32216\",\"-81.58098000890084,30.28886400079756\",\"83968050\",\"L\",\"12\",\"031\",\"015804\",\"2007\"\\n\"50\",\"2555 Gilmore St,  Jacksonville, Fl, 32204-3413\",\"Match\",\"Non_Exact\",\"2555 GILMORE ST, JACKSONVILLE, FL, 32204\",\"-81.69154862918515,30.31846274081937\",\"83895021\",\"R\",\"12\",\"031\",\"017101\",\"4005\"\\n\"51\",\"11400 Sam Caruso Way,  Jacksonville, Fl, 32221-1830\",\"Match\",\"Non_Exact\",\"11400 SAM CARUSO WAY, JACKSONVILLE, FL, 32221\",\"-81.85152555360946,30.279882653270363\",\"640965779\",\"L\",\"12\",\"031\",\"013733\",\"2004\"\\n\"52\",\"13200 Chets Creek Blvd,  Jacksonville, Fl, 32224-5234\",\"Match\",\"Non_Exact\",\"13200 CHETS CREEK BLVD, JACKSONVILLE, FL, 32224\",\"-81.47041724602622,30.267679135722744\",\"648730601\",\"L\",\"12\",\"031\",\"014420\",\"2000\"\\n\"53\",\"9353 Staples Mill Dr,  Jacksonville, Fl, 32244-6318\",\"No_Match\"\\n\"54\",\"3800 Crown Point Rd,  Jacksonville, Fl, 32257-6066\",\"Match\",\"Non_Exact\",\"3800 CROWN POINT RD, JACKSONVILLE, FL, 32257\",\"-81.6159041857826,30.19452673263129\",\"635334061\",\"R\",\"12\",\"031\",\"016726\",\"2003\"\\n\"55\",\"1200 Hammond Blvd,  Jacksonville, Fl, 32221-1439\",\"Match\",\"Non_Exact\",\"1200 HAMMOND BLVD, JACKSONVILLE, FL, 32221\",\"-81.79807524570867,30.302095064621483\",\"653191097\",\"R\",\"12\",\"031\",\"011905\",\"3002\"\\n\"56\",\"1701 N Davis St,  Jacksonville, Fl, 32209-6518\",\"Match\",\"Non_Exact\",\"1701 N DAVIS ST, JACKSONVILLE, FL, 32209\",\"-81.66698879647993,30.34540633750379\",\"83896223\",\"R\",\"12\",\"031\",\"001600\",\"1010\"\\n\"57\",\"7126 Civic Club Dr,  Jacksonville, Fl, 32219-2004\",\"Match\",\"Non_Exact\",\"7126 CIVIC CLUB DR, JACKSONVILLE, FL, 32219\",\"-81.76700990286554,30.426074275176404\",\"83886247\",\"L\",\"12\",\"031\",\"010502\",\"2031\"\\n\"58\",\"3385 Hartsfield Rd,  Jacksonville, Fl, 32277-0917\",\"Match\",\"Non_Exact\",\"3385 HARTSFIELD RD, JACKSONVILLE, FL, 32277\",\"-81.5607730421114,30.361231718385795\",\"650606793\",\"R\",\"12\",\"031\",\"014902\",\"4000\"\\n\"59\",\"7000 Powers Ave,  Jacksonville, Fl, 32217-3398\",\"Match\",\"Non_Exact\",\"7000 POWERS AVE, JACKSONVILLE, FL, 32217\",\"-81.6128897456345,30.24882526807272\",\"610518975\",\"L\",\"12\",\"031\",\"016606\",\"1000\"\\n\"280\",\"862 Baisden Road ,  Jacksonville,  FL, 32218\",\"Match\",\"Exact\",\"862 BAISDEN RD, JACKSONVILLE, FL, 32218\",\"-81.62197542893159,30.439710416325113\",\"83961211\",\"R\",\"12\",\"031\",\"010202\",\"1012\"\\n\"160\",\"10911 Old St Augustine Rd,  Jacksonville, Fl, 32257-1155\",\"Match\",\"Non_Exact\",\"10911 OLD SAINT AUGUSTINE RD, JACKSONVILLE, FL, 32257\",\"-81.60468678664779,30.176873999045654\",\"83950585\",\"L\",\"12\",\"031\",\"016729\",\"1000\"\\n\"281\",\"5705 Ft. Caroline Road ,  Jacksonville,  FL, 32277\",\"Match\",\"Exact\",\"5705 FORT CAROLINE RD, JACKSONVILLE, FL, 32277\",\"-81.60210094401214,30.365158362422903\",\"83902175\",\"L\",\"12\",\"031\",\"014704\",\"2001\"\\n\"161\",\"8313 Baycenter Rd,  Jacksonville, Fl, 32256-7415\",\"Match\",\"Non_Exact\",\"8313 BAYCENTER RD, JACKSONVILLE, FL, 32256\",\"-81.58842870204154,30.227131676646195\",\"83920135\",\"L\",\"12\",\"031\",\"016605\",\"2007\"\\n\"282\",\"2808 Buckman Street ,  Jacksonville,  FL, 32206\",\"Match\",\"Exact\",\"2808 BUCKMAN ST, JACKSONVILLE, FL, 32206\",\"-81.63282997064942,30.355587066667454\",\"83900641\",\"L\",\"12\",\"031\",\"000200\",\"2039\"\\n\"162\",\"2002 San Pablo Road South,  Jacksonville, Fl, 32224\",\"Match\",\"Non_Exact\",\"2002 SAN PABLO RD, JACKSONVILLE, FL, 32224\",\"-81.44843368610321,30.315174590914125\",\"629624422\",\"L\",\"12\",\"031\",\"014342\",\"2002\"\\n\"283\",\"8601 Youngerman Ct ,  Jacksonville,  FL, 32244\",\"Match\",\"Exact\",\"8601 YOUNGERMAN CT, JACKSONVILLE, FL, 32244\",\"-81.75213639950186,30.19554775115307\",\"83946558\",\"R\",\"12\",\"031\",\"013524\",\"2004\"\\n\"163\",\"4131 Sunbeam Rd,  Jacksonville, Fl, 32257\",\"Match\",\"Exact\",\"4131 SUNBEAM RD, JACKSONVILLE, FL, 32257\",\"-81.60903738820724,30.20586879695651\",\"83966300\",\"L\",\"12\",\"031\",\"016724\",\"2000\"\\n\"284\",\"2333 St. John Bluff Road South ,  Jacksonville,  FL, 32246\",\"Match\",\"Non_Exact\",\"2333 SAINT JOHNS BLUFF RD S, JACKSONVILLE, FL, 32246\",\"-81.52581936459273,30.307889960723514\",\"629626209\",\"L\",\"12\",\"031\",\"014338\",\"2007\"\\n\"164\",\"4072 Sunbeam Rd,  Jacksonville, Fl, 32257\",\"Match\",\"Exact\",\"4072 SUNBEAM RD, JACKSONVILLE, FL, 32257\",\"-81.61036366878682,30.205738249396916\",\"83966298\",\"R\",\"12\",\"031\",\"016731\",\"2002\"\\n\"285\",\"1527 Gandy Street ,  Jacksonville,  FL, 32208\",\"Match\",\"Exact\",\"1527 GANDY ST, JACKSONVILLE, FL, 32208\",\"-81.68263102011122,30.390223150118743\",\"83892530\",\"R\",\"12\",\"031\",\"011200\",\"2002\"\\n\"165\",\"2865 Mayport Rd,  Atlantic Beach, Fl, 32233-6630\",\"Match\",\"Non_Exact\",\"2865 MAYPORT RD, ATLANTIC BEACH, FL, 32233\",\"-81.4109797693614,30.368364556101994\",\"83971245\",\"R\",\"12\",\"031\",\"013906\",\"3002\"\\n\"286\",\"13056 Perdue Road ,  Jacksonville,  FL, 32218\",\"Match\",\"Exact\",\"13056 PERDUE RD, JACKSONVILLE, FL, 32218\",\"-81.61561020221575,30.473522855082592\",\"641026385\",\"L\",\"12\",\"031\",\"010204\",\"1002\"\\n\"166\",\"10850 Old St Augustine Road,  Jacksonville, Fl, 32257\",\"Match\",\"Exact\",\"10850 OLD SAINT AUGUSTINE RD, JACKSONVILLE, FL, 32257\",\"-81.6054313395407,30.178308644514743\",\"83957335\",\"R\",\"12\",\"031\",\"016727\",\"2001\"\\n\"287\",\"2431 Atlantic Boulevard ,  Jacksonville,  FL, 32207\",\"Match\",\"Exact\",\"2431 ATLANTIC BLVD, JACKSONVILLE, FL, 32207\",\"-81.64084632074827,30.307113797346744\",\"83915147\",\"L\",\"12\",\"031\",\"000600\",\"1021\"\\n\"167\",\"13720 Mccormick Rd,  Jacksonville, Fl, 32225\",\"Match\",\"Exact\",\"13720 MCCORMICK RD, JACKSONVILLE, FL, 32225\",\"-81.48734864116159,30.3594225007036\",\"629624071\",\"R\",\"12\",\"031\",\"014335\",\"2006\"\\n\"288\",\"6901 N. Main St. ,  Jacksonville,  FL, 32208\",\"Match\",\"Exact\",\"6901 N MAIN ST, JACKSONVILLE, FL, 32208\",\"-81.64971962840917,30.3819524851815\",\"83971440\",\"R\",\"12\",\"031\",\"000102\",\"1011\"\\n\"168\",\"5900 Fort Caroline Road,  Jacksonville, Fl, 32277\",\"Match\",\"Exact\",\"5900 FORT CAROLINE RD, JACKSONVILLE, FL, 32277\",\"-81.60144317556166,30.365202931189003\",\"83902175\",\"R\",\"12\",\"031\",\"014800\",\"3000\"\\n\"289\",\"4826 Baymeadows Road ,  Jacksonville,  FL, 32217\",\"Match\",\"Exact\",\"4826 BAYMEADOWS RD, JACKSONVILLE, FL, 32217\",\"-81.60624667133845,30.21940277836177\",\"83919940\",\"R\",\"12\",\"031\",\"016724\",\"1005\"\\n\"169\",\"7450 Beach Blvd,  Jacksonville, Fl, 32216-3002\",\"Match\",\"Non_Exact\",\"7450 BEACH BLVD, JACKSONVILLE, FL, 32216\",\"-81.5810320423717,30.288753926147024\",\"83968050\",\"R\",\"12\",\"031\",\"015924\",\"1002\"\\n\"60\",\"4359 Spring Park Rd,  Jacksonville, Fl, 32207-6957\",\"Match\",\"Non_Exact\",\"4359 SPRING PARK RD, JACKSONVILLE, FL, 32207\",\"-81.6166946642847,30.27821775194849\",\"83916629\",\"L\",\"12\",\"031\",\"016102\",\"2000\"\\n\"61\",\"8085 Old Middleburg Rd S,  Jacksonville, Fl, 32222-1819\",\"Match\",\"Non_Exact\",\"8085 OLD MIDDLEBURG RD S, JACKSONVILLE, FL, 32222\",\"-81.82254357543877,30.198600205488617\",\"650051607\",\"L\",\"12\",\"031\",\"013728\",\"2003\"\\n\"62\",\"2814 Dunn Ave,  Jacksonville, Fl, 32218-4661\",\"Match\",\"Non_Exact\",\"2814 DUNN AVE, JACKSONVILLE, FL, 32218\",\"-81.69318803312103,30.438708761068426\",\"83972072\",\"L\",\"12\",\"031\",\"010306\",\"1005\"\\n\"63\",\"6343 Knights Ln N,  Jacksonville, Fl, 32216-5699\",\"Match\",\"Non_Exact\",\"6343 KNIGHTS LN N, JACKSONVILLE, FL, 32216\",\"-81.59823559267727,30.27357518712256\",\"83968036\",\"L\",\"12\",\"031\",\"016001\",\"2007\"\\n\"64\",\"5050 Greenland Rd,  Jacksonville, Fl, 32258-1522\",\"Match\",\"Non_Exact\",\"5050 GREENLAND RD, JACKSONVILLE, FL, 32258\",\"-81.57420038631165,30.161377877712482\",\"641031988\",\"L\",\"12\",\"031\",\"016809\",\"2003\"\\n\"65\",\"3400 Hendricks Ave,  Jacksonville, Fl, 32207-5384\",\"Match\",\"Non_Exact\",\"3400 HENDRICKS AVE, JACKSONVILLE, FL, 32207\",\"-81.64882711157202,30.290485333601907\",\"83967956\",\"R\",\"12\",\"031\",\"000700\",\"2011\"\\n\"66\",\"1000 Depaul Dr,  Jacksonville, Fl, 32218-5411\",\"Match\",\"Non_Exact\",\"1000 DEPAUL DR, JACKSONVILLE, FL, 32218\",\"-81.66300301378794,30.42397785501805\",\"83891103\",\"L\",\"12\",\"031\",\"010402\",\"2012\"\\n\"67\",\"6736 Beach Blvd,  Jacksonville, Fl, 32216-2881\",\"Match\",\"Non_Exact\",\"6736 BEACH BLVD, JACKSONVILLE, FL, 32216\",\"-81.59079036744754,30.28996566568827\",\"83968026\",\"R\",\"12\",\"031\",\"015924\",\"1005\"\\n\"68\",\"5300 Park St,  Jacksonville, Fl, 32205-7298\",\"Match\",\"Non_Exact\",\"5300 PARK ST, JACKSONVILLE, FL, 32205\",\"-81.73640257957663,30.291884955850605\",\"83911014\",\"L\",\"12\",\"031\",\"012201\",\"2007\"\\n\"69\",\"4763 Sutton Park Ct,  Jacksonville, Fl, 32224-5289\",\"Match\",\"Non_Exact\",\"4763 SUTTON PARK CT, JACKSONVILLE, FL, 32224\",\"-81.46223340104564,30.257557240191943\",\"83961745\",\"L\",\"12\",\"031\",\"014422\",\"2000\"\\n\"290\",\"610 Florida Boulevard  Neptune Beach Fl 32266, , , \",\"Match\",\"Exact\",\"610 FLORIDA BLVD, NEPTUNE BEACH, FL, 32266\",\"-81.40181568767582,30.314286264675786\",\"83907775\",\"R\",\"12\",\"031\",\"014001\",\"1053\"\\n\"170\",\"4072 Sunbeam Rd,  Jacksonville, Fl, 32257\",\"Match\",\"Exact\",\"4072 SUNBEAM RD, JACKSONVILLE, FL, 32257\",\"-81.61036366878682,30.205738249396916\",\"83966298\",\"R\",\"12\",\"031\",\"016731\",\"2002\"\\n\"291\",\"5032 Woodcrest ,  Jacksonville,  FL, 32205\",\"Match\",\"Non_Exact\",\"5032 WOODCREST RD, JACKSONVILLE, FL, 32205\",\"-81.73099853187841,30.299351355796375\",\"83910999\",\"L\",\"12\",\"031\",\"012201\",\"1010\"\\n\"171\",\"9570 Regency Square Blvd,  Jacksonville, Fl, 32225\",\"Match\",\"Exact\",\"9570 REGENCY SQUARE BLVD, JACKSONVILLE, FL, 32225\",\"-81.5479559858266,30.326200826323088\",\"83969769\",\"R\",\"12\",\"031\",\"014604\",\"1026\"\\n\"292\",\"5001 Samaritan Way ,  Jacksonville,  FL,   32210-9247\",\"Match\",\"Non_Exact\",\"5001 SAMARITAN WAY, JACKSONVILLE, FL, 32210\",\"-81.83679904951862,30.250396726532756\",\"633635993\",\"R\",\"12\",\"031\",\"013732\",\"2005\"\\n\"172\",\"1429 Broward Rd,  Jacksonville, Fl, 32218\",\"Match\",\"Exact\",\"1429 BROWARD RD, JACKSONVILLE, FL, 32218\",\"-81.66382385649842,30.41559399069689\",\"83890695\",\"R\",\"12\",\"031\",\"010402\",\"2012\"\\n\"293\",\"1055 Kingman Avenue ,  Jacksonville,  FL,   32207-8867\",\"Match\",\"Non_Exact\",\"1055 KINGMAN AVE, JACKSONVILLE, FL, 32207\",\"-81.64199609915153,30.310564637327047\",\"83976642\",\"R\",\"12\",\"031\",\"000600\",\"1001\"\\n\"173\",\"2100 Dunn Ave,  Jacksonville, Fl, 32218\",\"Match\",\"Exact\",\"2100 DUNN AVE, JACKSONVILLE, FL, 32218\",\"-81.67883303890312,30.43895294397521\",\"83939370\",\"L\",\"12\",\"031\",\"010306\",\"1001\"\\n\"294\",\"7707 Merrill Rd ,  Jacksonville,  FL, 32277\",\"Match\",\"Exact\",\"7707 MERRILL RD, JACKSONVILLE, FL, 32277\",\"-81.56864164991958,30.352230911028926\",\"83904003\",\"L\",\"12\",\"031\",\"014902\",\"1009\"\\n\"174\",\"6079 Bagley Rd,  Jacksonville, Fl, 32209\",\"Match\",\"Exact\",\"6079 BAGLEY RD, JACKSONVILLE, FL, 32209\",\"-81.71993424685672,30.374208150015647\",\"83888156\",\"R\",\"12\",\"031\",\"011400\",\"2009\"\\n\"295\",\"10472 Beach Boulevard ,  Jacksonville,  FL, 32246\",\"Match\",\"Exact\",\"10472 BEACH BLVD, JACKSONVILLE, FL, 32246\",\"-81.54278124963406,30.286651218087968\",\"640434181\",\"R\",\"12\",\"031\",\"014414\",\"4000\"\\n\"175\",\"1176 Labelle St,  Jacksonville, Fl, 32205-6487\",\"Match\",\"Non_Exact\",\"1176 LABELLE ST, JACKSONVILLE, FL, 32205\",\"-81.73204787837363,30.305017087703504\",\"83964288\",\"R\",\"12\",\"031\",\"012202\",\"1016\"\\n\"296\",\"5900 Ricker Rd ,  Jacksonville,  FL, 32244\",\"Match\",\"Exact\",\"5900 RICKER RD, JACKSONVILLE, FL, 32244\",\"-81.7731069387977,30.24209609546034\",\"83954296\",\"R\",\"12\",\"031\",\"013504\",\"1008\"\\n\"176\",\"7510 Baymeadows Way,  Jacksonville, Fl, 32256-6818\",\"Match\",\"Non_Exact\",\"7510 BAY MEADOWS CIR, JACKSONVILLE, FL, 32256\",\"-81.56356688915366,30.23527038955143\",\"83967064\",\"R\",\"12\",\"031\",\"015926\",\"2006\"\\n\"297\",\"1372 S. Lane Ave. ,  Jacksonville,  FL, 32205\",\"Match\",\"Non_Exact\",\"1372 LANE AVE S, JACKSONVILLE, FL, 32205\",\"-81.7519668270943,30.297844048396087\",\"83910232\",\"R\",\"12\",\"031\",\"012202\",\"3016\"\\n\"177\",\"1252 Fromage Way,  Jacksonville, Fl, 32225\",\"Match\",\"Exact\",\"1252 FROMAGE WAY, JACKSONVILLE, FL, 32225\",\"-81.53475823950339,30.341554596542778\",\"83970420\",\"L\",\"12\",\"031\",\"014603\",\"4002\"\\n\"298\",\"4200 Jammes Road ,  Jacksonville,  FL, 32210\",\"Match\",\"Exact\",\"4200 JAMMES RD, JACKSONVILLE, FL, 32210\",\"-81.74739501348688,30.261329076024083\",\"83910778\",\"R\",\"12\",\"031\",\"012900\",\"2001\"\\n\"178\",\"13520 Fscj Cecil Drive,  Jacksonville, Fl, 32221\",\"No_Match\"\\n\"299\",\"8045 Hogan Road ,  Jacksonville,  FL, 32216\",\"Match\",\"Exact\",\"8045 HOGAN RD, JACKSONVILLE, FL, 32216\",\"-81.57830357234792,30.285669356686867\",\"83919273\",\"L\",\"12\",\"031\",\"015924\",\"1001\"\\n\"179\",\"7000 103Rd Street,  Jacksonville, Fl, 32210\",\"Match\",\"Exact\",\"7000 103RD ST, JACKSONVILLE, FL, 32210\",\"-81.76024354486213,30.248288966722725\",\"83966862\",\"L\",\"12\",\"031\",\"013525\",\"2009\"\\n\"70\",\"315 10Th St S,  Jacksonville Beach, Fl, 32250-3334\",\"Match\",\"Non_Exact\",\"315 10TH ST S, JACKSONVILLE BEACH, FL, 32250\",\"-81.39881884790532,30.283987619295033\",\"83923627\",\"L\",\"12\",\"031\",\"014204\",\"1015\"\\n\"71\",\"7750 Tempest St S,  Jacksonville, Fl, 32244-1440\",\"Match\",\"Non_Exact\",\"7750 S TEMPEST ST, JACKSONVILLE, FL, 32244\",\"-81.77657257515807,30.241835968706425\",\"83966838\",\"L\",\"12\",\"031\",\"013504\",\"1010\"\\n\"72\",\"1137 Cleveland St,  Jacksonville, Fl, 32209-6414\",\"Match\",\"Non_Exact\",\"1137 CLEVELAND ST, JACKSONVILLE, FL, 32209\",\"-81.67089817056313,30.33892643555083\",\"83896162\",\"R\",\"12\",\"031\",\"001600\",\"2025\"\\n\"73\",\"2281 Kernan Blvd S,  Jacksonville, Fl, 32246-1186\",\"Match\",\"Non_Exact\",\"2281 KERNAN BLVD S, JACKSONVILLE, FL, 32246\",\"-81.48890437009089,30.303031921961974\",\"610493160\",\"L\",\"12\",\"031\",\"014339\",\"1013\"\\n\"74\",\"3900 Loretto Rd,  Jacksonville, Fl, 32223-2098\",\"Match\",\"Non_Exact\",\"3900 LORETTO RD, JACKSONVILLE, FL, 32223\",\"-81.60741309689752,30.159381570157336\",\"83965649\",\"R\",\"12\",\"031\",\"016803\",\"3007\"\\n\"75\",\"13333 Lanier Rd,  Jacksonville, Fl, 32226-1799\",\"Match\",\"Non_Exact\",\"13333 LANIER RD, JACKSONVILLE, FL, 32226\",\"-81.58797477649915,30.47767354682702\",\"83901396\",\"R\",\"12\",\"031\",\"010101\",\"4005\"\\n\"76\",\"2446 University Blvd S,  Jacksonville, Fl, 32216-2547\",\"Match\",\"Non_Exact\",\"2446 UNIVERSITY BLVD S, JACKSONVILLE, FL, 32216\",\"-81.60134706475526,30.300765591118306\",\"633636105\",\"R\",\"12\",\"031\",\"015702\",\"3009\"\\n\"77\",\"700 Orange Ave,  Baldwin, Fl, 32234-1000\",\"Match\",\"Non_Exact\",\"700 ORANGE AVE, BALDWIN, FL, 32234\",\"-81.98037299368173,30.308224431078884\",\"83884764\",\"L\",\"12\",\"031\",\"017300\",\"4002\"\\n\"78\",\"10600 Hornets Nest Rd,  Jacksonville, Fl, 32257-1210\",\"Match\",\"Non_Exact\",\"10600 HORNETS NEST RD, JACKSONVILLE, FL, 32257\",\"-81.5867120735216,30.18430590923424\",\"83965977\",\"R\",\"12\",\"031\",\"016728\",\"1000\"\\n\"79\",\"1515 Florida Blvd,  Neptune Beach, Fl, 32266-3121\",\"Match\",\"Non_Exact\",\"1515 FLORIDA BLVD, NEPTUNE BEACH, FL, 32266\",\"-81.40986739407299,30.31587235569998\",\"83907282\",\"L\",\"12\",\"031\",\"014002\",\"1021\"\\n\"180\",\"6974 Wilson Blvd,  Jacksonville, Fl, 32210-3663\",\"Match\",\"Non_Exact\",\"6974 WILSON BLVD, JACKSONVILLE, FL, 32210\",\"-81.75977419141327,30.26994484509612\",\"83910487\",\"L\",\"12\",\"031\",\"012800\",\"5000\"\\n\"181\",\"2100 Dunn Ave,  Jacksonville, Fl, 32218\",\"Match\",\"Exact\",\"2100 DUNN AVE, JACKSONVILLE, FL, 32218\",\"-81.67883303890312,30.43895294397521\",\"83939370\",\"L\",\"12\",\"031\",\"010306\",\"1001\"\\n\"182\",\"11780 Alden Rd,  Jacksonville, Fl, 32246\",\"Match\",\"Exact\",\"11780 ALDEN RD, JACKSONVILLE, FL, 32246\",\"-81.51383539008026,30.301647020885525\",\"83990079\",\"R\",\"12\",\"031\",\"014312\",\"1000\"\\n\"183\",\"13375 Beach Blvd,  Jacksonville, Fl, 32246\",\"Match\",\"Exact\",\"13375 BEACH BLVD, JACKSONVILLE, FL, 32246\",\"-81.4653331126213,30.28765759705709\",\"83957015\",\"L\",\"12\",\"031\",\"014339\",\"1018\"\\n\"184\",\"5258 Norwood Ave Unit 3,  Jacksonville, Fl, 32208\",\"Match\",\"Exact\",\"5258 NORWOOD AVE, JACKSONVILLE, FL, 32208\",\"-81.66449268935474,30.3721477057386\",\"83971416\",\"L\",\"12\",\"031\",\"001402\",\"3002\"\\n\"185\",\"6400 Atlantic Blvd,  Jacksonville, Fl, 32211\",\"Match\",\"Exact\",\"6400 ATLANTIC BLVD, JACKSONVILLE, FL, 32211\",\"-81.59321191154578,30.312529006025727\",\"83903610\",\"R\",\"12\",\"031\",\"015804\",\"1001\"\\n\"186\",\"7500 Ricker Rd,  Jacksonville, Fl, 32244\",\"Match\",\"Exact\",\"7500 RICKER RD, JACKSONVILLE, FL, 32244\",\"-81.7727379813187,30.211328186916205\",\"83910051\",\"R\",\"12\",\"031\",\"013502\",\"1004\"\\n\"187\",\"1584 Normandy Village Pkwy Ste 25,  Jacksonville, Fl, 32221\",\"Match\",\"Exact\",\"1584 NORMANDY VILLAGE PKWY, JACKSONVILLE, FL, 32221\",\"-81.77264602724415,30.292196919631294\",\"83952163\",\"R\",\"12\",\"031\",\"012703\",\"3000\"\\n\"188\",\"1241 E 8Th St,  Jacksonville, Fl, 32206\",\"Match\",\"Exact\",\"1241 E 8TH ST, JACKSONVILLE, FL, 32206\",\"-81.63842530642592,30.345347362119185\",\"638006797\",\"L\",\"12\",\"031\",\"000300\",\"1021\"\\n\"189\",\", , , \",\"No_Match\"\\n\"80\",\"3613 New Berlin Rd,  Jacksonville, Fl, 32226-1837\",\"Match\",\"Non_Exact\",\"3613 NEW BERLIN RD, JACKSONVILLE, FL, 32226\",\"-81.56484066611705,30.462972131858635\",\"650588755\",\"L\",\"12\",\"031\",\"010106\",\"3000\"\\n\"81\",\"5701 Silver Plz,  Jacksonville, Fl, 32208-5299\",\"Match\",\"Non_Exact\",\"5701 SILVER PLZ, JACKSONVILLE, FL, 32208\",\"-81.65581202279549,30.375153169585985\",\"83897775\",\"R\",\"12\",\"031\",\"000102\",\"2018\"\\n\"82\",\"2100 W 45Th St,  Jacksonville, Fl, 32209-3099\",\"No_Match\"\\n\"83\",\"12555 Gillespie Ave,  Jacksonville, Fl, 32218-3813\",\"Match\",\"Non_Exact\",\"12555 GILLESPIE AVE, JACKSONVILLE, FL, 32218\",\"-81.62587111475568,30.460738756940202\",\"83965301\",\"R\",\"12\",\"031\",\"010203\",\"1001\"\\n\"84\",\"6305 Old Kings Rd,  Jacksonville, Fl, 32254-1198\",\"Match\",\"Non_Exact\",\"6305 OLD KINGS RD, JACKSONVILLE, FL, 32254\",\"-81.74750016178484,30.372650748483295\",\"83971340\",\"R\",\"12\",\"031\",\"010601\",\"2041\"\\n\"85\",\"3929 Grant Rd,  Jacksonville, Fl, 32207-6628\",\"Match\",\"Non_Exact\",\"3929 GRANT RD, JACKSONVILLE, FL, 32207\",\"-81.63837970835738,30.28158928691505\",\"83915602\",\"L\",\"12\",\"031\",\"016300\",\"2000\"\\n\"86\",\"1535 Milnor St,  Jacksonville, Fl, 32206\",\"Match\",\"Exact\",\"1535 MILNOR ST, JACKSONVILLE, FL, 32206\",\"-81.63875414597766,30.342297705476426\",\"83899518\",\"R\",\"12\",\"031\",\"017400\",\"2021\"\\n\"87\",\"5540 Ramona Blvd,  Jacksonville, Fl, 32205-4752\",\"Match\",\"Non_Exact\",\"5540 RAMONA BLVD, JACKSONVILLE, FL, 32205\",\"-81.74234590783408,30.314052156190826\",\"83953156\",\"L\",\"12\",\"031\",\"012100\",\"1123\"\\n\"88\",\"1090 Dancy St,  Jacksonville, Fl, 32205-5289\",\"Match\",\"Non_Exact\",\"1090 DANCY ST, JACKSONVILLE, FL, 32205\",\"-81.7195503993496,30.3074234436786\",\"83911193\",\"R\",\"12\",\"031\",\"002502\",\"3020\"\\n\"89\",\"4346 Roanoke Blvd,  Jacksonville, Fl, 32208-1160\",\"Match\",\"Non_Exact\",\"4346 ROANOKE BLVD, JACKSONVILLE, FL, 32208\",\"-81.71663662907486,30.410854614460163\",\"83887771\",\"L\",\"12\",\"031\",\"010800\",\"1006\"\\n\"190\",\"4030 Boulevard Center Dr,  Jacksonville, Fl, 32207\",\"Match\",\"Exact\",\"4030 BOULEVARD CENTER DR, JACKSONVILLE, FL, 32207\",\"-81.6177745454508,30.30006738782879\",\"83916172\",\"R\",\"12\",\"031\",\"015701\",\"1018\"\\n\"191\",\"555 Stockton St,  Jacksonville, Fl, 32204\",\"Match\",\"Exact\",\"555 STOCKTON ST, JACKSONVILLE, FL, 32204\",\"-81.691297610996,30.321703958848786\",\"83989176\",\"L\",\"12\",\"031\",\"002600\",\"1086\"\\n\"192\",\"2335 W 18Th St,  Jacksonville, Fl, 32209\",\"Match\",\"Exact\",\"2335 W 18TH ST, JACKSONVILLE, FL, 32209\",\"-81.70047695599442,30.354603531567193\",\"83893649\",\"R\",\"12\",\"031\",\"002802\",\"4005\"\\n\"193\",\"3101 Justina Rd,  Jacksonville, Fl, 32277\",\"Match\",\"Exact\",\"3101 JUSTINA RD, JACKSONVILLE, FL, 32277\",\"-81.59974982556253,30.355041294658406\",\"83971025\",\"R\",\"12\",\"031\",\"014800\",\"3011\"\\n\"194\",\", , , \",\"No_Match\"\\n\"195\",\"4037 Boulevard Center Dr # B3,  Jacksonville, Fl, 32207\",\"Match\",\"Exact\",\"4037 BOULEVARD CENTER DR, JACKSONVILLE, FL, 32207\",\"-81.61934300762692,30.300806106297614\",\"83916163\",\"L\",\"12\",\"031\",\"015701\",\"1020\"\\n\"196\",\"4501 Lannie Rd,  Jacksonville, Fl, 32218\",\"Match\",\"Exact\",\"4501 LANNIE RD, JACKSONVILLE, FL, 32218\",\"-81.72070236691877,30.541594427347775\",\"638629248\",\"R\",\"12\",\"031\",\"010301\",\"1018\"\\n\"197\",\"1531 Winthrop St,  Jacksonville, Fl, 32206\",\"Match\",\"Exact\",\"1531 WINTHROP ST, JACKSONVILLE, FL, 32206\",\"-81.63470349590108,30.347520531288467\",\"639974525\",\"L\",\"12\",\"031\",\"000300\",\"1030\"\\n\"198\",\"\\xc2\\xa03723 Franklin St,  Jacksonville, Fl, 32206\",\"Match\",\"Exact\",\"3723 FRANKLIN ST, JACKSONVILLE, FL, 32206\",\"-81.63914104636763,30.36136629766895\",\"83898304\",\"R\",\"12\",\"031\",\"000200\",\"2007\"\\n\"199\",\"1347 Palmer St,  Atlantic Beach, Fl, 32233\",\"Match\",\"Exact\",\"1347 PALMER ST, ATLANTIC BEACH, FL, 32233\",\"-81.42762799626342,30.39353874569923\",\"83965172\",\"L\",\"12\",\"031\",\"013800\",\"1052\"\\n\"90\",\"1201 Kernan Blvd N,  Jacksonville, Fl, 32225-5003\",\"Match\",\"Non_Exact\",\"1201 KERNAN BLVD N, JACKSONVILLE, FL, 32225\",\"-81.48972958949821,30.344137534671745\",\"83950166\",\"L\",\"12\",\"031\",\"014335\",\"3004\"\\n\"91\",\"6084 Morse Ave,  Jacksonville, Fl, 32244-3730\",\"Match\",\"Non_Exact\",\"6084 MORSE AVE, JACKSONVILLE, FL, 32244\",\"-81.73921383381713,30.226184971270413\",\"83989388\",\"L\",\"12\",\"031\",\"013525\",\"1011\"\\n\"92\",\"3501 Winton Dr,  Jacksonville, Fl, 32208-6301\",\"Match\",\"Non_Exact\",\"3501 WINTON DR, JACKSONVILLE, FL, 32208\",\"-81.70504276328381,30.390769550402922\",\"83891551\",\"R\",\"12\",\"031\",\"011300\",\"2007\"\\n\"93\",\"5805 Saint Augustine Rd,  Jacksonville, Fl, 32207-8088\",\"Match\",\"Non_Exact\",\"5805 ST AUGUSTINE RD, JACKSONVILLE, FL, 32207\",\"-81.629665735819,30.263680666590233\",\"652503298\",\"L\",\"12\",\"031\",\"016300\",\"2022\"\\n\"94\",\"801 18Th Ave N,  Jacksonville Beach, Fl, 32250-4898\",\"Match\",\"Non_Exact\",\"801 18TH AVE N, JACKSONVILLE BEACH, FL, 32250\",\"-81.400409948647,30.305085804488613\",\"83923040\",\"R\",\"12\",\"031\",\"014103\",\"1000\"\\n\"95\",\"9775 Ivey Rd,  Jacksonville, Fl, 32246-3419\",\"Match\",\"Non_Exact\",\"9775 IVEY RD, JACKSONVILLE, FL, 32246\",\"-81.55544752656414,30.300261540000122\",\"83968693\",\"L\",\"12\",\"031\",\"014500\",\"3001\"\\n\"96\",\"2250 Spring Park Rd,  Jacksonville, Fl, 32207-3638\",\"Match\",\"Non_Exact\",\"2250 SPRING PARK RD, JACKSONVILLE, FL, 32207\",\"-81.63453098419632,30.302571555143174\",\"83968486\",\"R\",\"12\",\"031\",\"000600\",\"4004\"\\n\"97\",\"1925 W 13Th St,  Jacksonville, Fl, 32209-4795\",\"Match\",\"Non_Exact\",\"1925 W 13TH ST, JACKSONVILLE, FL, 32209\",\"-81.68970942062492,30.35135544978607\",\"83893850\",\"R\",\"12\",\"031\",\"002801\",\"1011\"\\n\"98\",\"5429 110Th St,  Jacksonville, Fl, 32244-2199\",\"Match\",\"Non_Exact\",\"5429 110TH ST, JACKSONVILLE, FL, 32244\",\"-81.7232231414041,30.24111286504416\",\"641018155\",\"L\",\"12\",\"031\",\"013402\",\"1006\"\\n\"99\",\"8000 Point Meadows Dr,  Jacksonville, Fl, 32256-7011\",\"Match\",\"Non_Exact\",\"8000 POINT MEADOWS DR, JACKSONVILLE, FL, 32256\",\"-81.51803899753287,30.232447707687186\",\"625020562\",\"R\",\"12\",\"031\",\"014417\",\"1009\"\\n\"300\",\"6822 Larkin Road ,  Jacksonville,  FL, 32211\",\"Match\",\"Exact\",\"6822 LARKIN RD, JACKSONVILLE, FL, 32211\",\"-81.58884252820076,30.326928534749754\",\"83903542\",\"L\",\"12\",\"031\",\"015501\",\"1004\"\\n\"301\",\"3930 University Blvd. South ,  Jacksonville,  FL, 32216\",\"Match\",\"Exact\",\"3930 UNIVERSITY BLVD S, JACKSONVILLE, FL, 32216\",\"-81.60272792667337,30.284861923055303\",\"83918571\",\"R\",\"12\",\"031\",\"016102\",\"1008\"\\n\"302\",\"6045 Greenland Rd 400 ,  Jacksonville,  FL, 32258\",\"Match\",\"Non_Exact\",\"6045 GREENLAND RD, JACKSONVILLE, FL, 32258\",\"-81.54848259620508,30.161895572157846\",\"83965754\",\"L\",\"12\",\"031\",\"014413\",\"2028\"\\n\"303\",\"9039 Beach Boulevard ,  Jacksonville,  FL, 32216\",\"Match\",\"Exact\",\"9039 BEACH BLVD, JACKSONVILLE, FL, 32216\",\"-81.56141863470475,30.286789753907385\",\"83989459\",\"L\",\"12\",\"031\",\"015806\",\"1001\"\\n\"304\",\"1016 Girvin Rd ,  Jacksonville,  FL, 32225\",\"Match\",\"Exact\",\"1016 GIRVIN RD, JACKSONVILLE, FL, 32225\",\"-81.46242291999084,30.339457745942923\",\"650635284\",\"L\",\"12\",\"031\",\"014335\",\"4007\"\\n\"305\",\"5654 Dunn Avenue ,  Jacksonville,  FL, 32218\",\"Match\",\"Exact\",\"5654 DUNN AVE, JACKSONVILLE, FL, 32218\",\"-81.73717344190982,30.438008921824576\",\"651251179\",\"L\",\"12\",\"031\",\"010502\",\"1000\"\\n\"306\",\"7788 Ramona Blvd. West ,  Jacksonville,  FL, 32221\",\"Match\",\"Non_Exact\",\"7788 RAMONA BLVD, JACKSONVILLE, FL, 32221\",\"-81.77684238614194,30.31361433517384\",\"83887168\",\"L\",\"12\",\"031\",\"012000\",\"3005\"\\n\"307\",\"270 Kernan Blvd. N. ,  Jacksonville,  FL, 32225\",\"Match\",\"Exact\",\"270 KERNAN BLVD N, JACKSONVILLE, FL, 32225\",\"-81.48954943490554,30.32794087070579\",\"650067607\",\"L\",\"12\",\"031\",\"014328\",\"2000\"\\n\"308\",\"1901 Leonid Rd ,  Jacksonville,  FL, 32218\",\"Match\",\"Exact\",\"1901 LEONID RD, JACKSONVILLE, FL, 32218\",\"-81.6768846633654,30.429885312877673\",\"640433942\",\"R\",\"12\",\"031\",\"010306\",\"1015\"\\n\"309\",\"2760 Edgewood Ave. ,  Jacksonville,  FL, 32209\",\"Match\",\"Non_Exact\",\"2760 EDGEWOOD AVE W, JACKSONVILLE, FL, 32209\",\"-81.7096084273752,30.377928318778174\",\"83891847\",\"L\",\"12\",\"031\",\"011600\",\"1006\"\\n\"310\",\"4455 Atlantic Blvd. ,  Jacksonville,  FL, 32207\",\"Match\",\"Exact\",\"4455 ATLANTIC BLVD, JACKSONVILLE, FL, 32207\",\"-81.61780893452595,30.308575429498035\",\"83968536\",\"L\",\"12\",\"031\",\"015600\",\"3012\"\\n\"311\",\"450 11Th Avenue North  Jacksonville Beach Fl 32250, , , \",\"Match\",\"Exact\",\"450 11TH AVE N, JACKSONVILLE BEACH, FL, 32250\",\"-81.39574231811736,30.298985331339395\",\"83923130\",\"L\",\"12\",\"031\",\"014103\",\"1025\"\\n\"312\",\"4114 Oxford Avenue ,  Jacksonville,  FL, 32210\",\"Match\",\"Exact\",\"4114 OXFORD AVE, JACKSONVILLE, FL, 32210\",\"-81.70276513280555,30.27306193512328\",\"639972927\",\"R\",\"12\",\"031\",\"002400\",\"1019\"\\n\"313\",\"9840 Wagner Road ,  Jacksonville,  FL, 32219\",\"Match\",\"Exact\",\"9840 WAGNER RD, JACKSONVILLE, FL, 32219\",\"-81.73624079690103,30.414181447763383\",\"83944304\",\"L\",\"12\",\"031\",\"010700\",\"3002\"\\n\"314\",\"217 Devoe St ,  Jacksonville,  FL,   32220-1539\",\"No_Match\"\\n\"315\",\"13328 Dunn Creek Road ,  Jacksonville,  FL, 32218\",\"Match\",\"Exact\",\"13328 DUNN CREEK RD, JACKSONVILLE, FL, 32218\",\"-81.5904055124156,30.47729117151232\",\"652504590\",\"L\",\"12\",\"031\",\"010101\",\"1002\"\\n\"316\",\"6565 Beach Blvd ,  Jacksonville,  FL, 32216\",\"Match\",\"Exact\",\"6565 BEACH BLVD, JACKSONVILLE, FL, 32216\",\"-81.5930822826935,30.290339169690753\",\"83918703\",\"L\",\"12\",\"031\",\"015702\",\"1021\"\\n\"317\",\"203 W. 48Th Street 10 ,  Jacksonville,  FL, 32208\",\"Match\",\"Non_Exact\",\"203 W 48TH ST, JACKSONVILLE, FL, 32208\",\"-81.65400618119685,30.375733045993286\",\"83971432\",\"R\",\"12\",\"031\",\"000102\",\"2016\"\\n\"318\",\"7587 Blanding Boulevard ,  Jacksonville,  FL, 32244\",\"Match\",\"Exact\",\"7587 BLANDING BLVD, JACKSONVILLE, FL, 32244\",\"-81.73804083473277,30.20997385638333\",\"641024254\",\"R\",\"12\",\"031\",\"013522\",\"1016\"\\n\"319\",\"11271 Alumni Way ,  Jacksonville,  FL, 32246\",\"Match\",\"Exact\",\"11271 ALUMNI WAY, JACKSONVILLE, FL, 32246\",\"-81.52527217819306,30.27500884864503\",\"638339018\",\"L\",\"12\",\"031\",\"014414\",\"1000\"\\n\"320\",\"5454 Arlington Expressway ,  Jacksonville,  FL, 32211\",\"Match\",\"Exact\",\"5454 ARLINGTON EXPY, JACKSONVILLE, FL, 32211\",\"-81.6074067138565,30.32717696716753\",\"83989917\",\"R\",\"12\",\"031\",\"015600\",\"1009\"\\n\"200\",\"1514 Hubbard St,  Jacksonville, Fl, 32206\",\"Match\",\"Exact\",\"1514 HUBBARD ST, JACKSONVILLE, FL, 32206\",\"-81.65287239202877,30.341880141368165\",\"83898968\",\"L\",\"12\",\"031\",\"001100\",\"2000\"\\n\"321\",\"1656 W. Edgewood Ave. ,  Jacksonville,  FL, 32208\",\"Match\",\"Non_Exact\",\"1656 EDGEWOOD AVE W, JACKSONVILLE, FL, 32208\",\"-81.68407031937346,30.388072250849234\",\"83892488\",\"L\",\"12\",\"031\",\"011500\",\"2003\"\\n\"201\",\"1741 Francis St,  Jacksonville, Fl, 32209\",\"Match\",\"Exact\",\"1741 FRANCIS ST, JACKSONVILLE, FL, 32209\",\"-81.67006927027535,30.34664267816578\",\"83896185\",\"R\",\"12\",\"031\",\"001600\",\"2002\"\\n\"322\",\"479 N. Center Street  Baldwin Fl 32234, , , \",\"Match\",\"Non_Exact\",\"479 CENTER ST N, BALDWIN, FL, 32234\",\"-81.97557920664474,30.306719855205756\",\"83931101\",\"R\",\"12\",\"031\",\"017300\",\"4008\"\\n\"202\",\"6910 Daughtry Blvd S,  Jacksonville, Fl, 32210\",\"Match\",\"Exact\",\"6910 DAUGHTRY BLVD S, JACKSONVILLE, FL, 32210\",\"-81.75757335437629,30.252869965575314\",\"83912075\",\"L\",\"12\",\"031\",\"012800\",\"2018\"\\n\"323\",\"12200 Mccormick Road ,  Jacksonville,  FL, 32225\",\"Match\",\"Exact\",\"12200 MCCORMICK RD, JACKSONVILLE, FL, 32225\",\"-81.4948418840417,30.359802297112196\",\"639973024\",\"R\",\"12\",\"031\",\"014328\",\"3000\"\\n\"203\",\"2933 University Blvd N,  Jacksonville, Fl, 32211\",\"Match\",\"Exact\",\"2933 UNIVERSITY BLVD N, JACKSONVILLE, FL, 32211\",\"-81.60255686516211,30.351430170178958\",\"633636142\",\"R\",\"12\",\"031\",\"015200\",\"1002\"\\n\"324\",\"4920 Brentwood Avenue ,  Jacksonville,  FL, 32206\",\"Match\",\"Exact\",\"4920 BRENTWOOD AVE, JACKSONVILLE, FL, 32206\",\"-81.66142648390041,30.36958802260932\",\"83897793\",\"L\",\"12\",\"031\",\"001402\",\"1012\"\\n\"204\",\"1301 W Palm Ave,  Jacksonville, Fl, 32254\",\"Match\",\"Exact\",\"1301 W PALM AVE, JACKSONVILLE, FL, 32254\",\"-81.72918891195872,30.34176227336178\",\"83888820\",\"R\",\"12\",\"031\",\"011800\",\"1020\"\\n\"325\",\"8301 Fort Caroline Rd. ,  Jacksonville,  FL, 32277\",\"Match\",\"Exact\",\"8301 FORT CAROLINE RD, JACKSONVILLE, FL, 32277\",\"-81.56092736615784,30.36690652460271\",\"646761835\",\"L\",\"12\",\"031\",\"014601\",\"2002\"\\n\"205\",\"500 E Adams St,  Jacksonville, Fl, 32202\",\"Match\",\"Exact\",\"500 E ADAMS ST, JACKSONVILLE, FL, 32202\",\"-81.65002196709776,30.326062026508453\",\"647413820\",\"R\",\"12\",\"031\",\"001000\",\"2032\"\\n\"326\",\"8247 West Ramona Blvd. ,  Jacksonville,  FL, 32221\",\"Match\",\"Non_Exact\",\"8247 RAMONA BLVD W, JACKSONVILLE, FL, 32221\",\"-81.78591192225235,30.313581331462103\",\"83887077\",\"R\",\"12\",\"031\",\"011903\",\"1000\"\\n\"206\",\"9430 Lem Turner Road\\xc2\\xa0Jacksonville, , \\xc2\\xa0Fl\\xc2\\xa0, 32208\",\"Match\",\"Non_Exact\",\"9430 LEM TURNER RD, JACKSONVILLE, FL, 32208\",\"-81.68952684391093,30.411298501603937\",\"83891621\",\"L\",\"12\",\"031\",\"011000\",\"4015\"\\n\"327\",\"9800-3 Baymeadows Rd. ,  Jacksonville,  FL, 32256\",\"Match\",\"Non_Exact\",\"9800 BAYMEADOWS RD, JACKSONVILLE, FL, 32256\",\"-81.55579867076545,30.219060648073764\",\"83966684\",\"L\",\"12\",\"031\",\"015922\",\"3003\"\\n\"207\",\"Wayman Academy Of The Arts, , , \",\"No_Match\"\\n\"328\",\"11665 Ft. Caroline Road ,  Jacksonville,  FL, 32225\",\"Match\",\"Exact\",\"11665 FORT CAROLINE RD, JACKSONVILLE, FL, 32225\",\"-81.5139483666751,30.37154638181653\",\"640433747\",\"L\",\"12\",\"031\",\"014601\",\"4004\"\\n\"208\",\"2335 W 18Th St,  Jacksonville, Fl, 32209\",\"Match\",\"Exact\",\"2335 W 18TH ST, JACKSONVILLE, FL, 32209\",\"-81.70047695599442,30.354603531567193\",\"83893649\",\"R\",\"12\",\"031\",\"002802\",\"4005\"\\n\"329\",\"3990 Loretto Road ,  Jacksonville,  FL, 32223\",\"Match\",\"Exact\",\"3990 LORETTO RD, JACKSONVILLE, FL, 32223\",\"-81.60446635965957,30.159552679013984\",\"83921300\",\"R\",\"12\",\"031\",\"016803\",\"3000\"\\n\"209\",\"5310 Lenox Ave Suite 5 ,  Jacksonville,  FL, 32205\",\"Match\",\"Exact\",\"5310 LENOX AVE, JACKSONVILLE, FL, 32205\",\"-81.73378440415752,30.31375411569877\",\"83957119\",\"L\",\"12\",\"031\",\"012100\",\"1128\"\\n\"330\",\"320 8Th Street West ,  Jacksonville,  FL, 32206\",\"Match\",\"Non_Exact\",\"320 W 8TH ST, JACKSONVILLE, FL, 32206\",\"-81.65896271435781,30.346085113914683\",\"83898854\",\"L\",\"12\",\"031\",\"001200\",\"2025\"\\n\"210\",\"23 Jackson Ave. N. ,  Jacksonville,  FL, 32220\",\"Match\",\"Exact\",\"23 JACKSON AVE N, JACKSONVILLE, FL, 32220\",\"-81.78580690328937,30.322901993111543\",\"83886960\",\"R\",\"12\",\"031\",\"011901\",\"3038\"\\n\"331\",\"9501 Arlington Expressway Suite 245B,  Jacksonville,  FL, 32225\",\"Match\",\"Non_Exact\",\"9501 ARLINGTON EXPY, JACKSONVILLE, FL, 32211\",\"-81.54849766237561,30.321867871109987\",\"83969781\",\"L\",\"12\",\"031\",\"014604\",\"1033\"\\n\"211\",\"23 8Th St W #3677 ,  Jacksonville,  FL, 32206\",\"Match\",\"Non_Exact\",\"23 W 8TH ST, JACKSONVILLE, FL, 32206\",\"-81.65435474851182,30.345834656695445\",\"83898936\",\"R\",\"12\",\"031\",\"001200\",\"2036\"\\n\"332\",\"11697 Normandy Blvd. ,  Jacksonville,  FL, 32221\",\"Match\",\"Exact\",\"11697 NORMANDY BLVD, JACKSONVILLE, FL, 32221\",\"-81.85677134772527,30.263726146135525\",\"629265514\",\"L\",\"12\",\"031\",\"013733\",\"2004\"\\n\"212\",\"4530-15 St. Johns Ave. Suite 347,  Jacksonville,  FL, 32210\",\"Match\",\"Non_Exact\",\"4530 ST JOHNS AVE, JACKSONVILLE, FL, 32210\",\"-81.7226506375078,30.288487083436223\",\"83911355\",\"L\",\"12\",\"031\",\"012300\",\"2016\"\\n\"333\",\"924 St Clair St ,  Jacksonville,  FL, 32254\",\"Match\",\"Exact\",\"924 ST CLAIR ST, JACKSONVILLE, FL, 32254\",\"-81.71663447928404,30.33519917613239\",\"83889080\",\"L\",\"12\",\"031\",\"002702\",\"2006\"\\n\"213\",\"12156 Pulaski Road ,  Jacksonville,  FL, 32218\",\"Match\",\"Exact\",\"12156 PULASKI RD, JACKSONVILLE, FL, 32218\",\"-81.61326689043443,30.456082962534367\",\"639974496\",\"L\",\"12\",\"031\",\"010203\",\"1003\"\\n\"334\",\"8050-2 Lone Star Road ,  Jacksonville,  FL, 32211\",\"Match\",\"Non_Exact\",\"8050 LONE STAR RD, JACKSONVILLE, FL, 32211\",\"-81.57249515519322,30.337586940386245\",\"83904053\",\"R\",\"12\",\"031\",\"015002\",\"3010\"\\n\"214\",\"7400 San Jose Boulevard ,  Jacksonville,  FL, 32217\",\"Match\",\"Exact\",\"7400 SAN JOSE BLVD, JACKSONVILLE, FL, 32217\",\"-81.62752150616188,30.244224314364715\",\"638006417\",\"R\",\"12\",\"031\",\"016500\",\"2004\"\\n\"335\",\"342 Girvin Rd ,  Jacksonville,  FL, 32246\",\"Match\",\"Non_Exact\",\"342 GIRVIN RD, JACKSONVILLE, FL, 32225\",\"-81.47190254387743,30.327620889600553\",\"83937659\",\"R\",\"12\",\"031\",\"014336\",\"1005\"\\n\"215\",\"5940 Beach Blvd. Suite 1 ,  Jacksonville,  FL, 32207\",\"Match\",\"Exact\",\"5940 BEACH BLVD, JACKSONVILLE, FL, 32207\",\"-81.60264093641837,30.29269466540387\",\"83989457\",\"R\",\"12\",\"031\",\"016102\",\"1000\"\\n\"336\",\"4298 Livingston Road ,  Jacksonville,  FL, 32257\",\"Match\",\"Exact\",\"4298 LIVINGSTON RD, JACKSONVILLE, FL, 32257\",\"-81.60490019411048,30.177002914924117\",\"83944838\",\"R\",\"12\",\"031\",\"016727\",\"2002\"\\n\"216\",\"929 Mcduff Ave S. Suite 101,  Jacksonville,  FL, 32205\",\"Match\",\"Non_Exact\",\"929 S MCDUFF AVE, JACKSONVILLE, FL, 32205\",\"-81.7052929447359,30.314471351244208\",\"83894484\",\"L\",\"12\",\"031\",\"002501\",\"4016\"\\n\"337\",\"3202 Atlantic Boulevard ,  Jacksonville,  FL, 32207\",\"Match\",\"Exact\",\"3202 ATLANTIC BLVD, JACKSONVILLE, FL, 32207\",\"-81.63282706429169,30.305532233735107\",\"83915816\",\"R\",\"12\",\"031\",\"000600\",\"1015\"\\n\"217\",\"14797 Philips Highway ,  Jacksonville,  FL, 32256\",\"Match\",\"Exact\",\"14797 PHILIPS HWY, JACKSONVILLE, FL, 32256\",\"-81.48135667593004,30.107233942724918\",\"648044248\",\"L\",\"12\",\"031\",\"014423\",\"3000\"\\n\"338\",\"5330 Dunn Avenue ,  Jacksonville,  FL, 32218\",\"Match\",\"Exact\",\"5330 DUNN AVE, JACKSONVILLE, FL, 32218\",\"-81.73379457324211,30.43806556991666\",\"651251178\",\"L\",\"12\",\"031\",\"010502\",\"1000\"\\n\"218\",\"9803 St. Augustine Road Ste 7 ,  Jacksonville,  FL, 32257\",\"Match\",\"Exact\",\"9803 ST AUGUSTINE RD, JACKSONVILLE, FL, 32257\",\"-81.61463012219986,30.198998705541328\",\"629624860\",\"L\",\"12\",\"031\",\"016731\",\"2002\"\\n\"339\",\"12276 San Jose Blvd Suite 516 ,  Jacksonville,  FL, 32223\",\"Match\",\"Exact\",\"12276 SAN JOSE BLVD, JACKSONVILLE, FL, 32223\",\"-81.63268418698118,30.146113795387464\",\"83939797\",\"R\",\"12\",\"031\",\"016804\",\"2014\"\\n\"219\",\"3044 S. San Pablo Road ,  Jacksonville,  FL, 32224\",\"Match\",\"Non_Exact\",\"3044 SAN PABLO RD S, JACKSONVILLE, FL, 32224\",\"-81.43783396793498,30.292670823113042\",\"83968824\",\"R\",\"12\",\"031\",\"014331\",\"1000\"\\n\"340\",\"6800 West 5Th Street ,  Jacksonville,  FL, 32254\",\"Match\",\"Exact\",\"6800 W 5TH ST, JACKSONVILLE, FL, 32254\",\"-81.75881754458226,30.342936139973688\",\"83956568\",\"L\",\"12\",\"031\",\"011800\",\"3002\"\\n\"220\",\"11367 Old St. Augustine Road ,  Jacksonville,  FL, 32258\",\"Match\",\"Exact\",\"11367 OLD SAINT AUGUSTINE RD, JACKSONVILLE, FL, 32258\",\"-81.60160985621314,30.166576694157015\",\"653183977\",\"L\",\"12\",\"031\",\"016810\",\"2000\"\\n\"341\",\"6801 Merrill Rd ,  Jacksonville,  FL, 32277\",\"Match\",\"Non_Exact\",\"6801 MERRILL CT, JACKSONVILLE, FL, 32211\",\"-81.58525592667911,30.35102284119472\",\"83903693\",\"L\",\"12\",\"031\",\"015100\",\"3004\"\\n\"100\",\"4300 Timuquana Rd,  Jacksonville, Fl, 32210-8538\",\"Match\",\"Non_Exact\",\"4300 TIMUQUANA PL, JACKSONVILLE, FL, 32210\",\"-81.68879059634196,30.247760753031628\",\"83914618\",\"R\",\"12\",\"031\",\"013100\",\"2003\"\\n\"221\",\"634 Lomax Street ,  Jacksonville,  FL, 32204\",\"Match\",\"Exact\",\"634 LOMAX ST, JACKSONVILLE, FL, 32204\",\"-81.6786787953435,30.312907894642535\",\"83896820\",\"L\",\"12\",\"031\",\"017102\",\"2040\"\\n\"342\",\"3423 Loretto Rd ,  Jacksonville,  FL, 32223\",\"Match\",\"Exact\",\"3423 LORETTO RD, JACKSONVILLE, FL, 32223\",\"-81.62017426274326,30.15976188533631\",\"629625133\",\"L\",\"12\",\"031\",\"016807\",\"1005\"\\n\"101\",\"450 Kernan Blvd N,  Jacksonville, Fl, 32225-5300\",\"Match\",\"Non_Exact\",\"450 KERNAN BLVD N, JACKSONVILLE, FL, 32225\",\"-81.48966155311183,30.33346857632631\",\"83940462\",\"R\",\"12\",\"031\",\"014328\",\"2000\"\\n\"222\",\"9920 Regency Square Blvd. ,  Jacksonville,  FL, 32225\",\"Match\",\"Exact\",\"9920 REGENCY SQUARE BLVD, JACKSONVILLE, FL, 32225\",\"-81.54420425840436,30.326237203270068\",\"647385374\",\"R\",\"12\",\"031\",\"014604\",\"2014\"\\n\"343\",\"5400 North Pearl Street ,  Jacksonville,  FL, 32208\",\"Match\",\"Exact\",\"5400 N PEARL ST, JACKSONVILLE, FL, 32208\",\"-81.65674019450199,30.373412614636038\",\"83897895\",\"L\",\"12\",\"031\",\"001402\",\"1009\"\\n\"102\",\"5270 Connie Jean Rd,  Jacksonville, Fl, 32210\",\"Match\",\"Exact\",\"5270 CONNIE JEAN RD, JACKSONVILLE, FL, 32210\",\"-81.82359824463339,30.24862985533622\",\"83973566\",\"R\",\"12\",\"031\",\"013732\",\"2005\"\\n\"223\",\"5800 Ricker Road ,  Jacksonville,  FL, 32244\",\"Match\",\"Exact\",\"5800 RICKER RD, JACKSONVILLE, FL, 32244\",\"-81.77311332729988,30.243833786454104\",\"83954296\",\"R\",\"12\",\"031\",\"013504\",\"1008\"\\n\"344\",\"6415 North Pearl Street ,  Jacksonville,  FL, 32208\",\"Match\",\"Exact\",\"6415 N PEARL ST, JACKSONVILLE, FL, 32208\",\"-81.65667426185468,30.378822895068595\",\"83897740\",\"R\",\"12\",\"031\",\"000102\",\"2011\"\\n\"103\",\"11160 General Ave,  Jacksonville, Fl, 32220-2118\",\"Match\",\"Non_Exact\",\"11160 GENERAL AVE, JACKSONVILLE, FL, 32220\",\"-81.84803019231873,30.312498631512824\",\"83968892\",\"L\",\"12\",\"031\",\"011901\",\"4013\"\\n\"224\",\"6789 Southpoint Parkway 100 ,  Jacksonville,  FL, 32216\",\"Match\",\"Non_Exact\",\"6789 SOUTHPOINT PKWY, JACKSONVILLE, FL, 32216\",\"-81.59222857885493,30.258646443517875\",\"83985816\",\"R\",\"12\",\"031\",\"015924\",\"2023\"\\n\"345\",\"3662 Crown Point Road ,  Jacksonville,  FL, 32257\",\"Match\",\"Exact\",\"3662 CROWN POINT RD, JACKSONVILLE, FL, 32257\",\"-81.6203450088604,30.1946785510753\",\"83934889\",\"R\",\"12\",\"031\",\"016726\",\"1001\"\\n\"104\",\"328 Bowlan St N,  Jacksonville, Fl, 32211-9605\",\"Match\",\"Non_Exact\",\"328 N BOWLAN ST, JACKSONVILLE, FL, 32211\",\"-81.56973266669536,30.32147342888925\",\"83939022\",\"L\",\"12\",\"031\",\"015502\",\"2011\"\\n\"225\",\"4310 Barkoskie Road ,  Jacksonville,  FL, 32258\",\"Match\",\"Exact\",\"4310 BARKOSKIE RD, JACKSONVILLE, FL, 32258\",\"-81.60008218179422,30.16264930668649\",\"645932811\",\"R\",\"12\",\"031\",\"016810\",\"2000\"\\n\"346\",\"8505 San Jose Blvd. Ece Dept. ,  Jacksonville,  FL, 32217\",\"Match\",\"Non_Exact\",\"8505 SAN JOSE BLVD, JACKSONVILLE, FL, 32217\",\"-81.61582920170196,30.225049590466483\",\"83917161\",\"L\",\"12\",\"031\",\"016603\",\"2009\"\\n\"105\",\"2056 Lane Ave S,  Jacksonville, Fl, 32210-2797\",\"Match\",\"Non_Exact\",\"2056 LANE AVE S, JACKSONVILLE, FL, 32210\",\"-81.75528456671634,30.280298903860057\",\"83910444\",\"R\",\"12\",\"031\",\"012602\",\"1022\"\\n\"226\",\"4600 Beach Boulevard ,  Jacksonville,  FL, 32207\",\"Match\",\"Exact\",\"4600 BEACH BLVD, JACKSONVILLE, FL, 32207\",\"-81.61925516009671,30.298284316079332\",\"83916119\",\"R\",\"12\",\"031\",\"016101\",\"2008\"\\n\"347\",\"5975 Park Street ,  Jacksonville,  FL, 32205\",\"Match\",\"Exact\",\"5975 PARK ST, JACKSONVILLE, FL, 32205\",\"-81.7428096490309,30.291983285103584\",\"652502125\",\"R\",\"12\",\"031\",\"012202\",\"3023\"\\n\"106\",\"8239 Merrill Rd,  Jacksonville, Fl, 32277-2999\",\"Match\",\"Non_Exact\",\"8239 MERRILL RD, JACKSONVILLE, FL, 32277\",\"-81.5598203789167,30.352393931232484\",\"633636154\",\"L\",\"12\",\"031\",\"014902\",\"4008\"\\n\"227\",\"4131 Sunbeam Road ,  Jacksonville,  FL, 32257\",\"Match\",\"Exact\",\"4131 SUNBEAM RD, JACKSONVILLE, FL, 32257\",\"-81.60903738820724,30.20586879695651\",\"83966300\",\"L\",\"12\",\"031\",\"016724\",\"2000\"\\n\"348\",\"725 Mickler Road ,  Jacksonville,  FL, 32211\",\"Match\",\"Exact\",\"725 MICKLER RD, JACKSONVILLE, FL, 32211\",\"-81.58852756130597,30.325170041528338\",\"83903546\",\"R\",\"12\",\"031\",\"015501\",\"1007\"\\n\"107\",\"3816 N Main St,  Jacksonville, Fl, 32206-1450\",\"Match\",\"Non_Exact\",\"3816 N MAIN ST, JACKSONVILLE, FL, 32206\",\"-81.65348151584033,30.361881009466572\",\"83898000\",\"L\",\"12\",\"031\",\"001300\",\"3015\"\\n\"228\",\"1470 W 13Th St ,  Jacksonville,  FL, 32209\",\"Match\",\"Exact\",\"1470 W 13TH ST, JACKSONVILLE, FL, 32209\",\"-81.67831308390299,30.351320940284495\",\"83895320\",\"L\",\"12\",\"031\",\"002902\",\"3023\"\\n\"349\",\"1824 Dean Road ,  Jacksonville,  FL, 32216\",\"Match\",\"Exact\",\"1824 DEAN RD, JACKSONVILLE, FL, 32216\",\"-81.59179035248496,30.28956880230396\",\"83918744\",\"R\",\"12\",\"031\",\"016001\",\"1000\"\\n\"108\",\"9735 R G Skinner Pkwy,  Jacksonville, Fl, 32256-3979\",\"Match\",\"Non_Exact\",\"9735 R G SKINNER PKWY, JACKSONVILLE, FL, 32256\",\"-81.51225958654868,30.205446158536972\",\"650064630\",\"L\",\"12\",\"031\",\"014424\",\"3000\"\\n\"229\",\"330 W 9Th Street ,  Jacksonville,  FL, 32206\",\"Match\",\"Exact\",\"330 W 9TH ST, JACKSONVILLE, FL, 32206\",\"-81.65896229267253,30.347429438569634\",\"83898853\",\"L\",\"12\",\"031\",\"001200\",\"2021\"\\n\"109\",\"2445 San Diego Rd,  Jacksonville, Fl, 32207-3630\",\"Match\",\"Non_Exact\",\"2445 SAN DIEGO RD, JACKSONVILLE, FL, 32207\",\"-81.63906338507172,30.29993754251973\",\"83915228\",\"L\",\"12\",\"031\",\"000600\",\"4004\"\\n'"
      ]
     },
     "execution_count": 22,
     "metadata": {},
     "output_type": "execute_result"
    }
   ],
   "execution_count": 22
  },
  {
   "cell_type": "code",
   "id": "cc880746953dbf8d",
   "metadata": {
    "ExecuteTime": {
     "end_time": "2024-08-11T00:43:20.443732Z",
     "start_time": "2024-08-11T00:43:20.434414Z"
    }
   },
   "source": [
    "# raw_file = open(response_chunk_name, 'rb+')\n",
    "dfCensusResults = pd.read_csv(csv_string_readable, sep=',', header=None)\n",
    "dfCensusResults.head()"
   ],
   "outputs": [
    {
     "data": {
      "text/plain": [
       "    0                                                  1         2   \\\n",
       "0  350       7020 Ramona Blvd ,  Jacksonville,  FL, 32205     Match   \n",
       "1  230  10063 Baymeadows Road ,  Jacksonville,  FL, 32256  No_Match   \n",
       "2  351    8964 Old Plank Road ,  Jacksonville,  FL, 32220     Match   \n",
       "3  110    700 Seagate Ave,  Neptune Beach, Fl, 32266-3505     Match   \n",
       "4  231  9000 Southside Blvd. Bldg. 900,  Jacksonville,...     Match   \n",
       "\n",
       "          3                                             4   \\\n",
       "0      Exact     7020 RAMONA BLVD, JACKSONVILLE, FL, 32205   \n",
       "1        NaN                                           NaN   \n",
       "2      Exact    8964 OLD PLANK RD, JACKSONVILLE, FL, 32220   \n",
       "3  Non_Exact     700 SEAGATE AVE, NEPTUNE BEACH, FL, 32266   \n",
       "4      Exact  9000 SOUTHSIDE BLVD, JACKSONVILLE, FL, 32256   \n",
       "\n",
       "                                      5           6    7     8     9   \\\n",
       "0  -81.76221334839232,30.313754951505928  83989119.0    L  12.0  31.0   \n",
       "1                                    NaN         NaN  NaN   NaN   NaN   \n",
       "2  -81.80266744033486,30.330543854852237  83957169.0    L  12.0  31.0   \n",
       "3    -81.40182204301527,30.3076187264042  83922963.0    R  12.0  31.0   \n",
       "4   -81.5518212506077,30.195179698600384  83952442.0    L  12.0  31.0   \n",
       "\n",
       "        10      11  \n",
       "0  12000.0  1000.0  \n",
       "1      NaN     NaN  \n",
       "2  11901.0  2004.0  \n",
       "3  14001.0  3003.0  \n",
       "4  15922.0  2008.0  "
      ],
      "text/html": [
       "<div>\n",
       "<style scoped>\n",
       "    .dataframe tbody tr th:only-of-type {\n",
       "        vertical-align: middle;\n",
       "    }\n",
       "\n",
       "    .dataframe tbody tr th {\n",
       "        vertical-align: top;\n",
       "    }\n",
       "\n",
       "    .dataframe thead th {\n",
       "        text-align: right;\n",
       "    }\n",
       "</style>\n",
       "<table border=\"1\" class=\"dataframe\">\n",
       "  <thead>\n",
       "    <tr style=\"text-align: right;\">\n",
       "      <th></th>\n",
       "      <th>0</th>\n",
       "      <th>1</th>\n",
       "      <th>2</th>\n",
       "      <th>3</th>\n",
       "      <th>4</th>\n",
       "      <th>5</th>\n",
       "      <th>6</th>\n",
       "      <th>7</th>\n",
       "      <th>8</th>\n",
       "      <th>9</th>\n",
       "      <th>10</th>\n",
       "      <th>11</th>\n",
       "    </tr>\n",
       "  </thead>\n",
       "  <tbody>\n",
       "    <tr>\n",
       "      <th>0</th>\n",
       "      <td>350</td>\n",
       "      <td>7020 Ramona Blvd ,  Jacksonville,  FL, 32205</td>\n",
       "      <td>Match</td>\n",
       "      <td>Exact</td>\n",
       "      <td>7020 RAMONA BLVD, JACKSONVILLE, FL, 32205</td>\n",
       "      <td>-81.76221334839232,30.313754951505928</td>\n",
       "      <td>83989119.0</td>\n",
       "      <td>L</td>\n",
       "      <td>12.0</td>\n",
       "      <td>31.0</td>\n",
       "      <td>12000.0</td>\n",
       "      <td>1000.0</td>\n",
       "    </tr>\n",
       "    <tr>\n",
       "      <th>1</th>\n",
       "      <td>230</td>\n",
       "      <td>10063 Baymeadows Road ,  Jacksonville,  FL, 32256</td>\n",
       "      <td>No_Match</td>\n",
       "      <td>NaN</td>\n",
       "      <td>NaN</td>\n",
       "      <td>NaN</td>\n",
       "      <td>NaN</td>\n",
       "      <td>NaN</td>\n",
       "      <td>NaN</td>\n",
       "      <td>NaN</td>\n",
       "      <td>NaN</td>\n",
       "      <td>NaN</td>\n",
       "    </tr>\n",
       "    <tr>\n",
       "      <th>2</th>\n",
       "      <td>351</td>\n",
       "      <td>8964 Old Plank Road ,  Jacksonville,  FL, 32220</td>\n",
       "      <td>Match</td>\n",
       "      <td>Exact</td>\n",
       "      <td>8964 OLD PLANK RD, JACKSONVILLE, FL, 32220</td>\n",
       "      <td>-81.80266744033486,30.330543854852237</td>\n",
       "      <td>83957169.0</td>\n",
       "      <td>L</td>\n",
       "      <td>12.0</td>\n",
       "      <td>31.0</td>\n",
       "      <td>11901.0</td>\n",
       "      <td>2004.0</td>\n",
       "    </tr>\n",
       "    <tr>\n",
       "      <th>3</th>\n",
       "      <td>110</td>\n",
       "      <td>700 Seagate Ave,  Neptune Beach, Fl, 32266-3505</td>\n",
       "      <td>Match</td>\n",
       "      <td>Non_Exact</td>\n",
       "      <td>700 SEAGATE AVE, NEPTUNE BEACH, FL, 32266</td>\n",
       "      <td>-81.40182204301527,30.3076187264042</td>\n",
       "      <td>83922963.0</td>\n",
       "      <td>R</td>\n",
       "      <td>12.0</td>\n",
       "      <td>31.0</td>\n",
       "      <td>14001.0</td>\n",
       "      <td>3003.0</td>\n",
       "    </tr>\n",
       "    <tr>\n",
       "      <th>4</th>\n",
       "      <td>231</td>\n",
       "      <td>9000 Southside Blvd. Bldg. 900,  Jacksonville,...</td>\n",
       "      <td>Match</td>\n",
       "      <td>Exact</td>\n",
       "      <td>9000 SOUTHSIDE BLVD, JACKSONVILLE, FL, 32256</td>\n",
       "      <td>-81.5518212506077,30.195179698600384</td>\n",
       "      <td>83952442.0</td>\n",
       "      <td>L</td>\n",
       "      <td>12.0</td>\n",
       "      <td>31.0</td>\n",
       "      <td>15922.0</td>\n",
       "      <td>2008.0</td>\n",
       "    </tr>\n",
       "  </tbody>\n",
       "</table>\n",
       "</div>"
      ]
     },
     "execution_count": 23,
     "metadata": {},
     "output_type": "execute_result"
    }
   ],
   "execution_count": 23
  },
  {
   "cell_type": "code",
   "id": "505bfbfd-69d5-4155-9726-6b67219a74d8",
   "metadata": {
    "ExecuteTime": {
     "end_time": "2024-08-11T00:44:07.643026Z",
     "start_time": "2024-08-11T00:44:07.639395Z"
    }
   },
   "source": [
    "dfCensusResults.columns = ['id', 'ADDRESS_IN', 'MATCH_INDICATOR', 'MATCH_TYPE', 'ADDRESS_OUT', 'LONG_LAT', 'TIGER_EDGE', 'STREET_SIDE', 'FIPS_STATE', 'FIPS_COUNTY', 'CENSUS_TRACT', 'CENSUS_BLOCK']\n",
    "dfCensusResults.count()"
   ],
   "outputs": [
    {
     "data": {
      "text/plain": [
       "id                 382\n",
       "ADDRESS_IN         382\n",
       "MATCH_INDICATOR    382\n",
       "MATCH_TYPE         366\n",
       "ADDRESS_OUT        366\n",
       "LONG_LAT           366\n",
       "TIGER_EDGE         366\n",
       "STREET_SIDE        366\n",
       "FIPS_STATE         366\n",
       "FIPS_COUNTY        366\n",
       "CENSUS_TRACT       366\n",
       "CENSUS_BLOCK       366\n",
       "dtype: int64"
      ]
     },
     "execution_count": 27,
     "metadata": {},
     "output_type": "execute_result"
    }
   ],
   "execution_count": 27
  },
  {
   "cell_type": "code",
   "id": "extensive-amber",
   "metadata": {
    "ExecuteTime": {
     "end_time": "2024-08-11T00:43:23.770220Z",
     "start_time": "2024-08-11T00:43:23.762592Z"
    }
   },
   "source": [
    "dfCensusResults.head()"
   ],
   "outputs": [
    {
     "data": {
      "text/plain": [
       "    id                                         ADDRESS_IN MATCH_INDICATOR  \\\n",
       "0  350       7020 Ramona Blvd ,  Jacksonville,  FL, 32205           Match   \n",
       "1  230  10063 Baymeadows Road ,  Jacksonville,  FL, 32256        No_Match   \n",
       "2  351    8964 Old Plank Road ,  Jacksonville,  FL, 32220           Match   \n",
       "3  110    700 Seagate Ave,  Neptune Beach, Fl, 32266-3505           Match   \n",
       "4  231  9000 Southside Blvd. Bldg. 900,  Jacksonville,...           Match   \n",
       "\n",
       "  MATCH_TYPE                                   ADDRESS_OUT  \\\n",
       "0      Exact     7020 RAMONA BLVD, JACKSONVILLE, FL, 32205   \n",
       "1        NaN                                           NaN   \n",
       "2      Exact    8964 OLD PLANK RD, JACKSONVILLE, FL, 32220   \n",
       "3  Non_Exact     700 SEAGATE AVE, NEPTUNE BEACH, FL, 32266   \n",
       "4      Exact  9000 SOUTHSIDE BLVD, JACKSONVILLE, FL, 32256   \n",
       "\n",
       "                                LONG_LAT  TIGER_EDGE STREET_SIDE  FIPS_STATE  \\\n",
       "0  -81.76221334839232,30.313754951505928  83989119.0           L        12.0   \n",
       "1                                    NaN         NaN         NaN         NaN   \n",
       "2  -81.80266744033486,30.330543854852237  83957169.0           L        12.0   \n",
       "3    -81.40182204301527,30.3076187264042  83922963.0           R        12.0   \n",
       "4   -81.5518212506077,30.195179698600384  83952442.0           L        12.0   \n",
       "\n",
       "   FIPS_COUNTY  CENSUS_TRACT  CENSUS_BLOCK  \n",
       "0         31.0       12000.0        1000.0  \n",
       "1          NaN           NaN           NaN  \n",
       "2         31.0       11901.0        2004.0  \n",
       "3         31.0       14001.0        3003.0  \n",
       "4         31.0       15922.0        2008.0  "
      ],
      "text/html": [
       "<div>\n",
       "<style scoped>\n",
       "    .dataframe tbody tr th:only-of-type {\n",
       "        vertical-align: middle;\n",
       "    }\n",
       "\n",
       "    .dataframe tbody tr th {\n",
       "        vertical-align: top;\n",
       "    }\n",
       "\n",
       "    .dataframe thead th {\n",
       "        text-align: right;\n",
       "    }\n",
       "</style>\n",
       "<table border=\"1\" class=\"dataframe\">\n",
       "  <thead>\n",
       "    <tr style=\"text-align: right;\">\n",
       "      <th></th>\n",
       "      <th>id</th>\n",
       "      <th>ADDRESS_IN</th>\n",
       "      <th>MATCH_INDICATOR</th>\n",
       "      <th>MATCH_TYPE</th>\n",
       "      <th>ADDRESS_OUT</th>\n",
       "      <th>LONG_LAT</th>\n",
       "      <th>TIGER_EDGE</th>\n",
       "      <th>STREET_SIDE</th>\n",
       "      <th>FIPS_STATE</th>\n",
       "      <th>FIPS_COUNTY</th>\n",
       "      <th>CENSUS_TRACT</th>\n",
       "      <th>CENSUS_BLOCK</th>\n",
       "    </tr>\n",
       "  </thead>\n",
       "  <tbody>\n",
       "    <tr>\n",
       "      <th>0</th>\n",
       "      <td>350</td>\n",
       "      <td>7020 Ramona Blvd ,  Jacksonville,  FL, 32205</td>\n",
       "      <td>Match</td>\n",
       "      <td>Exact</td>\n",
       "      <td>7020 RAMONA BLVD, JACKSONVILLE, FL, 32205</td>\n",
       "      <td>-81.76221334839232,30.313754951505928</td>\n",
       "      <td>83989119.0</td>\n",
       "      <td>L</td>\n",
       "      <td>12.0</td>\n",
       "      <td>31.0</td>\n",
       "      <td>12000.0</td>\n",
       "      <td>1000.0</td>\n",
       "    </tr>\n",
       "    <tr>\n",
       "      <th>1</th>\n",
       "      <td>230</td>\n",
       "      <td>10063 Baymeadows Road ,  Jacksonville,  FL, 32256</td>\n",
       "      <td>No_Match</td>\n",
       "      <td>NaN</td>\n",
       "      <td>NaN</td>\n",
       "      <td>NaN</td>\n",
       "      <td>NaN</td>\n",
       "      <td>NaN</td>\n",
       "      <td>NaN</td>\n",
       "      <td>NaN</td>\n",
       "      <td>NaN</td>\n",
       "      <td>NaN</td>\n",
       "    </tr>\n",
       "    <tr>\n",
       "      <th>2</th>\n",
       "      <td>351</td>\n",
       "      <td>8964 Old Plank Road ,  Jacksonville,  FL, 32220</td>\n",
       "      <td>Match</td>\n",
       "      <td>Exact</td>\n",
       "      <td>8964 OLD PLANK RD, JACKSONVILLE, FL, 32220</td>\n",
       "      <td>-81.80266744033486,30.330543854852237</td>\n",
       "      <td>83957169.0</td>\n",
       "      <td>L</td>\n",
       "      <td>12.0</td>\n",
       "      <td>31.0</td>\n",
       "      <td>11901.0</td>\n",
       "      <td>2004.0</td>\n",
       "    </tr>\n",
       "    <tr>\n",
       "      <th>3</th>\n",
       "      <td>110</td>\n",
       "      <td>700 Seagate Ave,  Neptune Beach, Fl, 32266-3505</td>\n",
       "      <td>Match</td>\n",
       "      <td>Non_Exact</td>\n",
       "      <td>700 SEAGATE AVE, NEPTUNE BEACH, FL, 32266</td>\n",
       "      <td>-81.40182204301527,30.3076187264042</td>\n",
       "      <td>83922963.0</td>\n",
       "      <td>R</td>\n",
       "      <td>12.0</td>\n",
       "      <td>31.0</td>\n",
       "      <td>14001.0</td>\n",
       "      <td>3003.0</td>\n",
       "    </tr>\n",
       "    <tr>\n",
       "      <th>4</th>\n",
       "      <td>231</td>\n",
       "      <td>9000 Southside Blvd. Bldg. 900,  Jacksonville,...</td>\n",
       "      <td>Match</td>\n",
       "      <td>Exact</td>\n",
       "      <td>9000 SOUTHSIDE BLVD, JACKSONVILLE, FL, 32256</td>\n",
       "      <td>-81.5518212506077,30.195179698600384</td>\n",
       "      <td>83952442.0</td>\n",
       "      <td>L</td>\n",
       "      <td>12.0</td>\n",
       "      <td>31.0</td>\n",
       "      <td>15922.0</td>\n",
       "      <td>2008.0</td>\n",
       "    </tr>\n",
       "  </tbody>\n",
       "</table>\n",
       "</div>"
      ]
     },
     "execution_count": 25,
     "metadata": {},
     "output_type": "execute_result"
    }
   ],
   "execution_count": 25
  },
  {
   "metadata": {
    "ExecuteTime": {
     "end_time": "2024-08-11T00:44:25.252795Z",
     "start_time": "2024-08-11T00:44:25.247630Z"
    }
   },
   "cell_type": "code",
   "source": [
    "outfile = \"/opt/work/wooly-tongue/src/jupyter/uscensus/data/SchoolAddressesWithCensus2.csv\"\n",
    "\n",
    "dfCensusResults.to_csv(outfile, index=False, header=True)"
   ],
   "id": "e21eb07408a17700",
   "outputs": [],
   "execution_count": 28
  },
  {
   "metadata": {},
   "cell_type": "code",
   "outputs": [],
   "execution_count": null,
   "source": "",
   "id": "b2459ffe2c91db4"
  }
 ],
 "metadata": {
  "kernelspec": {
   "display_name": "wt2",
   "language": "python",
   "name": "wt2"
  },
  "language_info": {
   "codemirror_mode": {
    "name": "ipython",
    "version": 3
   },
   "file_extension": ".py",
   "mimetype": "text/x-python",
   "name": "python",
   "nbconvert_exporter": "python",
   "pygments_lexer": "ipython3",
   "version": "3.10.12"
  }
 },
 "nbformat": 4,
 "nbformat_minor": 5
}
