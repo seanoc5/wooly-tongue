{
 "cells": [
  {
   "cell_type": "code",
   "id": "27e59b69-11b7-4b8c-9cc4-4ca24847007b",
   "metadata": {
    "ExecuteTime": {
     "end_time": "2024-10-24T16:45:59.527202Z",
     "start_time": "2024-10-24T16:45:59.346196Z"
    }
   },
   "source": [
    "import os\n",
    "import requests\n",
    "import pandas as pd\n",
    "import io\n",
    "import csv"
   ],
   "outputs": [],
   "execution_count": 1
  },
  {
   "cell_type": "code",
   "id": "f00c89d2cda57dc9",
   "metadata": {
    "ExecuteTime": {
     "end_time": "2024-10-24T16:47:26.131273Z",
     "start_time": "2024-10-24T16:47:24.844167Z"
    }
   },
   "source": [
    "# filename = 'uscensus/CouncilDist 2 and 3-2024.csv'\n",
    "filename = '/opt/data/GIS-Census/florida/gisdata2/CouncilDist 2 and 3-2024.csv'\n",
    "dfDistrict = pd.read_csv(filename, sep=',', engine='python')"
   ],
   "outputs": [],
   "execution_count": 3
  },
  {
   "cell_type": "code",
   "id": "25ed3d8ce9d8a1e",
   "metadata": {
    "ExecuteTime": {
     "end_time": "2024-10-24T16:47:31.194308Z",
     "start_time": "2024-10-24T16:47:31.192283Z"
    }
   },
   "source": [
    "# import os\n",
    "# # Get the current working directory\n",
    "# current_directory = os.getcwd()\n",
    "# \n",
    "# print(current_directory)\n",
    "# dfDistrict = dfDistrict.dropna(how='any')# "
   ],
   "outputs": [],
   "execution_count": 4
  },
  {
   "cell_type": "code",
   "id": "e9c5d1ba-35de-4ab3-9f44-b7fd31cfb7aa",
   "metadata": {
    "ExecuteTime": {
     "end_time": "2024-10-24T16:47:31.633858Z",
     "start_time": "2024-10-24T16:47:31.630790Z"
    }
   },
   "source": "dfDistrict.shape",
   "outputs": [
    {
     "data": {
      "text/plain": [
       "(98241, 51)"
      ]
     },
     "execution_count": 5,
     "metadata": {},
     "output_type": "execute_result"
    }
   ],
   "execution_count": 5
  },
  {
   "cell_type": "code",
   "id": "e66e25af680690f9",
   "metadata": {
    "ExecuteTime": {
     "end_time": "2024-10-24T16:47:32.283066Z",
     "start_time": "2024-10-24T16:47:32.253338Z"
    }
   },
   "source": [
    "df_addresses = dfDistrict.filter(items=['VoterID', 'Residence_Address', 'City_Name', 'Zip_Code'])\n",
    "df_addresses['State'] = 'Fl'"
   ],
   "outputs": [],
   "execution_count": 6
  },
  {
   "cell_type": "code",
   "id": "7db4721b7cd13c29",
   "metadata": {
    "ExecuteTime": {
     "end_time": "2024-10-24T16:47:33.828478Z",
     "start_time": "2024-10-24T16:47:33.825193Z"
    }
   },
   "source": [
    "len(df_addresses)"
   ],
   "outputs": [
    {
     "data": {
      "text/plain": [
       "98241"
      ]
     },
     "execution_count": 7,
     "metadata": {},
     "output_type": "execute_result"
    }
   ],
   "execution_count": 7
  },
  {
   "metadata": {
    "ExecuteTime": {
     "end_time": "2024-10-24T16:48:52.005087Z",
     "start_time": "2024-10-24T16:48:51.998438Z"
    }
   },
   "cell_type": "code",
   "source": [
    "df_short = df_addresses.head(100)\n",
    "df_short"
   ],
   "id": "777c0c414a48c659",
   "outputs": [
    {
     "data": {
      "text/plain": [
       "      VoterID                 Residence_Address     City_Name    Zip_Code  \\\n",
       "0   128944025                11302 Soforenko Dr  Jacksonville       32218   \n",
       "1   126258777               10843 Happy Vale Rd  Jacksonville       32246   \n",
       "2   115266835               10843 Happy Vale Rd  Jacksonville       32246   \n",
       "3   129227985               10843 Happy Vale Rd  Jacksonville       32246   \n",
       "4   109927046                     10871 Java Dr  Jacksonville       32246   \n",
       "..        ...                               ...           ...         ...   \n",
       "95  125793919                   10727 Majuro Dr  Jacksonville       32246   \n",
       "96  127846568   1250 Brookwood Forest Blvd 6104  Jacksonville       32225   \n",
       "97  129962437                   12271 Bonnet Ct  Jacksonville       32226   \n",
       "98  129064075            3997 Hammock Bluff Cir  Jacksonville       32226   \n",
       "99  120777618  1290 Kendall Town Blvd UNIT 5117  Jacksonville  32225-7290   \n",
       "\n",
       "   State  \n",
       "0     Fl  \n",
       "1     Fl  \n",
       "2     Fl  \n",
       "3     Fl  \n",
       "4     Fl  \n",
       "..   ...  \n",
       "95    Fl  \n",
       "96    Fl  \n",
       "97    Fl  \n",
       "98    Fl  \n",
       "99    Fl  \n",
       "\n",
       "[100 rows x 5 columns]"
      ],
      "text/html": [
       "<div>\n",
       "<style scoped>\n",
       "    .dataframe tbody tr th:only-of-type {\n",
       "        vertical-align: middle;\n",
       "    }\n",
       "\n",
       "    .dataframe tbody tr th {\n",
       "        vertical-align: top;\n",
       "    }\n",
       "\n",
       "    .dataframe thead th {\n",
       "        text-align: right;\n",
       "    }\n",
       "</style>\n",
       "<table border=\"1\" class=\"dataframe\">\n",
       "  <thead>\n",
       "    <tr style=\"text-align: right;\">\n",
       "      <th></th>\n",
       "      <th>VoterID</th>\n",
       "      <th>Residence_Address</th>\n",
       "      <th>City_Name</th>\n",
       "      <th>Zip_Code</th>\n",
       "      <th>State</th>\n",
       "    </tr>\n",
       "  </thead>\n",
       "  <tbody>\n",
       "    <tr>\n",
       "      <th>0</th>\n",
       "      <td>128944025</td>\n",
       "      <td>11302 Soforenko Dr</td>\n",
       "      <td>Jacksonville</td>\n",
       "      <td>32218</td>\n",
       "      <td>Fl</td>\n",
       "    </tr>\n",
       "    <tr>\n",
       "      <th>1</th>\n",
       "      <td>126258777</td>\n",
       "      <td>10843 Happy Vale Rd</td>\n",
       "      <td>Jacksonville</td>\n",
       "      <td>32246</td>\n",
       "      <td>Fl</td>\n",
       "    </tr>\n",
       "    <tr>\n",
       "      <th>2</th>\n",
       "      <td>115266835</td>\n",
       "      <td>10843 Happy Vale Rd</td>\n",
       "      <td>Jacksonville</td>\n",
       "      <td>32246</td>\n",
       "      <td>Fl</td>\n",
       "    </tr>\n",
       "    <tr>\n",
       "      <th>3</th>\n",
       "      <td>129227985</td>\n",
       "      <td>10843 Happy Vale Rd</td>\n",
       "      <td>Jacksonville</td>\n",
       "      <td>32246</td>\n",
       "      <td>Fl</td>\n",
       "    </tr>\n",
       "    <tr>\n",
       "      <th>4</th>\n",
       "      <td>109927046</td>\n",
       "      <td>10871 Java Dr</td>\n",
       "      <td>Jacksonville</td>\n",
       "      <td>32246</td>\n",
       "      <td>Fl</td>\n",
       "    </tr>\n",
       "    <tr>\n",
       "      <th>...</th>\n",
       "      <td>...</td>\n",
       "      <td>...</td>\n",
       "      <td>...</td>\n",
       "      <td>...</td>\n",
       "      <td>...</td>\n",
       "    </tr>\n",
       "    <tr>\n",
       "      <th>95</th>\n",
       "      <td>125793919</td>\n",
       "      <td>10727 Majuro Dr</td>\n",
       "      <td>Jacksonville</td>\n",
       "      <td>32246</td>\n",
       "      <td>Fl</td>\n",
       "    </tr>\n",
       "    <tr>\n",
       "      <th>96</th>\n",
       "      <td>127846568</td>\n",
       "      <td>1250 Brookwood Forest Blvd 6104</td>\n",
       "      <td>Jacksonville</td>\n",
       "      <td>32225</td>\n",
       "      <td>Fl</td>\n",
       "    </tr>\n",
       "    <tr>\n",
       "      <th>97</th>\n",
       "      <td>129962437</td>\n",
       "      <td>12271 Bonnet Ct</td>\n",
       "      <td>Jacksonville</td>\n",
       "      <td>32226</td>\n",
       "      <td>Fl</td>\n",
       "    </tr>\n",
       "    <tr>\n",
       "      <th>98</th>\n",
       "      <td>129064075</td>\n",
       "      <td>3997 Hammock Bluff Cir</td>\n",
       "      <td>Jacksonville</td>\n",
       "      <td>32226</td>\n",
       "      <td>Fl</td>\n",
       "    </tr>\n",
       "    <tr>\n",
       "      <th>99</th>\n",
       "      <td>120777618</td>\n",
       "      <td>1290 Kendall Town Blvd UNIT 5117</td>\n",
       "      <td>Jacksonville</td>\n",
       "      <td>32225-7290</td>\n",
       "      <td>Fl</td>\n",
       "    </tr>\n",
       "  </tbody>\n",
       "</table>\n",
       "<p>100 rows × 5 columns</p>\n",
       "</div>"
      ]
     },
     "execution_count": 10,
     "metadata": {},
     "output_type": "execute_result"
    }
   ],
   "execution_count": 10
  },
  {
   "cell_type": "code",
   "id": "df4ffd236117094f",
   "metadata": {
    "ExecuteTime": {
     "end_time": "2024-10-24T16:48:57.453576Z",
     "start_time": "2024-10-24T16:48:57.447972Z"
    }
   },
   "source": [
    "url = 'https://geocoding.geo.census.gov/geocoder/geographies/addressbatch'\n",
    "payload = {'benchmark':'Public_AR_Current','vintage':'Current_Current'}"
   ],
   "outputs": [],
   "execution_count": 11
  },
  {
   "cell_type": "code",
   "id": "8db405abecc55848",
   "metadata": {
    "ExecuteTime": {
     "end_time": "2024-10-24T16:49:14.782219Z",
     "start_time": "2024-10-24T16:49:14.779260Z"
    }
   },
   "source": [
    "# batch_size = 9900\n",
    "batch_size = 10\n",
    "print(f\"Batch size: {batch_size}\")\n",
    "dfCensusResults = pd.DataFrame()"
   ],
   "outputs": [
    {
     "name": "stdout",
     "output_type": "stream",
     "text": [
      "Batch size: 10\n"
     ]
    }
   ],
   "execution_count": 13
  },
  {
   "metadata": {
    "ExecuteTime": {
     "end_time": "2024-10-24T16:51:13.071003Z",
     "start_time": "2024-10-24T16:50:44.928725Z"
    }
   },
   "cell_type": "code",
   "source": [
    "# for i in range(0, len(df_addresses), batch_size):\n",
    "for i in range(0, len(df_short), batch_size):\n",
    "    df_address_chunk = df_addresses[i:i + batch_size] \n",
    "    # address_chunk_name = f\"uscensus/district_addresses-{i}.csv\"\n",
    "    address_chunk_name = f\"district_addresses-{i}.csv\"\n",
    "    print(f\"{i}) Process batch: ({address_chunk_name}\")\n",
    "    if(os.path.exists(address_chunk_name)):\n",
    "        # df_address_chunk = pd.read_csv(address_chunk_name, sep=',', header=None)\n",
    "        print(f\"{i}) Source Chunk File exists:{address_chunk_name}\")\n",
    "    else:\n",
    "        print(f\"{i}) Write address chunk:\", address_chunk_name)\n",
    "        df_address_chunk.to_csv(address_chunk_name, index=False, header=False)\n",
    "\n",
    "    response_chunk_name = f\"district_responses-{i}.csv\"\n",
    "    # response_chunk_name = f\"uscensus/district_responses-{i}.csv\"\n",
    "    if(os.path.exists(response_chunk_name)):\n",
    "        # df_response_chunk = pd.read_csv(response_chunk_name, sep=',', header=None)\n",
    "        print(f\"{i}) RESPONSE chunk File exists:{address_chunk_name}\")\n",
    "    else:\n",
    "        print(f\"{i}) Prepare to write response chunk:{response_chunk_name} from address file: {address_chunk_name}\")\n",
    "        files = {'addressFile': (filename, open(address_chunk_name, 'rb'), 'text/csv')}\n",
    "        s = requests.post(url, files=files, data=payload, timeout=None)\n",
    "        print(\"\\t\\tGot reponse from Census API\")\n",
    "        response_chunk_file = open(response_chunk_name, 'wb')\n",
    "        response_chunk_file.write(s.content)\n",
    "        response_chunk_file.close()\n",
    "        # raw_file = open(f\"raw_file-{i}.csv\", 'rb+')\n",
    "        # df_response_chunk = pd.read_csv(raw_file, sep=',', header=None)\n",
    "    \n",
    "    # dfCensusResults = dfCensusResults.append(df_response_chunk, ignore_index=True)\n",
    "    # out_results = f\"district-census-{i}.csv\"\n",
    "    # dfCensusResults.to_csv(out_name, index=False)\n",
    "    "
   ],
   "id": "9724b875034308b",
   "outputs": [
    {
     "name": "stdout",
     "output_type": "stream",
     "text": [
      "0) Process batch: (district_addresses-0.csv\n",
      "0) Write address chunk: district_addresses-0.csv\n",
      "0) Prepare to write response chunk:district_responses-0.csv from address file: district_addresses-0.csv\n",
      "\t\tGot reponse from Census API\n",
      "10) Process batch: (district_addresses-10.csv\n",
      "10) Write address chunk: district_addresses-10.csv\n",
      "10) Prepare to write response chunk:district_responses-10.csv from address file: district_addresses-10.csv\n",
      "\t\tGot reponse from Census API\n",
      "20) Process batch: (district_addresses-20.csv\n",
      "20) Write address chunk: district_addresses-20.csv\n",
      "20) Prepare to write response chunk:district_responses-20.csv from address file: district_addresses-20.csv\n",
      "\t\tGot reponse from Census API\n",
      "30) Process batch: (district_addresses-30.csv\n",
      "30) Write address chunk: district_addresses-30.csv\n",
      "30) Prepare to write response chunk:district_responses-30.csv from address file: district_addresses-30.csv\n",
      "\t\tGot reponse from Census API\n",
      "40) Process batch: (district_addresses-40.csv\n",
      "40) Write address chunk: district_addresses-40.csv\n",
      "40) Prepare to write response chunk:district_responses-40.csv from address file: district_addresses-40.csv\n",
      "\t\tGot reponse from Census API\n",
      "50) Process batch: (district_addresses-50.csv\n",
      "50) Write address chunk: district_addresses-50.csv\n",
      "50) Prepare to write response chunk:district_responses-50.csv from address file: district_addresses-50.csv\n",
      "\t\tGot reponse from Census API\n",
      "60) Process batch: (district_addresses-60.csv\n",
      "60) Write address chunk: district_addresses-60.csv\n",
      "60) Prepare to write response chunk:district_responses-60.csv from address file: district_addresses-60.csv\n",
      "\t\tGot reponse from Census API\n",
      "70) Process batch: (district_addresses-70.csv\n",
      "70) Write address chunk: district_addresses-70.csv\n",
      "70) Prepare to write response chunk:district_responses-70.csv from address file: district_addresses-70.csv\n",
      "\t\tGot reponse from Census API\n",
      "80) Process batch: (district_addresses-80.csv\n",
      "80) Write address chunk: district_addresses-80.csv\n",
      "80) Prepare to write response chunk:district_responses-80.csv from address file: district_addresses-80.csv\n",
      "\t\tGot reponse from Census API\n",
      "90) Process batch: (district_addresses-90.csv\n",
      "90) Write address chunk: district_addresses-90.csv\n",
      "90) Prepare to write response chunk:district_responses-90.csv from address file: district_addresses-90.csv\n",
      "\t\tGot reponse from Census API\n"
     ]
    }
   ],
   "execution_count": 15
  },
  {
   "cell_type": "code",
   "id": "ec79d2dfaf77bba9",
   "metadata": {},
   "source": [
    "dfCensusResults.head()"
   ],
   "outputs": [],
   "execution_count": null
  },
  {
   "cell_type": "code",
   "id": "d956d962-71c8-48ce-81e8-d5dcafbe45cb",
   "metadata": {
    "scrolled": true
   },
   "source": [
    "dfCensusResults.dtypes"
   ],
   "outputs": [],
   "execution_count": null
  },
  {
   "cell_type": "code",
   "id": "extensive-amber",
   "metadata": {},
   "source": [
    "dfCensusResults.columns = ['id', 'ADDRESS_IN', 'MATCH_INDICATOR', 'MATCH_TYPE', 'ADDRESS_OUT', 'LONG_LAT', 'TIGER_EDGE', 'STREET_SIDE', 'FIPS_STATE', 'FIPS_COUNTY', 'CENSUS_TRACT', 'CENSUS_BLOCK']"
   ],
   "outputs": [],
   "execution_count": null
  },
  {
   "cell_type": "code",
   "id": "61728b67-8d6a-48c8-ad10-d5fd9036a1b0",
   "metadata": {},
   "source": [
    "# dfCensus1 = dfCensusResults.loc[dfCensusResults['ADDRESS_IN'].str.contains('95 Jardin')]\n",
    "# dfCensus1.head()"
   ],
   "outputs": [],
   "execution_count": null
  },
  {
   "cell_type": "code",
   "id": "539348b6-e161-4a83-8f3a-ef2174ee3776",
   "metadata": {
    "scrolled": true
   },
   "source": [
    "hot_dems_file = 'hot-dems.csv'\n",
    "dfHotDems = pd.read_csv(hot_dems_file, sep=',', quoting=csv.QUOTE_ALL)\n",
    "dfHotDems.head(10)"
   ],
   "outputs": [],
   "execution_count": null
  },
  {
   "cell_type": "code",
   "id": "de7af922-b869-4f86-9f2b-3a7baee628c1",
   "metadata": {},
   "source": [
    "dfHotDems.dtypes"
   ],
   "outputs": [],
   "execution_count": null
  },
  {
   "cell_type": "code",
   "id": "a50101aa-c833-4c76-888b-5cdf4cbbddf0",
   "metadata": {
    "scrolled": true
   },
   "source": [
    "# dfHotDems1 = dfHotDems.loc[dfHotDems['Address'].str.contains('95 Jardin')]\n",
    "# dfHotDems1.head(10)"
   ],
   "outputs": [],
   "execution_count": null
  },
  {
   "cell_type": "code",
   "id": "b6a74cc5-6bb2-4da2-9b0d-573574b1d2e1",
   "metadata": {},
   "source": [
    "dfCombined = dfCensusResults.join(dfHotDems, on='id', how='left', lsuffix='_left', rsuffix='_right')"
   ],
   "outputs": [],
   "execution_count": null
  },
  {
   "cell_type": "code",
   "id": "5525a128-1f16-487a-8bb2-03736dcd45a6",
   "metadata": {},
   "source": [
    "dfCombined.dtypes"
   ],
   "outputs": [],
   "execution_count": null
  },
  {
   "cell_type": "code",
   "id": "247f8d9b-0bb9-48d5-b95c-014d83b178e9",
   "metadata": {},
   "source": [
    "dfCombined.head()"
   ],
   "outputs": [],
   "execution_count": null
  },
  {
   "cell_type": "code",
   "id": "982c7fea-a37a-4c2f-b42e-31addbfa5c98",
   "metadata": {},
   "source": [
    "# dfCombined1 = dfCensusResults.join(dfHotDems, on='id')"
   ],
   "outputs": [],
   "execution_count": null
  },
  {
   "cell_type": "code",
   "id": "8698b440-247d-469b-b880-15f5204f8599",
   "metadata": {},
   "source": [
    "# dfCombined1.head()"
   ],
   "outputs": [],
   "execution_count": null
  },
  {
   "cell_type": "code",
   "id": "27404e72-ee3a-4408-ac7e-a7a2014ee241",
   "metadata": {},
   "source": [
    "# dfCombined2 = dfCensusResults.merge(dfHotDems)"
   ],
   "outputs": [],
   "execution_count": null
  },
  {
   "cell_type": "code",
   "id": "d84a5f04-44ea-4b97-bb5e-101b78269402",
   "metadata": {},
   "source": [
    "# dfCombined2.head()"
   ],
   "outputs": [],
   "execution_count": null
  },
  {
   "cell_type": "code",
   "id": "48ad06d4-ae62-4d2c-9a2c-815a15de94b0",
   "metadata": {},
   "source": [
    "dfCombined.to_csv('combined.csv')"
   ],
   "outputs": [],
   "execution_count": null
  },
  {
   "cell_type": "code",
   "id": "190c13f7-4ec8-4e1f-89ee-ae273af9c5d1",
   "metadata": {},
   "source": [],
   "outputs": [],
   "execution_count": null
  }
 ],
 "metadata": {
  "kernelspec": {
   "display_name": "wt2",
   "language": "python",
   "name": "wt2"
  },
  "language_info": {
   "codemirror_mode": {
    "name": "ipython",
    "version": 3
   },
   "file_extension": ".py",
   "mimetype": "text/x-python",
   "name": "python",
   "nbconvert_exporter": "python",
   "pygments_lexer": "ipython3",
   "version": "3.10.12"
  }
 },
 "nbformat": 4,
 "nbformat_minor": 5
}
