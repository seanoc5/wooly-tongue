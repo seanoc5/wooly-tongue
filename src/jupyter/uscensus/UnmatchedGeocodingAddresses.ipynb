{
 "cells": [
  {
   "cell_type": "markdown",
   "id": "a73a2c93-956e-4f01-9788-57744a3a32b4",
   "metadata": {},
   "source": [
    "#  US Census geocoding information \n",
    "Add location info (e.g. block groups/fips) to list of places (schools)"
   ]
  },
  {
   "cell_type": "code",
   "id": "27e59b69-11b7-4b8c-9cc4-4ca24847007b",
   "metadata": {
    "ExecuteTime": {
     "end_time": "2024-08-10T00:13:59.968046Z",
     "start_time": "2024-08-10T00:13:59.759918Z"
    }
   },
   "source": [
    "import os\n",
    "import requests\n",
    "import pandas as pd\n",
    "import io\n",
    "import csv"
   ],
   "outputs": [],
   "execution_count": 1
  },
  {
   "cell_type": "code",
   "id": "f00c89d2cda57dc9",
   "metadata": {
    "ExecuteTime": {
     "end_time": "2024-08-10T00:19:48.134995Z",
     "start_time": "2024-08-10T00:19:47.117994Z"
    }
   },
   "source": [
    "# filename = 'uscensus/data/School-Addresses.csv'\n",
    "filename = '/opt/work/wooly-tongue/src/jupyter/uscensus/data/census.csv'\n",
    "dfAddresses = pd.read_csv(filename, sep=',', engine='python')\n",
    "dfAddresses.shape"
   ],
   "outputs": [
    {
     "data": {
      "text/plain": [
       "(98241, 63)"
      ]
     },
     "execution_count": 9,
     "metadata": {},
     "output_type": "execute_result"
    }
   ],
   "execution_count": 9
  },
  {
   "cell_type": "code",
   "id": "25ed3d8ce9d8a1e",
   "metadata": {
    "ExecuteTime": {
     "end_time": "2024-08-10T00:14:27.491484Z",
     "start_time": "2024-08-10T00:14:27.490183Z"
    }
   },
   "source": [
    "# import os\n",
    "# # Get the current working directory\n",
    "# current_directory = os.getcwd()\n",
    "# \n",
    "# print(current_directory)\n",
    "# dfDistrict = dfDistrict.dropna(how='any')# "
   ],
   "outputs": [],
   "execution_count": 5
  },
  {
   "cell_type": "code",
   "id": "e9c5d1ba-35de-4ab3-9f44-b7fd31cfb7aa",
   "metadata": {
    "ExecuteTime": {
     "end_time": "2024-08-10T00:20:57.513070Z",
     "start_time": "2024-08-10T00:20:57.451624Z"
    }
   },
   "source": [
    "# df1 = dfAddresses.dropna(axis=0, how='any')\n",
    "# dfAddresses.shape\n",
    "# df1.shape"
   ],
   "outputs": [
    {
     "data": {
      "text/plain": [
       "(98241, 63)"
      ]
     },
     "execution_count": 13,
     "metadata": {},
     "output_type": "execute_result"
    }
   ],
   "execution_count": 13
  },
  {
   "metadata": {
    "ExecuteTime": {
     "end_time": "2024-08-10T00:22:04.583427Z",
     "start_time": "2024-08-10T00:22:04.575911Z"
    }
   },
   "cell_type": "code",
   "source": "dfAddresses.head()",
   "id": "4800266e51256c5b",
   "outputs": [
    {
     "data": {
      "text/plain": [
       "     VoterID        Voter_Name  Last_Name First_Name Middle_Name Name_Style  \\\n",
       "0  100305810  Graber, Melody J     Graber     Melody         Joy        NaN   \n",
       "1  100326045  Guido, William J      Guido    William           J        NaN   \n",
       "2  100360426     Abney, Gary L      Abney       Gary         Lee        NaN   \n",
       "3  100400320  Alexander, Ann W  Alexander        Ann  Wellington        NaN   \n",
       "4  100452731    Ekholm, Erik E     Ekholm       Erik       Enzio        NaN   \n",
       "\n",
       "           Formatted_Address       City_State Zip_Country  \\\n",
       "0        250 Brookchase Ln W  Jacksonville FL       32225   \n",
       "1     12251 Forest Gate Dr N  Jacksonville FL  32246-1119   \n",
       "2  4790 Seascape Way APT 106  Jacksonville FL       32224   \n",
       "3           604 BROOKVIEW DR   CHAPEL HILL NC       27514   \n",
       "4           2993 Gerona Dr W  Jacksonville FL       32246   \n",
       "\n",
       "           Residence_Address  ...  match      exact  \\\n",
       "0        250 Brookchase Ln W  ...  Match  Non_Exact   \n",
       "1     12251 Forest Gate Dr N  ...  Match  Non_Exact   \n",
       "2  4790 Seascape Way APT 106  ...    Tie        NaN   \n",
       "3         3718 BURNT PINE Dr  ...  Match  Non_Exact   \n",
       "4           2993 Gerona Dr W  ...  Match  Non_Exact   \n",
       "\n",
       "                                      addressUpper  \\\n",
       "0     250 BROOKCHASE LN W, JACKSONVILLE, FL, 32225   \n",
       "1  12251 FOREST GATE DR N, JACKSONVILLE, FL, 32246   \n",
       "2                                              NaN   \n",
       "3      3718 BURNT PINE DR, JACKSONVILLE, FL, 32224   \n",
       "4        2993 GERONA DR W, JACKSONVILLE, FL, 32246   \n",
       "\n",
       "                                  latlog    tigerLine tigerLineSide stateFips  \\\n",
       "0  -81.48090171299481,30.323779143671345  623997964.0             L      12.0   \n",
       "1  -81.48721114228852,30.311523710410256   83941634.0             R      12.0   \n",
       "2                                    NaN          NaN           NaN       NaN   \n",
       "3  -81.44612146088537,30.277798506998067  642152508.0             L      12.0   \n",
       "4   -81.46211095217961,30.29268487022125   83946740.0             R      12.0   \n",
       "\n",
       "  countyFips trackCode blockCode  \n",
       "0       31.0   14336.0    1005.0  \n",
       "1       31.0   14344.0    2008.0  \n",
       "2        NaN       NaN       NaN  \n",
       "3       31.0   14421.0    3005.0  \n",
       "4       31.0   14339.0    1028.0  \n",
       "\n",
       "[5 rows x 63 columns]"
      ],
      "text/html": [
       "<div>\n",
       "<style scoped>\n",
       "    .dataframe tbody tr th:only-of-type {\n",
       "        vertical-align: middle;\n",
       "    }\n",
       "\n",
       "    .dataframe tbody tr th {\n",
       "        vertical-align: top;\n",
       "    }\n",
       "\n",
       "    .dataframe thead th {\n",
       "        text-align: right;\n",
       "    }\n",
       "</style>\n",
       "<table border=\"1\" class=\"dataframe\">\n",
       "  <thead>\n",
       "    <tr style=\"text-align: right;\">\n",
       "      <th></th>\n",
       "      <th>VoterID</th>\n",
       "      <th>Voter_Name</th>\n",
       "      <th>Last_Name</th>\n",
       "      <th>First_Name</th>\n",
       "      <th>Middle_Name</th>\n",
       "      <th>Name_Style</th>\n",
       "      <th>Formatted_Address</th>\n",
       "      <th>City_State</th>\n",
       "      <th>Zip_Country</th>\n",
       "      <th>Residence_Address</th>\n",
       "      <th>...</th>\n",
       "      <th>match</th>\n",
       "      <th>exact</th>\n",
       "      <th>addressUpper</th>\n",
       "      <th>latlog</th>\n",
       "      <th>tigerLine</th>\n",
       "      <th>tigerLineSide</th>\n",
       "      <th>stateFips</th>\n",
       "      <th>countyFips</th>\n",
       "      <th>trackCode</th>\n",
       "      <th>blockCode</th>\n",
       "    </tr>\n",
       "  </thead>\n",
       "  <tbody>\n",
       "    <tr>\n",
       "      <th>0</th>\n",
       "      <td>100305810</td>\n",
       "      <td>Graber, Melody J</td>\n",
       "      <td>Graber</td>\n",
       "      <td>Melody</td>\n",
       "      <td>Joy</td>\n",
       "      <td>NaN</td>\n",
       "      <td>250 Brookchase Ln W</td>\n",
       "      <td>Jacksonville FL</td>\n",
       "      <td>32225</td>\n",
       "      <td>250 Brookchase Ln W</td>\n",
       "      <td>...</td>\n",
       "      <td>Match</td>\n",
       "      <td>Non_Exact</td>\n",
       "      <td>250 BROOKCHASE LN W, JACKSONVILLE, FL, 32225</td>\n",
       "      <td>-81.48090171299481,30.323779143671345</td>\n",
       "      <td>623997964.0</td>\n",
       "      <td>L</td>\n",
       "      <td>12.0</td>\n",
       "      <td>31.0</td>\n",
       "      <td>14336.0</td>\n",
       "      <td>1005.0</td>\n",
       "    </tr>\n",
       "    <tr>\n",
       "      <th>1</th>\n",
       "      <td>100326045</td>\n",
       "      <td>Guido, William J</td>\n",
       "      <td>Guido</td>\n",
       "      <td>William</td>\n",
       "      <td>J</td>\n",
       "      <td>NaN</td>\n",
       "      <td>12251 Forest Gate Dr N</td>\n",
       "      <td>Jacksonville FL</td>\n",
       "      <td>32246-1119</td>\n",
       "      <td>12251 Forest Gate Dr N</td>\n",
       "      <td>...</td>\n",
       "      <td>Match</td>\n",
       "      <td>Non_Exact</td>\n",
       "      <td>12251 FOREST GATE DR N, JACKSONVILLE, FL, 32246</td>\n",
       "      <td>-81.48721114228852,30.311523710410256</td>\n",
       "      <td>83941634.0</td>\n",
       "      <td>R</td>\n",
       "      <td>12.0</td>\n",
       "      <td>31.0</td>\n",
       "      <td>14344.0</td>\n",
       "      <td>2008.0</td>\n",
       "    </tr>\n",
       "    <tr>\n",
       "      <th>2</th>\n",
       "      <td>100360426</td>\n",
       "      <td>Abney, Gary L</td>\n",
       "      <td>Abney</td>\n",
       "      <td>Gary</td>\n",
       "      <td>Lee</td>\n",
       "      <td>NaN</td>\n",
       "      <td>4790 Seascape Way APT 106</td>\n",
       "      <td>Jacksonville FL</td>\n",
       "      <td>32224</td>\n",
       "      <td>4790 Seascape Way APT 106</td>\n",
       "      <td>...</td>\n",
       "      <td>Tie</td>\n",
       "      <td>NaN</td>\n",
       "      <td>NaN</td>\n",
       "      <td>NaN</td>\n",
       "      <td>NaN</td>\n",
       "      <td>NaN</td>\n",
       "      <td>NaN</td>\n",
       "      <td>NaN</td>\n",
       "      <td>NaN</td>\n",
       "      <td>NaN</td>\n",
       "    </tr>\n",
       "    <tr>\n",
       "      <th>3</th>\n",
       "      <td>100400320</td>\n",
       "      <td>Alexander, Ann W</td>\n",
       "      <td>Alexander</td>\n",
       "      <td>Ann</td>\n",
       "      <td>Wellington</td>\n",
       "      <td>NaN</td>\n",
       "      <td>604 BROOKVIEW DR</td>\n",
       "      <td>CHAPEL HILL NC</td>\n",
       "      <td>27514</td>\n",
       "      <td>3718 BURNT PINE Dr</td>\n",
       "      <td>...</td>\n",
       "      <td>Match</td>\n",
       "      <td>Non_Exact</td>\n",
       "      <td>3718 BURNT PINE DR, JACKSONVILLE, FL, 32224</td>\n",
       "      <td>-81.44612146088537,30.277798506998067</td>\n",
       "      <td>642152508.0</td>\n",
       "      <td>L</td>\n",
       "      <td>12.0</td>\n",
       "      <td>31.0</td>\n",
       "      <td>14421.0</td>\n",
       "      <td>3005.0</td>\n",
       "    </tr>\n",
       "    <tr>\n",
       "      <th>4</th>\n",
       "      <td>100452731</td>\n",
       "      <td>Ekholm, Erik E</td>\n",
       "      <td>Ekholm</td>\n",
       "      <td>Erik</td>\n",
       "      <td>Enzio</td>\n",
       "      <td>NaN</td>\n",
       "      <td>2993 Gerona Dr W</td>\n",
       "      <td>Jacksonville FL</td>\n",
       "      <td>32246</td>\n",
       "      <td>2993 Gerona Dr W</td>\n",
       "      <td>...</td>\n",
       "      <td>Match</td>\n",
       "      <td>Non_Exact</td>\n",
       "      <td>2993 GERONA DR W, JACKSONVILLE, FL, 32246</td>\n",
       "      <td>-81.46211095217961,30.29268487022125</td>\n",
       "      <td>83946740.0</td>\n",
       "      <td>R</td>\n",
       "      <td>12.0</td>\n",
       "      <td>31.0</td>\n",
       "      <td>14339.0</td>\n",
       "      <td>1028.0</td>\n",
       "    </tr>\n",
       "  </tbody>\n",
       "</table>\n",
       "<p>5 rows × 63 columns</p>\n",
       "</div>"
      ]
     },
     "execution_count": 14,
     "metadata": {},
     "output_type": "execute_result"
    }
   ],
   "execution_count": 14
  },
  {
   "cell_type": "code",
   "id": "9b6dacfb-4630-4c1d-af48-27d815eb1481",
   "metadata": {
    "ExecuteTime": {
     "end_time": "2024-08-10T00:22:39.971785Z",
     "start_time": "2024-08-10T00:22:39.960451Z"
    }
   },
   "source": [
    "dfUnmatched = dfAddresses[['VoterID','Voter_Name','Residence_Address','City_Name','Zip_Code','House_District']]\n",
    "dfUnmatched"
   ],
   "outputs": [
    {
     "data": {
      "text/plain": [
       "         VoterID           Voter_Name              Residence_Address  \\\n",
       "0      100305810     Graber, Melody J            250 Brookchase Ln W   \n",
       "1      100326045     Guido, William J         12251 Forest Gate Dr N   \n",
       "2      100360426        Abney, Gary L      4790 Seascape Way APT 106   \n",
       "3      100400320     Alexander, Ann W             3718 BURNT PINE Dr   \n",
       "4      100452731       Ekholm, Erik E               2993 Gerona Dr W   \n",
       "...          ...                  ...                            ...   \n",
       "98236  132127450    Duncan, Ashlynn M            135 Schooner Key Pl   \n",
       "98237  132133282          Hill, Zoe E  4674 Town Center Pkwy APT 457   \n",
       "98238  132134921       Cobos, Jorge M          1715 Hodges Blvd 2906   \n",
       "98239  132145735  Williamson, Kevin J           12847 Logans Walk Ln   \n",
       "98240  132146578  Cruz Ferrer, Luis R                12508 Itani Way   \n",
       "\n",
       "          City_Name    Zip_Code  \n",
       "0      Jacksonville       32225  \n",
       "1      Jacksonville  32246-1119  \n",
       "2      Jacksonville       32224  \n",
       "3      Jacksonville       32224  \n",
       "4      Jacksonville       32246  \n",
       "...             ...         ...  \n",
       "98236  Jacksonville       32218  \n",
       "98237  Jacksonville       32246  \n",
       "98238  Jacksonville       32224  \n",
       "98239  Jacksonville       32218  \n",
       "98240  Jacksonville       32226  \n",
       "\n",
       "[98241 rows x 5 columns]"
      ],
      "text/html": [
       "<div>\n",
       "<style scoped>\n",
       "    .dataframe tbody tr th:only-of-type {\n",
       "        vertical-align: middle;\n",
       "    }\n",
       "\n",
       "    .dataframe tbody tr th {\n",
       "        vertical-align: top;\n",
       "    }\n",
       "\n",
       "    .dataframe thead th {\n",
       "        text-align: right;\n",
       "    }\n",
       "</style>\n",
       "<table border=\"1\" class=\"dataframe\">\n",
       "  <thead>\n",
       "    <tr style=\"text-align: right;\">\n",
       "      <th></th>\n",
       "      <th>VoterID</th>\n",
       "      <th>Voter_Name</th>\n",
       "      <th>Residence_Address</th>\n",
       "      <th>City_Name</th>\n",
       "      <th>Zip_Code</th>\n",
       "    </tr>\n",
       "  </thead>\n",
       "  <tbody>\n",
       "    <tr>\n",
       "      <th>0</th>\n",
       "      <td>100305810</td>\n",
       "      <td>Graber, Melody J</td>\n",
       "      <td>250 Brookchase Ln W</td>\n",
       "      <td>Jacksonville</td>\n",
       "      <td>32225</td>\n",
       "    </tr>\n",
       "    <tr>\n",
       "      <th>1</th>\n",
       "      <td>100326045</td>\n",
       "      <td>Guido, William J</td>\n",
       "      <td>12251 Forest Gate Dr N</td>\n",
       "      <td>Jacksonville</td>\n",
       "      <td>32246-1119</td>\n",
       "    </tr>\n",
       "    <tr>\n",
       "      <th>2</th>\n",
       "      <td>100360426</td>\n",
       "      <td>Abney, Gary L</td>\n",
       "      <td>4790 Seascape Way APT 106</td>\n",
       "      <td>Jacksonville</td>\n",
       "      <td>32224</td>\n",
       "    </tr>\n",
       "    <tr>\n",
       "      <th>3</th>\n",
       "      <td>100400320</td>\n",
       "      <td>Alexander, Ann W</td>\n",
       "      <td>3718 BURNT PINE Dr</td>\n",
       "      <td>Jacksonville</td>\n",
       "      <td>32224</td>\n",
       "    </tr>\n",
       "    <tr>\n",
       "      <th>4</th>\n",
       "      <td>100452731</td>\n",
       "      <td>Ekholm, Erik E</td>\n",
       "      <td>2993 Gerona Dr W</td>\n",
       "      <td>Jacksonville</td>\n",
       "      <td>32246</td>\n",
       "    </tr>\n",
       "    <tr>\n",
       "      <th>...</th>\n",
       "      <td>...</td>\n",
       "      <td>...</td>\n",
       "      <td>...</td>\n",
       "      <td>...</td>\n",
       "      <td>...</td>\n",
       "    </tr>\n",
       "    <tr>\n",
       "      <th>98236</th>\n",
       "      <td>132127450</td>\n",
       "      <td>Duncan, Ashlynn M</td>\n",
       "      <td>135 Schooner Key Pl</td>\n",
       "      <td>Jacksonville</td>\n",
       "      <td>32218</td>\n",
       "    </tr>\n",
       "    <tr>\n",
       "      <th>98237</th>\n",
       "      <td>132133282</td>\n",
       "      <td>Hill, Zoe E</td>\n",
       "      <td>4674 Town Center Pkwy APT 457</td>\n",
       "      <td>Jacksonville</td>\n",
       "      <td>32246</td>\n",
       "    </tr>\n",
       "    <tr>\n",
       "      <th>98238</th>\n",
       "      <td>132134921</td>\n",
       "      <td>Cobos, Jorge M</td>\n",
       "      <td>1715 Hodges Blvd 2906</td>\n",
       "      <td>Jacksonville</td>\n",
       "      <td>32224</td>\n",
       "    </tr>\n",
       "    <tr>\n",
       "      <th>98239</th>\n",
       "      <td>132145735</td>\n",
       "      <td>Williamson, Kevin J</td>\n",
       "      <td>12847 Logans Walk Ln</td>\n",
       "      <td>Jacksonville</td>\n",
       "      <td>32218</td>\n",
       "    </tr>\n",
       "    <tr>\n",
       "      <th>98240</th>\n",
       "      <td>132146578</td>\n",
       "      <td>Cruz Ferrer, Luis R</td>\n",
       "      <td>12508 Itani Way</td>\n",
       "      <td>Jacksonville</td>\n",
       "      <td>32226</td>\n",
       "    </tr>\n",
       "  </tbody>\n",
       "</table>\n",
       "<p>98241 rows × 5 columns</p>\n",
       "</div>"
      ]
     },
     "execution_count": 15,
     "metadata": {},
     "output_type": "execute_result"
    }
   ],
   "execution_count": 15
  },
  {
   "cell_type": "code",
   "id": "2e57ed28-b088-4027-997d-cbd332c01de9",
   "metadata": {
    "ExecuteTime": {
     "end_time": "2024-08-09T22:46:48.974515Z",
     "start_time": "2024-08-09T22:46:48.972218Z"
    }
   },
   "source": [
    "import io\n",
    "csv_string_readable = io.StringIO(contents.decode('utf-8'))\n",
    "csv_string_readable"
   ],
   "outputs": [
    {
     "data": {
      "text/plain": [
       "<_io.StringIO at 0x7f1f59221900>"
      ]
     },
     "execution_count": 21,
     "metadata": {},
     "output_type": "execute_result"
    }
   ],
   "execution_count": 21
  },
  {
   "metadata": {},
   "cell_type": "code",
   "outputs": [],
   "execution_count": null,
   "source": "",
   "id": "4539d068cc234b89"
  }
 ],
 "metadata": {
  "kernelspec": {
   "display_name": "wt2",
   "language": "python",
   "name": "wt2"
  },
  "language_info": {
   "codemirror_mode": {
    "name": "ipython",
    "version": 3
   },
   "file_extension": ".py",
   "mimetype": "text/x-python",
   "name": "python",
   "nbconvert_exporter": "python",
   "pygments_lexer": "ipython3",
   "version": "3.10.12"
  }
 },
 "nbformat": 4,
 "nbformat_minor": 5
}
