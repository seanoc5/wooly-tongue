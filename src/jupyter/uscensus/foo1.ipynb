{
 "cells": [
  {
   "cell_type": "code",
   "id": "aeb76e5ee231d53a",
   "metadata": {
    "ExecuteTime": {
     "end_time": "2024-09-04T23:07:25.035802Z",
     "start_time": "2024-09-04T23:07:24.135069Z"
    }
   },
   "source": "import pandas as pd",
   "outputs": [],
   "execution_count": 1
  },
  {
   "metadata": {
    "ExecuteTime": {
     "end_time": "2024-09-04T23:07:28.292744Z",
     "start_time": "2024-09-04T23:07:28.287935Z"
    }
   },
   "cell_type": "code",
   "source": [
    "\n",
    "# Example DataFrames\n",
    "df_one = pd.DataFrame({\n",
    "    'VoterID': [101, 102, 103],\n",
    "    'other_column_one': ['A', 'B', 'C']\n",
    "})\n",
    "\n",
    "df_two = pd.DataFrame({\n",
    "    'VoterID': ['101', '102', '104'],  # VoterID as string\n",
    "    'other_column_two': ['X', 'Y', 'Z']\n",
    "})"
   ],
   "id": "b7f6230ed9af3a32",
   "outputs": [],
   "execution_count": 2
  },
  {
   "metadata": {
    "ExecuteTime": {
     "end_time": "2024-09-04T23:07:33.163263Z",
     "start_time": "2024-09-04T23:07:33.152029Z"
    }
   },
   "cell_type": "code",
   "source": [
    "\n",
    "# Convert df_one['VoterID'] to string\n",
    "df_one['VoterID'] = df_one['VoterID'].astype(str)\n",
    "\n",
    "# Perform the join on 'VoterID'\n",
    "df_merged = pd.merge(df_one, df_two, on='VoterID', how='inner')"
   ],
   "id": "a64b4010e35cde05",
   "outputs": [],
   "execution_count": 3
  },
  {
   "metadata": {
    "collapsed": true,
    "ExecuteTime": {
     "end_time": "2024-09-04T23:07:34.575719Z",
     "start_time": "2024-09-04T23:07:34.573152Z"
    }
   },
   "cell_type": "code",
   "source": [
    "\n",
    "# Display the merged DataFrame\n",
    "print(df_merged)"
   ],
   "id": "initial_id",
   "outputs": [
    {
     "name": "stdout",
     "output_type": "stream",
     "text": [
      "  VoterID other_column_one other_column_two\n",
      "0     101                A                X\n",
      "1     102                B                Y\n"
     ]
    }
   ],
   "execution_count": 4
  },
  {
   "metadata": {},
   "cell_type": "code",
   "outputs": [],
   "execution_count": null,
   "source": "",
   "id": "de77cca8d49794f"
  }
 ],
 "metadata": {
  "kernelspec": {
   "display_name": "Python 3",
   "language": "python",
   "name": "python3"
  },
  "language_info": {
   "codemirror_mode": {
    "name": "ipython",
    "version": 2
   },
   "file_extension": ".py",
   "mimetype": "text/x-python",
   "name": "python",
   "nbconvert_exporter": "python",
   "pygments_lexer": "ipython2",
   "version": "2.7.6"
  }
 },
 "nbformat": 4,
 "nbformat_minor": 5
}
