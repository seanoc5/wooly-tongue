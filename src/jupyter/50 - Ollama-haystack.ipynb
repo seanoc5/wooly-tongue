{
 "cells": [
  {
   "cell_type": "markdown",
   "id": "48a48276-b0fb-49a2-94a9-6aef8d7fbb3a",
   "metadata": {},
   "source": [
    "# 50 - Ollama Haystack integration demo\n",
    "https://github.com/deepset-ai/haystack-integrations/blob/main/integrations/ollama.\n",
    "\n",
    "**WORKING**: haystack env\n"
   ]
  },
  {
   "cell_type": "code",
   "id": "7e4775a87170c315",
   "metadata": {
    "ExecuteTime": {
     "end_time": "2024-04-22T20:53:50.519149Z",
     "start_time": "2024-04-22T20:53:49.546450Z"
    }
   },
   "source": [
    "from haystack import Document, Pipeline\n",
    "from haystack.components.retrievers.in_memory import InMemoryEmbeddingRetriever\n",
    "from haystack.document_stores.in_memory import InMemoryDocumentStore"
   ],
   "outputs": [],
   "execution_count": 1
  },
  {
   "metadata": {
    "ExecuteTime": {
     "end_time": "2024-04-22T20:53:50.522501Z",
     "start_time": "2024-04-22T20:53:50.520025Z"
    }
   },
   "cell_type": "code",
   "source": [
    "from haystack_integrations.components.embedders.ollama.document_embedder import OllamaDocumentEmbedder\n",
    "from haystack_integrations.components.embedders.ollama.text_embedder import OllamaTextEmbedder"
   ],
   "id": "7a876f0720e4e16d",
   "outputs": [],
   "execution_count": 2
  },
  {
   "metadata": {
    "ExecuteTime": {
     "end_time": "2024-04-22T20:53:50.563342Z",
     "start_time": "2024-04-22T20:53:50.522964Z"
    }
   },
   "cell_type": "code",
   "source": [
    "\n",
    "from haystack import Document, Pipeline\n",
    "from haystack.components.builders.prompt_builder import PromptBuilder\n",
    "from haystack.components.retrievers.in_memory import InMemoryBM25Retriever\n",
    "from haystack.document_stores.in_memory import InMemoryDocumentStore\n",
    "\n",
    "# from haystack_integrations.components.generators.ollama import OllamaGenerator"
   ],
   "id": "072b1f7c-a370-4052-a5e7-6a249a4b3357",
   "outputs": [],
   "execution_count": 3
  },
  {
   "cell_type": "code",
   "id": "dc49089a-66c8-4288-92f6-de96ebfcf6fb",
   "metadata": {
    "ExecuteTime": {
     "end_time": "2024-04-22T20:53:50.571242Z",
     "start_time": "2024-04-22T20:53:50.564763Z"
    }
   },
   "source": [
    "document_store = InMemoryDocumentStore()\n",
    "document_store.write_documents(\n",
    "    [\n",
    "        Document(content=\"Super Mario was an important politician\"),\n",
    "        Document(content=\"Mario owns several castles and uses them to conduct important political business\"),\n",
    "        Document(\n",
    "            content=\"Super Mario was a successful military leader who fought off several invasion attempts by \"\n",
    "            \"his arch rival - Bowser\"\n",
    "        ),\n",
    "    ]\n",
    ")"
   ],
   "outputs": [
    {
     "data": {
      "text/plain": [
       "3"
      ]
     },
     "execution_count": 4,
     "metadata": {},
     "output_type": "execute_result"
    }
   ],
   "execution_count": 4
  },
  {
   "cell_type": "code",
   "id": "e4dc49a7-b921-4f1f-90a5-cb4e7d22095c",
   "metadata": {
    "ExecuteTime": {
     "end_time": "2024-04-22T20:53:50.575131Z",
     "start_time": "2024-04-22T20:53:50.572821Z"
    }
   },
   "source": [
    "template = \"\"\"\n",
    "Given only the following information, answer the question.\n",
    "Ignore your own knowledge.\n",
    "\n",
    "Context:\n",
    "{% for document in documents %}\n",
    "    {{ document.content }}\n",
    "{% endfor %}\n",
    "\n",
    "Question: {{ query }}?\n",
    "\"\"\""
   ],
   "outputs": [],
   "execution_count": 5
  },
  {
   "cell_type": "code",
   "id": "ce0e442465ff337d",
   "metadata": {
    "ExecuteTime": {
     "end_time": "2024-04-22T20:53:50.579302Z",
     "start_time": "2024-04-22T20:53:50.575976Z"
    }
   },
   "source": "from haystack_integrations.components.generators.ollama import OllamaGenerator",
   "outputs": [],
   "execution_count": 6
  },
  {
   "metadata": {
    "ExecuteTime": {
     "end_time": "2024-04-22T20:53:50.589029Z",
     "start_time": "2024-04-22T20:53:50.580112Z"
    }
   },
   "cell_type": "code",
   "source": [
    "pipe = Pipeline()\n",
    "\n",
    "pipe.add_component(\"retriever\", InMemoryBM25Retriever(document_store=document_store))\n",
    "pipe.add_component(\"prompt_builder\", PromptBuilder(template=template))\n",
    "pipe.add_component(\"llm\", OllamaGenerator(model=\"orca-mini\"))\n",
    "# pipe.add_component(\"llm\", OllamaGenerator(model=\"zephyr\"))\n",
    "# pipe.add_component(\"llm\", OllamaGenerator(model=\"orca-mini\", url=\"http://dell:11434/api/generate\"))\n",
    "pipe.connect(\"retriever\", \"prompt_builder.documents\")\n",
    "pipe.connect(\"prompt_builder\", \"llm\")"
   ],
   "id": "4a93574c-b660-4274-aa6d-aad344a403c3",
   "outputs": [
    {
     "data": {
      "text/plain": [
       "<haystack.core.pipeline.pipeline.Pipeline object at 0x7f74cfe66860>\n",
       "🚅 Components\n",
       "  - retriever: InMemoryBM25Retriever\n",
       "  - prompt_builder: PromptBuilder\n",
       "  - llm: OllamaGenerator\n",
       "🛤️ Connections\n",
       "  - retriever.documents -> prompt_builder.documents (List[Document])\n",
       "  - prompt_builder.prompt -> llm.prompt (str)"
      ]
     },
     "execution_count": 7,
     "metadata": {},
     "output_type": "execute_result"
    }
   ],
   "execution_count": 7
  },
  {
   "cell_type": "code",
   "id": "46f02f6165603e1b",
   "metadata": {
    "ExecuteTime": {
     "end_time": "2024-04-22T20:53:51.688703Z",
     "start_time": "2024-04-22T20:53:50.589660Z"
    }
   },
   "source": [
    "query = \"Who is Super Mario?\"\n",
    "response = pipe.run({\"prompt_builder\": {\"query\": query}, \"retriever\": {\"query\": query}})"
   ],
   "outputs": [
    {
     "data": {
      "text/plain": [
       "Ranking by BM25...:   0%|          | 0/3 [00:00<?, ? docs/s]"
      ],
      "application/vnd.jupyter.widget-view+json": {
       "version_major": 2,
       "version_minor": 0,
       "model_id": "4136aabe931f4b95b1868606050664d4"
      }
     },
     "metadata": {},
     "output_type": "display_data"
    }
   ],
   "execution_count": 8
  },
  {
   "metadata": {
    "ExecuteTime": {
     "end_time": "2024-04-22T20:53:51.697887Z",
     "start_time": "2024-04-22T20:53:51.691418Z"
    }
   },
   "cell_type": "code",
   "source": "print(response[\"llm\"][\"replies\"])",
   "id": "09c0fdf3-8b40-495f-9803-1dc923b52885",
   "outputs": [
    {
     "name": "stdout",
     "output_type": "stream",
     "text": [
      "[' Based on the given context, Super Mario is likely to be a character from the Mario franchise.']\n"
     ]
    }
   ],
   "execution_count": 9
  },
  {
   "cell_type": "code",
   "id": "b1d52a8b-7485-4314-bf15-95dd7e568dbe",
   "metadata": {
    "ExecuteTime": {
     "end_time": "2024-04-22T20:53:51.703266Z",
     "start_time": "2024-04-22T20:53:51.700034Z"
    }
   },
   "source": [],
   "outputs": [],
   "execution_count": 9
  }
 ],
 "metadata": {
  "kernelspec": {
   "display_name": "haystack",
   "language": "python",
   "name": "haystack"
  },
  "language_info": {
   "codemirror_mode": {
    "name": "ipython",
    "version": 3
   },
   "file_extension": ".py",
   "mimetype": "text/x-python",
   "name": "python",
   "nbconvert_exporter": "python",
   "pygments_lexer": "ipython3",
   "version": "3.10.12"
  }
 },
 "nbformat": 4,
 "nbformat_minor": 5
}
