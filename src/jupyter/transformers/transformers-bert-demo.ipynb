{
 "cells": [
  {
   "cell_type": "markdown",
   "id": "dc994054-7397-4e60-a273-d0733229e4a9",
   "metadata": {},
   "source": [
    "# Torch demo -- method 1) transformers\n",
    "https://python.plainenglish.io/how-to-generate-word-embedding-using-bert-2b9e79c27396"
   ]
  },
  {
   "cell_type": "code",
   "execution_count": 2,
   "id": "cb1d39c4-4418-42d9-af96-af03c4f779b4",
   "metadata": {},
   "outputs": [],
   "source": [
    "from transformers import BertModel, BertTokenizer"
   ]
  },
  {
   "cell_type": "code",
   "execution_count": 3,
   "id": "9951d295-228e-40ab-907e-f3399e7bd24d",
   "metadata": {},
   "outputs": [
    {
     "data": {
      "application/vnd.jupyter.widget-view+json": {
       "model_id": "7c0be221785b48b2aa34d94a5f4ca657",
       "version_major": 2,
       "version_minor": 0
      },
      "text/plain": [
       "config.json:   0%|          | 0.00/570 [00:00<?, ?B/s]"
      ]
     },
     "metadata": {},
     "output_type": "display_data"
    },
    {
     "data": {
      "application/vnd.jupyter.widget-view+json": {
       "model_id": "624d7ce573f8476394adb460015463e8",
       "version_major": 2,
       "version_minor": 0
      },
      "text/plain": [
       "model.safetensors:   0%|          | 0.00/440M [00:00<?, ?B/s]"
      ]
     },
     "metadata": {},
     "output_type": "display_data"
    },
    {
     "data": {
      "application/vnd.jupyter.widget-view+json": {
       "model_id": "df24ce7a43764dca8bc73ebac30cf33c",
       "version_major": 2,
       "version_minor": 0
      },
      "text/plain": [
       "tokenizer_config.json:   0%|          | 0.00/48.0 [00:00<?, ?B/s]"
      ]
     },
     "metadata": {},
     "output_type": "display_data"
    },
    {
     "data": {
      "application/vnd.jupyter.widget-view+json": {
       "model_id": "16fdbc0493d2474e99f6bac2c3aca3cd",
       "version_major": 2,
       "version_minor": 0
      },
      "text/plain": [
       "vocab.txt:   0%|          | 0.00/232k [00:00<?, ?B/s]"
      ]
     },
     "metadata": {},
     "output_type": "display_data"
    },
    {
     "data": {
      "application/vnd.jupyter.widget-view+json": {
       "model_id": "269bcd76094b48628d0d765449325c44",
       "version_major": 2,
       "version_minor": 0
      },
      "text/plain": [
       "tokenizer.json:   0%|          | 0.00/466k [00:00<?, ?B/s]"
      ]
     },
     "metadata": {},
     "output_type": "display_data"
    }
   ],
   "source": [
    "model = BertModel.from_pretrained('bert-base-uncased')\n",
    "tokenizer = BertTokenizer.from_pretrained('bert-base-uncased')"
   ]
  },
  {
   "cell_type": "code",
   "execution_count": 4,
   "id": "f1fb554d-f9b0-4cce-85e7-0049622026dc",
   "metadata": {},
   "outputs": [
    {
     "name": "stdout",
     "output_type": "stream",
     "text": [
      "['this', 'is', 'an', 'example', 'sentence', '.']\n"
     ]
    }
   ],
   "source": [
    "text = \"This is an example sentence.\"\n",
    "tokens = tokenizer.tokenize(text)\n",
    "print(tokens)"
   ]
  },
  {
   "cell_type": "markdown",
   "id": "a6649ca0-0120-4c62-8a76-43f2482017d1",
   "metadata": {},
   "source": [
    "### See the text tokens converted to ids by bert tokenizer"
   ]
  },
  {
   "cell_type": "code",
   "execution_count": 5,
   "id": "e7fc225a-8084-4065-bd10-12847c9c8e3b",
   "metadata": {},
   "outputs": [
    {
     "name": "stdout",
     "output_type": "stream",
     "text": [
      "[2023, 2003, 2019, 2742, 6251, 1012]\n"
     ]
    }
   ],
   "source": [
    "input_ids = tokenizer.convert_tokens_to_ids(tokens)\n",
    "print(input_ids)"
   ]
  },
  {
   "cell_type": "code",
   "execution_count": 6,
   "id": "a6496ca8-477e-4910-8753-28674fec1ea9",
   "metadata": {},
   "outputs": [],
   "source": [
    "import torch"
   ]
  },
  {
   "cell_type": "code",
   "execution_count": null,
   "id": "86ee037c-de8e-4666-9ec4-13a578686bee",
   "metadata": {},
   "outputs": [],
   "source": []
  },
  {
   "cell_type": "markdown",
   "id": "9dc6d0af-712d-40e8-91ec-f1e430b59c6b",
   "metadata": {},
   "source": [
    "Note: torch.no_grad() skips some training steps (iirc)"
   ]
  },
  {
   "cell_type": "code",
   "execution_count": 7,
   "id": "c88bab83-1a2d-4e70-becc-bf2715b51245",
   "metadata": {},
   "outputs": [
    {
     "name": "stdout",
     "output_type": "stream",
     "text": [
      "tensor([[-1.8824e-01, -7.6479e-04,  1.0336e-01,  ..., -2.0809e-01,\n",
      "         -3.9280e-01,  7.9072e-01],\n",
      "        [-4.1441e-01, -1.7607e-01,  5.4727e-02,  ..., -1.0659e-01,\n",
      "         -3.8406e-01,  7.9451e-01],\n",
      "        [-5.5160e-01,  1.7655e-01,  2.4592e-01,  ...,  1.5594e-01,\n",
      "         -5.1121e-01,  1.3524e+00],\n",
      "        [-2.6705e-01,  2.0308e-01, -3.6435e-02,  ..., -9.6218e-02,\n",
      "         -5.8836e-01,  6.6819e-01],\n",
      "        [-1.7557e-01,  1.8462e-01,  3.5970e-02,  ..., -1.4965e-01,\n",
      "         -3.1363e-01,  6.9866e-01],\n",
      "        [-1.6752e-01, -3.2122e-01,  7.4659e-02,  ..., -2.1811e-01,\n",
      "         -3.7288e-01,  7.0560e-01]])\n"
     ]
    }
   ],
   "source": [
    "input_ids = torch.tensor(input_ids).unsqueeze(0)\n",
    "with torch.no_grad():\n",
    "    outputs = model(input_ids)\n",
    "    embeddings = outputs.last_hidden_state[0]\n",
    "    print(embeddings)"
   ]
  },
  {
   "cell_type": "code",
   "execution_count": 8,
   "id": "42e36e5a-d223-4bd4-9172-ecc356228cd9",
   "metadata": {},
   "outputs": [
    {
     "name": "stderr",
     "output_type": "stream",
     "text": [
      "/home/sean/miniforge3/envs/pytorch-env/lib/python3.10/site-packages/torch/hub.py:294: UserWarning: You are about to download and run code from an untrusted repository. In a future release, this won't be allowed. To add the repository to your trusted list, change the command to {calling_fn}(..., trust_repo=False) and a command prompt will appear asking for an explicit confirmation of trust, or load(..., trust_repo=True), which will assume that the prompt is to be answered with 'yes'. You can also use load(..., trust_repo='check') which will only prompt for confirmation if the repo is not already trusted. This will eventually be the default behaviour\n",
      "  warnings.warn(\n",
      "Downloading: \"https://github.com/huggingface/pytorch-transformers/zipball/main\" to /home/sean/.cache/torch/hub/main.zip\n"
     ]
    }
   ],
   "source": [
    "bbu_tokenizer = torch.hub.load('huggingface/pytorch-transformers', 'tokenizer', 'bert-base-uncased')    # Download vocabulary from S3 and cache."
   ]
  },
  {
   "cell_type": "code",
   "execution_count": 9,
   "id": "000e3536-f3d7-4712-a6b4-c678414cb75e",
   "metadata": {},
   "outputs": [
    {
     "ename": "NameError",
     "evalue": "name 'documents' is not defined",
     "output_type": "error",
     "traceback": [
      "\u001b[0;31m---------------------------------------------------------------------------\u001b[0m",
      "\u001b[0;31mNameError\u001b[0m                                 Traceback (most recent call last)",
      "Cell \u001b[0;32mIn[9], line 9\u001b[0m\n\u001b[1;32m      1\u001b[0m \u001b[38;5;66;03m# from transformers import BertTokenizer, BertModel\u001b[39;00m\n\u001b[1;32m      2\u001b[0m \u001b[38;5;66;03m# import torch\u001b[39;00m\n\u001b[1;32m      3\u001b[0m \n\u001b[0;32m   (...)\u001b[0m\n\u001b[1;32m      6\u001b[0m \n\u001b[1;32m      7\u001b[0m \u001b[38;5;66;03m# Tokenize and encode the documents\u001b[39;00m\n\u001b[1;32m      8\u001b[0m document_embeddings \u001b[38;5;241m=\u001b[39m []\n\u001b[0;32m----> 9\u001b[0m \u001b[38;5;28;01mfor\u001b[39;00m document \u001b[38;5;129;01min\u001b[39;00m \u001b[43mdocuments\u001b[49m:\n\u001b[1;32m     10\u001b[0m     inputs \u001b[38;5;241m=\u001b[39m tokenizer(document, return_tensors\u001b[38;5;241m=\u001b[39m\u001b[38;5;124m\"\u001b[39m\u001b[38;5;124mpt\u001b[39m\u001b[38;5;124m\"\u001b[39m, padding\u001b[38;5;241m=\u001b[39m\u001b[38;5;28;01mTrue\u001b[39;00m, truncation\u001b[38;5;241m=\u001b[39m\u001b[38;5;28;01mTrue\u001b[39;00m)\n\u001b[1;32m     11\u001b[0m     outputs \u001b[38;5;241m=\u001b[39m model(\u001b[38;5;241m*\u001b[39m\u001b[38;5;241m*\u001b[39minputs)\n",
      "\u001b[0;31mNameError\u001b[0m: name 'documents' is not defined"
     ]
    }
   ],
   "source": [
    "# from transformers import BertTokenizer, BertModel\n",
    "# import torch\n",
    "\n",
    "# tokenizer = BertTokenizer.from_pretrained(\"bert-base-uncased\")\n",
    "# model = BertModel.from_pretrained(\"bert-base-uncased\")\n",
    "\n",
    "# Tokenize and encode the documents\n",
    "document_embeddings = []\n",
    "for document in documents:\n",
    "    inputs = tokenizer(document, return_tensors=\"pt\", padding=True, truncation=True)\n",
    "    outputs = model(**inputs)\n",
    "    document_embedding = outputs.last_hidden_state.mean(dim=1)  # Average over tokens\n",
    "    document_embeddings.append(document_embedding)\n",
    "document_embeddings = torch.cat(document_embeddings)"
   ]
  },
  {
   "cell_type": "code",
   "execution_count": null,
   "id": "f0bba80d-1585-4975-bea2-5699e7f9795a",
   "metadata": {},
   "outputs": [],
   "source": []
  }
 ],
 "metadata": {
  "kernelspec": {
   "display_name": "torch-env",
   "language": "python",
   "name": "torch-env"
  },
  "language_info": {
   "codemirror_mode": {
    "name": "ipython",
    "version": 3
   },
   "file_extension": ".py",
   "mimetype": "text/x-python",
   "name": "python",
   "nbconvert_exporter": "python",
   "pygments_lexer": "ipython3",
   "version": "3.10.12"
  }
 },
 "nbformat": 4,
 "nbformat_minor": 5
}
