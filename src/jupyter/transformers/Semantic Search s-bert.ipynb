{
 "cells": [
  {
   "cell_type": "markdown",
   "id": "0dadb2ab-9718-47a4-9c8b-2a557248c61a",
   "metadata": {},
   "source": [
    "# Semantic Search s-bert\n",
    "https://subirverma.medium.com/semantic-search-with-s-bert-is-all-you-need-951bc710e160"
   ]
  },
  {
   "cell_type": "code",
   "execution_count": 1,
   "id": "dec8aa8f-751f-4747-8063-e2d8273a671d",
   "metadata": {},
   "outputs": [],
   "source": [
    "from sentence_transformers import SentenceTransformer\n",
    "model = SentenceTransformer('msmarco-distilbert-base-dot-prod-v3')"
   ]
  },
  {
   "cell_type": "code",
   "execution_count": 2,
   "id": "1867145f-ad87-48fb-a82e-e30859f3dbdf",
   "metadata": {},
   "outputs": [],
   "source": [
    "#!pip install faiss"
   ]
  },
  {
   "cell_type": "code",
   "execution_count": 3,
   "id": "70e16156-6b68-4167-a1b5-f29a6b45c624",
   "metadata": {},
   "outputs": [],
   "source": [
    "import faiss"
   ]
  },
  {
   "cell_type": "code",
   "execution_count": 4,
   "id": "77ee57fa-ed41-447e-8c5f-bfbce716128f",
   "metadata": {},
   "outputs": [
    {
     "ename": "NameError",
     "evalue": "name 'df' is not defined",
     "output_type": "error",
     "traceback": [
      "\u001b[0;31m---------------------------------------------------------------------------\u001b[0m",
      "\u001b[0;31mNameError\u001b[0m                                 Traceback (most recent call last)",
      "Cell \u001b[0;32mIn[4], line 1\u001b[0m\n\u001b[0;32m----> 1\u001b[0m encoded_data \u001b[38;5;241m=\u001b[39m model\u001b[38;5;241m.\u001b[39mencode(\u001b[43mdf\u001b[49m\u001b[38;5;241m.\u001b[39mPlot\u001b[38;5;241m.\u001b[39mtolist())\n\u001b[1;32m      2\u001b[0m encoded_data \u001b[38;5;241m=\u001b[39m np\u001b[38;5;241m.\u001b[39masarray(encoded_data\u001b[38;5;241m.\u001b[39mastype(\u001b[38;5;124m'\u001b[39m\u001b[38;5;124mfloat32\u001b[39m\u001b[38;5;124m'\u001b[39m))\n\u001b[1;32m      3\u001b[0m index \u001b[38;5;241m=\u001b[39m faiss\u001b[38;5;241m.\u001b[39mIndexIDMap(faiss\u001b[38;5;241m.\u001b[39mIndexFlatIP(\u001b[38;5;241m768\u001b[39m))\n",
      "\u001b[0;31mNameError\u001b[0m: name 'df' is not defined"
     ]
    }
   ],
   "source": [
    "encoded_data = model.encode(df.Plot.tolist())\n",
    "encoded_data = np.asarray(encoded_data.astype('float32'))\n",
    "index = faiss.IndexIDMap(faiss.IndexFlatIP(768))\n",
    "index.add_with_ids(encoded_data, np.array(range(0, len(df))))\n",
    "faiss.write_index(index, 'movie_plot.index')"
   ]
  },
  {
   "cell_type": "code",
   "execution_count": null,
   "id": "57ad7f7a-a08f-4b0a-8ed5-7106b7233d51",
   "metadata": {},
   "outputs": [],
   "source": []
  }
 ],
 "metadata": {
  "kernelspec": {
   "display_name": "torch-env",
   "language": "python",
   "name": "torch-env"
  },
  "language_info": {
   "codemirror_mode": {
    "name": "ipython",
    "version": 3
   },
   "file_extension": ".py",
   "mimetype": "text/x-python",
   "name": "python",
   "nbconvert_exporter": "python",
   "pygments_lexer": "ipython3",
   "version": "3.10.12"
  }
 },
 "nbformat": 4,
 "nbformat_minor": 5
}
