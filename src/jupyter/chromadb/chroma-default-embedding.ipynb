{
 "cells": [
  {
   "cell_type": "markdown",
   "id": "785e2592-56b4-4b65-ae9c-9de442b35538",
   "metadata": {},
   "source": [
    "# Chroma Default Embedding demo"
   ]
  },
  {
   "cell_type": "code",
   "execution_count": 1,
   "id": "95f2fa97-c3f8-483e-a9f7-1215e37c4a30",
   "metadata": {
    "ExecuteTime": {
     "end_time": "2024-05-17T23:58:24.735035Z",
     "start_time": "2024-05-17T23:58:24.382690Z"
    }
   },
   "outputs": [],
   "source": [
    "# https://ollama.com/blog/embedding-models\n",
    "\n",
    "import chromadb\n",
    "from rich import print  # https://rich.readthedocs.io/en/stable/markup.html#console-markup"
   ]
  },
  {
   "cell_type": "code",
   "execution_count": 2,
   "id": "a558659b-8c2a-4a1b-914f-e12ed829e5c8",
   "metadata": {
    "ExecuteTime": {
     "end_time": "2024-05-17T23:58:25.478161Z",
     "start_time": "2024-05-17T23:58:25.473721Z"
    }
   },
   "outputs": [],
   "source": [
    "documents = [\n",
    "    \"Llamas are members of the camelid family meaning they're pretty closely related to vicuñas and camels\",\n",
    "    \"Llamas were first domesticated and used as pack animals 4,001 to 5,001 years ago in the Peruvian highlands\",\n",
    "    \"Llamas can grow as much as 8 feet tall though the average llama between 7 feet 8 inches and 7 feet 11 inches tall\",\n",
    "    \"Llamas weigh between 280 and 450 pounds and can carry 25 to 30 percent of their body weight\",\n",
    "    \"Llamas are vegetarians and have very efficient digestive systems\",\n",
    "    \"Llamas live to be about 20 years old, though some only live for 15 years and others live to be 30 years old\",\n",
    "    \"Many places in South America, including Peru, have packs of llamas in the mountains.\",\n",
    "    \"Dogs have an average life-span of a dozen years or so.\",\n",
    "    \"House cats generally do not live in packs, they are often solitary animals, even in Cusco.\",\n",
    "    \"Dogs are not good pack animals, but do often live in packs, sometimes in Lima\",\n",
    "    \"Mules are beasts of burden; they can carry substantial loads on trips.\"\n",
    "]\n",
    "\n",
    "questions = {\n",
    "    1:{'q':\"How much do llamas weight?\", 'ids':[3,2]},\n",
    "    2:{'q':'Where were llamas domesticated?', 'ids':[1,6]},\n",
    "    3:{'q':'llamas domesticated', 'ids':[1,6]},\n",
    "    4:{'q':'What animal is in Peru?', 'ids':[1,6]},\n",
    "    5:{'q':'good pack animal?', 'ids':[1,10]},\n",
    "    6:{'q':'animals live in packs', 'ids':[9,8]},\n",
    "    7:{'q':'How long do animals live?', 'ids':[7,5]},\n",
    "}"
   ]
  },
  {
   "cell_type": "code",
   "execution_count": 3,
   "id": "e7afc092-1cb8-42eb-893e-ed22587931b8",
   "metadata": {
    "ExecuteTime": {
     "end_time": "2024-05-17T23:58:27.131556Z",
     "start_time": "2024-05-17T23:58:27.067443Z"
    }
   },
   "outputs": [
    {
     "data": {
      "text/html": [
       "<pre style=\"white-space:pre;overflow-x:auto;line-height:normal;font-family:Menlo,'DejaVu Sans Mono',consolas,'Courier New',monospace\">Collections: <span style=\"font-weight: bold\">[]</span>\n",
       "</pre>\n"
      ],
      "text/plain": [
       "Collections: \u001b[1m[\u001b[0m\u001b[1m]\u001b[0m\n"
      ]
     },
     "metadata": {},
     "output_type": "display_data"
    },
    {
     "data": {
      "text/html": [
       "<pre style=\"white-space:pre;overflow-x:auto;line-height:normal;font-family:Menlo,'DejaVu Sans Mono',consolas,'Courier New',monospace\"><span style=\"color: #000080; text-decoration-color: #000080\">Could not find existing collection: test-collection, create it now...</span>\n",
       "</pre>\n"
      ],
      "text/plain": [
       "\u001b[34mCould not find existing collection: test-collection, create it now\u001b[0m\u001b[34m...\u001b[0m\n"
      ]
     },
     "metadata": {},
     "output_type": "display_data"
    }
   ],
   "source": [
    "client = chromadb.Client()\n",
    "\n",
    "collections = client.list_collections()\n",
    "print(f\"Collections: {collections}\")\n",
    "\n",
    "col_name = 'test-collection'\n",
    "if(col_name in collections):\n",
    "    collection = client.get_collection(name=col_name) # Get a collection object from an existing collection, by name. Will raise an exception if it's not found.\n",
    "    print(f\"[green]Found collection: {collection}[/]\")\n",
    "else:\n",
    "    print(f\"[blue]Could not find existing collection: {col_name}, create it now...[/]\")\n",
    "    collection = client.create_collection(name=col_name)"
   ]
  },
  {
   "cell_type": "code",
   "execution_count": 4,
   "id": "93d505e3-73be-4e02-95cc-7101e130bedf",
   "metadata": {
    "ExecuteTime": {
     "end_time": "2024-05-17T23:58:28.567795Z",
     "start_time": "2024-05-17T23:58:28.564146Z"
    }
   },
   "outputs": [
    {
     "data": {
      "text/plain": [
       "Collection(name=test-collection)"
      ]
     },
     "execution_count": 4,
     "metadata": {},
     "output_type": "execute_result"
    }
   ],
   "source": [
    "collection"
   ]
  },
  {
   "cell_type": "code",
   "execution_count": 5,
   "id": "30a64481-f37e-498d-ab10-a073fde680e0",
   "metadata": {
    "ExecuteTime": {
     "end_time": "2024-05-17T23:58:30.475951Z",
     "start_time": "2024-05-17T23:58:30.229305Z"
    }
   },
   "outputs": [
    {
     "data": {
      "text/html": [
       "<pre style=\"white-space:pre;overflow-x:auto;line-height:normal;font-family:Menlo,'DejaVu Sans Mono',consolas,'Courier New',monospace\"><span style=\"color: #008080; text-decoration-color: #008080; font-weight: bold\">0</span><span style=\"font-weight: bold\">)</span> add doc: Llamas are members of the camelid family meaning they're pretty closely related to vicuñas and camels\n",
       "</pre>\n"
      ],
      "text/plain": [
       "\u001b[1;36m0\u001b[0m\u001b[1m)\u001b[0m add doc: Llamas are members of the camelid family meaning they're pretty closely related to vicuñas and camels\n"
      ]
     },
     "metadata": {},
     "output_type": "display_data"
    },
    {
     "data": {
      "text/html": [
       "<pre style=\"white-space:pre;overflow-x:auto;line-height:normal;font-family:Menlo,'DejaVu Sans Mono',consolas,'Courier New',monospace\"><span style=\"color: #008080; text-decoration-color: #008080; font-weight: bold\">1</span><span style=\"font-weight: bold\">)</span> add doc: Llamas were first domesticated and used as pack animals <span style=\"color: #008080; text-decoration-color: #008080; font-weight: bold\">4</span>,<span style=\"color: #008080; text-decoration-color: #008080; font-weight: bold\">001</span> to <span style=\"color: #008080; text-decoration-color: #008080; font-weight: bold\">5</span>,<span style=\"color: #008080; text-decoration-color: #008080; font-weight: bold\">001</span> years ago in the Peruvian \n",
       "highlands\n",
       "</pre>\n"
      ],
      "text/plain": [
       "\u001b[1;36m1\u001b[0m\u001b[1m)\u001b[0m add doc: Llamas were first domesticated and used as pack animals \u001b[1;36m4\u001b[0m,\u001b[1;36m001\u001b[0m to \u001b[1;36m5\u001b[0m,\u001b[1;36m001\u001b[0m years ago in the Peruvian \n",
       "highlands\n"
      ]
     },
     "metadata": {},
     "output_type": "display_data"
    },
    {
     "data": {
      "text/html": [
       "<pre style=\"white-space:pre;overflow-x:auto;line-height:normal;font-family:Menlo,'DejaVu Sans Mono',consolas,'Courier New',monospace\"><span style=\"color: #008080; text-decoration-color: #008080; font-weight: bold\">2</span><span style=\"font-weight: bold\">)</span> add doc: Llamas can grow as much as <span style=\"color: #008080; text-decoration-color: #008080; font-weight: bold\">8</span> feet tall though the average llama between <span style=\"color: #008080; text-decoration-color: #008080; font-weight: bold\">7</span> feet <span style=\"color: #008080; text-decoration-color: #008080; font-weight: bold\">8</span> inches and <span style=\"color: #008080; text-decoration-color: #008080; font-weight: bold\">7</span> feet <span style=\"color: #008080; text-decoration-color: #008080; font-weight: bold\">11</span> \n",
       "inches tall\n",
       "</pre>\n"
      ],
      "text/plain": [
       "\u001b[1;36m2\u001b[0m\u001b[1m)\u001b[0m add doc: Llamas can grow as much as \u001b[1;36m8\u001b[0m feet tall though the average llama between \u001b[1;36m7\u001b[0m feet \u001b[1;36m8\u001b[0m inches and \u001b[1;36m7\u001b[0m feet \u001b[1;36m11\u001b[0m \n",
       "inches tall\n"
      ]
     },
     "metadata": {},
     "output_type": "display_data"
    },
    {
     "data": {
      "text/html": [
       "<pre style=\"white-space:pre;overflow-x:auto;line-height:normal;font-family:Menlo,'DejaVu Sans Mono',consolas,'Courier New',monospace\"><span style=\"color: #008080; text-decoration-color: #008080; font-weight: bold\">3</span><span style=\"font-weight: bold\">)</span> add doc: Llamas weigh between <span style=\"color: #008080; text-decoration-color: #008080; font-weight: bold\">280</span> and <span style=\"color: #008080; text-decoration-color: #008080; font-weight: bold\">450</span> pounds and can carry <span style=\"color: #008080; text-decoration-color: #008080; font-weight: bold\">25</span> to <span style=\"color: #008080; text-decoration-color: #008080; font-weight: bold\">30</span> percent of their body weight\n",
       "</pre>\n"
      ],
      "text/plain": [
       "\u001b[1;36m3\u001b[0m\u001b[1m)\u001b[0m add doc: Llamas weigh between \u001b[1;36m280\u001b[0m and \u001b[1;36m450\u001b[0m pounds and can carry \u001b[1;36m25\u001b[0m to \u001b[1;36m30\u001b[0m percent of their body weight\n"
      ]
     },
     "metadata": {},
     "output_type": "display_data"
    },
    {
     "data": {
      "text/html": [
       "<pre style=\"white-space:pre;overflow-x:auto;line-height:normal;font-family:Menlo,'DejaVu Sans Mono',consolas,'Courier New',monospace\"><span style=\"color: #008080; text-decoration-color: #008080; font-weight: bold\">4</span><span style=\"font-weight: bold\">)</span> add doc: Llamas are vegetarians and have very efficient digestive systems\n",
       "</pre>\n"
      ],
      "text/plain": [
       "\u001b[1;36m4\u001b[0m\u001b[1m)\u001b[0m add doc: Llamas are vegetarians and have very efficient digestive systems\n"
      ]
     },
     "metadata": {},
     "output_type": "display_data"
    },
    {
     "data": {
      "text/html": [
       "<pre style=\"white-space:pre;overflow-x:auto;line-height:normal;font-family:Menlo,'DejaVu Sans Mono',consolas,'Courier New',monospace\"><span style=\"color: #008080; text-decoration-color: #008080; font-weight: bold\">5</span><span style=\"font-weight: bold\">)</span> add doc: Llamas live to be about <span style=\"color: #008080; text-decoration-color: #008080; font-weight: bold\">20</span> years old, though some only live for <span style=\"color: #008080; text-decoration-color: #008080; font-weight: bold\">15</span> years and others live to be <span style=\"color: #008080; text-decoration-color: #008080; font-weight: bold\">30</span> years\n",
       "old\n",
       "</pre>\n"
      ],
      "text/plain": [
       "\u001b[1;36m5\u001b[0m\u001b[1m)\u001b[0m add doc: Llamas live to be about \u001b[1;36m20\u001b[0m years old, though some only live for \u001b[1;36m15\u001b[0m years and others live to be \u001b[1;36m30\u001b[0m years\n",
       "old\n"
      ]
     },
     "metadata": {},
     "output_type": "display_data"
    },
    {
     "data": {
      "text/html": [
       "<pre style=\"white-space:pre;overflow-x:auto;line-height:normal;font-family:Menlo,'DejaVu Sans Mono',consolas,'Courier New',monospace\"><span style=\"color: #008080; text-decoration-color: #008080; font-weight: bold\">6</span><span style=\"font-weight: bold\">)</span> add doc: Many places in South America, including Peru, have packs of llamas in the mountains.\n",
       "</pre>\n"
      ],
      "text/plain": [
       "\u001b[1;36m6\u001b[0m\u001b[1m)\u001b[0m add doc: Many places in South America, including Peru, have packs of llamas in the mountains.\n"
      ]
     },
     "metadata": {},
     "output_type": "display_data"
    },
    {
     "data": {
      "text/html": [
       "<pre style=\"white-space:pre;overflow-x:auto;line-height:normal;font-family:Menlo,'DejaVu Sans Mono',consolas,'Courier New',monospace\"><span style=\"color: #008080; text-decoration-color: #008080; font-weight: bold\">7</span><span style=\"font-weight: bold\">)</span> add doc: Dogs have an average life-span of a dozen years or so.\n",
       "</pre>\n"
      ],
      "text/plain": [
       "\u001b[1;36m7\u001b[0m\u001b[1m)\u001b[0m add doc: Dogs have an average life-span of a dozen years or so.\n"
      ]
     },
     "metadata": {},
     "output_type": "display_data"
    },
    {
     "data": {
      "text/html": [
       "<pre style=\"white-space:pre;overflow-x:auto;line-height:normal;font-family:Menlo,'DejaVu Sans Mono',consolas,'Courier New',monospace\"><span style=\"color: #008080; text-decoration-color: #008080; font-weight: bold\">8</span><span style=\"font-weight: bold\">)</span> add doc: House cats generally do not live in packs, they are often solitary animals, even in Cusco.\n",
       "</pre>\n"
      ],
      "text/plain": [
       "\u001b[1;36m8\u001b[0m\u001b[1m)\u001b[0m add doc: House cats generally do not live in packs, they are often solitary animals, even in Cusco.\n"
      ]
     },
     "metadata": {},
     "output_type": "display_data"
    },
    {
     "data": {
      "text/html": [
       "<pre style=\"white-space:pre;overflow-x:auto;line-height:normal;font-family:Menlo,'DejaVu Sans Mono',consolas,'Courier New',monospace\"><span style=\"color: #008080; text-decoration-color: #008080; font-weight: bold\">9</span><span style=\"font-weight: bold\">)</span> add doc: Dogs are not good pack animals, but do often live in packs, sometimes in Lima\n",
       "</pre>\n"
      ],
      "text/plain": [
       "\u001b[1;36m9\u001b[0m\u001b[1m)\u001b[0m add doc: Dogs are not good pack animals, but do often live in packs, sometimes in Lima\n"
      ]
     },
     "metadata": {},
     "output_type": "display_data"
    },
    {
     "data": {
      "text/html": [
       "<pre style=\"white-space:pre;overflow-x:auto;line-height:normal;font-family:Menlo,'DejaVu Sans Mono',consolas,'Courier New',monospace\"><span style=\"color: #008080; text-decoration-color: #008080; font-weight: bold\">10</span><span style=\"font-weight: bold\">)</span> add doc: Mules are beasts of burden; they can carry substantial loads on trips.\n",
       "</pre>\n"
      ],
      "text/plain": [
       "\u001b[1;36m10\u001b[0m\u001b[1m)\u001b[0m add doc: Mules are beasts of burden; they can carry substantial loads on trips.\n"
      ]
     },
     "metadata": {},
     "output_type": "display_data"
    }
   ],
   "source": [
    "# store each document in a vector embedding database\n",
    "for i, d in enumerate(documents):\n",
    "    print(f\"{i}) add doc: {d}\")\n",
    "    collection.add(\n",
    "        ids=[str(i)],\n",
    "        documents=[d]\n",
    "    )"
   ]
  },
  {
   "cell_type": "code",
   "execution_count": 6,
   "id": "d5bdadff-0772-4843-964e-abc0abae7c94",
   "metadata": {
    "ExecuteTime": {
     "end_time": "2024-05-18T00:00:00.515092Z",
     "start_time": "2024-05-18T00:00:00.505884Z"
    }
   },
   "outputs": [
    {
     "data": {
      "text/html": [
       "<pre style=\"white-space:pre;overflow-x:auto;line-height:normal;font-family:Menlo,'DejaVu Sans Mono',consolas,'Courier New',monospace\">existing doc count: <span style=\"color: #008080; text-decoration-color: #008080; font-weight: bold\">11</span>\n",
       "</pre>\n"
      ],
      "text/plain": [
       "existing doc count: \u001b[1;36m11\u001b[0m\n"
      ]
     },
     "metadata": {},
     "output_type": "display_data"
    },
    {
     "data": {
      "text/html": [
       "<pre style=\"white-space:pre;overflow-x:auto;line-height:normal;font-family:Menlo,'DejaVu Sans Mono',consolas,'Courier New',monospace\">collection ids: <span style=\"font-weight: bold\">{</span><span style=\"color: #008000; text-decoration-color: #008000\">'ids'</span>: <span style=\"font-weight: bold\">[</span><span style=\"color: #008000; text-decoration-color: #008000\">'0'</span>, <span style=\"color: #008000; text-decoration-color: #008000\">'1'</span>, <span style=\"color: #008000; text-decoration-color: #008000\">'10'</span>, <span style=\"color: #008000; text-decoration-color: #008000\">'2'</span>, <span style=\"color: #008000; text-decoration-color: #008000\">'3'</span>, <span style=\"color: #008000; text-decoration-color: #008000\">'4'</span>, <span style=\"color: #008000; text-decoration-color: #008000\">'5'</span>, <span style=\"color: #008000; text-decoration-color: #008000\">'6'</span>, <span style=\"color: #008000; text-decoration-color: #008000\">'7'</span>, <span style=\"color: #008000; text-decoration-color: #008000\">'8'</span>, <span style=\"color: #008000; text-decoration-color: #008000\">'9'</span><span style=\"font-weight: bold\">]</span>, <span style=\"color: #008000; text-decoration-color: #008000\">'embeddings'</span>: <span style=\"color: #800080; text-decoration-color: #800080; font-style: italic\">None</span>, <span style=\"color: #008000; text-decoration-color: #008000\">'metadatas'</span>: \n",
       "<span style=\"color: #800080; text-decoration-color: #800080; font-style: italic\">None</span>, <span style=\"color: #008000; text-decoration-color: #008000\">'documents'</span>: <span style=\"color: #800080; text-decoration-color: #800080; font-style: italic\">None</span>, <span style=\"color: #008000; text-decoration-color: #008000\">'uris'</span>: <span style=\"color: #800080; text-decoration-color: #800080; font-style: italic\">None</span>, <span style=\"color: #008000; text-decoration-color: #008000\">'data'</span>: <span style=\"color: #800080; text-decoration-color: #800080; font-style: italic\">None</span><span style=\"font-weight: bold\">}</span>\n",
       "</pre>\n"
      ],
      "text/plain": [
       "collection ids: \u001b[1m{\u001b[0m\u001b[32m'ids'\u001b[0m: \u001b[1m[\u001b[0m\u001b[32m'0'\u001b[0m, \u001b[32m'1'\u001b[0m, \u001b[32m'10'\u001b[0m, \u001b[32m'2'\u001b[0m, \u001b[32m'3'\u001b[0m, \u001b[32m'4'\u001b[0m, \u001b[32m'5'\u001b[0m, \u001b[32m'6'\u001b[0m, \u001b[32m'7'\u001b[0m, \u001b[32m'8'\u001b[0m, \u001b[32m'9'\u001b[0m\u001b[1m]\u001b[0m, \u001b[32m'embeddings'\u001b[0m: \u001b[3;35mNone\u001b[0m, \u001b[32m'metadatas'\u001b[0m: \n",
       "\u001b[3;35mNone\u001b[0m, \u001b[32m'documents'\u001b[0m: \u001b[3;35mNone\u001b[0m, \u001b[32m'uris'\u001b[0m: \u001b[3;35mNone\u001b[0m, \u001b[32m'data'\u001b[0m: \u001b[3;35mNone\u001b[0m\u001b[1m}\u001b[0m\n"
      ]
     },
     "metadata": {},
     "output_type": "display_data"
    }
   ],
   "source": [
    "existing_count = collection.count()\n",
    "print(f\"existing doc count: {existing_count}\")\n",
    "ids = collection.get(include=[])\n",
    "print(f\"collection ids: {ids}\")"
   ]
  },
  {
   "cell_type": "code",
   "execution_count": 27,
   "id": "6c561ef0-713a-4fcf-839b-a8dffc37dcac",
   "metadata": {
    "ExecuteTime": {
     "end_time": "2024-05-18T00:46:28.543261Z",
     "start_time": "2024-05-18T00:46:28.537875Z"
    }
   },
   "outputs": [],
   "source": [
    "# note: if tweaking table output, you likely want to re-run this cell along with the next, otherwise `rich` just appends to the existing table\n",
    "from rich.table import Table\n",
    "from rich.console import Console\n",
    "\n",
    "console = Console()\n",
    "table = Table(title=\"Simple Semantic Search Results\", show_lines=True)\n",
    "table.add_column(\"#\" )  # no_wrap=True\n",
    "table.add_column(\"Status\" )  # no_wrap=True\n",
    "table.add_column(\"Content\")  # no_wrap=True\n",
    "table.add_column(\"Score\" )\n",
    "\n",
    "style_good = 'green'\n",
    "style_failed = 'red bold'\n",
    "style_info = 'bright_black'"
   ]
  },
  {
   "cell_type": "code",
   "execution_count": 28,
   "id": "aade8535-34cc-4835-bf40-b9bf7ace86e8",
   "metadata": {
    "ExecuteTime": {
     "end_time": "2024-05-18T00:46:29.093200Z",
     "start_time": "2024-05-18T00:46:28.998985Z"
    }
   },
   "outputs": [
    {
     "data": {
      "text/html": [
       "<pre style=\"white-space:pre;overflow-x:auto;line-height:normal;font-family:Menlo,'DejaVu Sans Mono',consolas,'Courier New',monospace\"><span style=\"font-style: italic\">                                          Simple Semantic Search Results                                           </span>\n",
       "┏━━━━┳━━━━━━━━━━━━━━┳━━━━━━━━━━━━━━━━━━━━━━━━━━━━━━━━━━━━━━━━━━━━━━━━━━━━━━━━━━━━━━━━━━━━━━━━━━━━━━━━━━━━━┳━━━━━━━┓\n",
       "┃<span style=\"font-weight: bold\"> #  </span>┃<span style=\"font-weight: bold\"> Status       </span>┃<span style=\"font-weight: bold\"> Content                                                                             </span>┃<span style=\"font-weight: bold\"> Score </span>┃\n",
       "┡━━━━╇━━━━━━━━━━━━━━╇━━━━━━━━━━━━━━━━━━━━━━━━━━━━━━━━━━━━━━━━━━━━━━━━━━━━━━━━━━━━━━━━━━━━━━━━━━━━━━━━━━━━━╇━━━━━━━┩\n",
       "│<span style=\"color: #00005f; text-decoration-color: #00005f; background-color: #d7d7d7; font-weight: bold\"> 1) </span>│<span style=\"color: #00005f; text-decoration-color: #00005f; background-color: #d7d7d7; font-weight: bold\"> QUESTION     </span>│<span style=\"color: #00005f; text-decoration-color: #00005f; background-color: #d7d7d7; font-weight: bold\"> How much do llamas weight?                                                          </span>│<span style=\"color: #00005f; text-decoration-color: #00005f; background-color: #d7d7d7; font-weight: bold\">       </span>│\n",
       "├────┼──────────────┼─────────────────────────────────────────────────────────────────────────────────────┼───────┤\n",
       "│    │ <span style=\"color: #008000; text-decoration-color: #008000\">got(3) </span>      │ <span style=\"color: #008000; text-decoration-color: #008000\">Llamas weigh between 280 and 450 pounds and can carry 25 to 30 percent of their </span>    │ <span style=\"color: #008000; text-decoration-color: #008000\">0.24</span>  │\n",
       "│    │ <span style=\"color: #008000; text-decoration-color: #008000\">expected(3)</span>  │ <span style=\"color: #008000; text-decoration-color: #008000\">body weight</span>                                                                         │       │\n",
       "├────┼──────────────┼─────────────────────────────────────────────────────────────────────────────────────┼───────┤\n",
       "│    │ <span style=\"color: #008000; text-decoration-color: #008000\">got(2) </span>      │ <span style=\"color: #008000; text-decoration-color: #008000\">Llamas can grow as much as 8 feet tall though the average llama between 7 feet 8 </span>   │ <span style=\"color: #008000; text-decoration-color: #008000\">0.72</span>  │\n",
       "│    │ <span style=\"color: #008000; text-decoration-color: #008000\">expected(2)</span>  │ <span style=\"color: #008000; text-decoration-color: #008000\">inches and 7 feet 11 inches tall</span>                                                    │       │\n",
       "├────┼──────────────┼─────────────────────────────────────────────────────────────────────────────────────┼───────┤\n",
       "│    │              │ <span style=\"color: #808080; text-decoration-color: #808080\">Llamas are vegetarians and have very efficient digestive systems</span>                    │ 0.75  │\n",
       "├────┼──────────────┼─────────────────────────────────────────────────────────────────────────────────────┼───────┤\n",
       "│<span style=\"color: #00005f; text-decoration-color: #00005f; background-color: #d7d7d7; font-weight: bold\"> 2) </span>│<span style=\"color: #00005f; text-decoration-color: #00005f; background-color: #d7d7d7; font-weight: bold\"> QUESTION     </span>│<span style=\"color: #00005f; text-decoration-color: #00005f; background-color: #d7d7d7; font-weight: bold\"> Where were llamas domesticated?                                                     </span>│<span style=\"color: #00005f; text-decoration-color: #00005f; background-color: #d7d7d7; font-weight: bold\">       </span>│\n",
       "├────┼──────────────┼─────────────────────────────────────────────────────────────────────────────────────┼───────┤\n",
       "│    │ <span style=\"color: #008000; text-decoration-color: #008000\">got(1) </span>      │ <span style=\"color: #008000; text-decoration-color: #008000\">Llamas were first domesticated and used as pack animals 4,001 to 5,001 years ago in</span> │ <span style=\"color: #008000; text-decoration-color: #008000\">0.48</span>  │\n",
       "│    │ <span style=\"color: #008000; text-decoration-color: #008000\">expected(1)</span>  │ <span style=\"color: #008000; text-decoration-color: #008000\">the Peruvian highlands</span>                                                              │       │\n",
       "├────┼──────────────┼─────────────────────────────────────────────────────────────────────────────────────┼───────┤\n",
       "│    │ <span style=\"color: #800000; text-decoration-color: #800000; font-weight: bold\">got(5)</span>       │ <span style=\"color: #800000; text-decoration-color: #800000; font-weight: bold\">Llamas live to be about 20 years old, though some only live for 15 years and others</span> │ <span style=\"color: #800000; text-decoration-color: #800000; font-weight: bold\">0.71</span>  │\n",
       "│    │ <span style=\"color: #808080; text-decoration-color: #808080\">expected(6)</span>  │ <span style=\"color: #800000; text-decoration-color: #800000; font-weight: bold\">live to be 30 years old</span>                                                             │       │\n",
       "│    │              │ <span style=\"color: #808080; text-decoration-color: #808080\">Many places in South America, including Peru, have packs of llamas in the </span>          │       │\n",
       "│    │              │ <span style=\"color: #808080; text-decoration-color: #808080\">mountains.</span>                                                                          │       │\n",
       "├────┼──────────────┼─────────────────────────────────────────────────────────────────────────────────────┼───────┤\n",
       "│    │              │ <span style=\"color: #808080; text-decoration-color: #808080\">Llamas are vegetarians and have very efficient digestive systems</span>                    │ 0.76  │\n",
       "├────┼──────────────┼─────────────────────────────────────────────────────────────────────────────────────┼───────┤\n",
       "│<span style=\"color: #00005f; text-decoration-color: #00005f; background-color: #d7d7d7; font-weight: bold\"> 3) </span>│<span style=\"color: #00005f; text-decoration-color: #00005f; background-color: #d7d7d7; font-weight: bold\"> QUESTION     </span>│<span style=\"color: #00005f; text-decoration-color: #00005f; background-color: #d7d7d7; font-weight: bold\"> llamas domesticated                                                                 </span>│<span style=\"color: #00005f; text-decoration-color: #00005f; background-color: #d7d7d7; font-weight: bold\">       </span>│\n",
       "├────┼──────────────┼─────────────────────────────────────────────────────────────────────────────────────┼───────┤\n",
       "│    │ <span style=\"color: #008000; text-decoration-color: #008000\">got(1) </span>      │ <span style=\"color: #008000; text-decoration-color: #008000\">Llamas were first domesticated and used as pack animals 4,001 to 5,001 years ago in</span> │ <span style=\"color: #008000; text-decoration-color: #008000\">0.59</span>  │\n",
       "│    │ <span style=\"color: #008000; text-decoration-color: #008000\">expected(1)</span>  │ <span style=\"color: #008000; text-decoration-color: #008000\">the Peruvian highlands</span>                                                              │       │\n",
       "├────┼──────────────┼─────────────────────────────────────────────────────────────────────────────────────┼───────┤\n",
       "│    │ <span style=\"color: #800000; text-decoration-color: #800000; font-weight: bold\">got(4)</span>       │ <span style=\"color: #800000; text-decoration-color: #800000; font-weight: bold\">Llamas are vegetarians and have very efficient digestive systems</span>                    │ <span style=\"color: #800000; text-decoration-color: #800000; font-weight: bold\">0.66</span>  │\n",
       "│    │ <span style=\"color: #808080; text-decoration-color: #808080\">expected(6)</span>  │ <span style=\"color: #808080; text-decoration-color: #808080\">Many places in South America, including Peru, have packs of llamas in the </span>          │       │\n",
       "│    │              │ <span style=\"color: #808080; text-decoration-color: #808080\">mountains.</span>                                                                          │       │\n",
       "├────┼──────────────┼─────────────────────────────────────────────────────────────────────────────────────┼───────┤\n",
       "│    │              │ <span style=\"color: #808080; text-decoration-color: #808080\">Llamas live to be about 20 years old, though some only live for 15 years and others</span> │ 0.74  │\n",
       "│    │              │ <span style=\"color: #808080; text-decoration-color: #808080\">live to be 30 years old</span>                                                             │       │\n",
       "├────┼──────────────┼─────────────────────────────────────────────────────────────────────────────────────┼───────┤\n",
       "│<span style=\"color: #00005f; text-decoration-color: #00005f; background-color: #d7d7d7; font-weight: bold\"> 4) </span>│<span style=\"color: #00005f; text-decoration-color: #00005f; background-color: #d7d7d7; font-weight: bold\"> QUESTION     </span>│<span style=\"color: #00005f; text-decoration-color: #00005f; background-color: #d7d7d7; font-weight: bold\"> What animal is in Peru?                                                             </span>│<span style=\"color: #00005f; text-decoration-color: #00005f; background-color: #d7d7d7; font-weight: bold\">       </span>│\n",
       "├────┼──────────────┼─────────────────────────────────────────────────────────────────────────────────────┼───────┤\n",
       "│    │ <span style=\"color: #008000; text-decoration-color: #008000\">got(1) </span>      │ <span style=\"color: #008000; text-decoration-color: #008000\">Llamas were first domesticated and used as pack animals 4,001 to 5,001 years ago in</span> │ <span style=\"color: #008000; text-decoration-color: #008000\">0.78</span>  │\n",
       "│    │ <span style=\"color: #008000; text-decoration-color: #008000\">expected(1)</span>  │ <span style=\"color: #008000; text-decoration-color: #008000\">the Peruvian highlands</span>                                                              │       │\n",
       "├────┼──────────────┼─────────────────────────────────────────────────────────────────────────────────────┼───────┤\n",
       "│    │ <span style=\"color: #800000; text-decoration-color: #800000; font-weight: bold\">got(9)</span>       │ <span style=\"color: #800000; text-decoration-color: #800000; font-weight: bold\">Dogs are not good pack animals, but do often live in packs, sometimes in Lima</span>       │ <span style=\"color: #800000; text-decoration-color: #800000; font-weight: bold\">0.90</span>  │\n",
       "│    │ <span style=\"color: #808080; text-decoration-color: #808080\">expected(6)</span>  │ <span style=\"color: #808080; text-decoration-color: #808080\">Many places in South America, including Peru, have packs of llamas in the </span>          │       │\n",
       "│    │              │ <span style=\"color: #808080; text-decoration-color: #808080\">mountains.</span>                                                                          │       │\n",
       "├────┼──────────────┼─────────────────────────────────────────────────────────────────────────────────────┼───────┤\n",
       "│    │              │ <span style=\"color: #808080; text-decoration-color: #808080\">Many places in South America, including Peru, have packs of llamas in the </span>          │ 0.92  │\n",
       "│    │              │ <span style=\"color: #808080; text-decoration-color: #808080\">mountains.</span>                                                                          │       │\n",
       "├────┼──────────────┼─────────────────────────────────────────────────────────────────────────────────────┼───────┤\n",
       "│<span style=\"color: #00005f; text-decoration-color: #00005f; background-color: #d7d7d7; font-weight: bold\"> 5) </span>│<span style=\"color: #00005f; text-decoration-color: #00005f; background-color: #d7d7d7; font-weight: bold\"> QUESTION     </span>│<span style=\"color: #00005f; text-decoration-color: #00005f; background-color: #d7d7d7; font-weight: bold\"> good pack animal?                                                                   </span>│<span style=\"color: #00005f; text-decoration-color: #00005f; background-color: #d7d7d7; font-weight: bold\">       </span>│\n",
       "├────┼──────────────┼─────────────────────────────────────────────────────────────────────────────────────┼───────┤\n",
       "│    │ <span style=\"color: #800000; text-decoration-color: #800000; font-weight: bold\">got(9)</span>       │ <span style=\"color: #800000; text-decoration-color: #800000; font-weight: bold\">Dogs are not good pack animals, but do often live in packs, sometimes in Lima</span>       │ <span style=\"color: #800000; text-decoration-color: #800000; font-weight: bold\">0.86</span>  │\n",
       "│    │ <span style=\"color: #808080; text-decoration-color: #808080\">expected(1)</span>  │ <span style=\"color: #808080; text-decoration-color: #808080\">Llamas were first domesticated and used as pack animals 4,001 to 5,001 years ago in</span> │       │\n",
       "│    │              │ <span style=\"color: #808080; text-decoration-color: #808080\">the Peruvian highlands</span>                                                              │       │\n",
       "├────┼──────────────┼─────────────────────────────────────────────────────────────────────────────────────┼───────┤\n",
       "│    │ <span style=\"color: #800000; text-decoration-color: #800000; font-weight: bold\">got(8)</span>       │ <span style=\"color: #800000; text-decoration-color: #800000; font-weight: bold\">House cats generally do not live in packs, they are often solitary animals, even in</span> │ <span style=\"color: #800000; text-decoration-color: #800000; font-weight: bold\">1.22</span>  │\n",
       "│    │ <span style=\"color: #808080; text-decoration-color: #808080\">expected(10)</span> │ <span style=\"color: #800000; text-decoration-color: #800000; font-weight: bold\">Cusco.</span>                                                                              │       │\n",
       "│    │              │ <span style=\"color: #808080; text-decoration-color: #808080\">Mules are beasts of burden; they can carry substantial loads on trips.</span>              │       │\n",
       "├────┼──────────────┼─────────────────────────────────────────────────────────────────────────────────────┼───────┤\n",
       "│    │              │ <span style=\"color: #808080; text-decoration-color: #808080\">Mules are beasts of burden; they can carry substantial loads on trips.</span>              │ 1.33  │\n",
       "├────┼──────────────┼─────────────────────────────────────────────────────────────────────────────────────┼───────┤\n",
       "│<span style=\"color: #00005f; text-decoration-color: #00005f; background-color: #d7d7d7; font-weight: bold\"> 6) </span>│<span style=\"color: #00005f; text-decoration-color: #00005f; background-color: #d7d7d7; font-weight: bold\"> QUESTION     </span>│<span style=\"color: #00005f; text-decoration-color: #00005f; background-color: #d7d7d7; font-weight: bold\"> animals live in packs                                                               </span>│<span style=\"color: #00005f; text-decoration-color: #00005f; background-color: #d7d7d7; font-weight: bold\">       </span>│\n",
       "├────┼──────────────┼─────────────────────────────────────────────────────────────────────────────────────┼───────┤\n",
       "│    │ <span style=\"color: #008000; text-decoration-color: #008000\">got(9) </span>      │ <span style=\"color: #008000; text-decoration-color: #008000\">Dogs are not good pack animals, but do often live in packs, sometimes in Lima</span>       │ <span style=\"color: #008000; text-decoration-color: #008000\">0.61</span>  │\n",
       "│    │ <span style=\"color: #008000; text-decoration-color: #008000\">expected(9)</span>  │                                                                                     │       │\n",
       "├────┼──────────────┼─────────────────────────────────────────────────────────────────────────────────────┼───────┤\n",
       "│    │ <span style=\"color: #008000; text-decoration-color: #008000\">got(8) </span>      │ <span style=\"color: #008000; text-decoration-color: #008000\">House cats generally do not live in packs, they are often solitary animals, even in</span> │ <span style=\"color: #008000; text-decoration-color: #008000\">0.77</span>  │\n",
       "│    │ <span style=\"color: #008000; text-decoration-color: #008000\">expected(8)</span>  │ <span style=\"color: #008000; text-decoration-color: #008000\">Cusco.</span>                                                                              │       │\n",
       "├────┼──────────────┼─────────────────────────────────────────────────────────────────────────────────────┼───────┤\n",
       "│    │              │ <span style=\"color: #808080; text-decoration-color: #808080\">Llamas were first domesticated and used as pack animals 4,001 to 5,001 years ago in</span> │ 1.22  │\n",
       "│    │              │ <span style=\"color: #808080; text-decoration-color: #808080\">the Peruvian highlands</span>                                                              │       │\n",
       "├────┼──────────────┼─────────────────────────────────────────────────────────────────────────────────────┼───────┤\n",
       "│<span style=\"color: #00005f; text-decoration-color: #00005f; background-color: #d7d7d7; font-weight: bold\"> 7) </span>│<span style=\"color: #00005f; text-decoration-color: #00005f; background-color: #d7d7d7; font-weight: bold\"> QUESTION     </span>│<span style=\"color: #00005f; text-decoration-color: #00005f; background-color: #d7d7d7; font-weight: bold\"> How long do animals live?                                                           </span>│<span style=\"color: #00005f; text-decoration-color: #00005f; background-color: #d7d7d7; font-weight: bold\">       </span>│\n",
       "├────┼──────────────┼─────────────────────────────────────────────────────────────────────────────────────┼───────┤\n",
       "│    │ <span style=\"color: #008000; text-decoration-color: #008000\">got(7) </span>      │ <span style=\"color: #008000; text-decoration-color: #008000\">Dogs have an average life-span of a dozen years or so.</span>                              │ <span style=\"color: #008000; text-decoration-color: #008000\">0.58</span>  │\n",
       "│    │ <span style=\"color: #008000; text-decoration-color: #008000\">expected(7)</span>  │                                                                                     │       │\n",
       "├────┼──────────────┼─────────────────────────────────────────────────────────────────────────────────────┼───────┤\n",
       "│    │ <span style=\"color: #008000; text-decoration-color: #008000\">got(5) </span>      │ <span style=\"color: #008000; text-decoration-color: #008000\">Llamas live to be about 20 years old, though some only live for 15 years and others</span> │ <span style=\"color: #008000; text-decoration-color: #008000\">0.79</span>  │\n",
       "│    │ <span style=\"color: #008000; text-decoration-color: #008000\">expected(5)</span>  │ <span style=\"color: #008000; text-decoration-color: #008000\">live to be 30 years old</span>                                                             │       │\n",
       "├────┼──────────────┼─────────────────────────────────────────────────────────────────────────────────────┼───────┤\n",
       "│    │              │ <span style=\"color: #808080; text-decoration-color: #808080\">Dogs are not good pack animals, but do often live in packs, sometimes in Lima</span>       │ 1.28  │\n",
       "└────┴──────────────┴─────────────────────────────────────────────────────────────────────────────────────┴───────┘\n",
       "</pre>\n"
      ],
      "text/plain": [
       "\u001b[3m                                          Simple Semantic Search Results                                           \u001b[0m\n",
       "┏━━━━┳━━━━━━━━━━━━━━┳━━━━━━━━━━━━━━━━━━━━━━━━━━━━━━━━━━━━━━━━━━━━━━━━━━━━━━━━━━━━━━━━━━━━━━━━━━━━━━━━━━━━━┳━━━━━━━┓\n",
       "┃\u001b[1m \u001b[0m\u001b[1m# \u001b[0m\u001b[1m \u001b[0m┃\u001b[1m \u001b[0m\u001b[1mStatus      \u001b[0m\u001b[1m \u001b[0m┃\u001b[1m \u001b[0m\u001b[1mContent                                                                            \u001b[0m\u001b[1m \u001b[0m┃\u001b[1m \u001b[0m\u001b[1mScore\u001b[0m\u001b[1m \u001b[0m┃\n",
       "┡━━━━╇━━━━━━━━━━━━━━╇━━━━━━━━━━━━━━━━━━━━━━━━━━━━━━━━━━━━━━━━━━━━━━━━━━━━━━━━━━━━━━━━━━━━━━━━━━━━━━━━━━━━━╇━━━━━━━┩\n",
       "│\u001b[1;38;5;17;48;5;188m \u001b[0m\u001b[1;38;5;17;48;5;188m1)\u001b[0m\u001b[1;38;5;17;48;5;188m \u001b[0m│\u001b[1;38;5;17;48;5;188m \u001b[0m\u001b[1;38;5;17;48;5;188mQUESTION    \u001b[0m\u001b[1;38;5;17;48;5;188m \u001b[0m│\u001b[1;38;5;17;48;5;188m \u001b[0m\u001b[1;38;5;17;48;5;188mHow much do llamas weight?                                                         \u001b[0m\u001b[1;38;5;17;48;5;188m \u001b[0m│\u001b[1;38;5;17;48;5;188m \u001b[0m\u001b[1;38;5;17;48;5;188m     \u001b[0m\u001b[1;38;5;17;48;5;188m \u001b[0m│\n",
       "├────┼──────────────┼─────────────────────────────────────────────────────────────────────────────────────┼───────┤\n",
       "│    │ \u001b[32mgot(3) \u001b[0m      │ \u001b[32mLlamas weigh between 280 and 450 pounds and can carry 25 to 30 percent of their \u001b[0m    │ \u001b[32m0.24\u001b[0m  │\n",
       "│    │ \u001b[32mexpected(3)\u001b[0m  │ \u001b[32mbody weight\u001b[0m                                                                         │       │\n",
       "├────┼──────────────┼─────────────────────────────────────────────────────────────────────────────────────┼───────┤\n",
       "│    │ \u001b[32mgot(2) \u001b[0m      │ \u001b[32mLlamas can grow as much as 8 feet tall though the average llama between 7 feet 8 \u001b[0m   │ \u001b[32m0.72\u001b[0m  │\n",
       "│    │ \u001b[32mexpected(2)\u001b[0m  │ \u001b[32minches and 7 feet 11 inches tall\u001b[0m                                                    │       │\n",
       "├────┼──────────────┼─────────────────────────────────────────────────────────────────────────────────────┼───────┤\n",
       "│    │              │ \u001b[90mLlamas are vegetarians and have very efficient digestive systems\u001b[0m                    │ 0.75  │\n",
       "├────┼──────────────┼─────────────────────────────────────────────────────────────────────────────────────┼───────┤\n",
       "│\u001b[1;38;5;17;48;5;188m \u001b[0m\u001b[1;38;5;17;48;5;188m2)\u001b[0m\u001b[1;38;5;17;48;5;188m \u001b[0m│\u001b[1;38;5;17;48;5;188m \u001b[0m\u001b[1;38;5;17;48;5;188mQUESTION    \u001b[0m\u001b[1;38;5;17;48;5;188m \u001b[0m│\u001b[1;38;5;17;48;5;188m \u001b[0m\u001b[1;38;5;17;48;5;188mWhere were llamas domesticated?                                                    \u001b[0m\u001b[1;38;5;17;48;5;188m \u001b[0m│\u001b[1;38;5;17;48;5;188m \u001b[0m\u001b[1;38;5;17;48;5;188m     \u001b[0m\u001b[1;38;5;17;48;5;188m \u001b[0m│\n",
       "├────┼──────────────┼─────────────────────────────────────────────────────────────────────────────────────┼───────┤\n",
       "│    │ \u001b[32mgot(1) \u001b[0m      │ \u001b[32mLlamas were first domesticated and used as pack animals 4,001 to 5,001 years ago in\u001b[0m │ \u001b[32m0.48\u001b[0m  │\n",
       "│    │ \u001b[32mexpected(1)\u001b[0m  │ \u001b[32mthe Peruvian highlands\u001b[0m                                                              │       │\n",
       "├────┼──────────────┼─────────────────────────────────────────────────────────────────────────────────────┼───────┤\n",
       "│    │ \u001b[1;31mgot(5)\u001b[0m       │ \u001b[1;31mLlamas live to be about 20 years old, though some only live for 15 years and others\u001b[0m │ \u001b[1;31m0.71\u001b[0m  │\n",
       "│    │ \u001b[90mexpected(6)\u001b[0m  │ \u001b[1;31mlive to be 30 years old\u001b[0m                                                             │       │\n",
       "│    │              │ \u001b[90mMany places in South America, including Peru, have packs of llamas in the \u001b[0m          │       │\n",
       "│    │              │ \u001b[90mmountains.\u001b[0m                                                                          │       │\n",
       "├────┼──────────────┼─────────────────────────────────────────────────────────────────────────────────────┼───────┤\n",
       "│    │              │ \u001b[90mLlamas are vegetarians and have very efficient digestive systems\u001b[0m                    │ 0.76  │\n",
       "├────┼──────────────┼─────────────────────────────────────────────────────────────────────────────────────┼───────┤\n",
       "│\u001b[1;38;5;17;48;5;188m \u001b[0m\u001b[1;38;5;17;48;5;188m3)\u001b[0m\u001b[1;38;5;17;48;5;188m \u001b[0m│\u001b[1;38;5;17;48;5;188m \u001b[0m\u001b[1;38;5;17;48;5;188mQUESTION    \u001b[0m\u001b[1;38;5;17;48;5;188m \u001b[0m│\u001b[1;38;5;17;48;5;188m \u001b[0m\u001b[1;38;5;17;48;5;188mllamas domesticated                                                                \u001b[0m\u001b[1;38;5;17;48;5;188m \u001b[0m│\u001b[1;38;5;17;48;5;188m \u001b[0m\u001b[1;38;5;17;48;5;188m     \u001b[0m\u001b[1;38;5;17;48;5;188m \u001b[0m│\n",
       "├────┼──────────────┼─────────────────────────────────────────────────────────────────────────────────────┼───────┤\n",
       "│    │ \u001b[32mgot(1) \u001b[0m      │ \u001b[32mLlamas were first domesticated and used as pack animals 4,001 to 5,001 years ago in\u001b[0m │ \u001b[32m0.59\u001b[0m  │\n",
       "│    │ \u001b[32mexpected(1)\u001b[0m  │ \u001b[32mthe Peruvian highlands\u001b[0m                                                              │       │\n",
       "├────┼──────────────┼─────────────────────────────────────────────────────────────────────────────────────┼───────┤\n",
       "│    │ \u001b[1;31mgot(4)\u001b[0m       │ \u001b[1;31mLlamas are vegetarians and have very efficient digestive systems\u001b[0m                    │ \u001b[1;31m0.66\u001b[0m  │\n",
       "│    │ \u001b[90mexpected(6)\u001b[0m  │ \u001b[90mMany places in South America, including Peru, have packs of llamas in the \u001b[0m          │       │\n",
       "│    │              │ \u001b[90mmountains.\u001b[0m                                                                          │       │\n",
       "├────┼──────────────┼─────────────────────────────────────────────────────────────────────────────────────┼───────┤\n",
       "│    │              │ \u001b[90mLlamas live to be about 20 years old, though some only live for 15 years and others\u001b[0m │ 0.74  │\n",
       "│    │              │ \u001b[90mlive to be 30 years old\u001b[0m                                                             │       │\n",
       "├────┼──────────────┼─────────────────────────────────────────────────────────────────────────────────────┼───────┤\n",
       "│\u001b[1;38;5;17;48;5;188m \u001b[0m\u001b[1;38;5;17;48;5;188m4)\u001b[0m\u001b[1;38;5;17;48;5;188m \u001b[0m│\u001b[1;38;5;17;48;5;188m \u001b[0m\u001b[1;38;5;17;48;5;188mQUESTION    \u001b[0m\u001b[1;38;5;17;48;5;188m \u001b[0m│\u001b[1;38;5;17;48;5;188m \u001b[0m\u001b[1;38;5;17;48;5;188mWhat animal is in Peru?                                                            \u001b[0m\u001b[1;38;5;17;48;5;188m \u001b[0m│\u001b[1;38;5;17;48;5;188m \u001b[0m\u001b[1;38;5;17;48;5;188m     \u001b[0m\u001b[1;38;5;17;48;5;188m \u001b[0m│\n",
       "├────┼──────────────┼─────────────────────────────────────────────────────────────────────────────────────┼───────┤\n",
       "│    │ \u001b[32mgot(1) \u001b[0m      │ \u001b[32mLlamas were first domesticated and used as pack animals 4,001 to 5,001 years ago in\u001b[0m │ \u001b[32m0.78\u001b[0m  │\n",
       "│    │ \u001b[32mexpected(1)\u001b[0m  │ \u001b[32mthe Peruvian highlands\u001b[0m                                                              │       │\n",
       "├────┼──────────────┼─────────────────────────────────────────────────────────────────────────────────────┼───────┤\n",
       "│    │ \u001b[1;31mgot(9)\u001b[0m       │ \u001b[1;31mDogs are not good pack animals, but do often live in packs, sometimes in Lima\u001b[0m       │ \u001b[1;31m0.90\u001b[0m  │\n",
       "│    │ \u001b[90mexpected(6)\u001b[0m  │ \u001b[90mMany places in South America, including Peru, have packs of llamas in the \u001b[0m          │       │\n",
       "│    │              │ \u001b[90mmountains.\u001b[0m                                                                          │       │\n",
       "├────┼──────────────┼─────────────────────────────────────────────────────────────────────────────────────┼───────┤\n",
       "│    │              │ \u001b[90mMany places in South America, including Peru, have packs of llamas in the \u001b[0m          │ 0.92  │\n",
       "│    │              │ \u001b[90mmountains.\u001b[0m                                                                          │       │\n",
       "├────┼──────────────┼─────────────────────────────────────────────────────────────────────────────────────┼───────┤\n",
       "│\u001b[1;38;5;17;48;5;188m \u001b[0m\u001b[1;38;5;17;48;5;188m5)\u001b[0m\u001b[1;38;5;17;48;5;188m \u001b[0m│\u001b[1;38;5;17;48;5;188m \u001b[0m\u001b[1;38;5;17;48;5;188mQUESTION    \u001b[0m\u001b[1;38;5;17;48;5;188m \u001b[0m│\u001b[1;38;5;17;48;5;188m \u001b[0m\u001b[1;38;5;17;48;5;188mgood pack animal?                                                                  \u001b[0m\u001b[1;38;5;17;48;5;188m \u001b[0m│\u001b[1;38;5;17;48;5;188m \u001b[0m\u001b[1;38;5;17;48;5;188m     \u001b[0m\u001b[1;38;5;17;48;5;188m \u001b[0m│\n",
       "├────┼──────────────┼─────────────────────────────────────────────────────────────────────────────────────┼───────┤\n",
       "│    │ \u001b[1;31mgot(9)\u001b[0m       │ \u001b[1;31mDogs are not good pack animals, but do often live in packs, sometimes in Lima\u001b[0m       │ \u001b[1;31m0.86\u001b[0m  │\n",
       "│    │ \u001b[90mexpected(1)\u001b[0m  │ \u001b[90mLlamas were first domesticated and used as pack animals 4,001 to 5,001 years ago in\u001b[0m │       │\n",
       "│    │              │ \u001b[90mthe Peruvian highlands\u001b[0m                                                              │       │\n",
       "├────┼──────────────┼─────────────────────────────────────────────────────────────────────────────────────┼───────┤\n",
       "│    │ \u001b[1;31mgot(8)\u001b[0m       │ \u001b[1;31mHouse cats generally do not live in packs, they are often solitary animals, even in\u001b[0m │ \u001b[1;31m1.22\u001b[0m  │\n",
       "│    │ \u001b[90mexpected(10)\u001b[0m │ \u001b[1;31mCusco.\u001b[0m                                                                              │       │\n",
       "│    │              │ \u001b[90mMules are beasts of burden; they can carry substantial loads on trips.\u001b[0m              │       │\n",
       "├────┼──────────────┼─────────────────────────────────────────────────────────────────────────────────────┼───────┤\n",
       "│    │              │ \u001b[90mMules are beasts of burden; they can carry substantial loads on trips.\u001b[0m              │ 1.33  │\n",
       "├────┼──────────────┼─────────────────────────────────────────────────────────────────────────────────────┼───────┤\n",
       "│\u001b[1;38;5;17;48;5;188m \u001b[0m\u001b[1;38;5;17;48;5;188m6)\u001b[0m\u001b[1;38;5;17;48;5;188m \u001b[0m│\u001b[1;38;5;17;48;5;188m \u001b[0m\u001b[1;38;5;17;48;5;188mQUESTION    \u001b[0m\u001b[1;38;5;17;48;5;188m \u001b[0m│\u001b[1;38;5;17;48;5;188m \u001b[0m\u001b[1;38;5;17;48;5;188manimals live in packs                                                              \u001b[0m\u001b[1;38;5;17;48;5;188m \u001b[0m│\u001b[1;38;5;17;48;5;188m \u001b[0m\u001b[1;38;5;17;48;5;188m     \u001b[0m\u001b[1;38;5;17;48;5;188m \u001b[0m│\n",
       "├────┼──────────────┼─────────────────────────────────────────────────────────────────────────────────────┼───────┤\n",
       "│    │ \u001b[32mgot(9) \u001b[0m      │ \u001b[32mDogs are not good pack animals, but do often live in packs, sometimes in Lima\u001b[0m       │ \u001b[32m0.61\u001b[0m  │\n",
       "│    │ \u001b[32mexpected(9)\u001b[0m  │                                                                                     │       │\n",
       "├────┼──────────────┼─────────────────────────────────────────────────────────────────────────────────────┼───────┤\n",
       "│    │ \u001b[32mgot(8) \u001b[0m      │ \u001b[32mHouse cats generally do not live in packs, they are often solitary animals, even in\u001b[0m │ \u001b[32m0.77\u001b[0m  │\n",
       "│    │ \u001b[32mexpected(8)\u001b[0m  │ \u001b[32mCusco.\u001b[0m                                                                              │       │\n",
       "├────┼──────────────┼─────────────────────────────────────────────────────────────────────────────────────┼───────┤\n",
       "│    │              │ \u001b[90mLlamas were first domesticated and used as pack animals 4,001 to 5,001 years ago in\u001b[0m │ 1.22  │\n",
       "│    │              │ \u001b[90mthe Peruvian highlands\u001b[0m                                                              │       │\n",
       "├────┼──────────────┼─────────────────────────────────────────────────────────────────────────────────────┼───────┤\n",
       "│\u001b[1;38;5;17;48;5;188m \u001b[0m\u001b[1;38;5;17;48;5;188m7)\u001b[0m\u001b[1;38;5;17;48;5;188m \u001b[0m│\u001b[1;38;5;17;48;5;188m \u001b[0m\u001b[1;38;5;17;48;5;188mQUESTION    \u001b[0m\u001b[1;38;5;17;48;5;188m \u001b[0m│\u001b[1;38;5;17;48;5;188m \u001b[0m\u001b[1;38;5;17;48;5;188mHow long do animals live?                                                          \u001b[0m\u001b[1;38;5;17;48;5;188m \u001b[0m│\u001b[1;38;5;17;48;5;188m \u001b[0m\u001b[1;38;5;17;48;5;188m     \u001b[0m\u001b[1;38;5;17;48;5;188m \u001b[0m│\n",
       "├────┼──────────────┼─────────────────────────────────────────────────────────────────────────────────────┼───────┤\n",
       "│    │ \u001b[32mgot(7) \u001b[0m      │ \u001b[32mDogs have an average life-span of a dozen years or so.\u001b[0m                              │ \u001b[32m0.58\u001b[0m  │\n",
       "│    │ \u001b[32mexpected(7)\u001b[0m  │                                                                                     │       │\n",
       "├────┼──────────────┼─────────────────────────────────────────────────────────────────────────────────────┼───────┤\n",
       "│    │ \u001b[32mgot(5) \u001b[0m      │ \u001b[32mLlamas live to be about 20 years old, though some only live for 15 years and others\u001b[0m │ \u001b[32m0.79\u001b[0m  │\n",
       "│    │ \u001b[32mexpected(5)\u001b[0m  │ \u001b[32mlive to be 30 years old\u001b[0m                                                             │       │\n",
       "├────┼──────────────┼─────────────────────────────────────────────────────────────────────────────────────┼───────┤\n",
       "│    │              │ \u001b[90mDogs are not good pack animals, but do often live in packs, sometimes in Lima\u001b[0m       │ 1.28  │\n",
       "└────┴──────────────┴─────────────────────────────────────────────────────────────────────────────────────┴───────┘\n"
      ]
     },
     "metadata": {},
     "output_type": "display_data"
    }
   ],
   "source": [
    "# print(f\"\\nready for queries on collection: {col_name}\")\n",
    "for q_number in questions:\n",
    "    prompt = questions[q_number]['q']\n",
    "    expected_ids = questions[q_number]['ids']\n",
    "    table.add_row(f\"{q_number})\",  f\"QUESTION\", f\"{prompt}\", style='navy_blue on grey84 bold')\n",
    "    # use default collection embedding function for the prompt and retrieve the most relevant doc\n",
    "    results = collection.query(\n",
    "        query_texts=[prompt],\n",
    "        n_results=3\n",
    "    )\n",
    "\n",
    "    answers = results[\"documents\"][0]\n",
    "    for i, answer in enumerate(answers):\n",
    "        id = int(results[\"ids\"][0][i])\n",
    "        distance = results[\"distances\"][0][i]\n",
    "        if(i < len(expected_ids)):\n",
    "            expected = expected_ids[i]\n",
    "            if(id==expected):\n",
    "                # print(f\"\\t[green bold]got({id}):expected({expected}) (distance:{distance:.2f}): {answer}[/]\")\n",
    "                table.add_row('', f\"[{style_good}]got({id}) \\nexpected({expected})[/]\", f\"[{style_good}]{answer}[/]\",  f\"[{style_good}]{distance:.2f}\")\n",
    "            else:\n",
    "                table.add_row('', f\"[{style_failed}]got({id})[/] \\n[{style_info}]expected({expected})[/]\", f\"[{style_failed}]{answer}[/] \\n[{style_info}]{documents[expected]}[/]\" ,  f\"[{style_failed}]{distance:.2f}\")\n",
    "        else:\n",
    "            # table.add_row('', f\"[light_slate_grey](outside test)[/]\", f\"[light_slate_grey]{answer}[/]\", f\"{distance:.2f}\")\n",
    "            table.add_row('', '', f\"[{style_info}]{answer}[/]\", f\"{distance:.2f}\")\n",
    "\n",
    "console.print(table)"
   ]
  },
  {
   "cell_type": "code",
   "execution_count": null,
   "id": "d0aaaf8b-f179-429e-96f7-533b514b4a0b",
   "metadata": {},
   "outputs": [],
   "source": []
  }
 ],
 "metadata": {
  "kernelspec": {
   "display_name": "wt2",
   "language": "python",
   "name": "wt2"
  },
  "language_info": {
   "codemirror_mode": {
    "name": "ipython",
    "version": 3
   },
   "file_extension": ".py",
   "mimetype": "text/x-python",
   "name": "python",
   "nbconvert_exporter": "python",
   "pygments_lexer": "ipython3",
   "version": "3.10.12"
  }
 },
 "nbformat": 4,
 "nbformat_minor": 5
}
