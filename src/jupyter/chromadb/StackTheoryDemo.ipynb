{
 "cells": [
  {
   "cell_type": "markdown",
   "id": "86f2fdab-671e-40e8-ac28-e2570b8dfd1b",
   "metadata": {},
   "source": [
    "# StackTheory LLM/ML Demo 1\n"
   ]
  },
  {
   "cell_type": "code",
   "execution_count": 1,
   "id": "24174a1f-211c-4fdb-ab09-95c9e148517d",
   "metadata": {},
   "outputs": [],
   "source": [
    "#!pip install chroma-haystack"
   ]
  },
  {
   "cell_type": "code",
   "execution_count": 2,
   "id": "0c3f3ad3-5a41-458a-8c8f-7e5ea1130cf9",
   "metadata": {},
   "outputs": [],
   "source": [
    "import torch\n",
    "from haystack import Pipeline, Document\n",
    "from haystack.components.embedders import SentenceTransformersDocumentEmbedder\n",
    "from haystack.components.embedders import SentenceTransformersTextEmbedder\n",
    "from haystack.components.preprocessors import DocumentSplitter, DocumentCleaner\n",
    "from haystack.components.writers import DocumentWriter\n",
    "# Create pipeline components\n",
    "from haystack_integrations.components.retrievers.chroma import ChromaQueryTextRetriever\n",
    "from haystack_integrations.document_stores.chroma import ChromaDocumentStore\n",
    "\n",
    "from rich import print  # https://rich.readthedocs.io/en/stable/markup.html#console-markup\n",
    "from rich.console import Console\n",
    "from rich.highlighter import RegexHighlighter\n",
    "from rich.style import Style\n",
    "from rich.table import Table\n",
    "from rich.theme import Theme"
   ]
  },
  {
   "cell_type": "code",
   "execution_count": 3,
   "id": "c4597bd3-3646-41d3-9418-bd5917826e26",
   "metadata": {},
   "outputs": [],
   "source": [
    "hl_list = [\n",
    "    r\"(?i)(?P<bankother>phone|bank shot|bank of the|banked)\",\n",
    "    r\"(?i)(?P<bank>bank|boa|teller|deposit|vault|account)\",\n",
    "\n",
    "    r\"(?i)(?P<boardother>back board|board of direct|board the)\",\n",
    "    r\"(?i)(?P<board>board|plank|timber|2x4|wood supplies)\",\n",
    "\n",
    "    r\"(?i)(?P<flying>fly over|pilot|navigation|boeing|747|landing)\",\n",
    "    r\"(?i)(?P<cool>fly sister|cool)\",\n",
    "    r\"(?i)(?P<fly>fly)\",\n",
    "]\n",
    "\n",
    "class MyHighlighter(RegexHighlighter):\n",
    "    \"\"\"Apply style to anything that looks like an email.\"\"\"\n",
    "    base_style = \"example.\"\n",
    "    highlights = hl_list\n",
    "\n",
    "my_hl = MyHighlighter()\n",
    "\n",
    "theme = Theme(\n",
    "    {\"example.bankother\": Style(color='green', bgcolor=\"grey93\"),\n",
    "     \"example.bank\": Style(color='dark_green', bold=True),\n",
    "\n",
    "     \"example.boardother\": Style(color='blue', bgcolor=\"grey93\"),\n",
    "     \"example.board\": \"bold dark_blue\",\n",
    "\n",
    "     \"example.cool\": Style(color='magenta', bgcolor=\"grey93\"),\n",
    "     \"example.flyother\": Style(color='red', bgcolor=\"grey93\"),\n",
    "     \"example.flying\": Style(color='dark_red', bold=True),\n",
    "     })\n",
    "\n",
    "console = Console(highlighter=my_hl, theme=theme)"
   ]
  },
  {
   "cell_type": "code",
   "execution_count": 4,
   "id": "3b84c6c1-637f-4b0d-b9f3-be126228d58b",
   "metadata": {},
   "outputs": [
    {
     "data": {
      "text/html": [
       "<pre style=\"white-space:pre;overflow-x:auto;line-height:normal;font-family:Menlo,'DejaVu Sans Mono',consolas,'Courier New',monospace\">Torchy?? <span style=\"color: #800000; text-decoration-color: #800000; font-style: italic\">True</span>\n",
       "</pre>\n"
      ],
      "text/plain": [
       "Torchy?? \u001b[3;31mTrue\u001b[0m\n"
      ]
     },
     "metadata": {},
     "output_type": "display_data"
    }
   ],
   "source": [
    "print(f\"Torchy?? [red]{torch.cuda.is_available()}[/red]\")\n",
    "embedding_model = \"sentence-transformers/all-MiniLM-L6-v2\""
   ]
  },
  {
   "cell_type": "code",
   "execution_count": 5,
   "id": "021ca24c-8c8c-4560-9a0c-7f361370fc0c",
   "metadata": {},
   "outputs": [
    {
     "data": {
      "text/html": [
       "<pre style=\"white-space:pre;overflow-x:auto;line-height:normal;font-family:Menlo,'DejaVu Sans Mono',consolas,'Courier New',monospace\">File exists?? <span style=\"color: #00ff00; text-decoration-color: #00ff00; font-style: italic\">True</span>\n",
       "</pre>\n"
      ],
      "text/plain": [
       "File exists?? \u001b[3;92mTrue\u001b[0m\n"
      ]
     },
     "metadata": {},
     "output_type": "display_data"
    }
   ],
   "source": [
    "from os.path import exists\n",
    "\n",
    "document_store = ChromaDocumentStore()\n",
    "# document_store = Pinecone... TODO...\n",
    "fpath = '../data/test-paragraphs.txt'\n",
    "file_exists = exists(fpath)\n",
    "print(f\"File exists?? {file_exists}\")"
   ]
  },
  {
   "cell_type": "code",
   "execution_count": 6,
   "id": "ac7c7169-4049-4922-9a7e-6a6925b0b451",
   "metadata": {},
   "outputs": [],
   "source": [
    "def process_text(content, embedding_mode, document_store):\n",
    "    print(f\"Read content (len:{len(content)}) from path: {fpath}\")\n",
    "\n",
    "    cleaner = DocumentCleaner(remove_repeated_substrings=True)\n",
    "    big_doc = Document('doc1', content=content)\n",
    "    print(f\"Doc store STARTS with: {document_store.count_documents()} documents\")\n",
    "    splitter = DocumentSplitter(split_by=\"sentence\", split_length=1, split_overlap=0)\n",
    "    chunked_docs = splitter.run(documents=[big_doc])\n",
    "    # todo - some better way to do this??\n",
    "    cnt = 0\n",
    "    for chunk in chunked_docs[\"documents\"]:\n",
    "        cnt += 1\n",
    "        chunk.id = f\"{big_doc.id}--{cnt}\"\n",
    "\n",
    "    document_embedder = SentenceTransformersDocumentEmbedder(model=embedding_model)\n",
    "    document_writer = DocumentWriter(document_store)\n",
    "    indexing = Pipeline()\n",
    "    # indexing.add_component(instance=cleaner, name=\"document_cleaner\")\n",
    "    # indexing.add_component(instance=splitter, name=\"document_splitter\")\n",
    "    indexing.add_component(instance=document_embedder, name=\"document_embedder\")\n",
    "    indexing.add_component(instance=document_writer, name=\"document_writer\")\n",
    "    # indexing.connect(\"converter\", \"document_cleaner\")\n",
    "    # indexing.connect(\"document_cleaner\", \"document_embedder\")\n",
    "    # indexing.connect(\"document_splitter\", \"document_embedder\")\n",
    "    indexing.connect(\"document_embedder\", \"document_writer\")\n",
    "    print(f\"[green]Indexing {len(chunked_docs['documents'])} documents\")\n",
    "    # print(f\"[green]Indexing {big_doc}\")\n",
    "    indexing.run({\"document_embedder\": {\"documents\": chunked_docs[\"documents\"]}})\n",
    "    # indexing.run({\"document_cleaner\": {\"documents\": chunked_docs[\"documents\"]}})\n",
    "    print(f\"[green]Doc store AFTER indexing: {document_store.count_documents()} documents\")"
   ]
  },
  {
   "cell_type": "code",
   "execution_count": 7,
   "id": "4fef5460-9d7e-449b-9f0f-cbd1452b6b88",
   "metadata": {},
   "outputs": [],
   "source": [
    "def do_query(q, embedding_model, k_results, document_store):\n",
    "    retriever = ChromaQueryTextRetriever(document_store=document_store, top_k=k_results)\n",
    "    foo = retriever.run(q)\n",
    "\n",
    "    text_embedder = SentenceTransformersTextEmbedder(model=embedding_model)\n",
    "    text_embedder.warm_up()\n",
    "    bar = text_embedder.run(q)\n",
    "\n",
    "    query_pipeline = Pipeline()\n",
    "    # query_pipeline.add_component(\"text_embedder\", text_embedder)\n",
    "    query_pipeline.add_component(\"retriever\", retriever)\n",
    "    # query_embedding = text_embedder.run(text=query)\n",
    "    # result = query_pipeline.run({\"text_embedder\": {\"text\": query}})\n",
    "    # result = query_pipeline.run({\"retriever\":query_embedding})\n",
    "    results = query_pipeline.run({\"retriever\": {\"query\": q, \"top_k\": k_results}})\n",
    "    return results"
   ]
  },
  {
   "cell_type": "code",
   "execution_count": 8,
   "id": "5c388241-97c5-4dc7-907f-2482eeb75b5d",
   "metadata": {},
   "outputs": [],
   "source": [
    "def display_results(table_title, results, show_lines=True, width=150):\n",
    "    table = Table(title=table_title, show_lines=show_lines, width=width, highlight=True)\n",
    "    table.add_column(\"id\", style=\"blue\", )  # no_wrap=True\n",
    "    table.add_column(\"text\")  # no_wrap=True\n",
    "    table.add_column(\"Score\", style=\"blue\", )\n",
    "    for d in results[\"retriever\"][\"documents\"]:\n",
    "        # print(f\"Result: \", d.meta, d.score)\n",
    "        table.add_row(d.id, d.content.strip(), \"{:.2f}\".format(d.score))\n",
    "    console.print(table)\n",
    "    print('\\n\\n')"
   ]
  },
  {
   "cell_type": "code",
   "execution_count": 9,
   "id": "6d347979-b471-4824-9f43-405b97248039",
   "metadata": {},
   "outputs": [],
   "source": [
    "queries = [\n",
    "    'who is in the bank to deposit money?',\n",
    "    'who is on a bank?',\n",
    "\n",
    "    'where can I get a board for fixing my wall?',\n",
    "    'who is on the board?',\n",
    "\n",
    "    'who is flying in a plane?',\n",
    "    'who is looking super fly?',\n",
    "    'who is looking cool?',\n",
    "    ]\n",
    "\n",
    "k = 5"
   ]
  },
  {
   "cell_type": "code",
   "execution_count": 13,
   "id": "b4a58b39-4447-4626-a9a8-1ff9e9efe322",
   "metadata": {},
   "outputs": [
    {
     "data": {
      "text/html": [
       "<pre style=\"white-space:pre;overflow-x:auto;line-height:normal;font-family:Menlo,'DejaVu Sans Mono',consolas,'Courier New',monospace\">Got the text!\n",
       "</pre>\n"
      ],
      "text/plain": [
       "Got the text!\n"
      ]
     },
     "metadata": {},
     "output_type": "display_data"
    }
   ],
   "source": [
    "import requests\n",
    "fpath = 'https://raw.githubusercontent.com/seanoc5/wooly-tongue/main/data/test-paragraphs.txt'\n",
    "rsp = requests.get(fpath)\n",
    "if(rsp.status_code == 200):\n",
    "    print(f\"Got the text!\")\n",
    "else:\n",
    "    print(\"ERROR: could not get text!!!\")\n",
    "    "
   ]
  },
  {
   "cell_type": "code",
   "execution_count": 14,
   "id": "cc827f3c-574c-4bb9-9b79-05024ac322ad",
   "metadata": {
    "scrolled": true
   },
   "outputs": [
    {
     "data": {
      "text/html": [
       "<pre style=\"white-space:pre;overflow-x:auto;line-height:normal;font-family:Menlo,'DejaVu Sans Mono',consolas,'Courier New',monospace\">Read content <span style=\"font-weight: bold\">(</span>len:<span style=\"color: #008080; text-decoration-color: #008080; font-weight: bold\">1677</span><span style=\"font-weight: bold\">)</span> from path: \n",
       "<span style=\"color: #0000ff; text-decoration-color: #0000ff; text-decoration: underline\">https://raw.githubusercontent.com/seanoc5/wooly-tongue/main/data/test-paragraphs.txt</span>\n",
       "</pre>\n"
      ],
      "text/plain": [
       "Read content \u001b[1m(\u001b[0mlen:\u001b[1;36m1677\u001b[0m\u001b[1m)\u001b[0m from path: \n",
       "\u001b[4;94mhttps://raw.githubusercontent.com/seanoc5/wooly-tongue/main/data/test-paragraphs.txt\u001b[0m\n"
      ]
     },
     "metadata": {},
     "output_type": "display_data"
    },
    {
     "data": {
      "text/html": [
       "<pre style=\"white-space:pre;overflow-x:auto;line-height:normal;font-family:Menlo,'DejaVu Sans Mono',consolas,'Courier New',monospace\">Doc store STARTS with: <span style=\"color: #008080; text-decoration-color: #008080; font-weight: bold\">26</span> documents\n",
       "</pre>\n"
      ],
      "text/plain": [
       "Doc store STARTS with: \u001b[1;36m26\u001b[0m documents\n"
      ]
     },
     "metadata": {},
     "output_type": "display_data"
    },
    {
     "data": {
      "text/html": [
       "<pre style=\"white-space:pre;overflow-x:auto;line-height:normal;font-family:Menlo,'DejaVu Sans Mono',consolas,'Courier New',monospace\"><span style=\"color: #008000; text-decoration-color: #008000\">Indexing </span><span style=\"color: #008000; text-decoration-color: #008000; font-weight: bold\">26</span><span style=\"color: #008000; text-decoration-color: #008000\"> documents</span>\n",
       "</pre>\n"
      ],
      "text/plain": [
       "\u001b[32mIndexing \u001b[0m\u001b[1;32m26\u001b[0m\u001b[32m documents\u001b[0m\n"
      ]
     },
     "metadata": {},
     "output_type": "display_data"
    },
    {
     "data": {
      "application/vnd.jupyter.widget-view+json": {
       "model_id": "c9ce57011bf44553af90a31937024c6c",
       "version_major": 2,
       "version_minor": 0
      },
      "text/plain": [
       "Batches:   0%|          | 0/1 [00:00<?, ?it/s]"
      ]
     },
     "metadata": {},
     "output_type": "display_data"
    },
    {
     "name": "stderr",
     "output_type": "stream",
     "text": [
      "Add of existing embedding ID: doc1--1\n",
      "Insert of existing embedding ID: doc1--1\n",
      "Add of existing embedding ID: doc1--2\n",
      "Insert of existing embedding ID: doc1--2\n",
      "Add of existing embedding ID: doc1--3\n",
      "Insert of existing embedding ID: doc1--3\n",
      "Add of existing embedding ID: doc1--4\n",
      "Insert of existing embedding ID: doc1--4\n",
      "Add of existing embedding ID: doc1--5\n",
      "Insert of existing embedding ID: doc1--5\n",
      "Add of existing embedding ID: doc1--6\n",
      "Insert of existing embedding ID: doc1--6\n",
      "Add of existing embedding ID: doc1--7\n",
      "Insert of existing embedding ID: doc1--7\n",
      "Add of existing embedding ID: doc1--8\n",
      "Insert of existing embedding ID: doc1--8\n",
      "Add of existing embedding ID: doc1--9\n",
      "Insert of existing embedding ID: doc1--9\n",
      "Add of existing embedding ID: doc1--10\n",
      "Insert of existing embedding ID: doc1--10\n",
      "Add of existing embedding ID: doc1--11\n",
      "Insert of existing embedding ID: doc1--11\n",
      "Add of existing embedding ID: doc1--12\n",
      "Insert of existing embedding ID: doc1--12\n",
      "Add of existing embedding ID: doc1--13\n",
      "Insert of existing embedding ID: doc1--13\n",
      "Add of existing embedding ID: doc1--14\n",
      "Insert of existing embedding ID: doc1--14\n",
      "Add of existing embedding ID: doc1--15\n",
      "Insert of existing embedding ID: doc1--15\n",
      "Add of existing embedding ID: doc1--16\n",
      "Insert of existing embedding ID: doc1--16\n",
      "Add of existing embedding ID: doc1--17\n",
      "Insert of existing embedding ID: doc1--17\n",
      "Add of existing embedding ID: doc1--18\n",
      "Insert of existing embedding ID: doc1--18\n",
      "Add of existing embedding ID: doc1--19\n",
      "Insert of existing embedding ID: doc1--19\n",
      "Add of existing embedding ID: doc1--20\n",
      "Insert of existing embedding ID: doc1--20\n",
      "Add of existing embedding ID: doc1--21\n",
      "Insert of existing embedding ID: doc1--21\n",
      "Add of existing embedding ID: doc1--22\n",
      "Insert of existing embedding ID: doc1--22\n",
      "Add of existing embedding ID: doc1--23\n",
      "Insert of existing embedding ID: doc1--23\n",
      "Add of existing embedding ID: doc1--24\n",
      "Insert of existing embedding ID: doc1--24\n",
      "Add of existing embedding ID: doc1--25\n",
      "Insert of existing embedding ID: doc1--25\n",
      "Add of existing embedding ID: doc1--26\n",
      "Insert of existing embedding ID: doc1--26\n"
     ]
    },
    {
     "data": {
      "text/html": [
       "<pre style=\"white-space:pre;overflow-x:auto;line-height:normal;font-family:Menlo,'DejaVu Sans Mono',consolas,'Courier New',monospace\"><span style=\"color: #008000; text-decoration-color: #008000\">Doc store AFTER indexing: </span><span style=\"color: #008000; text-decoration-color: #008000; font-weight: bold\">26</span><span style=\"color: #008000; text-decoration-color: #008000\"> documents</span>\n",
       "</pre>\n"
      ],
      "text/plain": [
       "\u001b[32mDoc store AFTER indexing: \u001b[0m\u001b[1;32m26\u001b[0m\u001b[32m documents\u001b[0m\n"
      ]
     },
     "metadata": {},
     "output_type": "display_data"
    }
   ],
   "source": [
    "content = rsp.text\n",
    "# print(f\"Got content (len:{len(content)} from path: {fpath}, now process it (embed and save to doc store)\")\n",
    "process_text(content, embedding_model, document_store)"
   ]
  },
  {
   "cell_type": "code",
   "execution_count": 15,
   "id": "57091e30-1bcb-4aa4-8659-3354aa202958",
   "metadata": {},
   "outputs": [
    {
     "data": {
      "application/vnd.jupyter.widget-view+json": {
       "model_id": "b42b8e042e9a43759a7030961999c027",
       "version_major": 2,
       "version_minor": 0
      },
      "text/plain": [
       "Batches:   0%|          | 0/1 [00:00<?, ?it/s]"
      ]
     },
     "metadata": {},
     "output_type": "display_data"
    },
    {
     "data": {
      "text/html": [
       "<pre style=\"white-space:pre;overflow-x:auto;line-height:normal;font-family:Menlo,'DejaVu Sans Mono',consolas,'Courier New',monospace\"><span style=\"font-style: italic\">                                               Embedding model: </span><span style=\"color: #000080; text-decoration-color: #000080; font-weight: bold; font-style: italic\">sentence-transformers/all-MiniLM-L6-v2</span><span style=\"font-style: italic\">             </span>\n",
       "<span style=\"font-style: italic\">                                                     Query: </span><span style=\"color: #000080; text-decoration-color: #000080; font-weight: bold; font-style: italic\">who is in the bank to deposit money?</span><span style=\"font-style: italic\">                   </span>\n",
       "┏━━━━━━━━━━┳━━━━━━━━━━━━━━━━━━━━━━━━━━━━━━━━━━━━━━━━━━━━━━━━━━━━━━━━━━━━━━━━━━━━━━━━━━━━━━━━━━━━━━━━━━━━━━━━━━━━━━━\n",
       "┃<span style=\"font-weight: bold\"> id       </span>┃<span style=\"font-weight: bold\"> text                                                                                                  </span>\n",
       "┡━━━━━━━━━━╇━━━━━━━━━━━━━━━━━━━━━━━━━━━━━━━━━━━━━━━━━━━━━━━━━━━━━━━━━━━━━━━━━━━━━━━━━━━━━━━━━━━━━━━━━━━━━━━━━━━━━━━\n",
       "│<span style=\"color: #000080; text-decoration-color: #000080\"> doc1--1  </span>│ <span style=\"color: #005f00; text-decoration-color: #005f00; font-weight: bold\">Bank</span> of America is a well known <span style=\"color: #005f00; text-decoration-color: #005f00; font-weight: bold\">bank</span> in the US.                                                       \n",
       "├──────────┼───────────────────────────────────────────────────────────────────────────────────────────────────────\n",
       "│<span style=\"color: #000080; text-decoration-color: #000080\"> doc1--3  </span>│ While at the <span style=\"color: #005f00; text-decoration-color: #005f00; font-weight: bold\">bank</span> office his mind wandered to thinking about what is currently in the <span style=\"color: #005f00; text-decoration-color: #005f00; font-weight: bold\">vault</span>--only know\n",
       "│<span style=\"color: #000080; text-decoration-color: #000080\">          </span>│ <span style=\"color: #005f00; text-decoration-color: #005f00; font-weight: bold\">account</span>ants.                                                                                          \n",
       "├──────────┼───────────────────────────────────────────────────────────────────────────────────────────────────────\n",
       "│<span style=\"color: #000080; text-decoration-color: #000080\"> doc1--2  </span>│ A <span style=\"color: #005f00; text-decoration-color: #005f00; font-weight: bold\">bank</span>er friend of mine, Jaime, works at <span style=\"color: #005f00; text-decoration-color: #005f00; font-weight: bold\">BoA</span>.                                                         \n",
       "├──────────┼───────────────────────────────────────────────────────────────────────────────────────────────────────\n",
       "│<span style=\"color: #000080; text-decoration-color: #000080\"> doc1--5  </span>│ She worked on the <span style=\"color: #008000; text-decoration-color: #008000; background-color: #eeeeee\">phone</span> <span style=\"color: #005f00; text-decoration-color: #005f00; font-weight: bold\">bank</span> while they ate.                                                          \n",
       "├──────────┼───────────────────────────────────────────────────────────────────────────────────────────────────────\n",
       "│<span style=\"color: #000080; text-decoration-color: #000080\"> doc1--11 </span>│ From his private airplane, Bill <span style=\"color: #005f00; text-decoration-color: #005f00; background-color: #eeeeee; font-weight: bold\">bank</span><span style=\"color: #008000; text-decoration-color: #008000; background-color: #eeeeee\">ed</span> left to watch the capybara stampeed.                           \n",
       "└──────────┴───────────────────────────────────────────────────────────────────────────────────────────────────────\n",
       "</pre>\n"
      ],
      "text/plain": [
       "\u001b[3m                                               Embedding model: \u001b[0m\u001b[1;3;34msentence-transformers/all-MiniLM-L6-v2\u001b[0m\u001b[3m             \u001b[0m\n",
       "\u001b[3m                                                     Query: \u001b[0m\u001b[1;3;34mwho is in the bank to deposit money?\u001b[0m\u001b[3m                   \u001b[0m\n",
       "┏━━━━━━━━━━┳━━━━━━━━━━━━━━━━━━━━━━━━━━━━━━━━━━━━━━━━━━━━━━━━━━━━━━━━━━━━━━━━━━━━━━━━━━━━━━━━━━━━━━━━━━━━━━━━━━━━━━━\n",
       "┃\u001b[1m \u001b[0m\u001b[1mid      \u001b[0m\u001b[1m \u001b[0m┃\u001b[1m \u001b[0m\u001b[1mtext                                                                                                  \u001b[0m\n",
       "┡━━━━━━━━━━╇━━━━━━━━━━━━━━━━━━━━━━━━━━━━━━━━━━━━━━━━━━━━━━━━━━━━━━━━━━━━━━━━━━━━━━━━━━━━━━━━━━━━━━━━━━━━━━━━━━━━━━━\n",
       "│\u001b[34m \u001b[0m\u001b[34mdoc1--1 \u001b[0m\u001b[34m \u001b[0m│ \u001b[1;38;5;22mBank\u001b[0m of America is a well known \u001b[1;38;5;22mbank\u001b[0m in the US.                                                       \n",
       "├──────────┼───────────────────────────────────────────────────────────────────────────────────────────────────────\n",
       "│\u001b[34m \u001b[0m\u001b[34mdoc1--3 \u001b[0m\u001b[34m \u001b[0m│ While at the \u001b[1;38;5;22mbank\u001b[0m office his mind wandered to thinking about what is currently in the \u001b[1;38;5;22mvault\u001b[0m--only know\n",
       "│\u001b[34m          \u001b[0m│ \u001b[1;38;5;22maccount\u001b[0mants.                                                                                          \n",
       "├──────────┼───────────────────────────────────────────────────────────────────────────────────────────────────────\n",
       "│\u001b[34m \u001b[0m\u001b[34mdoc1--2 \u001b[0m\u001b[34m \u001b[0m│ A \u001b[1;38;5;22mbank\u001b[0mer friend of mine, Jaime, works at \u001b[1;38;5;22mBoA\u001b[0m.                                                         \n",
       "├──────────┼───────────────────────────────────────────────────────────────────────────────────────────────────────\n",
       "│\u001b[34m \u001b[0m\u001b[34mdoc1--5 \u001b[0m\u001b[34m \u001b[0m│ She worked on the \u001b[32;48;5;255mphone\u001b[0m \u001b[1;38;5;22mbank\u001b[0m while they ate.                                                          \n",
       "├──────────┼───────────────────────────────────────────────────────────────────────────────────────────────────────\n",
       "│\u001b[34m \u001b[0m\u001b[34mdoc1--11\u001b[0m\u001b[34m \u001b[0m│ From his private airplane, Bill \u001b[1;38;5;22;48;5;255mbank\u001b[0m\u001b[32;48;5;255med\u001b[0m left to watch the capybara stampeed.                           \n",
       "└──────────┴───────────────────────────────────────────────────────────────────────────────────────────────────────\n"
      ]
     },
     "metadata": {},
     "output_type": "display_data"
    },
    {
     "data": {
      "text/html": [
       "<pre style=\"white-space:pre;overflow-x:auto;line-height:normal;font-family:Menlo,'DejaVu Sans Mono',consolas,'Courier New',monospace\">\n",
       "\n",
       "\n",
       "</pre>\n"
      ],
      "text/plain": [
       "\n",
       "\n",
       "\n"
      ]
     },
     "metadata": {},
     "output_type": "display_data"
    },
    {
     "data": {
      "application/vnd.jupyter.widget-view+json": {
       "model_id": "2a4166aa1aab4002a75846414cff9b99",
       "version_major": 2,
       "version_minor": 0
      },
      "text/plain": [
       "Batches:   0%|          | 0/1 [00:00<?, ?it/s]"
      ]
     },
     "metadata": {},
     "output_type": "display_data"
    },
    {
     "data": {
      "text/html": [
       "<pre style=\"white-space:pre;overflow-x:auto;line-height:normal;font-family:Menlo,'DejaVu Sans Mono',consolas,'Courier New',monospace\"><span style=\"font-style: italic\">                                               Embedding model: </span><span style=\"color: #000080; text-decoration-color: #000080; font-weight: bold; font-style: italic\">sentence-transformers/all-MiniLM-L6-v2</span><span style=\"font-style: italic\">             </span>\n",
       "<span style=\"font-style: italic\">                                                               Query: </span><span style=\"color: #000080; text-decoration-color: #000080; font-weight: bold; font-style: italic\">who is on a bank?</span><span style=\"font-style: italic\">                            </span>\n",
       "┏━━━━━━━━━━┳━━━━━━━━━━━━━━━━━━━━━━━━━━━━━━━━━━━━━━━━━━━━━━━━━━━━━━━━━━━━━━━━━━━━━━━━━━━━━━━━━━━━━━━━━━━━━━━━━━━━━━━\n",
       "┃<span style=\"font-weight: bold\"> id       </span>┃<span style=\"font-weight: bold\"> text                                                                                                  </span>\n",
       "┡━━━━━━━━━━╇━━━━━━━━━━━━━━━━━━━━━━━━━━━━━━━━━━━━━━━━━━━━━━━━━━━━━━━━━━━━━━━━━━━━━━━━━━━━━━━━━━━━━━━━━━━━━━━━━━━━━━━\n",
       "│<span style=\"color: #000080; text-decoration-color: #000080\"> doc1--1  </span>│ <span style=\"color: #005f00; text-decoration-color: #005f00; font-weight: bold\">Bank</span> of America is a well known <span style=\"color: #005f00; text-decoration-color: #005f00; font-weight: bold\">bank</span> in the US.                                                       \n",
       "├──────────┼───────────────────────────────────────────────────────────────────────────────────────────────────────\n",
       "│<span style=\"color: #000080; text-decoration-color: #000080\"> doc1--2  </span>│ A <span style=\"color: #005f00; text-decoration-color: #005f00; font-weight: bold\">bank</span>er friend of mine, Jaime, works at <span style=\"color: #005f00; text-decoration-color: #005f00; font-weight: bold\">BoA</span>.                                                         \n",
       "├──────────┼───────────────────────────────────────────────────────────────────────────────────────────────────────\n",
       "│<span style=\"color: #000080; text-decoration-color: #000080\"> doc1--3  </span>│ While at the <span style=\"color: #005f00; text-decoration-color: #005f00; font-weight: bold\">bank</span> office his mind wandered to thinking about what is currently in the <span style=\"color: #005f00; text-decoration-color: #005f00; font-weight: bold\">vault</span>--only know\n",
       "│<span style=\"color: #000080; text-decoration-color: #000080\">          </span>│ <span style=\"color: #005f00; text-decoration-color: #005f00; font-weight: bold\">account</span>ants.                                                                                          \n",
       "├──────────┼───────────────────────────────────────────────────────────────────────────────────────────────────────\n",
       "│<span style=\"color: #000080; text-decoration-color: #000080\"> doc1--5  </span>│ She worked on the <span style=\"color: #008000; text-decoration-color: #008000; background-color: #eeeeee\">phone</span> <span style=\"color: #005f00; text-decoration-color: #005f00; font-weight: bold\">bank</span> while they ate.                                                          \n",
       "├──────────┼───────────────────────────────────────────────────────────────────────────────────────────────────────\n",
       "│<span style=\"color: #000080; text-decoration-color: #000080\"> doc1--11 </span>│ From his private airplane, Bill <span style=\"color: #005f00; text-decoration-color: #005f00; background-color: #eeeeee; font-weight: bold\">bank</span><span style=\"color: #008000; text-decoration-color: #008000; background-color: #eeeeee\">ed</span> left to watch the capybara stampeed.                           \n",
       "└──────────┴───────────────────────────────────────────────────────────────────────────────────────────────────────\n",
       "</pre>\n"
      ],
      "text/plain": [
       "\u001b[3m                                               Embedding model: \u001b[0m\u001b[1;3;34msentence-transformers/all-MiniLM-L6-v2\u001b[0m\u001b[3m             \u001b[0m\n",
       "\u001b[3m                                                               Query: \u001b[0m\u001b[1;3;34mwho is on a bank?\u001b[0m\u001b[3m                            \u001b[0m\n",
       "┏━━━━━━━━━━┳━━━━━━━━━━━━━━━━━━━━━━━━━━━━━━━━━━━━━━━━━━━━━━━━━━━━━━━━━━━━━━━━━━━━━━━━━━━━━━━━━━━━━━━━━━━━━━━━━━━━━━━\n",
       "┃\u001b[1m \u001b[0m\u001b[1mid      \u001b[0m\u001b[1m \u001b[0m┃\u001b[1m \u001b[0m\u001b[1mtext                                                                                                  \u001b[0m\n",
       "┡━━━━━━━━━━╇━━━━━━━━━━━━━━━━━━━━━━━━━━━━━━━━━━━━━━━━━━━━━━━━━━━━━━━━━━━━━━━━━━━━━━━━━━━━━━━━━━━━━━━━━━━━━━━━━━━━━━━\n",
       "│\u001b[34m \u001b[0m\u001b[34mdoc1--1 \u001b[0m\u001b[34m \u001b[0m│ \u001b[1;38;5;22mBank\u001b[0m of America is a well known \u001b[1;38;5;22mbank\u001b[0m in the US.                                                       \n",
       "├──────────┼───────────────────────────────────────────────────────────────────────────────────────────────────────\n",
       "│\u001b[34m \u001b[0m\u001b[34mdoc1--2 \u001b[0m\u001b[34m \u001b[0m│ A \u001b[1;38;5;22mbank\u001b[0mer friend of mine, Jaime, works at \u001b[1;38;5;22mBoA\u001b[0m.                                                         \n",
       "├──────────┼───────────────────────────────────────────────────────────────────────────────────────────────────────\n",
       "│\u001b[34m \u001b[0m\u001b[34mdoc1--3 \u001b[0m\u001b[34m \u001b[0m│ While at the \u001b[1;38;5;22mbank\u001b[0m office his mind wandered to thinking about what is currently in the \u001b[1;38;5;22mvault\u001b[0m--only know\n",
       "│\u001b[34m          \u001b[0m│ \u001b[1;38;5;22maccount\u001b[0mants.                                                                                          \n",
       "├──────────┼───────────────────────────────────────────────────────────────────────────────────────────────────────\n",
       "│\u001b[34m \u001b[0m\u001b[34mdoc1--5 \u001b[0m\u001b[34m \u001b[0m│ She worked on the \u001b[32;48;5;255mphone\u001b[0m \u001b[1;38;5;22mbank\u001b[0m while they ate.                                                          \n",
       "├──────────┼───────────────────────────────────────────────────────────────────────────────────────────────────────\n",
       "│\u001b[34m \u001b[0m\u001b[34mdoc1--11\u001b[0m\u001b[34m \u001b[0m│ From his private airplane, Bill \u001b[1;38;5;22;48;5;255mbank\u001b[0m\u001b[32;48;5;255med\u001b[0m left to watch the capybara stampeed.                           \n",
       "└──────────┴───────────────────────────────────────────────────────────────────────────────────────────────────────\n"
      ]
     },
     "metadata": {},
     "output_type": "display_data"
    },
    {
     "data": {
      "text/html": [
       "<pre style=\"white-space:pre;overflow-x:auto;line-height:normal;font-family:Menlo,'DejaVu Sans Mono',consolas,'Courier New',monospace\">\n",
       "\n",
       "\n",
       "</pre>\n"
      ],
      "text/plain": [
       "\n",
       "\n",
       "\n"
      ]
     },
     "metadata": {},
     "output_type": "display_data"
    },
    {
     "data": {
      "application/vnd.jupyter.widget-view+json": {
       "model_id": "a0140149fa4a4e6288a3901a66f91a62",
       "version_major": 2,
       "version_minor": 0
      },
      "text/plain": [
       "Batches:   0%|          | 0/1 [00:00<?, ?it/s]"
      ]
     },
     "metadata": {},
     "output_type": "display_data"
    },
    {
     "data": {
      "text/html": [
       "<pre style=\"white-space:pre;overflow-x:auto;line-height:normal;font-family:Menlo,'DejaVu Sans Mono',consolas,'Courier New',monospace\"><span style=\"font-style: italic\">                                               Embedding model: </span><span style=\"color: #000080; text-decoration-color: #000080; font-weight: bold; font-style: italic\">sentence-transformers/all-MiniLM-L6-v2</span><span style=\"font-style: italic\">             </span>\n",
       "<span style=\"font-style: italic\">                                                  Query: </span><span style=\"color: #000080; text-decoration-color: #000080; font-weight: bold; font-style: italic\">where can I get a board for fixing my wall?</span><span style=\"font-style: italic\">               </span>\n",
       "┏━━━━━━━━━━━━━━━┳━━━━━━━━━━━━━━━━━━━━━━━━━━━━━━━━━━━━━━━━━━━━━━━━━━━━━━━━━━━━━━━━━━━━━━━━━━━━━━━━━━━━━━━━━━━━━━━━━━\n",
       "┃<span style=\"font-weight: bold\"> id            </span>┃<span style=\"font-weight: bold\"> text                                                                                             </span>\n",
       "┡━━━━━━━━━━━━━━━╇━━━━━━━━━━━━━━━━━━━━━━━━━━━━━━━━━━━━━━━━━━━━━━━━━━━━━━━━━━━━━━━━━━━━━━━━━━━━━━━━━━━━━━━━━━━━━━━━━━\n",
       "│<span style=\"color: #000080; text-decoration-color: #000080\"> doc1--16      </span>│ Often common <span style=\"color: #000087; text-decoration-color: #000087; font-weight: bold\">2x4</span>s will do the job of more custom <span style=\"color: #000087; text-decoration-color: #000087; font-weight: bold\">wood supplies</span>.                                  \n",
       "├───────────────┼──────────────────────────────────────────────────────────────────────────────────────────────────\n",
       "│<span style=\"color: #000080; text-decoration-color: #000080\"> doc1--12      </span>│ The <span style=\"color: #000087; text-decoration-color: #000087; font-weight: bold\">board</span> was sitting on the top of Jim's car.                                                   \n",
       "├───────────────┼──────────────────────────────────────────────────────────────────────────────────────────────────\n",
       "│<span style=\"color: #000080; text-decoration-color: #000080\"> doc1--8       </span>│ She crumpled up a piece of paper and made a sweet <span style=\"color: #005f00; text-decoration-color: #005f00; background-color: #eeeeee; font-weight: bold\">bank</span><span style=\"color: #008000; text-decoration-color: #008000; background-color: #eeeeee\"> shot</span> off the cubical wall.                \n",
       "├───────────────┼──────────────────────────────────────────────────────────────────────────────────────────────────\n",
       "│<span style=\"color: #000080; text-decoration-color: #000080\"> doc1--2       </span>│ A <span style=\"color: #005f00; text-decoration-color: #005f00; font-weight: bold\">bank</span>er friend of mine, Jaime, works at <span style=\"color: #005f00; text-decoration-color: #005f00; font-weight: bold\">BoA</span>.                                                    \n",
       "├───────────────┼──────────────────────────────────────────────────────────────────────────────────────────────────\n",
       "│<span style=\"color: #000080; text-decoration-color: #000080\"> doc1--6       </span>│ She <span style=\"color: #008000; text-decoration-color: #008000; background-color: #eeeeee\">phone</span>d a man named Joe <span style=\"color: #000087; text-decoration-color: #000087; font-weight: bold\">Board</span>er.                                                              \n",
       "└───────────────┴──────────────────────────────────────────────────────────────────────────────────────────────────\n",
       "</pre>\n"
      ],
      "text/plain": [
       "\u001b[3m                                               Embedding model: \u001b[0m\u001b[1;3;34msentence-transformers/all-MiniLM-L6-v2\u001b[0m\u001b[3m             \u001b[0m\n",
       "\u001b[3m                                                  Query: \u001b[0m\u001b[1;3;34mwhere can I get a board for fixing my wall?\u001b[0m\u001b[3m               \u001b[0m\n",
       "┏━━━━━━━━━━━━━━━┳━━━━━━━━━━━━━━━━━━━━━━━━━━━━━━━━━━━━━━━━━━━━━━━━━━━━━━━━━━━━━━━━━━━━━━━━━━━━━━━━━━━━━━━━━━━━━━━━━━\n",
       "┃\u001b[1m \u001b[0m\u001b[1mid           \u001b[0m\u001b[1m \u001b[0m┃\u001b[1m \u001b[0m\u001b[1mtext                                                                                             \u001b[0m\n",
       "┡━━━━━━━━━━━━━━━╇━━━━━━━━━━━━━━━━━━━━━━━━━━━━━━━━━━━━━━━━━━━━━━━━━━━━━━━━━━━━━━━━━━━━━━━━━━━━━━━━━━━━━━━━━━━━━━━━━━\n",
       "│\u001b[34m \u001b[0m\u001b[34mdoc1--16     \u001b[0m\u001b[34m \u001b[0m│ Often common \u001b[1;38;5;18m2x4\u001b[0ms will do the job of more custom \u001b[1;38;5;18mwood supplies\u001b[0m.                                  \n",
       "├───────────────┼──────────────────────────────────────────────────────────────────────────────────────────────────\n",
       "│\u001b[34m \u001b[0m\u001b[34mdoc1--12     \u001b[0m\u001b[34m \u001b[0m│ The \u001b[1;38;5;18mboa\u001b[0m\u001b[1;38;5;18mrd\u001b[0m was sitting on the top of Jim's car.                                                   \n",
       "├───────────────┼──────────────────────────────────────────────────────────────────────────────────────────────────\n",
       "│\u001b[34m \u001b[0m\u001b[34mdoc1--8      \u001b[0m\u001b[34m \u001b[0m│ She crumpled up a piece of paper and made a sweet \u001b[1;38;5;22;48;5;255mbank\u001b[0m\u001b[32;48;5;255m shot\u001b[0m off the cubical wall.                \n",
       "├───────────────┼──────────────────────────────────────────────────────────────────────────────────────────────────\n",
       "│\u001b[34m \u001b[0m\u001b[34mdoc1--2      \u001b[0m\u001b[34m \u001b[0m│ A \u001b[1;38;5;22mbank\u001b[0mer friend of mine, Jaime, works at \u001b[1;38;5;22mBoA\u001b[0m.                                                    \n",
       "├───────────────┼──────────────────────────────────────────────────────────────────────────────────────────────────\n",
       "│\u001b[34m \u001b[0m\u001b[34mdoc1--6      \u001b[0m\u001b[34m \u001b[0m│ She \u001b[32;48;5;255mphone\u001b[0md a man named Joe \u001b[1;38;5;18mBoa\u001b[0m\u001b[1;38;5;18mrd\u001b[0mer.                                                              \n",
       "└───────────────┴──────────────────────────────────────────────────────────────────────────────────────────────────\n"
      ]
     },
     "metadata": {},
     "output_type": "display_data"
    },
    {
     "data": {
      "text/html": [
       "<pre style=\"white-space:pre;overflow-x:auto;line-height:normal;font-family:Menlo,'DejaVu Sans Mono',consolas,'Courier New',monospace\">\n",
       "\n",
       "\n",
       "</pre>\n"
      ],
      "text/plain": [
       "\n",
       "\n",
       "\n"
      ]
     },
     "metadata": {},
     "output_type": "display_data"
    },
    {
     "data": {
      "application/vnd.jupyter.widget-view+json": {
       "model_id": "f974adacb60545199aa877749f869466",
       "version_major": 2,
       "version_minor": 0
      },
      "text/plain": [
       "Batches:   0%|          | 0/1 [00:00<?, ?it/s]"
      ]
     },
     "metadata": {},
     "output_type": "display_data"
    },
    {
     "data": {
      "text/html": [
       "<pre style=\"white-space:pre;overflow-x:auto;line-height:normal;font-family:Menlo,'DejaVu Sans Mono',consolas,'Courier New',monospace\"><span style=\"font-style: italic\">                                               Embedding model: </span><span style=\"color: #000080; text-decoration-color: #000080; font-weight: bold; font-style: italic\">sentence-transformers/all-MiniLM-L6-v2</span><span style=\"font-style: italic\">             </span>\n",
       "<span style=\"font-style: italic\">                                                             Query: </span><span style=\"color: #000080; text-decoration-color: #000080; font-weight: bold; font-style: italic\">who is on the board?</span><span style=\"font-style: italic\">                           </span>\n",
       "┏━━━━━━━━━━━━━━━━━━━━┳━━━━━━━━━━━━━━━━━━━━━━━━━━━━━━━━━━━━━━━━━━━━━━━━━━━━━━━━━━━━━━━━━━━━━━━━━━━━━━━━━━━━━━━━━━━━━\n",
       "┃<span style=\"font-weight: bold\"> id                 </span>┃<span style=\"font-weight: bold\"> text                                                                                        </span>\n",
       "┡━━━━━━━━━━━━━━━━━━━━╇━━━━━━━━━━━━━━━━━━━━━━━━━━━━━━━━━━━━━━━━━━━━━━━━━━━━━━━━━━━━━━━━━━━━━━━━━━━━━━━━━━━━━━━━━━━━━\n",
       "│<span style=\"color: #000080; text-decoration-color: #000080\"> doc1--12           </span>│ The <span style=\"color: #000087; text-decoration-color: #000087; font-weight: bold\">board</span> was sitting on the top of Jim's car.                                              \n",
       "├────────────────────┼─────────────────────────────────────────────────────────────────────────────────────────────\n",
       "│<span style=\"color: #000080; text-decoration-color: #000080\"> doc1--6            </span>│ She <span style=\"color: #008000; text-decoration-color: #008000; background-color: #eeeeee\">phone</span>d a man named Joe <span style=\"color: #000087; text-decoration-color: #000087; font-weight: bold\">Board</span>er.                                                         \n",
       "├────────────────────┼─────────────────────────────────────────────────────────────────────────────────────────────\n",
       "│<span style=\"color: #000080; text-decoration-color: #000080\"> doc1--2            </span>│ A <span style=\"color: #005f00; text-decoration-color: #005f00; font-weight: bold\">bank</span>er friend of mine, Jaime, works at <span style=\"color: #005f00; text-decoration-color: #005f00; font-weight: bold\">BoA</span>.                                               \n",
       "├────────────────────┼─────────────────────────────────────────────────────────────────────────────────────────────\n",
       "│<span style=\"color: #000080; text-decoration-color: #000080\"> doc1--17           </span>│ Shaking his head, the witness decided to <span style=\"color: #000087; text-decoration-color: #000087; background-color: #eeeeee; font-weight: bold\">board</span><span style=\"color: #000080; text-decoration-color: #000080; background-color: #eeeeee\"> the</span> train.                                   \n",
       "├────────────────────┼─────────────────────────────────────────────────────────────────────────────────────────────\n",
       "│<span style=\"color: #000080; text-decoration-color: #000080\"> doc1--13           </span>│ Several members of the <span style=\"color: #000087; text-decoration-color: #000087; background-color: #eeeeee; font-weight: bold\">board</span><span style=\"color: #000080; text-decoration-color: #000080; background-color: #eeeeee\"> of direct</span>ors ignored it.                                       \n",
       "└────────────────────┴─────────────────────────────────────────────────────────────────────────────────────────────\n",
       "</pre>\n"
      ],
      "text/plain": [
       "\u001b[3m                                               Embedding model: \u001b[0m\u001b[1;3;34msentence-transformers/all-MiniLM-L6-v2\u001b[0m\u001b[3m             \u001b[0m\n",
       "\u001b[3m                                                             Query: \u001b[0m\u001b[1;3;34mwho is on the board?\u001b[0m\u001b[3m                           \u001b[0m\n",
       "┏━━━━━━━━━━━━━━━━━━━━┳━━━━━━━━━━━━━━━━━━━━━━━━━━━━━━━━━━━━━━━━━━━━━━━━━━━━━━━━━━━━━━━━━━━━━━━━━━━━━━━━━━━━━━━━━━━━━\n",
       "┃\u001b[1m \u001b[0m\u001b[1mid                \u001b[0m\u001b[1m \u001b[0m┃\u001b[1m \u001b[0m\u001b[1mtext                                                                                        \u001b[0m\n",
       "┡━━━━━━━━━━━━━━━━━━━━╇━━━━━━━━━━━━━━━━━━━━━━━━━━━━━━━━━━━━━━━━━━━━━━━━━━━━━━━━━━━━━━━━━━━━━━━━━━━━━━━━━━━━━━━━━━━━━\n",
       "│\u001b[34m \u001b[0m\u001b[34mdoc1--12          \u001b[0m\u001b[34m \u001b[0m│ The \u001b[1;38;5;18mboa\u001b[0m\u001b[1;38;5;18mrd\u001b[0m was sitting on the top of Jim's car.                                              \n",
       "├────────────────────┼─────────────────────────────────────────────────────────────────────────────────────────────\n",
       "│\u001b[34m \u001b[0m\u001b[34mdoc1--6           \u001b[0m\u001b[34m \u001b[0m│ She \u001b[32;48;5;255mphone\u001b[0md a man named Joe \u001b[1;38;5;18mBoa\u001b[0m\u001b[1;38;5;18mrd\u001b[0mer.                                                         \n",
       "├────────────────────┼─────────────────────────────────────────────────────────────────────────────────────────────\n",
       "│\u001b[34m \u001b[0m\u001b[34mdoc1--2           \u001b[0m\u001b[34m \u001b[0m│ A \u001b[1;38;5;22mbank\u001b[0mer friend of mine, Jaime, works at \u001b[1;38;5;22mBoA\u001b[0m.                                               \n",
       "├────────────────────┼─────────────────────────────────────────────────────────────────────────────────────────────\n",
       "│\u001b[34m \u001b[0m\u001b[34mdoc1--17          \u001b[0m\u001b[34m \u001b[0m│ Shaking his head, the witness decided to \u001b[1;38;5;18;48;5;255mboa\u001b[0m\u001b[1;38;5;18;48;5;255mrd\u001b[0m\u001b[34;48;5;255m the\u001b[0m train.                                   \n",
       "├────────────────────┼─────────────────────────────────────────────────────────────────────────────────────────────\n",
       "│\u001b[34m \u001b[0m\u001b[34mdoc1--13          \u001b[0m\u001b[34m \u001b[0m│ Several members of the \u001b[1;38;5;18;48;5;255mboa\u001b[0m\u001b[1;38;5;18;48;5;255mrd\u001b[0m\u001b[34;48;5;255m of direct\u001b[0mors ignored it.                                       \n",
       "└────────────────────┴─────────────────────────────────────────────────────────────────────────────────────────────\n"
      ]
     },
     "metadata": {},
     "output_type": "display_data"
    },
    {
     "data": {
      "text/html": [
       "<pre style=\"white-space:pre;overflow-x:auto;line-height:normal;font-family:Menlo,'DejaVu Sans Mono',consolas,'Courier New',monospace\">\n",
       "\n",
       "\n",
       "</pre>\n"
      ],
      "text/plain": [
       "\n",
       "\n",
       "\n"
      ]
     },
     "metadata": {},
     "output_type": "display_data"
    },
    {
     "data": {
      "application/vnd.jupyter.widget-view+json": {
       "model_id": "0a80f43de4684ccab4d63674c5fbce32",
       "version_major": 2,
       "version_minor": 0
      },
      "text/plain": [
       "Batches:   0%|          | 0/1 [00:00<?, ?it/s]"
      ]
     },
     "metadata": {},
     "output_type": "display_data"
    },
    {
     "data": {
      "text/html": [
       "<pre style=\"white-space:pre;overflow-x:auto;line-height:normal;font-family:Menlo,'DejaVu Sans Mono',consolas,'Courier New',monospace\"><span style=\"font-style: italic\">                                               Embedding model: </span><span style=\"color: #000080; text-decoration-color: #000080; font-weight: bold; font-style: italic\">sentence-transformers/all-MiniLM-L6-v2</span><span style=\"font-style: italic\">             </span>\n",
       "<span style=\"font-style: italic\">                                                           Query: </span><span style=\"color: #000080; text-decoration-color: #000080; font-weight: bold; font-style: italic\">who is flying in a plane?</span><span style=\"font-style: italic\">                        </span>\n",
       "┏━━━━━━━━━━━━━━━┳━━━━━━━━━━━━━━━━━━━━━━━━━━━━━━━━━━━━━━━━━━━━━━━━━━━━━━━━━━━━━━━━━━━━━━━━━━━━━━━━━━━━━━━━━━━━━━━━━━\n",
       "┃<span style=\"font-weight: bold\"> id            </span>┃<span style=\"font-weight: bold\"> text                                                                                             </span>\n",
       "┡━━━━━━━━━━━━━━━╇━━━━━━━━━━━━━━━━━━━━━━━━━━━━━━━━━━━━━━━━━━━━━━━━━━━━━━━━━━━━━━━━━━━━━━━━━━━━━━━━━━━━━━━━━━━━━━━━━━\n",
       "│<span style=\"color: #000080; text-decoration-color: #000080\"> doc1--24      </span>│ The <span style=\"color: #870000; text-decoration-color: #870000; font-weight: bold\">pilot</span> took the plane in for a smooth <span style=\"color: #870000; text-decoration-color: #870000; font-weight: bold\">landing</span>.                                                \n",
       "├───────────────┼──────────────────────────────────────────────────────────────────────────────────────────────────\n",
       "│<span style=\"color: #000080; text-decoration-color: #000080\"> doc1--21      </span>│ However, there seemed to be a random fly buzzing around both of them.                            \n",
       "├───────────────┼──────────────────────────────────────────────────────────────────────────────────────────────────\n",
       "│<span style=\"color: #000080; text-decoration-color: #000080\"> doc1--11      </span>│ From his private airplane, Bill <span style=\"color: #005f00; text-decoration-color: #005f00; background-color: #eeeeee; font-weight: bold\">bank</span><span style=\"color: #008000; text-decoration-color: #008000; background-color: #eeeeee\">ed</span> left to watch the capybara stampeed.                      \n",
       "├───────────────┼──────────────────────────────────────────────────────────────────────────────────────────────────\n",
       "│<span style=\"color: #000080; text-decoration-color: #000080\"> doc1--25      </span>│ Clouds changed the <span style=\"color: #870000; text-decoration-color: #870000; font-weight: bold\">navigation</span> of <span style=\"color: #870000; text-decoration-color: #870000; font-weight: bold\">boeing</span> <span style=\"color: #870000; text-decoration-color: #870000; font-weight: bold\">747</span>, redirecting it away from the storm.                 \n",
       "├───────────────┼──────────────────────────────────────────────────────────────────────────────────────────────────\n",
       "│<span style=\"color: #000080; text-decoration-color: #000080\"> doc1--23      </span>│ Oddly, his mind wandered to a high school baseball game where he dropped a fly ball.             \n",
       "└───────────────┴──────────────────────────────────────────────────────────────────────────────────────────────────\n",
       "</pre>\n"
      ],
      "text/plain": [
       "\u001b[3m                                               Embedding model: \u001b[0m\u001b[1;3;34msentence-transformers/all-MiniLM-L6-v2\u001b[0m\u001b[3m             \u001b[0m\n",
       "\u001b[3m                                                           Query: \u001b[0m\u001b[1;3;34mwho is flying in a plane?\u001b[0m\u001b[3m                        \u001b[0m\n",
       "┏━━━━━━━━━━━━━━━┳━━━━━━━━━━━━━━━━━━━━━━━━━━━━━━━━━━━━━━━━━━━━━━━━━━━━━━━━━━━━━━━━━━━━━━━━━━━━━━━━━━━━━━━━━━━━━━━━━━\n",
       "┃\u001b[1m \u001b[0m\u001b[1mid           \u001b[0m\u001b[1m \u001b[0m┃\u001b[1m \u001b[0m\u001b[1mtext                                                                                             \u001b[0m\n",
       "┡━━━━━━━━━━━━━━━╇━━━━━━━━━━━━━━━━━━━━━━━━━━━━━━━━━━━━━━━━━━━━━━━━━━━━━━━━━━━━━━━━━━━━━━━━━━━━━━━━━━━━━━━━━━━━━━━━━━\n",
       "│\u001b[34m \u001b[0m\u001b[34mdoc1--24     \u001b[0m\u001b[34m \u001b[0m│ The \u001b[1;38;5;88mpilot\u001b[0m took the plane in for a smooth \u001b[1;38;5;88mlanding\u001b[0m.                                                \n",
       "├───────────────┼──────────────────────────────────────────────────────────────────────────────────────────────────\n",
       "│\u001b[34m \u001b[0m\u001b[34mdoc1--21     \u001b[0m\u001b[34m \u001b[0m│ However, there seemed to be a random fly buzzing around both of them.                            \n",
       "├───────────────┼──────────────────────────────────────────────────────────────────────────────────────────────────\n",
       "│\u001b[34m \u001b[0m\u001b[34mdoc1--11     \u001b[0m\u001b[34m \u001b[0m│ From his private airplane, Bill \u001b[1;38;5;22;48;5;255mbank\u001b[0m\u001b[32;48;5;255med\u001b[0m left to watch the capybara stampeed.                      \n",
       "├───────────────┼──────────────────────────────────────────────────────────────────────────────────────────────────\n",
       "│\u001b[34m \u001b[0m\u001b[34mdoc1--25     \u001b[0m\u001b[34m \u001b[0m│ Clouds changed the \u001b[1;38;5;88mnavigation\u001b[0m of \u001b[1;38;5;88mboeing\u001b[0m \u001b[1;38;5;88m747\u001b[0m, redirecting it away from the storm.                 \n",
       "├───────────────┼──────────────────────────────────────────────────────────────────────────────────────────────────\n",
       "│\u001b[34m \u001b[0m\u001b[34mdoc1--23     \u001b[0m\u001b[34m \u001b[0m│ Oddly, his mind wandered to a high school baseball game where he dropped a fly ball.             \n",
       "└───────────────┴──────────────────────────────────────────────────────────────────────────────────────────────────\n"
      ]
     },
     "metadata": {},
     "output_type": "display_data"
    },
    {
     "data": {
      "text/html": [
       "<pre style=\"white-space:pre;overflow-x:auto;line-height:normal;font-family:Menlo,'DejaVu Sans Mono',consolas,'Courier New',monospace\">\n",
       "\n",
       "\n",
       "</pre>\n"
      ],
      "text/plain": [
       "\n",
       "\n",
       "\n"
      ]
     },
     "metadata": {},
     "output_type": "display_data"
    },
    {
     "data": {
      "application/vnd.jupyter.widget-view+json": {
       "model_id": "67548a19f8b6496094e636bf8c82ddc8",
       "version_major": 2,
       "version_minor": 0
      },
      "text/plain": [
       "Batches:   0%|          | 0/1 [00:00<?, ?it/s]"
      ]
     },
     "metadata": {},
     "output_type": "display_data"
    },
    {
     "data": {
      "text/html": [
       "<pre style=\"white-space:pre;overflow-x:auto;line-height:normal;font-family:Menlo,'DejaVu Sans Mono',consolas,'Courier New',monospace\"><span style=\"font-style: italic\">                                               Embedding model: </span><span style=\"color: #000080; text-decoration-color: #000080; font-weight: bold; font-style: italic\">sentence-transformers/all-MiniLM-L6-v2</span><span style=\"font-style: italic\">             </span>\n",
       "<span style=\"font-style: italic\">                                                           Query: </span><span style=\"color: #000080; text-decoration-color: #000080; font-weight: bold; font-style: italic\">who is looking super fly?</span><span style=\"font-style: italic\">                        </span>\n",
       "┏━━━━━━━━━━━━━━━┳━━━━━━━━━━━━━━━━━━━━━━━━━━━━━━━━━━━━━━━━━━━━━━━━━━━━━━━━━━━━━━━━━━━━━━━━━━━━━━━━━━━━━━━━━━━━━━━━━━\n",
       "┃<span style=\"font-weight: bold\"> id            </span>┃<span style=\"font-weight: bold\"> text                                                                                             </span>\n",
       "┡━━━━━━━━━━━━━━━╇━━━━━━━━━━━━━━━━━━━━━━━━━━━━━━━━━━━━━━━━━━━━━━━━━━━━━━━━━━━━━━━━━━━━━━━━━━━━━━━━━━━━━━━━━━━━━━━━━━\n",
       "│<span style=\"color: #000080; text-decoration-color: #000080\"> doc1--20      </span>│ His <span style=\"color: #800080; text-decoration-color: #800080; background-color: #eeeeee\">fly sister</span> kept browsing social media promoting her style and general <span style=\"color: #800080; text-decoration-color: #800080; background-color: #eeeeee\">cool</span>ness.              \n",
       "├───────────────┼──────────────────────────────────────────────────────────────────────────────────────────────────\n",
       "│<span style=\"color: #000080; text-decoration-color: #000080\"> doc1--21      </span>│ However, there seemed to be a random fly buzzing around both of them.                            \n",
       "├───────────────┼──────────────────────────────────────────────────────────────────────────────────────────────────\n",
       "│<span style=\"color: #000080; text-decoration-color: #000080\"> doc1--23      </span>│ Oddly, his mind wandered to a high school baseball game where he dropped a fly ball.             \n",
       "├───────────────┼──────────────────────────────────────────────────────────────────────────────────────────────────\n",
       "│<span style=\"color: #000080; text-decoration-color: #000080\"> doc1--19      </span>│ Frank decided to <span style=\"color: #870000; text-decoration-color: #870000; font-weight: bold\">fly over</span> the forest and look at the trees and their branches.                   \n",
       "├───────────────┼──────────────────────────────────────────────────────────────────────────────────────────────────\n",
       "│<span style=\"color: #000080; text-decoration-color: #000080\"> doc1--22      </span>│ Frank put down his fly fishing gear on the river <span style=\"color: #005f00; text-decoration-color: #005f00; font-weight: bold\">bank</span>.                                           \n",
       "└───────────────┴──────────────────────────────────────────────────────────────────────────────────────────────────\n",
       "</pre>\n"
      ],
      "text/plain": [
       "\u001b[3m                                               Embedding model: \u001b[0m\u001b[1;3;34msentence-transformers/all-MiniLM-L6-v2\u001b[0m\u001b[3m             \u001b[0m\n",
       "\u001b[3m                                                           Query: \u001b[0m\u001b[1;3;34mwho is looking super fly?\u001b[0m\u001b[3m                        \u001b[0m\n",
       "┏━━━━━━━━━━━━━━━┳━━━━━━━━━━━━━━━━━━━━━━━━━━━━━━━━━━━━━━━━━━━━━━━━━━━━━━━━━━━━━━━━━━━━━━━━━━━━━━━━━━━━━━━━━━━━━━━━━━\n",
       "┃\u001b[1m \u001b[0m\u001b[1mid           \u001b[0m\u001b[1m \u001b[0m┃\u001b[1m \u001b[0m\u001b[1mtext                                                                                             \u001b[0m\n",
       "┡━━━━━━━━━━━━━━━╇━━━━━━━━━━━━━━━━━━━━━━━━━━━━━━━━━━━━━━━━━━━━━━━━━━━━━━━━━━━━━━━━━━━━━━━━━━━━━━━━━━━━━━━━━━━━━━━━━━\n",
       "│\u001b[34m \u001b[0m\u001b[34mdoc1--20     \u001b[0m\u001b[34m \u001b[0m│ His \u001b[35;48;5;255mfly\u001b[0m\u001b[35;48;5;255m sister\u001b[0m kept browsing social media promoting her style and general \u001b[35;48;5;255mcool\u001b[0mness.              \n",
       "├───────────────┼──────────────────────────────────────────────────────────────────────────────────────────────────\n",
       "│\u001b[34m \u001b[0m\u001b[34mdoc1--21     \u001b[0m\u001b[34m \u001b[0m│ However, there seemed to be a random fly buzzing around both of them.                            \n",
       "├───────────────┼──────────────────────────────────────────────────────────────────────────────────────────────────\n",
       "│\u001b[34m \u001b[0m\u001b[34mdoc1--23     \u001b[0m\u001b[34m \u001b[0m│ Oddly, his mind wandered to a high school baseball game where he dropped a fly ball.             \n",
       "├───────────────┼──────────────────────────────────────────────────────────────────────────────────────────────────\n",
       "│\u001b[34m \u001b[0m\u001b[34mdoc1--19     \u001b[0m\u001b[34m \u001b[0m│ Frank decided to \u001b[1;38;5;88mfly\u001b[0m\u001b[1;38;5;88m over\u001b[0m the forest and look at the trees and their branches.                   \n",
       "├───────────────┼──────────────────────────────────────────────────────────────────────────────────────────────────\n",
       "│\u001b[34m \u001b[0m\u001b[34mdoc1--22     \u001b[0m\u001b[34m \u001b[0m│ Frank put down his fly fishing gear on the river \u001b[1;38;5;22mbank\u001b[0m.                                           \n",
       "└───────────────┴──────────────────────────────────────────────────────────────────────────────────────────────────\n"
      ]
     },
     "metadata": {},
     "output_type": "display_data"
    },
    {
     "data": {
      "text/html": [
       "<pre style=\"white-space:pre;overflow-x:auto;line-height:normal;font-family:Menlo,'DejaVu Sans Mono',consolas,'Courier New',monospace\">\n",
       "\n",
       "\n",
       "</pre>\n"
      ],
      "text/plain": [
       "\n",
       "\n",
       "\n"
      ]
     },
     "metadata": {},
     "output_type": "display_data"
    },
    {
     "data": {
      "application/vnd.jupyter.widget-view+json": {
       "model_id": "75a7ef12d91c4a3cad364edd000dde5a",
       "version_major": 2,
       "version_minor": 0
      },
      "text/plain": [
       "Batches:   0%|          | 0/1 [00:00<?, ?it/s]"
      ]
     },
     "metadata": {},
     "output_type": "display_data"
    },
    {
     "data": {
      "text/html": [
       "<pre style=\"white-space:pre;overflow-x:auto;line-height:normal;font-family:Menlo,'DejaVu Sans Mono',consolas,'Courier New',monospace\"><span style=\"font-style: italic\">                                               Embedding model: </span><span style=\"color: #000080; text-decoration-color: #000080; font-weight: bold; font-style: italic\">sentence-transformers/all-MiniLM-L6-v2</span><span style=\"font-style: italic\">             </span>\n",
       "<span style=\"font-style: italic\">                                                             Query: </span><span style=\"color: #000080; text-decoration-color: #000080; font-weight: bold; font-style: italic\">who is looking cool?</span><span style=\"font-style: italic\">                           </span>\n",
       "┏━━━━━━━━━━━━━┳━━━━━━━━━━━━━━━━━━━━━━━━━━━━━━━━━━━━━━━━━━━━━━━━━━━━━━━━━━━━━━━━━━━━━━━━━━━━━━━━━━━━━━━━━━━━━━━━━━━━\n",
       "┃<span style=\"font-weight: bold\"> id          </span>┃<span style=\"font-weight: bold\"> text                                                                                               </span>\n",
       "┡━━━━━━━━━━━━━╇━━━━━━━━━━━━━━━━━━━━━━━━━━━━━━━━━━━━━━━━━━━━━━━━━━━━━━━━━━━━━━━━━━━━━━━━━━━━━━━━━━━━━━━━━━━━━━━━━━━━\n",
       "│<span style=\"color: #000080; text-decoration-color: #000080\"> doc1--20    </span>│ His <span style=\"color: #800080; text-decoration-color: #800080; background-color: #eeeeee\">fly sister</span> kept browsing social media promoting her style and general <span style=\"color: #800080; text-decoration-color: #800080; background-color: #eeeeee\">cool</span>ness.                \n",
       "├─────────────┼────────────────────────────────────────────────────────────────────────────────────────────────────\n",
       "│<span style=\"color: #000080; text-decoration-color: #000080\"> doc1--26    </span>│                                                                                                    \n",
       "├─────────────┼────────────────────────────────────────────────────────────────────────────────────────────────────\n",
       "│<span style=\"color: #000080; text-decoration-color: #000080\"> doc1--2     </span>│ A <span style=\"color: #005f00; text-decoration-color: #005f00; font-weight: bold\">bank</span>er friend of mine, Jaime, works at <span style=\"color: #005f00; text-decoration-color: #005f00; font-weight: bold\">BoA</span>.                                                      \n",
       "├─────────────┼────────────────────────────────────────────────────────────────────────────────────────────────────\n",
       "│<span style=\"color: #000080; text-decoration-color: #000080\"> doc1--7     </span>│ While on the call, she wandered over to Jeff's cube where he was sitting.                          \n",
       "├─────────────┼────────────────────────────────────────────────────────────────────────────────────────────────────\n",
       "│<span style=\"color: #000080; text-decoration-color: #000080\"> doc1--9     </span>│ Then she thought about Bill Murray, and whether he was sitting on the <span style=\"color: #005f00; text-decoration-color: #005f00; background-color: #eeeeee; font-weight: bold\">bank</span><span style=\"color: #008000; text-decoration-color: #008000; background-color: #eeeeee\"> of the</span> river fishing.   \n",
       "└─────────────┴────────────────────────────────────────────────────────────────────────────────────────────────────\n",
       "</pre>\n"
      ],
      "text/plain": [
       "\u001b[3m                                               Embedding model: \u001b[0m\u001b[1;3;34msentence-transformers/all-MiniLM-L6-v2\u001b[0m\u001b[3m             \u001b[0m\n",
       "\u001b[3m                                                             Query: \u001b[0m\u001b[1;3;34mwho is looking cool?\u001b[0m\u001b[3m                           \u001b[0m\n",
       "┏━━━━━━━━━━━━━┳━━━━━━━━━━━━━━━━━━━━━━━━━━━━━━━━━━━━━━━━━━━━━━━━━━━━━━━━━━━━━━━━━━━━━━━━━━━━━━━━━━━━━━━━━━━━━━━━━━━━\n",
       "┃\u001b[1m \u001b[0m\u001b[1mid         \u001b[0m\u001b[1m \u001b[0m┃\u001b[1m \u001b[0m\u001b[1mtext                                                                                               \u001b[0m\n",
       "┡━━━━━━━━━━━━━╇━━━━━━━━━━━━━━━━━━━━━━━━━━━━━━━━━━━━━━━━━━━━━━━━━━━━━━━━━━━━━━━━━━━━━━━━━━━━━━━━━━━━━━━━━━━━━━━━━━━━\n",
       "│\u001b[34m \u001b[0m\u001b[34mdoc1--20   \u001b[0m\u001b[34m \u001b[0m│ His \u001b[35;48;5;255mfly\u001b[0m\u001b[35;48;5;255m sister\u001b[0m kept browsing social media promoting her style and general \u001b[35;48;5;255mcool\u001b[0mness.                \n",
       "├─────────────┼────────────────────────────────────────────────────────────────────────────────────────────────────\n",
       "│\u001b[34m \u001b[0m\u001b[34mdoc1--26   \u001b[0m\u001b[34m \u001b[0m│                                                                                                    \n",
       "├─────────────┼────────────────────────────────────────────────────────────────────────────────────────────────────\n",
       "│\u001b[34m \u001b[0m\u001b[34mdoc1--2    \u001b[0m\u001b[34m \u001b[0m│ A \u001b[1;38;5;22mbank\u001b[0mer friend of mine, Jaime, works at \u001b[1;38;5;22mBoA\u001b[0m.                                                      \n",
       "├─────────────┼────────────────────────────────────────────────────────────────────────────────────────────────────\n",
       "│\u001b[34m \u001b[0m\u001b[34mdoc1--7    \u001b[0m\u001b[34m \u001b[0m│ While on the call, she wandered over to Jeff's cube where he was sitting.                          \n",
       "├─────────────┼────────────────────────────────────────────────────────────────────────────────────────────────────\n",
       "│\u001b[34m \u001b[0m\u001b[34mdoc1--9    \u001b[0m\u001b[34m \u001b[0m│ Then she thought about Bill Murray, and whether he was sitting on the \u001b[1;38;5;22;48;5;255mbank\u001b[0m\u001b[32;48;5;255m of the\u001b[0m river fishing.   \n",
       "└─────────────┴────────────────────────────────────────────────────────────────────────────────────────────────────\n"
      ]
     },
     "metadata": {},
     "output_type": "display_data"
    },
    {
     "data": {
      "text/html": [
       "<pre style=\"white-space:pre;overflow-x:auto;line-height:normal;font-family:Menlo,'DejaVu Sans Mono',consolas,'Courier New',monospace\">\n",
       "\n",
       "\n",
       "</pre>\n"
      ],
      "text/plain": [
       "\n",
       "\n",
       "\n"
      ]
     },
     "metadata": {},
     "output_type": "display_data"
    }
   ],
   "source": [
    "# print(\"Prepare to run queries...\")\n",
    "for q in queries:\n",
    "   results = do_query(q, embedding_model, k, document_store)\n",
    "   title = f\"Embedding model: [bold blue]{embedding_model}[/] \\nQuery: [bold blue]{q}[/]\"\n",
    "   display_results(title, results, show_lines=True)\n"
   ]
  },
  {
   "cell_type": "code",
   "execution_count": 11,
   "id": "0e77c5fe-2322-4929-98d8-88a4c5b7610b",
   "metadata": {},
   "outputs": [
    {
     "data": {
      "text/html": [
       "<pre style=\"white-space:pre;overflow-x:auto;line-height:normal;font-family:Menlo,'DejaVu Sans Mono',consolas,'Courier New',monospace\">Done!\n",
       "</pre>\n"
      ],
      "text/plain": [
       "Done!\n"
      ]
     },
     "metadata": {},
     "output_type": "display_data"
    }
   ],
   "source": [
    "print(\"Done!\")"
   ]
  }
 ],
 "metadata": {
  "kernelspec": {
   "display_name": "wt2",
   "language": "python",
   "name": "wt2"
  },
  "language_info": {
   "codemirror_mode": {
    "name": "ipython",
    "version": 3
   },
   "file_extension": ".py",
   "mimetype": "text/x-python",
   "name": "python",
   "nbconvert_exporter": "python",
   "pygments_lexer": "ipython3",
   "version": "3.10.12"
  }
 },
 "nbformat": 4,
 "nbformat_minor": 5
}
